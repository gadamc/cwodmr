{
 "cells": [
  {
   "cell_type": "code",
   "execution_count": 1,
   "id": "a4a9d90f",
   "metadata": {},
   "outputs": [],
   "source": [
    "%load_ext autoreload\n",
    "%autoreload 2"
   ]
  },
  {
   "cell_type": "code",
   "execution_count": 2,
   "id": "3f3c143c",
   "metadata": {},
   "outputs": [],
   "source": [
    "import numpy as np"
   ]
  },
  {
   "cell_type": "code",
   "execution_count": 3,
   "id": "2e662bcc",
   "metadata": {},
   "outputs": [],
   "source": [
    "import logging"
   ]
  },
  {
   "cell_type": "code",
   "execution_count": 4,
   "id": "24b54a4b",
   "metadata": {},
   "outputs": [],
   "source": [
    "import nipiezojenapy\n",
    "import nipiezojenapy.controller\n",
    "\n",
    "logging.basicConfig(level=logging.INFO)\n",
    "\n",
    "nipiezojenapy.controller.logger.setLevel(logging.INFO)\n",
    "\n",
    "\n",
    "pcon = nipiezojenapy.PiezoControl(device_name = 'Dev1',\n",
    "                                  write_channels = ['ao0','ao1','ao2'],\n",
    "                                  read_channels = ['ai0','ai1','ai2'])"
   ]
  },
  {
   "cell_type": "code",
   "execution_count": 10,
   "id": "b021d405",
   "metadata": {
    "scrolled": true
   },
   "outputs": [
    {
     "data": {
      "text/plain": [
       "[-0.0066521660419699615, 0.03843155652881042, 20.024767801844956]"
      ]
     },
     "execution_count": 10,
     "metadata": {},
     "output_type": "execute_result"
    }
   ],
   "source": [
    "pcon.get_current_position()"
   ]
  },
  {
   "cell_type": "code",
   "execution_count": 13,
   "id": "c722414c",
   "metadata": {},
   "outputs": [
    {
     "name": "stderr",
     "output_type": "stream",
     "text": [
      "INFO:nipiezojenapy.controller:go to position z: 20.00\n"
     ]
    }
   ],
   "source": [
    "pcon.go_to_position( z = 20)"
   ]
  },
  {
   "cell_type": "code",
   "execution_count": 89,
   "id": "1c19a76c",
   "metadata": {},
   "outputs": [
    {
     "data": {
      "text/plain": [
       "[10.074078355280761, 10.014825287272853, 10.02384205836001]"
      ]
     },
     "execution_count": 89,
     "metadata": {},
     "output_type": "execute_result"
    }
   ],
   "source": [
    "pcon.get_current_position()"
   ]
  },
  {
   "cell_type": "code",
   "execution_count": 86,
   "id": "225f634f",
   "metadata": {},
   "outputs": [
    {
     "data": {
      "text/plain": [
       "[1.2500820094574447, 1.2516921471401734, 1.245412610245296]"
      ]
     },
     "execution_count": 86,
     "metadata": {},
     "output_type": "execute_result"
    }
   ],
   "source": [
    "pcon.get_current_voltage()"
   ]
  },
  {
   "cell_type": "code",
   "execution_count": 8,
   "id": "6a5afec0",
   "metadata": {},
   "outputs": [
    {
     "name": "stderr",
     "output_type": "stream",
     "text": [
      "INFO:root:go to position None, None, 15\n",
      "INFO:root:last write: [5, 5, 15]\n"
     ]
    }
   ],
   "source": [
    "pcon.go_to_position(z = 15)"
   ]
  },
  {
   "cell_type": "code",
   "execution_count": 9,
   "id": "6df017ca",
   "metadata": {},
   "outputs": [
    {
     "name": "stderr",
     "output_type": "stream",
     "text": [
      "INFO:root:go to position None, None, 10\n",
      "INFO:root:last write: [5, 5, 10]\n"
     ]
    }
   ],
   "source": [
    "pcon.go_to_position(z = 10)"
   ]
  },
  {
   "cell_type": "code",
   "execution_count": 10,
   "id": "25697a1a",
   "metadata": {},
   "outputs": [
    {
     "name": "stderr",
     "output_type": "stream",
     "text": [
      "INFO:root:go to position None, None, 20\n",
      "INFO:root:last write: [5, 5, 20]\n"
     ]
    }
   ],
   "source": [
    "pcon.go_to_position(z = 20)"
   ]
  },
  {
   "cell_type": "code",
   "execution_count": 11,
   "id": "729fc57e",
   "metadata": {},
   "outputs": [
    {
     "name": "stderr",
     "output_type": "stream",
     "text": [
      "INFO:root:go to position None, None, 5\n",
      "INFO:root:last write: [5, 5, 5]\n"
     ]
    }
   ],
   "source": [
    "pcon.go_to_position(z = 5)"
   ]
  },
  {
   "cell_type": "code",
   "execution_count": 12,
   "id": "998dd96f",
   "metadata": {},
   "outputs": [
    {
     "data": {
      "text/plain": [
       "[4.880424569936793, 4.9306607545619014, 4.894593750142076]"
      ]
     },
     "execution_count": 12,
     "metadata": {},
     "output_type": "execute_result"
    }
   ],
   "source": [
    "pcon.get_current_position()"
   ]
  },
  {
   "cell_type": "code",
   "execution_count": 87,
   "id": "83266632",
   "metadata": {},
   "outputs": [
    {
     "name": "stderr",
     "output_type": "stream",
     "text": [
      "INFO:root:go to position 10.99421552496463, None, None\n"
     ]
    },
    {
     "name": "stdout",
     "output_type": "stream",
     "text": [
      "initial x: 10.030282609165397\n"
     ]
    },
    {
     "name": "stderr",
     "output_type": "stream",
     "text": [
      "INFO:root:last write: [10.99421552496463, 10, 10]\n",
      "INFO:root:go to position 12.0028060655636, None, None\n",
      "INFO:root:last write: [12.0028060655636, 10, 10]\n",
      "INFO:root:go to position 13.003668581692274, None, None\n",
      "INFO:root:last write: [13.003668581692274, 10, 10]\n",
      "INFO:root:go to position 14.054768187870723, None, None\n",
      "INFO:root:last write: [14.054768187870723, 10, 10]\n",
      "INFO:root:go to position 15.050479732055392, None, None\n",
      "INFO:root:last write: [15.050479732055392, 10, 10]\n",
      "INFO:root:go to position 16.068090030416016, None, None\n",
      "INFO:root:last write: [16.068090030416016, 10, 10]\n",
      "INFO:root:go to position 17.026447890416215, None, None\n",
      "INFO:root:last write: [17.026447890416215, 10, 10]\n",
      "INFO:root:go to position 18.014433290944005, None, None\n",
      "INFO:root:last write: [18.014433290944005, 10, 10]\n",
      "INFO:root:go to position 19.037198844290504, None, None\n",
      "INFO:root:last write: [19.037198844290504, 10, 10]\n",
      "INFO:root:go to position 20.034203083381826, None, None\n",
      "INFO:root:last write: [20.034203083381826, 10, 10]\n",
      "INFO:root:go to position 21.046665864068768, None, None\n",
      "INFO:root:last write: [21.046665864068768, 10, 10]\n",
      "INFO:root:go to position 22.12482409212275, None, None\n",
      "INFO:root:last write: [22.12482409212275, 10, 10]\n",
      "INFO:root:go to position 23.098645635478817, None, None\n",
      "INFO:root:last write: [23.098645635478817, 10, 10]\n",
      "INFO:root:go to position 24.138162816239348, None, None\n",
      "INFO:root:last write: [24.138162816239348, 10, 10]\n",
      "INFO:root:go to position 25.13774946080337, None, None\n",
      "INFO:root:last write: [25.13774946080337, 10, 10]\n",
      "INFO:root:go to position 26.154083174861363, None, None\n",
      "INFO:root:last write: [26.154083174861363, 10, 10]\n",
      "INFO:root:go to position 27.136926951886643, None, None\n",
      "INFO:root:last write: [27.136926951886643, 10, 10]\n",
      "INFO:root:go to position 28.14295858047189, None, None\n",
      "INFO:root:last write: [28.14295858047189, 10, 10]\n",
      "INFO:root:go to position 29.159296867678798, None, None\n",
      "INFO:root:last write: [29.159296867678798, 10, 10]\n",
      "INFO:root:go to position 30.242619994327704, None, None\n",
      "INFO:root:last write: [30.242619994327704, 10, 10]\n",
      "INFO:root:go to position 31.2602499269427, None, None\n",
      "INFO:root:last write: [31.2602499269427, 10, 10]\n",
      "INFO:root:go to position 32.27401722467927, None, None\n",
      "INFO:root:last write: [32.27401722467927, 10, 10]\n",
      "INFO:root:go to position 33.30066781063392, None, None\n",
      "INFO:root:last write: [33.30066781063392, 10, 10]\n",
      "INFO:root:go to position 34.36338847394104, None, None\n",
      "INFO:root:last write: [34.36338847394104, 10, 10]\n",
      "INFO:root:go to position 35.4003482885272, None, None\n",
      "INFO:root:last write: [35.4003482885272, 10, 10]\n",
      "INFO:root:go to position 36.42571684296012, None, None\n",
      "INFO:root:last write: [36.42571684296012, 10, 10]\n",
      "INFO:root:go to position 37.463969081736025, None, None\n",
      "INFO:root:last write: [37.463969081736025, 10, 10]\n",
      "INFO:root:go to position 38.47130776794953, None, None\n",
      "INFO:root:last write: [38.47130776794953, 10, 10]\n",
      "INFO:root:go to position 39.55078565360446, None, None\n",
      "INFO:root:last write: [39.55078565360446, 10, 10]\n",
      "INFO:root:go to position 40.55426441384321, None, None\n",
      "INFO:root:last write: [40.55426441384321, 10, 10]\n",
      "INFO:root:go to position 41.602831301848994, None, None\n",
      "INFO:root:last write: [41.602831301848994, 10, 10]\n",
      "INFO:root:go to position 42.64882439961088, None, None\n",
      "INFO:root:last write: [42.64882439961088, 10, 10]\n",
      "INFO:root:go to position 43.19887353440207, None, None\n",
      "INFO:root:last write: [43.19887353440207, 10, 10]\n",
      "INFO:root:go to position 43.19887353440207, None, None\n",
      "INFO:root:last write: [43.19887353440207, 10, 10]\n",
      "INFO:root:go to position 43.19887353440207, None, None\n",
      "INFO:root:last write: [43.19887353440207, 10, 10]\n",
      "INFO:root:go to position 43.19887353440207, None, None\n",
      "INFO:root:last write: [43.19887353440207, 10, 10]\n",
      "INFO:root:go to position 43.19887353440207, None, None\n",
      "INFO:root:last write: [43.19887353440207, 10, 10]\n",
      "INFO:root:go to position 43.19887353440207, None, None\n",
      "INFO:root:last write: [43.19887353440207, 10, 10]\n",
      "INFO:root:go to position 43.19887353440207, None, None\n",
      "INFO:root:last write: [43.19887353440207, 10, 10]\n",
      "INFO:root:go to position 43.19887353440207, None, None\n",
      "INFO:root:last write: [43.19887353440207, 10, 10]\n",
      "INFO:root:go to position 43.19887353440207, None, None\n",
      "INFO:root:last write: [43.19887353440207, 10, 10]\n",
      "INFO:root:go to position 43.19887353440207, None, None\n",
      "INFO:root:last write: [43.19887353440207, 10, 10]\n",
      "INFO:root:go to position 43.19887353440207, None, None\n",
      "INFO:root:last write: [43.19887353440207, 10, 10]\n",
      "INFO:root:go to position 43.19887353440207, None, None\n",
      "INFO:root:last write: [43.19887353440207, 10, 10]\n",
      "INFO:root:go to position 43.19887353440207, None, None\n",
      "INFO:root:last write: [43.19887353440207, 10, 10]\n",
      "INFO:root:go to position 43.19887353440207, None, None\n",
      "INFO:root:last write: [43.19887353440207, 10, 10]\n",
      "INFO:root:go to position 43.19887353440207, None, None\n",
      "INFO:root:last write: [43.19887353440207, 10, 10]\n",
      "INFO:root:go to position 43.19887353440207, None, None\n",
      "INFO:root:last write: [43.19887353440207, 10, 10]\n",
      "INFO:root:go to position 43.19887353440207, None, None\n",
      "INFO:root:last write: [43.19887353440207, 10, 10]\n",
      "INFO:root:go to position 43.19887353440207, None, None\n",
      "INFO:root:last write: [43.19887353440207, 10, 10]\n",
      "INFO:root:go to position 43.19887353440207, None, None\n",
      "INFO:root:last write: [43.19887353440207, 10, 10]\n",
      "INFO:root:go to position 43.19887353440207, None, None\n",
      "INFO:root:last write: [43.19887353440207, 10, 10]\n",
      "INFO:root:go to position 43.19887353440207, None, None\n",
      "INFO:root:last write: [43.19887353440207, 10, 10]\n",
      "INFO:root:go to position 43.19887353440207, None, None\n",
      "INFO:root:last write: [43.19887353440207, 10, 10]\n",
      "INFO:root:go to position 43.19887353440207, None, None\n",
      "INFO:root:last write: [43.19887353440207, 10, 10]\n",
      "INFO:root:go to position 43.19887353440207, None, None\n",
      "INFO:root:last write: [43.19887353440207, 10, 10]\n",
      "INFO:root:go to position 43.19887353440207, None, None\n",
      "INFO:root:last write: [43.19887353440207, 10, 10]\n",
      "INFO:root:go to position 43.19887353440207, None, None\n",
      "INFO:root:last write: [43.19887353440207, 10, 10]\n",
      "INFO:root:go to position 43.19887353440207, None, None\n",
      "INFO:root:last write: [43.19887353440207, 10, 10]\n",
      "INFO:root:go to position 43.19887353440207, None, None\n",
      "INFO:root:last write: [43.19887353440207, 10, 10]\n"
     ]
    },
    {
     "name": "stdout",
     "output_type": "stream",
     "text": [
      "expected  move: 60\n",
      "expected final: 70.0302826091654\n",
      "actual   final: 42.19887353440207\n"
     ]
    }
   ],
   "source": [
    "axis = 0\n",
    "r = ['x','y','z']\n",
    "\n",
    "z = pcon.get_current_position()[axis]\n",
    "print(f'initial {r[axis]}: {z}')\n",
    "dz = 1\n",
    "total_move = 0\n",
    "for i in range(60):\n",
    "    total_move += dz\n",
    "    if axis == 0:\n",
    "        pcon.step(dx=dz)    \n",
    "    if axis == 1:\n",
    "        pcon.step(dy=dz)\n",
    "    if axis == 2:\n",
    "        pcon.step(dz=dz)\n",
    "\n",
    "print(f'expected  move: {total_move}')\n",
    "print(f'expected final: {z + total_move}')\n",
    "print(f'actual   final: {pcon.get_current_position()[axis]}')\n"
   ]
  },
  {
   "cell_type": "code",
   "execution_count": 14,
   "id": "b12808f7",
   "metadata": {},
   "outputs": [
    {
     "name": "stdout",
     "output_type": "stream",
     "text": [
      "13.840517207072681\n"
     ]
    }
   ],
   "source": [
    "print(pcon.get_current_position()[axis])"
   ]
  },
  {
   "cell_type": "code",
   "execution_count": 87,
   "id": "9f079599",
   "metadata": {
    "scrolled": true
   },
   "outputs": [
    {
     "data": {
      "text/plain": [
       "[14.02858179834576, 4.947406149599026, 4.957711008123897]"
      ]
     },
     "execution_count": 87,
     "metadata": {},
     "output_type": "execute_result"
    }
   ],
   "source": [
    "pcon.get_current_position()"
   ]
  },
  {
   "cell_type": "code",
   "execution_count": 39,
   "id": "d05228ac",
   "metadata": {},
   "outputs": [
    {
     "data": {
      "text/plain": [
       "array([2.48522329, 2.48763852, 3.32250555])"
      ]
     },
     "execution_count": 39,
     "metadata": {},
     "output_type": "execute_result"
    }
   ],
   "source": [
    "np.array(pcon.get_current_position())/8"
   ]
  },
  {
   "cell_type": "code",
   "execution_count": 83,
   "id": "0d440536",
   "metadata": {},
   "outputs": [
    {
     "data": {
      "text/plain": [
       "[14.071513653831445, 5, 5]"
      ]
     },
     "execution_count": 83,
     "metadata": {},
     "output_type": "execute_result"
    }
   ],
   "source": [
    "pcon.last_write_values"
   ]
  },
  {
   "cell_type": "code",
   "execution_count": 22,
   "id": "90f3730d",
   "metadata": {},
   "outputs": [
    {
     "name": "stderr",
     "output_type": "stream",
     "text": [
      "INFO:root:go to position 4, None, None\n",
      "INFO:root:last write: [4, 5, 5]\n",
      "INFO:root:go to position 6, None, None\n",
      "INFO:root:last write: [6, 5, 5]\n",
      "INFO:root:go to position 8, None, None\n",
      "INFO:root:last write: [8, 5, 5]\n",
      "INFO:root:go to position 10, None, None\n",
      "INFO:root:last write: [10, 5, 5]\n",
      "INFO:root:go to position 12, None, None\n",
      "INFO:root:last write: [12, 5, 5]\n",
      "INFO:root:go to position 14, None, None\n",
      "INFO:root:last write: [14, 5, 5]\n",
      "INFO:root:go to position 16, None, None\n",
      "INFO:root:last write: [16, 5, 5]\n",
      "INFO:root:go to position 18, None, None\n",
      "INFO:root:last write: [18, 5, 5]\n",
      "INFO:root:go to position 20, None, None\n",
      "INFO:root:last write: [20, 5, 5]\n",
      "INFO:root:go to position 22, None, None\n",
      "INFO:root:last write: [22, 5, 5]\n",
      "INFO:root:go to position 24, None, None\n",
      "INFO:root:last write: [24, 5, 5]\n",
      "INFO:root:go to position 26, None, None\n",
      "INFO:root:last write: [26, 5, 5]\n",
      "INFO:root:go to position 28, None, None\n",
      "INFO:root:last write: [28, 5, 5]\n",
      "INFO:root:go to position 30, None, None\n",
      "INFO:root:last write: [30, 5, 5]\n",
      "INFO:root:go to position 32, None, None\n",
      "INFO:root:last write: [32, 5, 5]\n",
      "INFO:root:go to position 34, None, None\n",
      "INFO:root:last write: [34, 5, 5]\n",
      "INFO:root:go to position 36, None, None\n",
      "INFO:root:last write: [36, 5, 5]\n",
      "INFO:root:go to position 38, None, None\n",
      "INFO:root:last write: [38, 5, 5]\n"
     ]
    }
   ],
   "source": [
    "offsets = {}\n",
    "for x in range(4, 40, 2):\n",
    "    pcon.go_to_position(x=x)\n",
    "    delta = np.mean([(x - pcon.get_current_position()[0]) for i in range(10)])\n",
    "    offsets[x] = delta"
   ]
  },
  {
   "cell_type": "code",
   "execution_count": 23,
   "id": "b827b3d4",
   "metadata": {},
   "outputs": [
    {
     "data": {
      "text/plain": [
       "{4: 0.0924827381985042,\n",
       " 6: 0.09540116402095089,\n",
       " 8: 0.10656210943948237,\n",
       " 10: 0.09698267017424626,\n",
       " 12: 0.08959070795083264,\n",
       " 14: 0.0789756937317497,\n",
       " 16: 0.08110978678202888,\n",
       " 18: 0.09187062002256603,\n",
       " 20: 0.08549537331434962,\n",
       " 22: 0.07963077729318861,\n",
       " 24: 0.07324587380938005,\n",
       " 26: 0.0645368162358551,\n",
       " 28: 0.08660819897295084,\n",
       " 30: 0.0808495172565646,\n",
       " 32: 0.07907719644410065,\n",
       " 34: 0.08451119301039967,\n",
       " 36: 0.07589659458844977,\n",
       " 38: 0.06173462598697199}"
      ]
     },
     "execution_count": 23,
     "metadata": {},
     "output_type": "execute_result"
    }
   ],
   "source": [
    "offsets"
   ]
  },
  {
   "cell_type": "code",
   "execution_count": 42,
   "id": "72d979b3",
   "metadata": {
    "scrolled": true
   },
   "outputs": [
    {
     "data": {
      "text/plain": [
       "[12.943990495276191, 4.919067788814566, 4.902322393914738]"
      ]
     },
     "execution_count": 42,
     "metadata": {},
     "output_type": "execute_result"
    }
   ],
   "source": [
    "pcon.get_current_position()"
   ]
  },
  {
   "cell_type": "code",
   "execution_count": 43,
   "id": "2c9c0e4d",
   "metadata": {},
   "outputs": [
    {
     "data": {
      "text/plain": [
       "[1.6246003893772551, 0.6176207016295822, 0.6131123260636809]"
      ]
     },
     "execution_count": 43,
     "metadata": {},
     "output_type": "execute_result"
    }
   ],
   "source": [
    "pcon.get_current_voltage()"
   ]
  },
  {
   "cell_type": "code",
   "execution_count": 32,
   "id": "04fdcbcc",
   "metadata": {},
   "outputs": [
    {
     "data": {
      "text/plain": [
       "42.4"
      ]
     },
     "execution_count": 32,
     "metadata": {},
     "output_type": "execute_result"
    }
   ],
   "source": [
    "8*5.3"
   ]
  },
  {
   "cell_type": "code",
   "execution_count": null,
   "id": "da09a8b8",
   "metadata": {},
   "outputs": [],
   "source": []
  }
 ],
 "metadata": {
  "kernelspec": {
   "display_name": "Python 3 (ipykernel)",
   "language": "python",
   "name": "python3"
  },
  "language_info": {
   "codemirror_mode": {
    "name": "ipython",
    "version": 3
   },
   "file_extension": ".py",
   "mimetype": "text/x-python",
   "name": "python",
   "nbconvert_exporter": "python",
   "pygments_lexer": "ipython3",
   "version": "3.9.12"
  }
 },
 "nbformat": 4,
 "nbformat_minor": 5
}
