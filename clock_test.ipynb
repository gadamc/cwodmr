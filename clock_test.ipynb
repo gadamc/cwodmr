{
 "cells": [
  {
   "cell_type": "code",
   "execution_count": 1,
   "id": "08e14df8-6fc1-4055-8339-407327bb6d06",
   "metadata": {},
   "outputs": [],
   "source": [
    "import nidaqmx"
   ]
  },
  {
   "cell_type": "code",
   "execution_count": 20,
   "id": "c20af2e3-6e7c-4148-82e9-dad5a66ec801",
   "metadata": {},
   "outputs": [],
   "source": [
    "device_name = 'Dev1'\n",
    "\n",
    "device_handle = nidaqmx.system.Device(device_name)\n",
    "device_handle.reset_device()\n"
   ]
  },
  {
   "cell_type": "code",
   "execution_count": 4,
   "id": "00ce7df1-fffd-4b51-aa88-44dcab076126",
   "metadata": {},
   "outputs": [],
   "source": [
    "clock_task_name = 'sample_clock'\n",
    "clock_task = nidaqmx.Task(clock_task_name)"
   ]
  },
  {
   "cell_type": "code",
   "execution_count": 6,
   "id": "4a270230-7f40-4436-821f-2a1e1bfd0200",
   "metadata": {},
   "outputs": [
    {
     "data": {
      "text/plain": [
       "COChannel(name=/Dev1/ctr0)"
      ]
     },
     "execution_count": 6,
     "metadata": {},
     "output_type": "execute_result"
    }
   ],
   "source": [
    "clock_counter = 'ctr0'\n",
    "data_rate = 200\n",
    "clock_task.co_channels.add_co_pulse_chan_freq(\n",
    "        '/{0}/{1}'.format(device_name, clock_counter),\n",
    "        freq=data_rate,\n",
    "        idle_state=nidaqmx.constants.Level.LOW)"
   ]
  },
  {
   "cell_type": "code",
   "execution_count": 10,
   "id": "a2cb528c-47b4-4903-8876-46de2c7199f8",
   "metadata": {},
   "outputs": [
    {
     "data": {
      "text/plain": [
       "'Dev1/ctr0'"
      ]
     },
     "execution_count": 10,
     "metadata": {},
     "output_type": "execute_result"
    }
   ],
   "source": [
    "clock_task.co_channels[0].name"
   ]
  },
  {
   "cell_type": "code",
   "execution_count": 16,
   "id": "f0d382d2-6b89-45d9-bbf8-a1c95d36a2a4",
   "metadata": {},
   "outputs": [],
   "source": [
    "clock_task.start()"
   ]
  },
  {
   "cell_type": "code",
   "execution_count": 17,
   "id": "b067d741-f8ec-4d45-b078-a0a23e037b00",
   "metadata": {},
   "outputs": [],
   "source": [
    "clock_task.stop()"
   ]
  },
  {
   "cell_type": "code",
   "execution_count": 18,
   "id": "fcac6fb0-53f3-4562-b0de-76058167c0f6",
   "metadata": {},
   "outputs": [],
   "source": [
    "clock_task.close()"
   ]
  },
  {
   "cell_type": "code",
   "execution_count": 19,
   "id": "0fcf17ff-37a0-4005-82be-341aa03fd8c7",
   "metadata": {},
   "outputs": [],
   "source": [
    "del clock_task"
   ]
  },
  {
   "cell_type": "code",
   "execution_count": null,
   "id": "b3bc2a3e-8ec9-47e5-a3d7-a086d3e774a5",
   "metadata": {},
   "outputs": [],
   "source": []
  }
 ],
 "metadata": {
  "kernelspec": {
   "display_name": "Python 3 (ipykernel)",
   "language": "python",
   "name": "python3"
  },
  "language_info": {
   "codemirror_mode": {
    "name": "ipython",
    "version": 3
   },
   "file_extension": ".py",
   "mimetype": "text/x-python",
   "name": "python",
   "nbconvert_exporter": "python",
   "pygments_lexer": "ipython3",
   "version": "3.9.12"
  }
 },
 "nbformat": 4,
 "nbformat_minor": 5
}
