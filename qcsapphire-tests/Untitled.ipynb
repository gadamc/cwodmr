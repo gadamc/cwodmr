{
 "cells": [
  {
   "cell_type": "code",
   "execution_count": 1,
   "id": "3ed652f3-67ee-4c5a-bb76-4b9c36228c73",
   "metadata": {},
   "outputs": [],
   "source": [
    "%load_ext autoreload\n",
    "%autoreload 2"
   ]
  },
  {
   "cell_type": "code",
   "execution_count": 14,
   "id": "1cec534d-2531-4d3d-9f72-2bff0e0f8a5e",
   "metadata": {},
   "outputs": [],
   "source": [
    "import qcsapphire\n",
    "import numpy as np\n",
    "import time"
   ]
  },
  {
   "cell_type": "code",
   "execution_count": 3,
   "id": "55ddec69-3956-4547-95a8-d0821a306231",
   "metadata": {},
   "outputs": [
    {
     "data": {
      "text/plain": [
       "[['COM3',\n",
       "  'Intel(R) Active Management Technology - SOL (COM3)',\n",
       "  'PCI\\\\VEN_8086&DEV_43E3&SUBSYS_0A541028&REV_11\\\\3&11583659&1&B3'],\n",
       " ['COM4',\n",
       "  'USB Serial Device (COM4)',\n",
       "  'USB VID:PID=04D8:000A SER= LOCATION=1-10:x.0'],\n",
       " ['COM5',\n",
       "  'USB Serial Device (COM5)',\n",
       "  'USB VID:PID=0483:A3E5 SER=206A36705430 LOCATION=1-9:x.0'],\n",
       " ['COM7',\n",
       "  'USB Serial Device (COM7)',\n",
       "  'USB VID:PID=239A:8014 SER=3B0D07C25831555020312E341A3214FF LOCATION=1-5:x.0']]"
      ]
     },
     "execution_count": 3,
     "metadata": {},
     "output_type": "execute_result"
    }
   ],
   "source": [
    "qcsapphire.discover_devices()"
   ]
  },
  {
   "cell_type": "code",
   "execution_count": 4,
   "id": "0568be90-9594-4b72-9331-bc52c764a365",
   "metadata": {},
   "outputs": [],
   "source": [
    "pulser = qcsapphire.Pulser('COM4')"
   ]
  },
  {
   "cell_type": "code",
   "execution_count": 59,
   "id": "102395df",
   "metadata": {},
   "outputs": [],
   "source": [
    "def reset_pulser(num_resets = 2):\n",
    "    for i in range(num_resets):\n",
    "        pulser.channel('B').state(0)\n",
    "        pulser.channel('A').state(0)\n",
    "\n",
    "        pulser.channel('C').state(0)\n",
    "\n",
    "        pulser.channel('D').state(0)\n",
    "        pulser.system.state(0)\n",
    "\n",
    "        pulser.query('*RST')\n",
    "        pulser.system.mode('normal')\n",
    "        time.sleep(1)\n",
    "        \n",
    "def set_pulse_state_for_rabi(width_chB, \n",
    "                             cycle_time = 15e-6, \n",
    "                             width_chA = 3e-6, \n",
    "                             period = 200e-9, \n",
    "                             aom_response_time = 800e-9,\n",
    "                             rf_response_time = 200e-9,\n",
    "                             t_pad_1 = 200e-9,\n",
    "                             trigger_width = 1e-6,\n",
    "                             rf_pulse_justify = 'left',\n",
    "                             t_pad_2 = 200e-9):\n",
    "    \n",
    "    assert rf_pulse_justify in ['left', 'center', 'right']\n",
    "    \n",
    "    reset_pulser()\n",
    "    pulser.system.period(period)\n",
    "    \n",
    "    width_chA = np.round(width_chA,8)\n",
    "    on_count_chA = 1\n",
    "    off_count_chA = np.round(cycle_time/period,8).astype(int) - on_count_chA\n",
    "    channel = pulser.channel('A')\n",
    "    channel.mode('dcycle')\n",
    "    channel.width(width_chA)\n",
    "    channel.pcounter(on_count_chA)\n",
    "    channel.ocounter(off_count_chA)\n",
    "\n",
    "    width_chB = np.round(width_chB,8)\n",
    "    \n",
    "    if rf_pulse_justify == 'center':\n",
    "        delay_chB = width_chA + (cycle_time - width_chA)/2 - width_chB/2 - rf_response_time\n",
    "    if rf_pulse_justify == 'left':\n",
    "        delay_chB = width_chA + aom_response_time + t_pad_1 - rf_response_time\n",
    "    if rf_pulse_justify == 'right':\n",
    "        delay_chB = cycle_time - t_pad_2 - width_chB - rf_response_time + aom_response_time\n",
    "    \n",
    "    #todo: check to be sure the RF pulse is fully outside of the aom response + pad time, raise exception if violated\n",
    "\n",
    "    delay_chB = np.round(delay_chB,8)\n",
    "    on_count_chB = 1\n",
    "    off_count_chB = np.round(2*cycle_time/period).astype(int) - on_count_chB\n",
    "    channel = pulser.channel('B')\n",
    "    channel.mode('dcycle')\n",
    "    channel.width(width_chB)\n",
    "    channel.delay(delay_chB)\n",
    "    channel.pcounter(on_count_chB)\n",
    "    channel.ocounter(off_count_chB)\n",
    "\n",
    "    \n",
    "    channel = pulser.channel('C')\n",
    "    channel.mode('normal')\n",
    "    channel.width(period/2)\n",
    "    channel.delay(0)\n",
    "\n",
    "    channel = pulser.channel('D')\n",
    "    channel.mode('dcycle')\n",
    "    channel.width(np.round(trigger_width,8))\n",
    "    channel.delay(0)\n",
    "    channel.pcounter(1)\n",
    "    channel.ocounter(np.round(2*cycle_time/period).astype(int) - 1)\n",
    "    \n",
    "    pulser.channel('A').state(1)\n",
    "    pulser.channel('B').state(1)\n",
    "    pulser.channel('C').state(1)\n",
    "    pulser.channel('D').state(1)\n",
    "    pulser.system.state(1)"
   ]
  },
  {
   "cell_type": "code",
   "execution_count": 61,
   "id": "0f614f4c",
   "metadata": {},
   "outputs": [
    {
     "name": "stdout",
     "output_type": "stream",
     "text": [
      "5e-07\n",
      "1e-06\n",
      "1.5e-06\n",
      "2e-06\n",
      "2.5e-06\n",
      "3e-06\n",
      "3.5e-06\n",
      "4e-06\n",
      "4.5e-06\n",
      "5e-06\n",
      "5.5e-06\n",
      "6e-06\n",
      "6.5e-06\n",
      "7e-06\n",
      "7.5e-06\n",
      "8e-06\n",
      "8.5e-06\n",
      "9e-06\n",
      "9.5e-06\n",
      "1e-05\n"
     ]
    }
   ],
   "source": [
    "max_width = 10e-6\n",
    "aom_width = 3e-6\n",
    "full_cycle_width = max_width + aom_width + 2e-6\n",
    "for w in np.arange(.5e-6, max_width, 5e-7):\n",
    "    w_round = np.round(w,8)\n",
    "    print(w_round)\n",
    "    set_pulse_state_for_rabi(w_round, cycle_time = full_cycle_width, center_rf_pulse=True)\n",
    "    time.sleep(5)\n",
    "    \n",
    "# this doesn't work. The QCSapphire system is unstable. It seems that a full reset has to be done"
   ]
  },
  {
   "cell_type": "code",
   "execution_count": null,
   "id": "c2c55ee4",
   "metadata": {},
   "outputs": [],
   "source": []
  }
 ],
 "metadata": {
  "kernelspec": {
   "display_name": "Python 3 (ipykernel)",
   "language": "python",
   "name": "python3"
  },
  "language_info": {
   "codemirror_mode": {
    "name": "ipython",
    "version": 3
   },
   "file_extension": ".py",
   "mimetype": "text/x-python",
   "name": "python",
   "nbconvert_exporter": "python",
   "pygments_lexer": "ipython3",
   "version": "3.9.12"
  }
 },
 "nbformat": 4,
 "nbformat_minor": 5
}
