{
 "cells": [
  {
   "cell_type": "code",
   "execution_count": 2,
   "id": "0054dc2d-51bd-4c66-a4d9-852032e96ffe",
   "metadata": {},
   "outputs": [],
   "source": [
    "import nidaqmx\n",
    "import numpy as np\n",
    "import windfreak\n",
    "import ctypes\n",
    "import nidaqmx._lib  # Due to NIDAQmx C-API bug needed to bypass property getter (according to qudi)\n",
    "import nidaqmx.stream_readers\n",
    "import time\n",
    "import matplotlib.pyplot as plt"
   ]
  },
  {
   "cell_type": "code",
   "execution_count": 6,
   "id": "ac89393c-7b94-4e2d-b88b-4358d4d026a5",
   "metadata": {},
   "outputs": [],
   "source": [
    "mw_source = None"
   ]
  },
  {
   "cell_type": "code",
   "execution_count": 4,
   "id": "31be2547-daf9-4826-8aba-fe954acf24ef",
   "metadata": {},
   "outputs": [],
   "source": [
    "low_f = 2820e6\n",
    "high_f = 2920e6\n",
    "# low_f = 10e6\n",
    "# high_f = 20e6\n",
    "n_steps = 101\n",
    "scan_frequency_ranges = [low_f, high_f, n_steps] #change to start freq, stop freq and N step\n",
    "scan_power = -10.0 #dBmW\n",
    "\n",
    "data_rate = 200 #Hz\n",
    "num_loops = 100\n",
    "\n",
    "#sample_rate = oversampling_factor * data_rate"
   ]
  },
  {
   "cell_type": "code",
   "execution_count": 8,
   "id": "52e3c176-738b-4dfe-8335-36b27ce46313",
   "metadata": {},
   "outputs": [],
   "source": [
    "# devices\n",
    "if mw_source is None:\n",
    "    mw_source = windfreak.SynthHD('COM5')\n",
    "mw_direct_device = mw_source "
   ]
  },
  {
   "cell_type": "code",
   "execution_count": 63,
   "id": "170f6349-a3ae-4bb3-9e84-6db90334f7fb",
   "metadata": {},
   "outputs": [],
   "source": [
    "mw_source.close()"
   ]
  },
  {
   "cell_type": "code",
   "execution_count": 64,
   "id": "19a2004e-dbae-47c1-9359-ba42c25a84d5",
   "metadata": {},
   "outputs": [],
   "source": [
    "del mw_source"
   ]
  },
  {
   "cell_type": "code",
   "execution_count": 9,
   "id": "9c25a2e8-9375-4b01-a236-a70a48db83f3",
   "metadata": {},
   "outputs": [
    {
     "data": {
      "text/plain": [
       "2820000000.0"
      ]
     },
     "execution_count": 9,
     "metadata": {},
     "output_type": "execute_result"
    }
   ],
   "source": [
    "mw_source[0].frequency"
   ]
  },
  {
   "cell_type": "code",
   "execution_count": 10,
   "id": "af420ad6-f47e-4d37-8357-c6c97047c806",
   "metadata": {},
   "outputs": [],
   "source": [
    "# ni daq\n",
    "\n",
    "device_name = 'Dev1'\n"
   ]
  },
  {
   "cell_type": "code",
   "execution_count": 11,
   "id": "e3fb6c68-1d78-42b6-b2a7-914b63a02e54",
   "metadata": {},
   "outputs": [],
   "source": [
    "device_handle = nidaqmx.system.Device(device_name)\n"
   ]
  },
  {
   "cell_type": "code",
   "execution_count": 12,
   "id": "311f4821-908e-4968-ade7-81ff2ed3db92",
   "metadata": {},
   "outputs": [],
   "source": [
    "device_handle.reset_device()\n"
   ]
  },
  {
   "cell_type": "code",
   "execution_count": 56,
   "id": "94c9f9c5-cd5f-4f4e-b326-533a81549e48",
   "metadata": {},
   "outputs": [],
   "source": [
    "# trigger mode: single step\n",
    "#mw_direct_device._write('w0')"
   ]
  },
  {
   "cell_type": "code",
   "execution_count": 119,
   "id": "a5288ff4-8804-45a3-b3b7-841fd9301aa9",
   "metadata": {},
   "outputs": [
    {
     "name": "stdout",
     "output_type": "stream",
     "text": [
      "Configured scan with\n",
      "scan_power = -10.0\n",
      "scan_frequencies (low to high) = 2820.0 - 2920.0 MHz\n",
      "frequency step size = 1.0 MHz\n",
      "time @ each frequency = 5.0 ms\n",
      "number of steps = 101\n",
      "time for full scan = 0.505 s\n"
     ]
    }
   ],
   "source": [
    "#configure the RF scan\n",
    "# configures the MW source\n",
    "\n",
    "# qudi_odmr_logic calls mw.configure_scan(power, frequencies, mode, sample_rate),\n",
    "#which then calls\n",
    "# mw._write_sweep, which is reproduced here\n",
    "#start, stop, points = self._scan_frequencies\n",
    "#start, stop, points = frequencies\n",
    "\n",
    "frequency_step = (high_f - low_f) / (n_steps - 1)\n",
    "\n",
    "# sweep mode: linear sweep, non-continuous\n",
    "# can later transform this into more readable windfreak calls\n",
    "mw_direct_device._write('X0')\n",
    "mw_direct_device._write('c0')\n",
    "\n",
    "# trigger mode: single step\n",
    "mw_direct_device._write('w2')\n",
    "\n",
    "# sweep direction\n",
    "if high_f >= low_f:\n",
    "    mw_direct_device._write('^1')\n",
    "else:\n",
    "    mw_direct_device._write('^0')\n",
    "\n",
    "# sweep lower and upper frequency and steps\n",
    "mw_direct_device._write(f'l{low_f / 1e6:5.7f}')\n",
    "mw_direct_device._write(f'u{high_f / 1e6:5.7f}')\n",
    "mw_direct_device._write(f's{frequency_step / 1e6:5.7f}')\n",
    "\n",
    "# set power\n",
    "mw_direct_device._write(f'W{scan_power:2.3f}')\n",
    "# set sweep lower end power\n",
    "mw_direct_device._write(f'[{scan_power:2.3f}')\n",
    "# set sweep upper end power\n",
    "mw_direct_device._write(f']{scan_power:2.3f}')\n",
    "\n",
    "#after _write_sweep, configure_sweep continues\n",
    "\n",
    "#mw_direct_device._write(f't{1000 * 0.75 / data_rate:f}') #sweep time step in ms #what is this? why 0.75. data_rate = 200, this is 0.75 * 5ms = 3.75ms, which is actually OUT OF RANGE according to this documentation https://github.com/christian-hahn/windfreak-python/blob/master/windfreak/synth_hd.py#L365\n",
    "#freq_step_time = 1000 #ms\n",
    "freq_step_time = 1000 / data_rate\n",
    "mw_direct_device._write(f't{freq_step_time:f}') #amount of time spent at each frequency step\n",
    "\n",
    "time_per_frequency = float(mw_direct_device._query('t?'))\n",
    "total_time_in_ms = time_per_frequency * (n_steps)\n",
    "\n",
    "print(f'Configured scan with')\n",
    "print( f'scan_power = {scan_power}')\n",
    "print(f'scan_frequencies (low to high) = {low_f*1e-6} - {high_f*1e-6} MHz')\n",
    "print(f'frequency step size = {frequency_step*1e-6} MHz')\n",
    "print(f'time @ each frequency = {time_per_frequency} ms')\n",
    "print(f'number of steps = {n_steps}')\n",
    "print(f'time for full scan = {total_time_in_ms*1e-3} s')\n",
    "                "
   ]
  },
  {
   "cell_type": "code",
   "execution_count": 14,
   "id": "9471588c-b395-45f7-976b-446ec13a3948",
   "metadata": {},
   "outputs": [],
   "source": [
    "mw_direct_device._write('g1') #starts the scan over"
   ]
  },
  {
   "cell_type": "code",
   "execution_count": 15,
   "id": "f9229dc8-b479-4555-956c-004ba52d4c42",
   "metadata": {},
   "outputs": [],
   "source": [
    "mw_direct_device._write('E1r1h1') #on\n",
    "#mw_direct_device._write('E0r0h0') #off"
   ]
  },
  {
   "cell_type": "code",
   "execution_count": 69,
   "id": "133a57fb-29e2-4233-a06e-28aaebec4ff5",
   "metadata": {},
   "outputs": [],
   "source": [
    "all_tasks = {}"
   ]
  },
  {
   "cell_type": "code",
   "execution_count": 126,
   "id": "51213ccf-9b0b-4b10-ba17-de98e8d79200",
   "metadata": {},
   "outputs": [],
   "source": [
    "\n",
    "\n",
    "def configure_tasks(post_fix_task_name = '13'):\n",
    "    read_write_timeout = 10\n",
    "    device_name = 'Dev1'\n",
    "    clock_counter = 'ctr0'\n",
    "    edge_input_channel = 'PFI0'\n",
    "    edge_input_counter = 'ctr2'\n",
    "\n",
    "    clock_task_name = f'sample_clock{post_fix_task_name}'\n",
    "    if clock_task_name in all_tasks.keys():\n",
    "        clock_task = all_tasks[clock_task_name]\n",
    "    else:\n",
    "        clock_task = nidaqmx.Task(clock_task_name)\n",
    "        all_tasks[clock_task_name] = clock_task\n",
    "   \n",
    "    \n",
    "        clock_task.co_channels.add_co_pulse_chan_freq(\n",
    "                '/{0}/{1}'.format(device_name, clock_counter),\n",
    "                freq=data_rate,\n",
    "                idle_state=nidaqmx.constants.Level.LOW)\n",
    "\n",
    "        clock_task.timing.cfg_implicit_timing(\n",
    "            sample_mode=nidaqmx.constants.AcquisitionType.FINITE,\n",
    "            samps_per_chan=n_steps+2) #qudi configures with n_steps + 1, should recheck why. suspicious extra \"1\" floating around (n_steps = 101)\n",
    "\n",
    "    edge_detector_task_name = f'edge_input{post_fix_task_name}'\n",
    "    if edge_detector_task_name in all_tasks.keys():\n",
    "        edge_detector_task = all_tasks[edge_detector_task_name]\n",
    "    else:        \n",
    "        edge_detector_task = nidaqmx.Task(edge_detector_task_name)\n",
    "        all_tasks[edge_detector_task_name] = edge_detector_task\n",
    "\n",
    "        ctr_name = '/{0}/{1}'.format(device_name, edge_input_counter)\n",
    "        edge_detector_task.ci_channels.add_ci_period_chan(\n",
    "                            ctr_name,\n",
    "                            min_val=0,\n",
    "                            max_val=100000000,\n",
    "                            units=nidaqmx.constants.TimeUnits.TICKS,\n",
    "                            edge=nidaqmx.constants.Edge.RISING)\n",
    "\n",
    "        # from qudi\n",
    "        chnl_name = '/{0}/{1}'.format(device_name, edge_input_channel)\n",
    "        clock_channel = '/{0}InternalOutput'.format(clock_task.channel_names[0])\n",
    "\n",
    "        try:\n",
    "            nidaqmx._lib.lib_importer.windll.DAQmxSetCIPeriodTerm(\n",
    "                edge_detector_task._handle,\n",
    "                ctypes.c_char_p(ctr_name.encode('ascii')),\n",
    "                ctypes.c_char_p(clock_channel.encode('ascii')))\n",
    "            nidaqmx._lib.lib_importer.windll.DAQmxSetCICtrTimebaseSrc(\n",
    "                edge_detector_task._handle,\n",
    "                ctypes.c_char_p(ctr_name.encode('ascii')),\n",
    "                ctypes.c_char_p(chnl_name.encode('ascii')))\n",
    "        except:\n",
    "            print(\"exception using windll. using cdll\")\n",
    "            nidaqmx._lib.lib_importer.cdll.DAQmxSetCIPeriodTerm(\n",
    "                edge_detector_task._handle,\n",
    "                ctypes.c_char_p(ctr_name.encode('ascii')),\n",
    "                ctypes.c_char_p(clock_channel.encode('ascii')))\n",
    "            nidaqmx._lib.lib_importer.cdll.DAQmxSetCICtrTimebaseSrc(\n",
    "                edge_detector_task._handle,\n",
    "                ctypes.c_char_p(ctr_name.encode('ascii')),\n",
    "                ctypes.c_char_p(chnl_name.encode('ascii')))\n",
    "\n",
    "        edge_detector_task.timing.cfg_implicit_timing(\n",
    "            sample_mode=nidaqmx.constants.AcquisitionType.FINITE,\n",
    "            samps_per_chan=n_steps)\n",
    "\n",
    "    edge_detector_reader = nidaqmx.stream_readers.CounterReader(edge_detector_task.in_stream)\n",
    "    \n",
    "    return clock_task, edge_detector_task, edge_detector_reader"
   ]
  },
  {
   "cell_type": "code",
   "execution_count": 199,
   "id": "c4da0af5-1bec-49e5-94dd-5039fb90478e",
   "metadata": {},
   "outputs": [],
   "source": [
    "#prepare\n",
    "def run_once(pftn='13'):\n",
    "    read_write_timeout = 10\n",
    "    \n",
    "    data_buffer = np.zeros(n_steps)\n",
    "    clock_task, data_task, data_reader = configure_tasks(pftn)\n",
    "    \n",
    "    \n",
    "    #start scan from beginning\n",
    "    mw_direct_device._write('g1')\n",
    "    #time.sleep(0.20) #I can cause a shift in the data that makes it appear that the RF resontant frequency is different from 2.87 GHz\n",
    "    #time.sleep(0.505)\n",
    "    try:\n",
    "        \n",
    "        #start tasks\n",
    "        clock_task.start()\n",
    "        #time.sleep(0.25) #can I affect the phase by delaying? # yes, this causes readout errors\n",
    "        data_task.start()\n",
    "    \n",
    "        #how do I do this? I need to wait long enough for the card to take all of the samples\n",
    "        #qudi seems to simply read as fast as it can and then fills the buffer incrementally.\n",
    "        #this seems fancy, but may be programatically complicated\n",
    "        #here, we simply wait for the full scan of the RF range and then wait 10% more time\n",
    "   \n",
    "        time.sleep(total_time_in_ms *1.1e-3)\n",
    "\n",
    "\n",
    "        read_samples = data_reader.read_many_sample_double(\n",
    "                        data_buffer,\n",
    "                        number_of_samples_per_channel=n_steps,\n",
    "                        timeout=read_write_timeout)\n",
    "\n",
    "        assert read_samples == n_steps\n",
    "        \n",
    "        #we need an external clock that starts the RF and the tasks at the same time\n",
    "        \n",
    "\n",
    "    except Exception as e:\n",
    "        print(e)\n",
    "    \n",
    "    finally:\n",
    "        data_task.stop()\n",
    "        #data_task.close()\n",
    "        clock_task.stop()\n",
    "        #clock_task.close()\n",
    "    \n",
    "    return data_buffer"
   ]
  },
  {
   "cell_type": "code",
   "execution_count": 169,
   "id": "1a4d41e1-5a18-4bba-8c15-dfee2af9320b",
   "metadata": {},
   "outputs": [],
   "source": [
    "# for k in all_tasks.keys():\n",
    "#     try:\n",
    "#         t = all_tasks[k]\n",
    "#         t.close()\n",
    "#     except Exception as e:\n",
    "#         print(k)\n",
    "#         print(e)\n",
    "        "
   ]
  },
  {
   "cell_type": "code",
   "execution_count": 171,
   "id": "8d2e9b69-4bf6-4d61-8bb1-e1433234d593",
   "metadata": {},
   "outputs": [],
   "source": [
    "mw_direct_device._write('E0r0h0') #off"
   ]
  },
  {
   "cell_type": "code",
   "execution_count": 200,
   "id": "dd8a3cc9-1390-4c3a-9890-27e10bb8d45b",
   "metadata": {},
   "outputs": [
    {
     "name": "stdout",
     "output_type": "stream",
     "text": [
      "scan 0\n",
      "scan 10\n",
      "scan 20\n"
     ]
    }
   ],
   "source": [
    "all_data = []\n",
    "mw_direct_device._write('E1r1h1') #on\n",
    "#mw_direct_device._write('E0r0h0') #off\n",
    "for i in range(30):\n",
    "    if i % 10 == 0:\n",
    "        print(f'scan {i}')\n",
    "    all_data.append(run_once())\n",
    "    \n",
    "mw_direct_device._write('E0r0h0') #off\n",
    "\n",
    "all_npdata = np.array(all_data)\n"
   ]
  },
  {
   "cell_type": "code",
   "execution_count": 201,
   "id": "e02c5f3f-964c-4ceb-8490-8f022f0578a8",
   "metadata": {},
   "outputs": [
    {
     "data": {
      "text/plain": [
       "[<matplotlib.lines.Line2D at 0x1b2621a28e0>]"
      ]
     },
     "execution_count": 201,
     "metadata": {},
     "output_type": "execute_result"
    },
    {
     "data": {
      "image/png": "[encoded data removed]",
      "text/plain": [
       "<Figure size 432x288 with 1 Axes>"
      ]
     },
     "metadata": {
      "needs_background": "light"
     },
     "output_type": "display_data"
    }
   ],
   "source": [
    "plt.plot(np.linspace(low_f, high_f, n_steps), all_npdata.mean(axis=0))\n"
   ]
  },
  {
   "cell_type": "code",
   "execution_count": 187,
   "id": "057fb98c-0630-4449-9dd8-e0d7c7102894",
   "metadata": {},
   "outputs": [
    {
     "data": {
      "text/plain": [
       "[<matplotlib.lines.Line2D at 0x1b26102ac40>]"
      ]
     },
     "execution_count": 187,
     "metadata": {},
     "output_type": "execute_result"
    },
    {
     "data": {
      "image/png": "[encoded data removed]",
      "text/plain": [
       "<Figure size 432x288 with 1 Axes>"
      ]
     },
     "metadata": {
      "needs_background": "light"
     },
     "output_type": "display_data"
    }
   ],
   "source": [
    "# we don't have a clock\n",
    "\n",
    "#I can induce a phase-shift by adding a delay in the loop\n",
    "# plt.plot(np.linspace(low_f, high_f, n_steps), all_npdata.mean(axis=0))\n",
    "# time delay of 0.20 seconds"
   ]
  },
  {
   "cell_type": "code",
   "execution_count": 190,
   "id": "c322551a-76c6-4428-8516-2a2590641bbf",
   "metadata": {},
   "outputs": [
    {
     "data": {
      "text/plain": [
       "[<matplotlib.lines.Line2D at 0x1b2610a0490>]"
      ]
     },
     "execution_count": 190,
     "metadata": {},
     "output_type": "execute_result"
    },
    {
     "data": {
      "image/png": "[encoded data removed]",
      "text/plain": [
       "<Figure size 432x288 with 1 Axes>"
      ]
     },
     "metadata": {
      "needs_background": "light"
     },
     "output_type": "display_data"
    }
   ],
   "source": [
    "#I can induce a phase-shift by adding a delay in the loop\n",
    "#plt.plot(np.linspace(low_f, high_f, n_steps), all_npdata.mean(axis=0))\n",
    "# time delay of 0.30 seconds"
   ]
  },
  {
   "cell_type": "code",
   "execution_count": 195,
   "id": "7c554f8c-2c7c-47c9-a759-5c40bcf3c5a7",
   "metadata": {},
   "outputs": [
    {
     "data": {
      "text/plain": [
       "[<matplotlib.lines.Line2D at 0x1b2620dd160>]"
      ]
     },
     "execution_count": 195,
     "metadata": {},
     "output_type": "execute_result"
    },
    {
     "data": {
      "image/png": "[encoded data removed]",
      "text/plain": [
       "<Figure size 432x288 with 1 Axes>"
      ]
     },
     "metadata": {
      "needs_background": "light"
     },
     "output_type": "display_data"
    }
   ],
   "source": [
    "#I can induce a phase-shift by adding a delay in the loop\n",
    "#plt.plot(np.linspace(low_f, high_f, n_steps), all_npdata.mean(axis=0))\n",
    "# time delay of 0.40 seconds"
   ]
  },
  {
   "cell_type": "code",
   "execution_count": 198,
   "id": "5e5574b0-2307-457b-932c-278555e6a807",
   "metadata": {},
   "outputs": [
    {
     "data": {
      "text/plain": [
       "[<matplotlib.lines.Line2D at 0x1b26213cdf0>]"
      ]
     },
     "execution_count": 198,
     "metadata": {},
     "output_type": "execute_result"
    },
    {
     "data": {
      "image/png": "[encoded data removed]",
      "text/plain": [
       "<Figure size 432x288 with 1 Axes>"
      ]
     },
     "metadata": {
      "needs_background": "light"
     },
     "output_type": "display_data"
    }
   ],
   "source": [
    "#I can induce a phase-shift by adding a delay in the loop\n",
    "plt.plot(np.linspace(low_f, high_f, n_steps), all_npdata.mean(axis=0))\n",
    "# time delay of 0.505 seonds -- which is the period of the scan across frequencies, resulting in an effective shift of ~0 GHz"
   ]
  },
  {
   "cell_type": "code",
   "execution_count": null,
   "id": "5f990603-554a-43df-a45f-fb02c2267925",
   "metadata": {},
   "outputs": [],
   "source": [
    "# but the point here is that we need a clock to tell when to start the various tasks"
   ]
  },
  {
   "cell_type": "code",
   "execution_count": 183,
   "id": "bd7b4e4e-97e9-4c06-beb5-1acfde38a2f3",
   "metadata": {},
   "outputs": [
    {
     "data": {
      "text/plain": [
       "[<matplotlib.lines.Line2D at 0x1b260fc8730>]"
      ]
     },
     "execution_count": 183,
     "metadata": {},
     "output_type": "execute_result"
    },
    {
     "data": {
      "image/png": "[encoded data removed]",
      "text/plain": [
       "<Figure size 432x288 with 1 Axes>"
      ]
     },
     "metadata": {
      "needs_background": "light"
     },
     "output_type": "display_data"
    }
   ],
   "source": [
    "\n",
    "#I can cause a readout error by adding a delay between the start of the clock task and the start of the data read task\n",
    "#you can see here that a delay of 0.25 seconds results in only half of the array being filled (the other half with zeros)\n",
    "# plt.plot(np.linspace(low_f, high_f, n_steps), all_npdata.mean(axis=0))"
   ]
  },
  {
   "cell_type": "code",
   "execution_count": null,
   "id": "b5f9e206-7381-47d4-91c3-d02655a68c21",
   "metadata": {},
   "outputs": [],
   "source": []
  }
 ],
 "metadata": {
  "kernelspec": {
   "display_name": "Python 3 (ipykernel)",
   "language": "python",
   "name": "python3"
  },
  "language_info": {
   "codemirror_mode": {
    "name": "ipython",
    "version": 3
   },
   "file_extension": ".py",
   "mimetype": "text/x-python",
   "name": "python",
   "nbconvert_exporter": "python",
   "pygments_lexer": "ipython3",
   "version": "3.9.12"
  }
 },
 "nbformat": 4,
 "nbformat_minor": 5
}
