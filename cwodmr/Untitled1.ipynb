{
 "cells": [
  {
   "cell_type": "code",
   "execution_count": 1,
   "id": "15058bab-4cd7-45fd-9401-7ef33f390f17",
   "metadata": {},
   "outputs": [],
   "source": [
    "import numpy as np"
   ]
  },
  {
   "cell_type": "code",
   "execution_count": 2,
   "id": "5a2cd811-d736-40db-af33-17c700324b86",
   "metadata": {},
   "outputs": [],
   "source": [
    "N_measures_at_each_frequency = 10"
   ]
  },
  {
   "cell_type": "code",
   "execution_count": 9,
   "id": "d21176f1-55b6-4d18-af69-e644ae5bc3a4",
   "metadata": {},
   "outputs": [],
   "source": [
    "normalized_count_rate_pre = []\n",
    "data_at_one_freq = []\n",
    "normalized_count_rate_post = []\n",
    "\n",
    "for a_measure_idx in range(N_measures_at_each_frequency):\n",
    "    normalized_count_rate_pre.append(np.random.random(20))\n",
    "    normalized_count_rate_post.append(np.random.random(20)*2)\n",
    "    data_at_one_freq.append(np.random.random(20)*5)"
   ]
  },
  {
   "cell_type": "code",
   "execution_count": 14,
   "id": "cdd67d1a-aaaf-4e3d-93f7-30b9c6fad259",
   "metadata": {},
   "outputs": [
    {
     "data": {
      "text/plain": [
       "2.454381136660699"
      ]
     },
     "execution_count": 14,
     "metadata": {},
     "output_type": "execute_result"
    }
   ],
   "source": [
    "np.mean(data_at_one_freq)"
   ]
  },
  {
   "cell_type": "code",
   "execution_count": 15,
   "id": "a02c7852-7f37-4a74-902e-86cfce284c0a",
   "metadata": {},
   "outputs": [
    {
     "data": {
      "text/plain": [
       "0.7820912633232555"
      ]
     },
     "execution_count": 15,
     "metadata": {},
     "output_type": "execute_result"
    }
   ],
   "source": [
    "np.mean([normalized_count_rate_pre,normalized_count_rate_post])"
   ]
  },
  {
   "cell_type": "code",
   "execution_count": 16,
   "id": "bd722d19-a2a4-4e41-891a-323a730dde9a",
   "metadata": {},
   "outputs": [
    {
     "data": {
      "text/plain": [
       "0.5108652875217807"
      ]
     },
     "execution_count": 16,
     "metadata": {},
     "output_type": "execute_result"
    }
   ],
   "source": [
    "np.mean(normalized_count_rate_pre)"
   ]
  },
  {
   "cell_type": "code",
   "execution_count": 18,
   "id": "b610e8f1-f407-4112-854a-98a7c162fe4f",
   "metadata": {},
   "outputs": [
    {
     "data": {
      "text/plain": [
       "0.7820912633232556"
      ]
     },
     "execution_count": 18,
     "metadata": {},
     "output_type": "execute_result"
    }
   ],
   "source": [
    "(np.mean(normalized_count_rate_post) + np.mean(normalized_count_rate_pre))/2"
   ]
  },
  {
   "cell_type": "code",
   "execution_count": 19,
   "id": "a629f0da-842b-47c2-bfe5-b8487b78e134",
   "metadata": {},
   "outputs": [
    {
     "data": {
      "text/plain": [
       "[array([3.04524319e+00, 9.18904121e-01, 3.78373985e+00, 1.19219004e+00,\n",
       "        1.87130386e+00, 3.45368225e+00, 8.14302325e-01, 1.54556448e+00,\n",
       "        1.51546614e+00, 8.51572270e-01, 1.97100282e+00, 4.92054788e-03,\n",
       "        3.23424371e-01, 4.03466119e+00, 4.96462330e+00, 3.34950822e+00,\n",
       "        2.53352774e+00, 2.27759447e+00, 3.21752754e+00, 3.76426688e+00]),\n",
       " array([3.83165622, 3.67424655, 1.63166988, 1.48603508, 1.31846179,\n",
       "        4.45022145, 0.96992819, 4.90443534, 2.92829952, 3.69596213,\n",
       "        4.02879064, 0.37977864, 2.20799904, 4.67720026, 4.9314764 ,\n",
       "        2.94775025, 3.91014272, 4.57935269, 4.57993403, 1.19444628]),\n",
       " array([3.92015331, 3.95021409, 3.65915294, 4.01966197, 4.9320208 ,\n",
       "        0.24642291, 1.04508792, 0.39306146, 0.612222  , 4.46668129,\n",
       "        1.90328178, 1.88325482, 4.65843078, 4.76119021, 1.82949757,\n",
       "        2.67519778, 1.9360491 , 2.40620687, 1.00285143, 1.13020479]),\n",
       " array([3.17090134, 3.32973392, 3.42513738, 4.69597104, 2.36857172,\n",
       "        0.07372528, 1.43640226, 0.06126382, 2.9677163 , 1.65037147,\n",
       "        3.80767247, 1.78112832, 3.31227434, 1.53376501, 0.09885556,\n",
       "        2.37951675, 3.48983537, 0.67028803, 1.92317967, 4.54296803]),\n",
       " array([1.23150945, 2.44256849, 1.09069227, 0.2813695 , 3.76652393,\n",
       "        0.55711616, 3.29634975, 2.14339219, 0.38101421, 0.76963168,\n",
       "        4.28308131, 3.12740189, 1.38667048, 1.48221635, 3.49959797,\n",
       "        2.88392842, 3.14078426, 2.44645266, 3.82155288, 2.90648004]),\n",
       " array([0.38352048, 2.11230331, 4.06045832, 4.3346624 , 0.68179795,\n",
       "        4.78271947, 3.28093209, 0.65196647, 0.41557999, 4.83628147,\n",
       "        0.45172251, 3.72595467, 3.60470642, 3.14216052, 1.92711872,\n",
       "        2.98824088, 3.02589593, 0.2760745 , 3.31045038, 0.61865028]),\n",
       " array([3.52636216, 3.87197013, 4.41202633, 0.16700351, 2.73751237,\n",
       "        2.89310715, 3.01673936, 3.37684861, 3.89605553, 1.87428343,\n",
       "        0.63557148, 0.15224564, 0.88400149, 3.27510534, 3.11267658,\n",
       "        4.4370329 , 2.63879874, 4.85224196, 2.77428308, 1.57713514]),\n",
       " array([1.39543258, 0.65803771, 4.4019409 , 2.93973518, 1.01085855,\n",
       "        4.01042265, 2.09934641, 2.09043945, 2.03461332, 0.65455108,\n",
       "        2.37901522, 2.19381339, 1.52254629, 1.73841625, 0.78185596,\n",
       "        2.69276563, 1.83501301, 2.47870339, 2.07341582, 3.48734164]),\n",
       " array([2.30953623, 2.97195776, 4.64146676, 2.17175815, 3.1159108 ,\n",
       "        3.83386577, 3.28176064, 1.46390171, 1.5219561 , 3.90912107,\n",
       "        1.85488485, 3.99666172, 3.64243867, 4.56917291, 0.16073555,\n",
       "        0.14236117, 3.37186718, 4.55498466, 2.36285686, 1.17078313]),\n",
       " array([4.09529569, 3.29180464, 1.47418869, 1.64892021, 2.76065827,\n",
       "        0.3709446 , 0.39940862, 2.11885735, 4.43368121, 2.2240933 ,\n",
       "        3.69012848, 0.15344401, 0.44026362, 3.22558422, 4.60620629,\n",
       "        0.27711936, 0.42168791, 3.2334443 , 0.69753156, 0.2152527 ])]"
      ]
     },
     "execution_count": 19,
     "metadata": {},
     "output_type": "execute_result"
    }
   ],
   "source": [
    "data_at_one_freq"
   ]
  },
  {
   "cell_type": "code",
   "execution_count": 20,
   "id": "03194eaf-44c2-4236-8264-41969b17076d",
   "metadata": {},
   "outputs": [
    {
     "data": {
      "text/plain": [
       "490.8762273321398"
      ]
     },
     "execution_count": 20,
     "metadata": {},
     "output_type": "execute_result"
    }
   ],
   "source": [
    "np.sum(data_at_one_freq)"
   ]
  },
  {
   "cell_type": "code",
   "execution_count": null,
   "id": "fb5f2e41-0b11-407a-b330-f471504f5f46",
   "metadata": {},
   "outputs": [],
   "source": []
  }
 ],
 "metadata": {
  "kernelspec": {
   "display_name": "Python 3 (ipykernel)",
   "language": "python",
   "name": "python3"
  },
  "language_info": {
   "codemirror_mode": {
    "name": "ipython",
    "version": 3
   },
   "file_extension": ".py",
   "mimetype": "text/x-python",
   "name": "python",
   "nbconvert_exporter": "python",
   "pygments_lexer": "ipython3",
   "version": "3.9.12"
  }
 },
 "nbformat": 4,
 "nbformat_minor": 5
}
