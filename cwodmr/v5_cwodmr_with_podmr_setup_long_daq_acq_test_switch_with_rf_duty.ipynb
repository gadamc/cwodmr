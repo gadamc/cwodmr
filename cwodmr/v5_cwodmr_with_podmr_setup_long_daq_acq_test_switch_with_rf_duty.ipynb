{
 "cells": [
  {
   "cell_type": "code",
   "execution_count": null,
   "id": "e32d832f-11ce-425a-a843-6710715599d4",
   "metadata": {},
   "outputs": [],
   "source": [
    "%load_ext autoreload\n",
    "%autoreload 2"
   ]
  },
  {
   "cell_type": "code",
   "execution_count": null,
   "id": "adc5e615-9c6a-44d0-8028-1e5a7108c379",
   "metadata": {},
   "outputs": [],
   "source": [
    "import qt3utils.experiments.cwodmr\n",
    "import qt3utils.nidaq.config"
   ]
  },
  {
   "cell_type": "code",
   "execution_count": null,
   "id": "eb2d311f-866f-41fc-af84-63feecaddd59",
   "metadata": {},
   "outputs": [],
   "source": [
    "import qcsapphire\n",
    "import qt3rfsynthcontrol\n",
    "import numpy as np\n",
    "import matplotlib.pyplot as plt\n",
    "import time"
   ]
  },
  {
   "cell_type": "code",
   "execution_count": null,
   "id": "f6c2c777-b08c-4b90-b1ea-a2a5b52c034c",
   "metadata": {},
   "outputs": [],
   "source": [
    "pulser = qcsapphire.Pulser('COM10')\n",
    "rfsynth = qt3rfsynthcontrol.QT3SynthHD('COM5')"
   ]
  },
  {
   "cell_type": "code",
   "execution_count": null,
   "id": "6ec4dd32-e882-4c8e-a7e0-833f001011ec",
   "metadata": {},
   "outputs": [],
   "source": [
    "trigger_pulser_channel = None\n",
    "trigger_DAQ_terminal = None\n",
    "\n",
    "rf_on_off_period = 10e-3\n",
    "\n",
    "cwodmr = qt3utils.experiments.cwodmr.CWODMR(rfsynth, \n",
    "                                            freq_low = 2846e6, \n",
    "                                            freq_high = 2890e6, \n",
    "                                            freq_step = 4e6,\n",
    "                                            sample_period = rf_on_off_period) \n",
    "\n"
   ]
  },
  {
   "cell_type": "code",
   "execution_count": null,
   "id": "2aa0bf11-f69d-46f7-99e1-9afff16cf2a5",
   "metadata": {},
   "outputs": [],
   "source": [
    "qt3utils.nidaq.config.reset_daq('Dev1')"
   ]
  },
  {
   "cell_type": "code",
   "execution_count": null,
   "id": "a1bd9c23-ed25-4ca2-aa33-289f74acbb14",
   "metadata": {},
   "outputs": [],
   "source": [
    "sample_period = 1e-6 #minimum is 0.1e-6\n",
    "clock_rate = int(1./sample_period) \n",
    "N_samples = int(1 * clock_rate) #X seconds of data per frequency\n",
    "daq_time = N_samples / clock_rate #total amount of time of data acquisition for each counter task\n",
    "N_cycles =  daq_time /cwodmr.sample_period \n",
    "N_samples_per_cycle = cwodmr.sample_period * clock_rate\n",
    "rf_power = -15\n"
   ]
  },
  {
   "cell_type": "code",
   "execution_count": null,
   "id": "5808fd04-f848-4a06-bd51-687bd9264bff",
   "metadata": {},
   "outputs": [],
   "source": [
    "print(cwodmr.sample_period)\n",
    "print(clock_rate)\n",
    "print(N_samples)\n",
    "print(daq_time)\n",
    "print(N_cycles)\n",
    "print(N_samples_per_cycle)"
   ]
  },
  {
   "cell_type": "code",
   "execution_count": null,
   "id": "e41bd597-01c7-4c90-a190-804ffe333fbc",
   "metadata": {},
   "outputs": [],
   "source": [
    "edge_config = qt3utils.nidaq.config.EdgeCounter()\n",
    "edge_config.configure_di_clock(clock_rate = clock_rate)\n",
    "\n",
    "edge_config.configure_counter_period_measure(edge_config.clock_task_config['clock_channel_name'], \n",
    "                                             N_samples_to_acquire_or_buffer_size= N_samples,\n",
    "                                            trigger_terminal=trigger_DAQ_terminal)\n",
    "\n",
    "\n",
    "edge_config.create_counter_reader()"
   ]
  },
  {
   "cell_type": "code",
   "execution_count": null,
   "id": "33b7da8f-8d5f-4cf5-acd8-3958f5c8800f",
   "metadata": {},
   "outputs": [],
   "source": [
    "def run_scan():\n",
    "    \n",
    "    edge_config.clock_task.start()\n",
    "    data = []\n",
    "\n",
    "    for freq in cwodmr.frequencies:\n",
    "        print(freq)\n",
    "        rfsynth.set_channel_fixed_output(0, rf_power, freq)\n",
    "        rfsynth.rf_on(0)\n",
    "        time.sleep(0.1) #wait for RF box to turn on\n",
    "        data_buffer = np.zeros(N_samples)\n",
    "        edge_config.counter_task.start()\n",
    "        time.sleep(daq_time*1.1)\n",
    "        read_samples = edge_config.counter_reader.read_many_sample_double(\n",
    "                                data_buffer,\n",
    "                                number_of_samples_per_channel=N_samples,\n",
    "                                timeout=5)\n",
    "        rfsynth.rf_off(0)\n",
    "        time.sleep(0.05) #wait for RF box\n",
    "        edge_config.counter_task.stop()\n",
    "        data.append([freq, data_buffer])\n",
    "    edge_config.clock_task.stop()\n",
    "    \n",
    "    return data\n"
   ]
  },
  {
   "cell_type": "code",
   "execution_count": null,
   "id": "26c57896-d9c5-4156-80ab-abfdb645c243",
   "metadata": {},
   "outputs": [],
   "source": [
    "\n",
    "def update_rf_pulse(rf_width):\n",
    "    \n",
    "    if rf_width > 0:\n",
    "        cwodmr.setup_qcsapphire_pulser(pulser, 'B', trigger_channel = trigger_pulser_channel,\n",
    "                                   rf_pulse_width=rf_width, \n",
    "                                   rf_pulse_delay = 0,\n",
    "                                   qcsapphire_system_buffer=0)\n",
    "\n",
    "    else:\n",
    "        pulser.channel('B').state(0)\n",
    "    pulser.multiplex(['C','B'], 'D')\n",
    "    pulser.channel('D').state(1)"
   ]
  },
  {
   "cell_type": "code",
   "execution_count": null,
   "id": "6828a3c2-88a5-43ab-9caa-675b3690d2f9",
   "metadata": {},
   "outputs": [],
   "source": [
    "cwodmrs_summed = []\n",
    "cwodmrs_raw = []\n",
    "\n",
    "rf_widths = [ 0.5]\n",
    "\n",
    "for rfw in rf_widths:\n",
    "    print(f'RF pulse width {rfw}')\n",
    "    update_rf_pulse(rfw)\n",
    "    scan_data = run_scan()\n",
    "    summed_data = {data_per_freq[0]:data_per_freq[1].sum()/daq_time for data_per_freq in scan_data}\n",
    "    cwodmrs_summed.append(summed_data)\n",
    "    cwodmrs_raw.append(scan_data)"
   ]
  },
  {
   "cell_type": "code",
   "execution_count": null,
   "id": "3f4991b5-c947-4609-b480-d20759755141",
   "metadata": {},
   "outputs": [],
   "source": [
    "for rf, summed_data in zip(rf_widths, cwodmrs_summed):\n",
    "    plt.plot(summed_data.keys(), summed_data.values(), label = rf)\n",
    "    \n",
    "plt.legend()"
   ]
  },
  {
   "cell_type": "code",
   "execution_count": null,
   "id": "d2e9e683-e31e-4b56-b5ce-befe4359370d",
   "metadata": {},
   "outputs": [],
   "source": [
    "cwodmrs_raw[0]"
   ]
  },
  {
   "cell_type": "code",
   "execution_count": null,
   "id": "0efb771a-bb7c-4a19-a69c-bf9ee736a1d7",
   "metadata": {},
   "outputs": [],
   "source": [
    "print(cwodmr.sample_period)\n",
    "print(clock_rate)\n",
    "print(N_samples)\n",
    "print(daq_time)\n",
    "print(N_cycles)\n",
    "print(N_samples_per_cycle)"
   ]
  },
  {
   "cell_type": "code",
   "execution_count": 33,
   "id": "ff08509e-6386-47f0-8229-cd68367b905e",
   "metadata": {},
   "outputs": [
    {
     "name": "stdout",
     "output_type": "stream",
     "text": [
      "2870000000.0\n",
      "2846000000.0\n"
     ]
    },
    {
     "data": {
      "text/plain": [
       "[<matplotlib.lines.Line2D at 0x2676af19f40>]"
      ]
     },
     "execution_count": 33,
     "metadata": {},
     "output_type": "execute_result"
    },
    {
     "data": {
      "image/png": "[encoded data removed]",
      "text/plain": [
       "<Figure size 432x288 with 1 Axes>"
      ]
     },
     "metadata": {
      "needs_background": "light"
     },
     "output_type": "display_data"
    }
   ],
   "source": [
    "shift = 1500\n",
    "data  = cwodmrs_raw[0]\n",
    "\n",
    "freq = data[6][0]\n",
    "trace = data[6][1]\n",
    "\n",
    "print(freq)\n",
    "data_buffer_by_cycles = np.roll(trace,shift).reshape((int(N_cycles), int(N_samples_per_cycle)))\n",
    "plt.plot(data_buffer_by_cycles.mean(axis=0) * clock_rate, alpha = 0.3)\n",
    "\n",
    "\n",
    "freq = data[0][0]\n",
    "trace = data[0][1]\n",
    "\n",
    "print(freq)\n",
    "data_buffer_by_cycles = np.roll(trace,shift).reshape((int(N_cycles), int(N_samples_per_cycle)))\n",
    "plt.plot(data_buffer_by_cycles.mean(axis=0) * clock_rate, alpha = 0.3)\n",
    "# print(data[0][0])\n",
    "# data_buffer_by_cycles = np.roll(data[0][1], shift).reshape((int(N_cycles), int(N_samples_per_cycle)))\n",
    "# plt.plot(data_buffer_by_cycles.mean(axis=0) * clock_rate, alpha = 0.3)"
   ]
  },
  {
   "cell_type": "code",
   "execution_count": null,
   "id": "17314e45-e788-4853-91f0-4cf21f2e0836",
   "metadata": {},
   "outputs": [],
   "source": [
    "shift = 10000 - 2700\n",
    "data  = cwodmrs_raw[1]\n",
    "\n",
    "freq = data[6][0]\n",
    "trace = data[6][1]\n",
    "\n",
    "print(freq)\n",
    "data_buffer_by_cycles = np.roll(trace,shift).reshape((int(N_cycles), int(N_samples_per_cycle)))\n",
    "plt.plot(data_buffer_by_cycles.mean(axis=0) * clock_rate, alpha = 0.3)\n",
    "\n",
    "\n",
    "freq = data[0][0]\n",
    "trace = data[0][1]\n",
    "\n",
    "print(freq)\n",
    "data_buffer_by_cycles = np.roll(trace,shift).reshape((int(N_cycles), int(N_samples_per_cycle)))\n",
    "plt.plot(data_buffer_by_cycles.mean(axis=0) * clock_rate, alpha = 0.3)\n",
    "# print(data[0][0])\n",
    "# data_buffer_by_cycles = np.roll(data[0][1], shift).reshape((int(N_cycles), int(N_samples_per_cycle)))\n",
    "# plt.plot(data_buffer_by_cycles.mean(axis=0) * clock_rate, alpha = 0.3)"
   ]
  },
  {
   "cell_type": "code",
   "execution_count": null,
   "id": "7e8262b2-9452-4ca8-a590-36e1e10b1f24",
   "metadata": {},
   "outputs": [],
   "source": [
    "shift = 800\n",
    "data  = cwodmrs_raw[2]\n",
    "\n",
    "freq = data[6][0]\n",
    "trace = data[6][1]\n",
    "\n",
    "print(freq)\n",
    "data_buffer_by_cycles = np.roll(trace,shift).reshape((int(N_cycles), int(N_samples_per_cycle)))\n",
    "plt.plot(data_buffer_by_cycles.mean(axis=0) * clock_rate, alpha = 0.3)\n",
    "\n",
    "\n",
    "freq = data[0][0]\n",
    "trace = data[0][1]\n",
    "\n",
    "print(freq)\n",
    "data_buffer_by_cycles = np.roll(trace,shift).reshape((int(N_cycles), int(N_samples_per_cycle)))\n",
    "plt.plot(data_buffer_by_cycles.mean(axis=0) * clock_rate, alpha = 0.3)\n",
    "# print(data[0][0])\n",
    "# data_buffer_by_cycles = np.roll(data[0][1], shift).reshape((int(N_cycles), int(N_samples_per_cycle)))\n",
    "# plt.plot(data_buffer_by_cycles.mean(axis=0) * clock_rate, alpha = 0.3)"
   ]
  },
  {
   "cell_type": "code",
   "execution_count": null,
   "id": "e592ab6c-48e1-45bc-82a0-df734a72cd84",
   "metadata": {},
   "outputs": [],
   "source": [
    "shift = 0\n",
    "data  = cwodmrs_raw[4]\n",
    "print(data[6][0])\n",
    "data_buffer_by_cycles = np.roll(data[4][1], shift).reshape((int(N_cycles), int(N_samples_per_cycle)))\n",
    "plt.plot(data_buffer_by_cycles.mean(axis=0) * clock_rate, alpha = 0.3)\n",
    "\n",
    "# print(data[0][0])\n",
    "# data_buffer_by_cycles = np.roll(data[0][1], shift).reshape((int(N_cycles), int(N_samples_per_cycle)))\n",
    "# plt.plot(data_buffer_by_cycles.mean(axis=0) * clock_rate, alpha = 0.3)"
   ]
  },
  {
   "cell_type": "code",
   "execution_count": null,
   "id": "9c08f845-3dd4-4001-9cb0-4e787acf15c4",
   "metadata": {},
   "outputs": [],
   "source": []
  }
 ],
 "metadata": {
  "kernelspec": {
   "display_name": "Python 3 (ipykernel)",
   "language": "python",
   "name": "python3"
  },
  "language_info": {
   "codemirror_mode": {
    "name": "ipython",
    "version": 3
   },
   "file_extension": ".py",
   "mimetype": "text/x-python",
   "name": "python",
   "nbconvert_exporter": "python",
   "pygments_lexer": "ipython3",
   "version": "3.9.12"
  }
 },
 "nbformat": 4,
 "nbformat_minor": 5
}
