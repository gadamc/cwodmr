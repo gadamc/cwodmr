{
 "cells": [
  {
   "cell_type": "code",
   "execution_count": 1,
   "id": "4a4ae899-dec7-4d40-86b2-40cebddc13da",
   "metadata": {},
   "outputs": [],
   "source": [
    "# run CW ODMR.\n",
    "# control the frequency changes \"manually\" with the code here instead of using external trigger"
   ]
  },
  {
   "cell_type": "code",
   "execution_count": 1,
   "id": "1ca4787b-1d40-41f4-b369-0218330710ea",
   "metadata": {},
   "outputs": [],
   "source": [
    "%matplotlib inline"
   ]
  },
  {
   "cell_type": "code",
   "execution_count": 1,
   "id": "99fcf75d-abc4-4d44-a16f-6c46533df478",
   "metadata": {},
   "outputs": [],
   "source": [
    "import nidaqmx\n",
    "import numpy as np\n",
    "import qt3rfsynthcontrol\n",
    "import ctypes\n",
    "import nidaqmx._lib  # Due to NIDAQmx C-API bug needed to bypass property getter (according to qudi)\n",
    "import nidaqmx.stream_readers\n",
    "import time\n",
    "import matplotlib.pyplot as plt\n",
    "import qcsapphire\n"
   ]
  },
  {
   "cell_type": "code",
   "execution_count": 31,
   "id": "827c8e73-2d01-4456-a132-5e4a316a2887",
   "metadata": {},
   "outputs": [],
   "source": [
    "nisys = nidaqmx.system.System()\n",
    "device = nidaqmx.system.Device('Dev1')"
   ]
  },
  {
   "cell_type": "code",
   "execution_count": 30,
   "id": "41b9e1f9-ddee-431c-802b-d1fd528fe0d2",
   "metadata": {},
   "outputs": [
    {
     "data": {
      "text/plain": [
       "[]"
      ]
     },
     "execution_count": 30,
     "metadata": {},
     "output_type": "execute_result"
    }
   ],
   "source": [
    "list(nisys.tasks)"
   ]
  },
  {
   "cell_type": "code",
   "execution_count": 32,
   "id": "8f2888a1-2e0b-4009-83b0-00757bdbe4a1",
   "metadata": {},
   "outputs": [],
   "source": [
    "device.reset_device()"
   ]
  },
  {
   "cell_type": "code",
   "execution_count": 3,
   "id": "e7602296-36ae-4508-ab27-07c1d0b14643",
   "metadata": {},
   "outputs": [],
   "source": [
    "#list(nisys.devices)"
   ]
  },
  {
   "cell_type": "code",
   "execution_count": 4,
   "id": "0a5cdcd8-8f5a-4b66-b9b1-bd6299c1b992",
   "metadata": {},
   "outputs": [],
   "source": [
    "#device = nidaqmx.system.Device('Dev1')\n",
    "#list(device.ao_physical_chans)\n",
    "# list(device.ai_physical_chans)\n",
    "#list(device.di_lines)\n",
    "#list(device.do_lines)\n",
    "#list(device.co_physical_chans)\n",
    "#list(device.ci_physical_chans)"
   ]
  },
  {
   "cell_type": "code",
   "execution_count": 33,
   "id": "9d407b3f-192c-4f01-991f-59ef2b75a78c",
   "metadata": {},
   "outputs": [],
   "source": [
    "#Configure the NI DAQ\n",
    "\n",
    "def configure_tasks(post_fix_task_name = None, \n",
    "                    device_name = 'Dev1',\n",
    "                    clock_counter = 'ctr1',\n",
    "                    edge_input_channel = 'PFI12',\n",
    "                    edge_input_counter = 'ctr2',\n",
    "                    clock_rate = 1000, \n",
    "                    N_data_samples_to_acquire = 500,\n",
    "                    trigger_input = None):\n",
    "   \n",
    "    clock_task_name = f'sample_clock{post_fix_task_name}' \n",
    "    clock_task = nidaqmx.Task(clock_task_name)\n",
    "       \n",
    "    #this adds the clock signal to the output channel\n",
    "    #is this necessary? \n",
    "    clock_task.co_channels.add_co_pulse_chan_freq(\n",
    "            '/{0}/{1}'.format(device_name, clock_counter),\n",
    "            freq=clock_rate,\n",
    "            idle_state=nidaqmx.constants.Level.LOW)\n",
    "\n",
    "    # clock_task.timing.cfg_implicit_timing(\n",
    "    #     sample_mode=nidaqmx.constants.AcquisitionType.FINITE,\n",
    "    #     samps_per_chan=n_steps+2) #qudi configures with n_steps + 1, should recheck why. suspicious extra \"1\" floating around (n_steps = 101)\n",
    "\n",
    "    clock_task.timing.cfg_implicit_timing(\n",
    "        sample_mode=nidaqmx.constants.AcquisitionType.CONTINUOUS,\n",
    "        samps_per_chan=clock_rate) #qudi configures with n_steps + 1, should recheck why. suspicious extra \"1\" floating around (n_steps = 101)\n",
    "\n",
    "    \n",
    "    edge_detector_task_name = f'edge_input{post_fix_task_name}'\n",
    "\n",
    "    edge_detector_task = nidaqmx.Task(edge_detector_task_name)\n",
    "\n",
    "    #todo -- try to replace all of this with edge_detector_task.add_ci_count_edges_chan\n",
    "\n",
    "    ctr_name = '/{0}/{1}'.format(device_name, edge_input_counter)\n",
    "    edge_detector_task.ci_channels.add_ci_period_chan(\n",
    "                        ctr_name,\n",
    "                        min_val=0,\n",
    "                        max_val=100000000,\n",
    "                        units=nidaqmx.constants.TimeUnits.TICKS,\n",
    "                        edge=nidaqmx.constants.Edge.RISING)\n",
    "\n",
    "    # from qudi -- apparently this overcomes some kind of bug in the C-library, according to comments in qudi code\n",
    "    \n",
    "    chnl_name = '/{0}/{1}'.format(device_name, edge_input_channel)\n",
    "    clock_channel = '/{0}InternalOutput'.format(clock_task.channel_names[0])\n",
    "\n",
    "    try:\n",
    "        nidaqmx._lib.lib_importer.windll.DAQmxSetCIPeriodTerm(\n",
    "            edge_detector_task._handle,\n",
    "            ctypes.c_char_p(ctr_name.encode('ascii')),\n",
    "            ctypes.c_char_p(clock_channel.encode('ascii')))\n",
    "        nidaqmx._lib.lib_importer.windll.DAQmxSetCICtrTimebaseSrc(\n",
    "            edge_detector_task._handle,\n",
    "            ctypes.c_char_p(ctr_name.encode('ascii')),\n",
    "            ctypes.c_char_p(chnl_name.encode('ascii')))\n",
    "    except:\n",
    "        nidaqmx._lib.lib_importer.cdll.DAQmxSetCIPeriodTerm(\n",
    "            edge_detector_task._handle,\n",
    "            ctypes.c_char_p(ctr_name.encode('ascii')),\n",
    "            ctypes.c_char_p(clock_channel.encode('ascii')))\n",
    "        nidaqmx._lib.lib_importer.cdll.DAQmxSetCICtrTimebaseSrc(\n",
    "            edge_detector_task._handle,\n",
    "            ctypes.c_char_p(ctr_name.encode('ascii')),\n",
    "            ctypes.c_char_p(chnl_name.encode('ascii')))\n",
    "\n",
    "    if trigger_input:\n",
    "        edge_detector_task.triggers.arm_start_trigger.trig_type =  nidaqmx.constants.TriggerType.DIGITAL_EDGE\n",
    "        edge_detector_task.triggers.arm_start_trigger.dig_edge_edge =  nidaqmx.constants.Edge.RISING\n",
    "        edge_detector_task.triggers.arm_start_trigger.dig_edge_src = f'/{device_name}/{trigger_input}'\n",
    "    \n",
    "    edge_detector_task.timing.cfg_implicit_timing(\n",
    "        sample_mode=nidaqmx.constants.AcquisitionType.FINITE,\n",
    "        samps_per_chan=N_data_samples_to_acquire)\n",
    "\n",
    "    edge_detector_reader = nidaqmx.stream_readers.CounterReader(edge_detector_task.in_stream)\n",
    "    \n",
    "    return clock_task, edge_detector_task, edge_detector_reader\n",
    "\n"
   ]
  },
  {
   "cell_type": "code",
   "execution_count": 7,
   "id": "388fe371-4b44-49bd-956d-6aba9328da24",
   "metadata": {},
   "outputs": [],
   "source": [
    "def run_once(detector_task, detector_reader, clock_rate,  N_samples,  read_write_timeout=10, pulser = None):\n",
    "    detector_task.wait_until_done()\n",
    "    detector_task.start()\n",
    "    data_buffer = np.zeros(N_samples)\n",
    "    \n",
    "    if pulser:\n",
    "        pulser.software_trigger()\n",
    "    #time.sleep(1.1*N_samples / clock_rate) # need to wait for data to acquire\n",
    "    read_samples = detector_reader.read_many_sample_double(\n",
    "                            data_buffer,\n",
    "                            number_of_samples_per_channel=N_samples,\n",
    "                            timeout=read_write_timeout)\n",
    "    detector_task.stop()\n",
    "    try:\n",
    "        assert read_samples == N_samples\n",
    "    except Exception as e:\n",
    "        print(e)\n",
    "        print(f'{read_samples} != {N_samples}')\n",
    "        raise e\n",
    "        \n",
    "    return data_buffer"
   ]
  },
  {
   "cell_type": "code",
   "execution_count": 16,
   "id": "58cde080-f381-4086-beb5-7eded14ca9da",
   "metadata": {},
   "outputs": [],
   "source": [
    "rfsynth = qt3rfsynthcontrol.QT3SynthHD('COM5')"
   ]
  },
  {
   "cell_type": "code",
   "execution_count": 10,
   "id": "604450bd-52e1-43b2-aa48-f82e1733e43a",
   "metadata": {},
   "outputs": [
    {
     "data": {
      "text/plain": [
       "[('model_type', 'WFT SynthHD 1694'),\n",
       " ('serial_number', 1694),\n",
       " ('fw_version', 'Firmware Version 3.23'),\n",
       " ('hw_version', 'Hardware Version 2.06'),\n",
       " ('sub_version', 'HD')]"
      ]
     },
     "execution_count": 10,
     "metadata": {},
     "output_type": "execute_result"
    }
   ],
   "source": [
    "rfsynth.hw_info()"
   ]
  },
  {
   "cell_type": "code",
   "execution_count": 13,
   "id": "f96aaddd-90e8-4c88-9272-ee46c97a4abf",
   "metadata": {},
   "outputs": [
    {
     "data": {
      "text/plain": [
       "[['COM3',\n",
       "  'Intel(R) Active Management Technology - SOL (COM3)',\n",
       "  'PCI\\\\VEN_8086&DEV_43E3&SUBSYS_0A541028&REV_11\\\\3&11583659&1&B3'],\n",
       " ['COM5',\n",
       "  'USB Serial Device (COM5)',\n",
       "  'USB VID:PID=0483:A3E5 SER=206A36705430 LOCATION=1-2:x.0'],\n",
       " ['COM6',\n",
       "  'USB Serial Device (COM6)',\n",
       "  'USB VID:PID=04D8:000A SER= LOCATION=1-8:x.0'],\n",
       " ['COM7',\n",
       "  'USB Serial Device (COM7)',\n",
       "  'USB VID:PID=239A:8014 SER=3B0D07C25831555020312E341A3214FF LOCATION=1-6:x.0']]"
      ]
     },
     "execution_count": 13,
     "metadata": {},
     "output_type": "execute_result"
    }
   ],
   "source": [
    "qcsapphire.discover_devices()"
   ]
  },
  {
   "cell_type": "code",
   "execution_count": 14,
   "id": "63fb38c4-6e9a-4cd8-b289-ae7dc452b6cf",
   "metadata": {},
   "outputs": [],
   "source": [
    "p = qcsapphire.Pulser('COM6')"
   ]
  },
  {
   "cell_type": "code",
   "execution_count": 42,
   "id": "e9c861d3-c27f-4270-b35d-5537fcd5e5d1",
   "metadata": {},
   "outputs": [],
   "source": [
    "p.set_all_state_off()"
   ]
  },
  {
   "cell_type": "code",
   "execution_count": 46,
   "id": "0d217278-cb0e-4cc6-8793-9352d8397605",
   "metadata": {},
   "outputs": [
    {
     "data": {
      "text/plain": [
       "'ok'"
      ]
     },
     "execution_count": 46,
     "metadata": {},
     "output_type": "execute_result"
    }
   ],
   "source": [
    "## set up for software trigger pulses on channel B\n",
    "p.pulse0.mode('single')\n",
    "p.pulse0.period(0.0001) # 100 mus period\n",
    "p.pulse0.external.mode('trigger')\n",
    "p.pulse2.cmode('single')\n",
    "p.pulse2.polarity('normal')\n",
    "p.pulse2.width(0.000002) # 2 mus wide pulse"
   ]
  },
  {
   "cell_type": "code",
   "execution_count": 54,
   "id": "f9c3e5bd-c4df-46b0-a02e-10058664275b",
   "metadata": {},
   "outputs": [
    {
     "name": "stdout",
     "output_type": "stream",
     "text": [
      "2.82 GHz: 5.0\n",
      "2.92 GHz: 0.0\n",
      "3.02 GHz: 3.0\n",
      "3.12 GHz: 4.0\n"
     ]
    }
   ],
   "source": [
    "freq_low = 2820e6\n",
    "freq_high = 3130e6\n",
    "freq_step = 10e6\n",
    "\n",
    "N = 2\n",
    "clock_rate = int(400e3) #400 kHz -- N = 2 samples, this is a 5 mu second window of data acquisition, equal to pulsed ODMR\n",
    "\n",
    "try:\n",
    "    clock_task, edge_detector_task, edge_detector_reader = configure_tasks(post_fix_task_name = 'v1', \n",
    "                                                                           clock_rate = clock_rate, \n",
    "                                                                           N_data_samples_to_acquire = N,\n",
    "                                                                           edge_input_channel = 'PFI12',\n",
    "                                                                           clock_counter = 'ctr1',\n",
    "                                                                           trigger_input = 'PFI0')\n",
    "\n",
    "    clock_task.start()\n",
    "\n",
    "    data = {}\n",
    "    rfsynth.rf_on(0)\n",
    "    current_freq = freq_low\n",
    "    step = 0\n",
    "    \n",
    "    p.pulse0.state(1)\n",
    "    p.pulse2.state(1)\n",
    "\n",
    "    while current_freq < freq_high:\n",
    "        rfsynth.set_channel_fixed_output(0, -5.0, current_freq)\n",
    "        data_at_one_freq = run_once(edge_detector_task, edge_detector_reader, clock_rate, N, read_write_timeout = 10, pulser = p)\n",
    "        data[current_freq] = data_at_one_freq.sum()\n",
    "        if step % 10 == 0:\n",
    "            print(f'{current_freq/1e9} GHz: {data_at_one_freq.sum()}')\n",
    "        current_freq += freq_step\n",
    "        step += 1\n",
    "except Exception as e:\n",
    "    raise(e)\n",
    "    \n",
    "finally:\n",
    "    \n",
    "    try:\n",
    "        rfsynth.rf_off(0)\n",
    "        p.pulse0.state(0)\n",
    "        p.pulse2.state(0)\n",
    "    except Exception as e:\n",
    "        print(e)\n",
    "    \n",
    "    try:\n",
    "        clock_task.stop()\n",
    "    except Exception as e:\n",
    "        print(e)\n",
    "    \n",
    "    try:\n",
    "        clock_task.close()\n",
    "    except Exception as e:\n",
    "        print(e)\n",
    "    \n",
    "    try:\n",
    "        edge_detector_task.close()\n",
    "    except Exception as e:\n",
    "        print(e)"
   ]
  },
  {
   "cell_type": "code",
   "execution_count": 55,
   "id": "3f2c19da-f4ec-4dad-ba80-050c3c626352",
   "metadata": {},
   "outputs": [
    {
     "data": {
      "text/plain": [
       "[<matplotlib.lines.Line2D at 0x1cced9de0a0>]"
      ]
     },
     "execution_count": 55,
     "metadata": {},
     "output_type": "execute_result"
    },
    {
     "data": {
      "image/png": "[encoded data removed]",
      "text/plain": [
       "<Figure size 432x288 with 1 Axes>"
      ]
     },
     "metadata": {
      "needs_background": "light"
     },
     "output_type": "display_data"
    }
   ],
   "source": [
    "plt.plot(data.keys(), data.values())"
   ]
  },
  {
   "cell_type": "code",
   "execution_count": 14,
   "id": "af342ebe-a5b3-4a61-87e6-b6eb56615fba",
   "metadata": {},
   "outputs": [
    {
     "data": {
      "text/plain": [
       "[<matplotlib.lines.Line2D at 0x1f476f88c40>]"
      ]
     },
     "execution_count": 14,
     "metadata": {},
     "output_type": "execute_result"
    },
    {
     "data": {
      "image/png": "[encoded data removed]",
      "text/plain": [
       "<Figure size 432x288 with 1 Axes>"
      ]
     },
     "metadata": {
      "needs_background": "light"
     },
     "output_type": "display_data"
    }
   ],
   "source": [
    "plt.plot(data.keys(), data.values())"
   ]
  },
  {
   "cell_type": "code",
   "execution_count": null,
   "id": "16f20663-9e8b-4cb0-afbd-731b462571e0",
   "metadata": {},
   "outputs": [],
   "source": []
  }
 ],
 "metadata": {
  "kernelspec": {
   "display_name": "Python 3 (ipykernel)",
   "language": "python",
   "name": "python3"
  },
  "language_info": {
   "codemirror_mode": {
    "name": "ipython",
    "version": 3
   },
   "file_extension": ".py",
   "mimetype": "text/x-python",
   "name": "python",
   "nbconvert_exporter": "python",
   "pygments_lexer": "ipython3",
   "version": "3.9.12"
  }
 },
 "nbformat": 4,
 "nbformat_minor": 5
}
