{
 "cells": [
  {
   "cell_type": "code",
   "execution_count": 1,
   "id": "ffc4d5ae-2e1d-4e22-b006-d0db4ecd22b3",
   "metadata": {},
   "outputs": [],
   "source": [
    "import nidaqmx\n",
    "import pprint\n",
    "pp = pprint.PrettyPrinter(indent=4)"
   ]
  },
  {
   "cell_type": "code",
   "execution_count": 2,
   "id": "81bc6eb0-b387-41ab-8cc0-9c1f008e2ea1",
   "metadata": {},
   "outputs": [
    {
     "name": "stdout",
     "output_type": "stream",
     "text": [
      "1 Channel 1 Sample Read Raw: \n",
      "array([22598], dtype=int16)\n",
      "1 Channel N Samples Read Raw: \n",
      "array([20541, 20539, 20542, 20542, 20541, 20542, 20542, 20542],\n",
      "      dtype=int16)\n",
      "N Channel 1 Sample Read Raw: \n",
      "array([19163], dtype=int16)\n",
      "N Channel N Samples Read Raw: \n",
      "array([28248, 32767, 32767, 32767, 32767, 32767, 32767, 32767],\n",
      "      dtype=int16)\n"
     ]
    }
   ],
   "source": [
    "with nidaqmx.Task() as task:\n",
    "    task.ai_channels.add_ai_voltage_chan(\"Dev1/ai0\")\n",
    "    in_stream = task.in_stream\n",
    "\n",
    "    print('1 Channel 1 Sample Read Raw: ')\n",
    "    data = in_stream.read(number_of_samples_per_channel=1)\n",
    "    pp.pprint(data)\n",
    "\n",
    "    print('1 Channel N Samples Read Raw: ')\n",
    "    data = in_stream.read(number_of_samples_per_channel=8)\n",
    "    pp.pprint(data)\n",
    "\n",
    "    task.ai_channels.add_ai_voltage_chan(\"Dev1/ai1:3\")\n",
    "\n",
    "    print('N Channel 1 Sample Read Raw: ')\n",
    "    data = in_stream.read(number_of_samples_per_channel=1)\n",
    "    pp.pprint(data)\n",
    "\n",
    "    print('N Channel N Samples Read Raw: ')\n",
    "    data = in_stream.read(number_of_samples_per_channel=8)\n",
    "    pp.pprint(data)"
   ]
  },
  {
   "cell_type": "code",
   "execution_count": 3,
   "id": "6d8c776d-3252-403a-8925-b0111504f729",
   "metadata": {},
   "outputs": [],
   "source": [
    "nidev = nidaqmx.system.Device('Dev1')\n",
    "nidev.reset_device()"
   ]
  },
  {
   "cell_type": "code",
   "execution_count": null,
   "id": "8e6edbdd-3885-492f-b05a-cf6a770d20b4",
   "metadata": {},
   "outputs": [],
   "source": [
    "with nidaqmx.Task() as task:\n",
    "    task.ci_channels.add_ci_count_edges_chan(\"Dev1/CTR2\")\n",
    "\n",
    "    task.start()\n",
    "\n",
    "    print('1 Channel 1 Sample Read: ')\n",
    "    data = task.read()\n",
    "    pp.pprint(data)\n",
    "\n",
    "    print('1 Channel N Samples Read: ')\n",
    "    data = task.read(number_of_samples_per_channel=8)\n",
    "    pp.pprint(data)\n",
    "    \n",
    "    print('1 Channel N Samples Read: ')\n",
    "    data = task.read(number_of_samples_per_channel=16)\n",
    "    pp.pprint(data)\n",
    "    "
   ]
  }
 ],
 "metadata": {
  "kernelspec": {
   "display_name": "Python 3 (ipykernel)",
   "language": "python",
   "name": "python3"
  },
  "language_info": {
   "codemirror_mode": {
    "name": "ipython",
    "version": 3
   },
   "file_extension": ".py",
   "mimetype": "text/x-python",
   "name": "python",
   "nbconvert_exporter": "python",
   "pygments_lexer": "ipython3",
   "version": "3.9.12"
  }
 },
 "nbformat": 4,
 "nbformat_minor": 5
}
