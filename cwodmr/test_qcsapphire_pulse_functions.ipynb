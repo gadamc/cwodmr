{
 "cells": [
  {
   "cell_type": "code",
   "execution_count": 1,
   "id": "8cc6f398-4885-4967-b926-a6cc47fb02b9",
   "metadata": {},
   "outputs": [],
   "source": [
    "%load_ext autoreload\n",
    "%autoreload 2"
   ]
  },
  {
   "cell_type": "code",
   "execution_count": 2,
   "id": "fe7e0bc1-322f-4a58-b0fa-c38896a403dd",
   "metadata": {},
   "outputs": [],
   "source": [
    "import qcsapphire\n",
    "import pprint\n",
    "import time\n",
    "pp = pprint.PrettyPrinter(indent=4)"
   ]
  },
  {
   "cell_type": "code",
   "execution_count": 3,
   "id": "aacb2c87-65ee-47d5-8610-a7c1681500bd",
   "metadata": {},
   "outputs": [
    {
     "data": {
      "text/plain": [
       "[['COM3',\n",
       "  'Intel(R) Active Management Technology - SOL (COM3)',\n",
       "  'PCI\\\\VEN_8086&DEV_43E3&SUBSYS_0A541028&REV_11\\\\3&11583659&1&B3'],\n",
       " ['COM5',\n",
       "  'USB Serial Device (COM5)',\n",
       "  'USB VID:PID=0483:A3E5 SER=206A36705430 LOCATION=1-8:x.0'],\n",
       " ['COM10',\n",
       "  'USB Serial Device (COM10)',\n",
       "  'USB VID:PID=04D8:000A SER= LOCATION=1-2:x.0']]"
      ]
     },
     "execution_count": 3,
     "metadata": {},
     "output_type": "execute_result"
    }
   ],
   "source": [
    "qcsapphire.discover_devices()"
   ]
  },
  {
   "cell_type": "code",
   "execution_count": 4,
   "id": "3424a2c5-cee7-4ad7-a620-9da5a8e3a879",
   "metadata": {},
   "outputs": [],
   "source": [
    "p = qcsapphire.Pulser('COM10')"
   ]
  },
  {
   "cell_type": "code",
   "execution_count": 5,
   "id": "eac91a78-2659-422f-9a9f-ba7b6363212b",
   "metadata": {},
   "outputs": [
    {
     "data": {
      "text/plain": [
       "[(':PULSE0:STATE?', '1'),\n",
       " (':PULSE0:PERIOD?', '0.000050000'),\n",
       " (':PULSE0:MODE?', 'NORM'),\n",
       " (':PULSE0:BCOUNTER?', '5'),\n",
       " (':PULSE0:PCOUNTER?', '3'),\n",
       " (':PULSE0:OCOUNTER?', '2'),\n",
       " (':PULSE0:EXTERNAL:MODE?', 'DIS'),\n",
       " (':PULSE0:EXTERNAL:LEVEL?', '2.50'),\n",
       " (':PULSE0:EXTERNAL:EDGE?', 'RIS'),\n",
       " (':PULSE0:EXTERNAL:POLARITY?', 'HIGH')]"
      ]
     },
     "execution_count": 5,
     "metadata": {},
     "output_type": "execute_result"
    }
   ],
   "source": [
    "p.report_global_settings()"
   ]
  },
  {
   "cell_type": "code",
   "execution_count": 32,
   "id": "aec5edc2-1093-4641-b837-b448ba2e71d0",
   "metadata": {},
   "outputs": [
    {
     "name": "stdout",
     "output_type": "stream",
     "text": [
      "global settings\n",
      "[   (':PULSE0:STATE?', '1'),\n",
      "    (':PULSE0:PERIOD?', '0.000050000'),\n",
      "    (':PULSE0:MODE?', 'NORM'),\n",
      "    (':PULSE0:BCOUNTER?', '5'),\n",
      "    (':PULSE0:PCOUNTER?', '3'),\n",
      "    (':PULSE0:OCOUNTER?', '2'),\n",
      "    (':PULSE0:EXTERNAL:MODE?', 'DIS'),\n",
      "    (':PULSE0:EXTERNAL:LEVEL?', '2.50'),\n",
      "    (':PULSE0:EXTERNAL:EDGE?', 'RIS'),\n",
      "    (':PULSE0:EXTERNAL:POLARITY?', 'HIGH')]\n",
      "'channel 1'\n",
      "[   (':PULSE1:STATE?', '1'),\n",
      "    (':PULSE1:WIDTH?', '0.000001000'),\n",
      "    (':PULSE1:DELAY?', '0.00000600'),\n",
      "    (':PULSE1:SYNC?', 'T0'),\n",
      "    (':PULSE1:MUX?', '1'),\n",
      "    (':PULSE1:POLARITY?', 'NORM'),\n",
      "    (':PULSE1:OUTPUT:AMPLITUDE?', '5.00'),\n",
      "    (':PULSE1:CMODE?', 'NORM'),\n",
      "    (':PULSE1:BCOUNTER?', '5'),\n",
      "    (':PULSE1:PCOUNTER?', '4'),\n",
      "    (':PULSE1:WCOUNTER?', '0'),\n",
      "    (':PULSE1:CGATE?', 'DIS')]\n",
      "'channel 2'\n",
      "[   (':PULSE2:STATE?', '0'),\n",
      "    (':PULSE2:WIDTH?', '0.000001000'),\n",
      "    (':PULSE2:DELAY?', '0.00000000'),\n",
      "    (':PULSE2:SYNC?', 'T0'),\n",
      "    (':PULSE2:MUX?', '2'),\n",
      "    (':PULSE2:POLARITY?', 'NORM'),\n",
      "    (':PULSE2:OUTPUT:AMPLITUDE?', '5.00'),\n",
      "    (':PULSE2:CMODE?', 'SING'),\n",
      "    (':PULSE2:BCOUNTER?', '5'),\n",
      "    (':PULSE2:PCOUNTER?', '4'),\n",
      "    (':PULSE2:WCOUNTER?', '0'),\n",
      "    (':PULSE2:CGATE?', 'DIS')]\n",
      "'channel 3'\n",
      "[   (':PULSE3:STATE?', '1'),\n",
      "    (':PULSE3:WIDTH?', '0.000005000'),\n",
      "    (':PULSE3:DELAY?', '0.00000000'),\n",
      "    (':PULSE3:SYNC?', 'T0'),\n",
      "    (':PULSE3:MUX?', '4'),\n",
      "    (':PULSE3:POLARITY?', 'NORM'),\n",
      "    (':PULSE3:OUTPUT:AMPLITUDE?', '5.00'),\n",
      "    (':PULSE3:CMODE?', 'NORM'),\n",
      "    (':PULSE3:BCOUNTER?', '5'),\n",
      "    (':PULSE3:PCOUNTER?', '4'),\n",
      "    (':PULSE3:WCOUNTER?', '0'),\n",
      "    (':PULSE3:CGATE?', 'DIS')]\n",
      "'channel 4'\n",
      "[   (':PULSE4:STATE?', '1'),\n",
      "    (':PULSE4:WIDTH?', '0.000001000'),\n",
      "    (':PULSE4:DELAY?', '0.00000000'),\n",
      "    (':PULSE4:SYNC?', 'T0'),\n",
      "    (':PULSE4:MUX?', '4'),\n",
      "    (':PULSE4:POLARITY?', 'NORM'),\n",
      "    (':PULSE4:OUTPUT:AMPLITUDE?', '5.00'),\n",
      "    (':PULSE4:CMODE?', 'NORM'),\n",
      "    (':PULSE4:BCOUNTER?', '5'),\n",
      "    (':PULSE4:PCOUNTER?', '4'),\n",
      "    (':PULSE4:WCOUNTER?', '0'),\n",
      "    (':PULSE4:CGATE?', 'DIS')]\n"
     ]
    }
   ],
   "source": [
    "print('global settings')\n",
    "pp.pprint(p.report_global_settings())\n",
    "\n",
    "for channel in range(1,5):\n",
    "    pp.pprint(f'channel {channel}')\n",
    "    pp.pprint(p.report_channel_settings(channel))"
   ]
  },
  {
   "cell_type": "code",
   "execution_count": 10,
   "id": "0d68db74-d598-4a2d-b370-e76ed47052a3",
   "metadata": {},
   "outputs": [
    {
     "data": {
      "text/plain": [
       "'ok'"
      ]
     },
     "execution_count": 10,
     "metadata": {},
     "output_type": "execute_result"
    }
   ],
   "source": [
    "p.system.mode('normal')"
   ]
  },
  {
   "cell_type": "code",
   "execution_count": 26,
   "id": "28c6375d-cb51-4d10-b42a-ee7e261a7129",
   "metadata": {},
   "outputs": [
    {
     "data": {
      "text/plain": [
       "'ok'"
      ]
     },
     "execution_count": 26,
     "metadata": {},
     "output_type": "execute_result"
    }
   ],
   "source": [
    "## set up continuous pulses on channel c\n",
    "p.pulse0.mode('normal')\n",
    "\n",
    "period = 50e-6 \n",
    "width_laser = 5e-6\n",
    "p.pulse0.period(period) \n",
    "p.pulse0.external.mode('disabled')\n",
    "p.pulse3.cmode('normal')\n",
    "p.pulse3.polarity('normal')\n",
    "p.pulse3.width(width_laser) #500 ms wide pulse\n",
    "\n",
    "#don't turn on yet\n",
    "# p.pulse3.state(0)\n",
    "# p.pulse0.state(0)"
   ]
  },
  {
   "cell_type": "code",
   "execution_count": 8,
   "id": "054d70a6-a499-4484-a5f0-fa5bbad3015b",
   "metadata": {},
   "outputs": [],
   "source": [
    "p.set_all_state_off()"
   ]
  },
  {
   "cell_type": "code",
   "execution_count": 30,
   "id": "75512c70-1871-4639-b2b4-4226964b2ccf",
   "metadata": {},
   "outputs": [
    {
     "data": {
      "text/plain": [
       "'ok'"
      ]
     },
     "execution_count": 30,
     "metadata": {},
     "output_type": "execute_result"
    }
   ],
   "source": [
    "p.pulse3.mux(4)\n",
    "p.pulse4.mux(4) #channel D shows channel C timer output"
   ]
  },
  {
   "cell_type": "code",
   "execution_count": 23,
   "id": "a26cd39b-cf48-448e-b503-ef155452a164",
   "metadata": {},
   "outputs": [
    {
     "data": {
      "text/plain": [
       "'ok'"
      ]
     },
     "execution_count": 23,
     "metadata": {},
     "output_type": "execute_result"
    }
   ],
   "source": [
    "#turn on\n",
    "p.pulse0.state(1)\n",
    "p.pulse3.state(1)\n",
    "p.pulse4.state(1)"
   ]
  },
  {
   "cell_type": "code",
   "execution_count": 14,
   "id": "8ec4f500-6c91-4578-adf0-7a7c1c39bc28",
   "metadata": {},
   "outputs": [
    {
     "data": {
      "text/plain": [
       "'ok'"
      ]
     },
     "execution_count": 14,
     "metadata": {},
     "output_type": "execute_result"
    }
   ],
   "source": [
    "p.pulse3.output.amplitude(5)\n",
    "p.pulse4.output.amplitude(5)"
   ]
  },
  {
   "cell_type": "code",
   "execution_count": 54,
   "id": "a231cce5-f8e9-485e-b30f-1cc82924004e",
   "metadata": {},
   "outputs": [],
   "source": [
    "aom_delay = 1.2e-6"
   ]
  },
  {
   "cell_type": "code",
   "execution_count": 55,
   "id": "dfec703e-e6a0-4a8f-b34c-453bf73409a1",
   "metadata": {},
   "outputs": [
    {
     "data": {
      "text/plain": [
       "'ok'"
      ]
     },
     "execution_count": 55,
     "metadata": {},
     "output_type": "execute_result"
    }
   ],
   "source": [
    "## set up for software trigger pulses on channel a\n",
    "#p.pulse0.mode('single')\n",
    "#p.pulse0.period(1.0) #1s period\n",
    "#p.pulse0.external.mode('trigger')\n",
    "p.pulse1.cmode('normal')\n",
    "p.pulse1.polarity('normal')\n",
    "width_rf = 1e-6\n",
    "p.pulse1.width(width_rf) #100 ms wide pulse\n",
    "p.pulse1.delay(width_laser + aom_delay)\n",
    "p.pulse1.state(1)"
   ]
  },
  {
   "cell_type": "code",
   "execution_count": 67,
   "id": "890cd3aa-2253-4254-96a2-de584e1c67bf",
   "metadata": {},
   "outputs": [],
   "source": [
    "rf_delay = 0e-6"
   ]
  },
  {
   "cell_type": "code",
   "execution_count": 68,
   "id": "b8ffd2f8-5469-4d8c-8f9e-e72f1e870fb1",
   "metadata": {},
   "outputs": [
    {
     "data": {
      "text/plain": [
       "'ok'"
      ]
     },
     "execution_count": 68,
     "metadata": {},
     "output_type": "execute_result"
    }
   ],
   "source": [
    "#configure  channel B\n",
    "p.pulse2.cmode('normal')\n",
    "p.pulse2.polarity('normal')\n",
    "width_laser_readout = 5e-6\n",
    "p.pulse2.width(width_laser_readout) #100 ms wide pulse\n",
    "p.pulse2.delay(width_laser +  aom_delay + width_rf + rf_delay)\n",
    "p.pulse2.state(1)\n"
   ]
  },
  {
   "cell_type": "code",
   "execution_count": 60,
   "id": "1cc04f1b-f468-4522-81da-194bb1b73bbf",
   "metadata": {},
   "outputs": [
    {
     "data": {
      "text/plain": [
       "'ok'"
      ]
     },
     "execution_count": 60,
     "metadata": {},
     "output_type": "execute_result"
    }
   ],
   "source": [
    "p.pulse3.mux(4 + 2) #set channel C to show output of C & B"
   ]
  },
  {
   "cell_type": "code",
   "execution_count": 59,
   "id": "3be3666b-fcb7-4d72-9ecb-298ff5e578c7",
   "metadata": {},
   "outputs": [
    {
     "data": {
      "text/plain": [
       "'ok'"
      ]
     },
     "execution_count": 59,
     "metadata": {},
     "output_type": "execute_result"
    }
   ],
   "source": [
    "p.pulse4.mux(4+2) #set channel D to show output of C & B\n",
    "p.pulse4.output.amplitude(3.3)"
   ]
  },
  {
   "cell_type": "code",
   "execution_count": 61,
   "id": "c1fcda9c-a930-45f4-9903-abe922256280",
   "metadata": {},
   "outputs": [
    {
     "ename": "KeyboardInterrupt",
     "evalue": "",
     "output_type": "error",
     "traceback": [
      "\u001b[1;31m---------------------------------------------------------------------------\u001b[0m",
      "\u001b[1;31mKeyboardInterrupt\u001b[0m                         Traceback (most recent call last)",
      "Input \u001b[1;32mIn [61]\u001b[0m, in \u001b[0;36m<cell line: 6>\u001b[1;34m()\u001b[0m\n\u001b[0;32m      6\u001b[0m \u001b[38;5;28;01mfor\u001b[39;00m i \u001b[38;5;129;01min\u001b[39;00m \u001b[38;5;28mrange\u001b[39m(\u001b[38;5;241m50\u001b[39m):\n\u001b[0;32m      7\u001b[0m     p\u001b[38;5;241m.\u001b[39msoftware_trigger()\n\u001b[1;32m----> 8\u001b[0m     \u001b[43mtime\u001b[49m\u001b[38;5;241;43m.\u001b[39;49m\u001b[43msleep\u001b[49m\u001b[43m(\u001b[49m\u001b[43mwait_N\u001b[49m\u001b[43m)\u001b[49m\n\u001b[0;32m     10\u001b[0m p\u001b[38;5;241m.\u001b[39mpulse0\u001b[38;5;241m.\u001b[39mstate(\u001b[38;5;241m0\u001b[39m)\n\u001b[0;32m     11\u001b[0m p\u001b[38;5;241m.\u001b[39mpulse1\u001b[38;5;241m.\u001b[39mstate(\u001b[38;5;241m0\u001b[39m)\n",
      "\u001b[1;31mKeyboardInterrupt\u001b[0m: "
     ]
    }
   ],
   "source": [
    "#wait N seconds between triggers\n",
    "wait_N = 5.0\n",
    "p.pulse0.state(1)\n",
    "p.pulse1.state(1)\n",
    "\n",
    "for i in range(50):\n",
    "    time.sleep(wait_N)\n",
    "    p.software_trigger()\n",
    "\n",
    "p.pulse0.state(0)\n",
    "p.pulse1.state(0)"
   ]
  },
  {
   "cell_type": "code",
   "execution_count": 87,
   "id": "addcfd43-f6f4-46ef-bcbd-b11a8df9c993",
   "metadata": {},
   "outputs": [
    {
     "data": {
      "text/plain": [
       "'ok'"
      ]
     },
     "execution_count": 87,
     "metadata": {},
     "output_type": "execute_result"
    }
   ],
   "source": [
    "p.pulse0.state(1)\n",
    "p.pulse1.state(1)"
   ]
  },
  {
   "cell_type": "code",
   "execution_count": 88,
   "id": "d4990d18-2987-47f1-af4b-97a1e148fffd",
   "metadata": {},
   "outputs": [
    {
     "data": {
      "text/plain": [
       "'ok'"
      ]
     },
     "execution_count": 88,
     "metadata": {},
     "output_type": "execute_result"
    }
   ],
   "source": [
    "p.software_trigger()"
   ]
  },
  {
   "cell_type": "code",
   "execution_count": 89,
   "id": "312f0487-c567-4d3f-b057-18cf8f4f73f3",
   "metadata": {},
   "outputs": [],
   "source": [
    "p.close()"
   ]
  },
  {
   "cell_type": "code",
   "execution_count": null,
   "id": "98280cf6-c671-4080-a2bb-de90c3176b73",
   "metadata": {},
   "outputs": [],
   "source": []
  }
 ],
 "metadata": {
  "kernelspec": {
   "display_name": "Python 3 (ipykernel)",
   "language": "python",
   "name": "python3"
  },
  "language_info": {
   "codemirror_mode": {
    "name": "ipython",
    "version": 3
   },
   "file_extension": ".py",
   "mimetype": "text/x-python",
   "name": "python",
   "nbconvert_exporter": "python",
   "pygments_lexer": "ipython3",
   "version": "3.9.12"
  }
 },
 "nbformat": 4,
 "nbformat_minor": 5
}
