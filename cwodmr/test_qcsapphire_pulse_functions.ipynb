{
 "cells": [
  {
   "cell_type": "code",
   "execution_count": 1,
   "id": "8cc6f398-4885-4967-b926-a6cc47fb02b9",
   "metadata": {},
   "outputs": [],
   "source": [
    "%load_ext autoreload\n",
    "%autoreload 2"
   ]
  },
  {
   "cell_type": "code",
   "execution_count": 1,
   "id": "fe7e0bc1-322f-4a58-b0fa-c38896a403dd",
   "metadata": {},
   "outputs": [],
   "source": [
    "import qcsapphire\n",
    "import pprint\n",
    "import time\n",
    "pp = pprint.PrettyPrinter(indent=4)"
   ]
  },
  {
   "cell_type": "code",
   "execution_count": 2,
   "id": "3424a2c5-cee7-4ad7-a620-9da5a8e3a879",
   "metadata": {},
   "outputs": [],
   "source": [
    "p = qcsapphire.Pulser('COM6')"
   ]
  },
  {
   "cell_type": "code",
   "execution_count": 8,
   "id": "870eb0a7-6e44-42a4-a6e3-4fc6ffa83154",
   "metadata": {},
   "outputs": [],
   "source": [
    "idn_out = p.query('*IDN?')"
   ]
  },
  {
   "cell_type": "code",
   "execution_count": 14,
   "id": "1e7aa558-0c7c-4e24-a178-ecf291278880",
   "metadata": {},
   "outputs": [],
   "source": [
    "_, model, serial, ff = idn_out.split(',')"
   ]
  },
  {
   "cell_type": "code",
   "execution_count": 15,
   "id": "f9faac74-8372-4fd5-ad6f-5c816524c1db",
   "metadata": {},
   "outputs": [
    {
     "data": {
      "text/plain": [
       "'9214'"
      ]
     },
     "execution_count": 15,
     "metadata": {},
     "output_type": "execute_result"
    }
   ],
   "source": [
    "model"
   ]
  },
  {
   "cell_type": "code",
   "execution_count": 16,
   "id": "dd842909-0412-40d9-9759-70e7b7bdd98a",
   "metadata": {},
   "outputs": [
    {
     "data": {
      "text/plain": [
       "['2.4.0', '1.0.3.0']"
      ]
     },
     "execution_count": 16,
     "metadata": {},
     "output_type": "execute_result"
    }
   ],
   "source": [
    "ff.split('-')"
   ]
  },
  {
   "cell_type": "code",
   "execution_count": 17,
   "id": "23b6113e-9129-4e91-b098-04cd9cd1a8b5",
   "metadata": {},
   "outputs": [
    {
     "data": {
      "text/plain": [
       "'07592'"
      ]
     },
     "execution_count": 17,
     "metadata": {},
     "output_type": "execute_result"
    }
   ],
   "source": [
    "serial"
   ]
  },
  {
   "cell_type": "code",
   "execution_count": 3,
   "id": "eac91a78-2659-422f-9a9f-ba7b6363212b",
   "metadata": {},
   "outputs": [
    {
     "data": {
      "text/plain": [
       "[(':PULSE0:STATE?', '0'),\n",
       " (':PULSE0:PERIOD?', '1.000000000'),\n",
       " (':PULSE0:MODE?', 'SING'),\n",
       " (':PULSE0:BCOUNTER?', '5'),\n",
       " (':PULSE0:PCOUNTER?', '3'),\n",
       " (':PULSE0:OCOUNTER?', '2'),\n",
       " (':PULSE0:EXTERNAL:MODE?', 'TRIG'),\n",
       " (':PULSE0:EXTERNAL:LEVEL?', '2.50'),\n",
       " (':PULSE0:EXTERNAL:EDGE?', 'RIS'),\n",
       " (':PULSE0:EXTERNAL:POLARITY?', 'HIGH')]"
      ]
     },
     "execution_count": 3,
     "metadata": {},
     "output_type": "execute_result"
    }
   ],
   "source": [
    "p.report_global_settings()"
   ]
  },
  {
   "cell_type": "code",
   "execution_count": 4,
   "id": "980c5235-1502-4fee-98a0-cfe92c75542c",
   "metadata": {},
   "outputs": [
    {
     "name": "stdout",
     "output_type": "stream",
     "text": [
      "[':PULSE0:EXTERNAL:POLARITY?', ':PULSE0:EXTERNAL:EDGE?', ':PULSE0:EXTERNAL:LEVEL?', ':PULSE0:EXTERNAL:MODE?', ':PULSE0:OCOUNTER?', ':PULSE0:PCOUNTER?', ':PULSE0:BCOUNTER?', ':PULSE0:MODE?', ':PULSE0:PERIOD?', ':PULSE0:STATE?']\n"
     ]
    }
   ],
   "source": [
    "print([c for c in p.command_history()])"
   ]
  },
  {
   "cell_type": "code",
   "execution_count": 5,
   "id": "aec5edc2-1093-4641-b837-b448ba2e71d0",
   "metadata": {},
   "outputs": [
    {
     "name": "stdout",
     "output_type": "stream",
     "text": [
      "global settings\n",
      "[   (':PULSE0:STATE?', '0'),\n",
      "    (':PULSE0:PERIOD?', '1.000000000'),\n",
      "    (':PULSE0:MODE?', 'SING'),\n",
      "    (':PULSE0:BCOUNTER?', '5'),\n",
      "    (':PULSE0:PCOUNTER?', '3'),\n",
      "    (':PULSE0:OCOUNTER?', '2'),\n",
      "    (':PULSE0:EXTERNAL:MODE?', 'TRIG'),\n",
      "    (':PULSE0:EXTERNAL:LEVEL?', '2.50'),\n",
      "    (':PULSE0:EXTERNAL:EDGE?', 'RIS'),\n",
      "    (':PULSE0:EXTERNAL:POLARITY?', 'HIGH')]\n",
      "'channel 1'\n",
      "[   (':PULSE1:STATE?', '1'),\n",
      "    (':PULSE1:WIDTH?', '0.100000000'),\n",
      "    (':PULSE1:DELAY?', '0.00000000'),\n",
      "    (':PULSE1:SYNC?', 'T0'),\n",
      "    (':PULSE1:MUX?', '1'),\n",
      "    (':PULSE1:POLARITY?', 'NORM'),\n",
      "    (':PULSE1:OUTPUT:AMPLITUDE?', '5.00'),\n",
      "    (':PULSE1:CMODE?', 'SING'),\n",
      "    (':PULSE1:BCOUNTER?', '5'),\n",
      "    (':PULSE1:PCOUNTER?', '4'),\n",
      "    (':PULSE1:WCOUNTER?', '0'),\n",
      "    (':PULSE1:CGATE?', 'DIS')]\n",
      "'channel 2'\n",
      "[   (':PULSE2:STATE?', '0'),\n",
      "    (':PULSE2:WIDTH?', '0.000001000'),\n",
      "    (':PULSE2:DELAY?', '0.00000000'),\n",
      "    (':PULSE2:SYNC?', 'T0'),\n",
      "    (':PULSE2:MUX?', '2'),\n",
      "    (':PULSE2:POLARITY?', 'NORM'),\n",
      "    (':PULSE2:OUTPUT:AMPLITUDE?', '5.00'),\n",
      "    (':PULSE2:CMODE?', 'NORM'),\n",
      "    (':PULSE2:BCOUNTER?', '5'),\n",
      "    (':PULSE2:PCOUNTER?', '4'),\n",
      "    (':PULSE2:WCOUNTER?', '0'),\n",
      "    (':PULSE2:CGATE?', 'DIS')]\n",
      "'channel 3'\n",
      "[   (':PULSE3:STATE?', '0'),\n",
      "    (':PULSE3:WIDTH?', '0.000001000'),\n",
      "    (':PULSE3:DELAY?', '0.00000000'),\n",
      "    (':PULSE3:SYNC?', 'T0'),\n",
      "    (':PULSE3:MUX?', '4'),\n",
      "    (':PULSE3:POLARITY?', 'NORM'),\n",
      "    (':PULSE3:OUTPUT:AMPLITUDE?', '5.00'),\n",
      "    (':PULSE3:CMODE?', 'NORM'),\n",
      "    (':PULSE3:BCOUNTER?', '5'),\n",
      "    (':PULSE3:PCOUNTER?', '4'),\n",
      "    (':PULSE3:WCOUNTER?', '0'),\n",
      "    (':PULSE3:CGATE?', 'DIS')]\n",
      "'channel 4'\n",
      "[   (':PULSE4:STATE?', '0'),\n",
      "    (':PULSE4:WIDTH?', '0.000001000'),\n",
      "    (':PULSE4:DELAY?', '0.00000000'),\n",
      "    (':PULSE4:SYNC?', 'T0'),\n",
      "    (':PULSE4:MUX?', '8'),\n",
      "    (':PULSE4:POLARITY?', 'NORM'),\n",
      "    (':PULSE4:OUTPUT:AMPLITUDE?', '5.00'),\n",
      "    (':PULSE4:CMODE?', 'NORM'),\n",
      "    (':PULSE4:BCOUNTER?', '5'),\n",
      "    (':PULSE4:PCOUNTER?', '4'),\n",
      "    (':PULSE4:WCOUNTER?', '0'),\n",
      "    (':PULSE4:CGATE?', 'DIS')]\n"
     ]
    }
   ],
   "source": [
    "print('global settings')\n",
    "pp.pprint(p.report_global_settings())\n",
    "\n",
    "for channel in range(1,5):\n",
    "    pp.pprint(f'channel {channel}')\n",
    "    pp.pprint(p.report_channel_settings(channel))"
   ]
  },
  {
   "cell_type": "code",
   "execution_count": 6,
   "id": "28c6375d-cb51-4d10-b42a-ee7e261a7129",
   "metadata": {},
   "outputs": [
    {
     "ename": "IndexError",
     "evalue": "string index out of range",
     "output_type": "error",
     "traceback": [
      "\u001b[1;31m---------------------------------------------------------------------------\u001b[0m",
      "\u001b[1;31mIndexError\u001b[0m                                Traceback (most recent call last)",
      "Input \u001b[1;32mIn [6]\u001b[0m, in \u001b[0;36m<cell line: 2>\u001b[1;34m()\u001b[0m\n\u001b[0;32m      1\u001b[0m \u001b[38;5;66;03m## set up continuous pulses on channel a\u001b[39;00m\n\u001b[1;32m----> 2\u001b[0m \u001b[43mp\u001b[49m\u001b[38;5;241;43m.\u001b[39;49m\u001b[43mpulse0\u001b[49m\u001b[38;5;241;43m.\u001b[39;49m\u001b[43mmode\u001b[49m\u001b[43m(\u001b[49m\u001b[38;5;124;43m'\u001b[39;49m\u001b[38;5;124;43mnormal\u001b[39;49m\u001b[38;5;124;43m'\u001b[39;49m\u001b[43m)\u001b[49m\n\u001b[0;32m      3\u001b[0m p\u001b[38;5;241m.\u001b[39mpulse0\u001b[38;5;241m.\u001b[39mperiod(\u001b[38;5;241m1.00\u001b[39m) \n\u001b[0;32m      4\u001b[0m p\u001b[38;5;241m.\u001b[39mpulse0\u001b[38;5;241m.\u001b[39mexternal\u001b[38;5;241m.\u001b[39mmode(\u001b[38;5;124m'\u001b[39m\u001b[38;5;124mdisabled\u001b[39m\u001b[38;5;124m'\u001b[39m)\n",
      "File \u001b[1;32mc:\\users\\qt3\\projects\\qcsapphire\\src\\qcsapphire\\pulser.py:69\u001b[0m, in \u001b[0;36mProperty.__call__\u001b[1;34m(self, *values)\u001b[0m\n\u001b[0;32m     66\u001b[0m values \u001b[38;5;241m=\u001b[39m \u001b[38;5;28mself\u001b[39m\u001b[38;5;241m.\u001b[39marg_separator\u001b[38;5;241m.\u001b[39mjoin( values )\n\u001b[0;32m     68\u001b[0m cmd \u001b[38;5;241m=\u001b[39m \u001b[38;5;124mf\u001b[39m\u001b[38;5;124m'\u001b[39m\u001b[38;5;132;01m{\u001b[39;00m\u001b[38;5;28mself\u001b[39m\u001b[38;5;241m.\u001b[39marg_separator\u001b[38;5;132;01m}\u001b[39;00m\u001b[38;5;132;01m{\u001b[39;00m \u001b[38;5;28mself\u001b[39m\u001b[38;5;241m.\u001b[39mname \u001b[38;5;132;01m}\u001b[39;00m\u001b[38;5;124m \u001b[39m\u001b[38;5;132;01m{\u001b[39;00m values \u001b[38;5;132;01m}\u001b[39;00m\u001b[38;5;124m'\u001b[39m\n\u001b[1;32m---> 69\u001b[0m \u001b[38;5;28;01mreturn\u001b[39;00m \u001b[38;5;28;43mself\u001b[39;49m\u001b[38;5;241;43m.\u001b[39;49m\u001b[43m_pulser\u001b[49m\u001b[38;5;241;43m.\u001b[39;49m\u001b[43mquery\u001b[49m\u001b[43m(\u001b[49m\u001b[43m \u001b[49m\u001b[43mcmd\u001b[49m\u001b[43m \u001b[49m\u001b[43m)\u001b[49m\n",
      "File \u001b[1;32mc:\\users\\qt3\\projects\\qcsapphire\\src\\qcsapphire\\pulser.py:196\u001b[0m, in \u001b[0;36mPulser.query\u001b[1;34m(self, data)\u001b[0m\n\u001b[0;32m    194\u001b[0m     return_val \u001b[38;5;241m=\u001b[39m \u001b[38;5;28mself\u001b[39m\u001b[38;5;241m.\u001b[39m_readlines()\n\u001b[0;32m    195\u001b[0m \u001b[38;5;28;01melse\u001b[39;00m:\n\u001b[1;32m--> 196\u001b[0m     return_val \u001b[38;5;241m=\u001b[39m \u001b[38;5;28;43mself\u001b[39;49m\u001b[38;5;241;43m.\u001b[39;49m\u001b[43m_readline\u001b[49m\u001b[43m(\u001b[49m\u001b[43m)\u001b[49m\n\u001b[0;32m    198\u001b[0m \u001b[38;5;28;01mreturn\u001b[39;00m return_val\n",
      "File \u001b[1;32mc:\\users\\qt3\\projects\\qcsapphire\\src\\qcsapphire\\pulser.py:156\u001b[0m, in \u001b[0;36mPulser._readline\u001b[1;34m(self)\u001b[0m\n\u001b[0;32m    149\u001b[0m \u001b[38;5;124;03m'''\u001b[39;00m\n\u001b[0;32m    150\u001b[0m \u001b[38;5;124;03mRead from device.\u001b[39;00m\n\u001b[0;32m    151\u001b[0m \n\u001b[0;32m    152\u001b[0m \u001b[38;5;124;03mReturns:\u001b[39;00m\n\u001b[0;32m    153\u001b[0m \u001b[38;5;124;03m    a string response from the device.\u001b[39;00m\n\u001b[0;32m    154\u001b[0m \u001b[38;5;124;03m'''\u001b[39;00m\n\u001b[0;32m    155\u001b[0m rdata \u001b[38;5;241m=\u001b[39m \u001b[38;5;28mself\u001b[39m\u001b[38;5;241m.\u001b[39m_inst\u001b[38;5;241m.\u001b[39mreadline()\n\u001b[1;32m--> 156\u001b[0m \u001b[38;5;28;01mreturn\u001b[39;00m \u001b[38;5;28;43mself\u001b[39;49m\u001b[38;5;241;43m.\u001b[39;49m\u001b[43m_check_error\u001b[49m\u001b[43m(\u001b[49m\u001b[43mrdata\u001b[49m\u001b[38;5;241;43m.\u001b[39;49m\u001b[43mdecode\u001b[49m\u001b[43m(\u001b[49m\u001b[38;5;124;43m'\u001b[39;49m\u001b[38;5;124;43mutf-8\u001b[39;49m\u001b[38;5;124;43m'\u001b[39;49m\u001b[43m)\u001b[49m\u001b[38;5;241;43m.\u001b[39;49m\u001b[43mstrip\u001b[49m\u001b[43m(\u001b[49m\u001b[43m)\u001b[49m\u001b[43m)\u001b[49m\n",
      "File \u001b[1;32mc:\\users\\qt3\\projects\\qcsapphire\\src\\qcsapphire\\pulser.py:122\u001b[0m, in \u001b[0;36mPulser._check_error\u001b[1;34m(self, string)\u001b[0m\n\u001b[0;32m    120\u001b[0m \u001b[38;5;28;01mexcept\u001b[39;00m \u001b[38;5;167;01mException\u001b[39;00m \u001b[38;5;28;01mas\u001b[39;00m e:\n\u001b[0;32m    121\u001b[0m     \u001b[38;5;28mself\u001b[39m\u001b[38;5;241m.\u001b[39m_readlines() \u001b[38;5;66;03m#flush out the read return on error to be ready for next query\u001b[39;00m\n\u001b[1;32m--> 122\u001b[0m     \u001b[38;5;28;01mraise\u001b[39;00m e\n\u001b[0;32m    124\u001b[0m \u001b[38;5;28;01mreturn\u001b[39;00m string\n",
      "File \u001b[1;32mc:\\users\\qt3\\projects\\qcsapphire\\src\\qcsapphire\\pulser.py:101\u001b[0m, in \u001b[0;36mPulser._check_error\u001b[1;34m(self, string)\u001b[0m\n\u001b[0;32m     98\u001b[0m \u001b[38;5;28;01mdef\u001b[39;00m \u001b[38;5;21m_check_error\u001b[39m(\u001b[38;5;28mself\u001b[39m, string):\n\u001b[0;32m    100\u001b[0m     \u001b[38;5;28;01mtry\u001b[39;00m:\n\u001b[1;32m--> 101\u001b[0m         \u001b[38;5;28;01mif\u001b[39;00m \u001b[43mstring\u001b[49m\u001b[43m[\u001b[49m\u001b[38;5;241;43m0\u001b[39;49m\u001b[43m]\u001b[49m \u001b[38;5;241m==\u001b[39m \u001b[38;5;124m'\u001b[39m\u001b[38;5;124m?\u001b[39m\u001b[38;5;124m'\u001b[39m:\n\u001b[0;32m    102\u001b[0m             \u001b[38;5;28;01mif\u001b[39;00m string[\u001b[38;5;241m1\u001b[39m] \u001b[38;5;241m==\u001b[39m \u001b[38;5;124m'\u001b[39m\u001b[38;5;124m1\u001b[39m\u001b[38;5;124m'\u001b[39m:\n\u001b[0;32m    103\u001b[0m                 \u001b[38;5;28;01mraise\u001b[39;00m \u001b[38;5;167;01mException\u001b[39;00m(\u001b[38;5;124mf\u001b[39m\u001b[38;5;124m'\u001b[39m\u001b[38;5;124mIncorrect prefix, i.e. no colon or * to start command. Last write command == \u001b[39m\u001b[38;5;132;01m{\u001b[39;00m\u001b[38;5;28mself\u001b[39m\u001b[38;5;241m.\u001b[39mlast_write_command\u001b[38;5;132;01m}\u001b[39;00m\u001b[38;5;124m'\u001b[39m)\n",
      "\u001b[1;31mIndexError\u001b[0m: string index out of range"
     ]
    }
   ],
   "source": [
    "## set up continuous pulses on channel a\n",
    "p.pulse0.mode('normal')\n",
    "p.pulse0.period(1.00) \n",
    "p.pulse0.external.mode('disabled')\n",
    "p.pulse1.cmode('normal')\n",
    "p.pulse1.polarity('normal')\n",
    "p.pulse1.width(0.05) #50 ms wide pulse\n",
    "\n",
    "#don't turn on yet\n",
    "p.pulse1.state(0)\n",
    "p.pulse0.state(0)"
   ]
  },
  {
   "cell_type": "code",
   "execution_count": 65,
   "id": "a26cd39b-cf48-448e-b503-ef155452a164",
   "metadata": {},
   "outputs": [
    {
     "data": {
      "text/plain": [
       "'ok'"
      ]
     },
     "execution_count": 65,
     "metadata": {},
     "output_type": "execute_result"
    }
   ],
   "source": [
    "#turn on\n",
    "p.pulse1.state(1)\n",
    "p.pulse0.state(1)"
   ]
  },
  {
   "cell_type": "code",
   "execution_count": 60,
   "id": "dfec703e-e6a0-4a8f-b34c-453bf73409a1",
   "metadata": {},
   "outputs": [
    {
     "data": {
      "text/plain": [
       "'ok'"
      ]
     },
     "execution_count": 60,
     "metadata": {},
     "output_type": "execute_result"
    }
   ],
   "source": [
    "## set up for software trigger pulses on channel a\n",
    "p.pulse0.mode('single')\n",
    "p.pulse0.period(1.0) #1s period\n",
    "p.pulse0.external.mode('trigger')\n",
    "p.pulse1.cmode('single')\n",
    "p.pulse1.polarity('normal')\n",
    "p.pulse1.width(0.1) #100 ms wide pulse\n",
    "p.pulse1.state(0)\n",
    "p.pulse0.state(0)"
   ]
  },
  {
   "cell_type": "code",
   "execution_count": 61,
   "id": "c1fcda9c-a930-45f4-9903-abe922256280",
   "metadata": {},
   "outputs": [
    {
     "ename": "KeyboardInterrupt",
     "evalue": "",
     "output_type": "error",
     "traceback": [
      "\u001b[1;31m---------------------------------------------------------------------------\u001b[0m",
      "\u001b[1;31mKeyboardInterrupt\u001b[0m                         Traceback (most recent call last)",
      "Input \u001b[1;32mIn [61]\u001b[0m, in \u001b[0;36m<cell line: 6>\u001b[1;34m()\u001b[0m\n\u001b[0;32m      6\u001b[0m \u001b[38;5;28;01mfor\u001b[39;00m i \u001b[38;5;129;01min\u001b[39;00m \u001b[38;5;28mrange\u001b[39m(\u001b[38;5;241m50\u001b[39m):\n\u001b[0;32m      7\u001b[0m     p\u001b[38;5;241m.\u001b[39msoftware_trigger()\n\u001b[1;32m----> 8\u001b[0m     \u001b[43mtime\u001b[49m\u001b[38;5;241;43m.\u001b[39;49m\u001b[43msleep\u001b[49m\u001b[43m(\u001b[49m\u001b[43mwait_N\u001b[49m\u001b[43m)\u001b[49m\n\u001b[0;32m     10\u001b[0m p\u001b[38;5;241m.\u001b[39mpulse0\u001b[38;5;241m.\u001b[39mstate(\u001b[38;5;241m0\u001b[39m)\n\u001b[0;32m     11\u001b[0m p\u001b[38;5;241m.\u001b[39mpulse1\u001b[38;5;241m.\u001b[39mstate(\u001b[38;5;241m0\u001b[39m)\n",
      "\u001b[1;31mKeyboardInterrupt\u001b[0m: "
     ]
    }
   ],
   "source": [
    "#wait N seconds between triggers\n",
    "wait_N = 5.0\n",
    "p.pulse0.state(1)\n",
    "p.pulse1.state(1)\n",
    "\n",
    "for i in range(50):\n",
    "    time.sleep(wait_N)\n",
    "    p.software_trigger()\n",
    "\n",
    "p.pulse0.state(0)\n",
    "p.pulse1.state(0)"
   ]
  },
  {
   "cell_type": "code",
   "execution_count": 87,
   "id": "addcfd43-f6f4-46ef-bcbd-b11a8df9c993",
   "metadata": {},
   "outputs": [
    {
     "data": {
      "text/plain": [
       "'ok'"
      ]
     },
     "execution_count": 87,
     "metadata": {},
     "output_type": "execute_result"
    }
   ],
   "source": [
    "p.pulse0.state(1)\n",
    "p.pulse1.state(1)"
   ]
  },
  {
   "cell_type": "code",
   "execution_count": 88,
   "id": "d4990d18-2987-47f1-af4b-97a1e148fffd",
   "metadata": {},
   "outputs": [
    {
     "data": {
      "text/plain": [
       "'ok'"
      ]
     },
     "execution_count": 88,
     "metadata": {},
     "output_type": "execute_result"
    }
   ],
   "source": [
    "p.software_trigger()"
   ]
  },
  {
   "cell_type": "code",
   "execution_count": 89,
   "id": "312f0487-c567-4d3f-b057-18cf8f4f73f3",
   "metadata": {},
   "outputs": [],
   "source": [
    "p.close()"
   ]
  },
  {
   "cell_type": "code",
   "execution_count": null,
   "id": "98280cf6-c671-4080-a2bb-de90c3176b73",
   "metadata": {},
   "outputs": [],
   "source": []
  }
 ],
 "metadata": {
  "kernelspec": {
   "display_name": "Python 3 (ipykernel)",
   "language": "python",
   "name": "python3"
  },
  "language_info": {
   "codemirror_mode": {
    "name": "ipython",
    "version": 3
   },
   "file_extension": ".py",
   "mimetype": "text/x-python",
   "name": "python",
   "nbconvert_exporter": "python",
   "pygments_lexer": "ipython3",
   "version": "3.9.12"
  }
 },
 "nbformat": 4,
 "nbformat_minor": 5
}
