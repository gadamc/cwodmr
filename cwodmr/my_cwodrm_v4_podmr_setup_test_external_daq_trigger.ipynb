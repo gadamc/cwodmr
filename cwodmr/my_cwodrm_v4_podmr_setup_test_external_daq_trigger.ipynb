{
 "cells": [
  {
   "cell_type": "code",
   "execution_count": 1,
   "id": "4a4ae899-dec7-4d40-86b2-40cebddc13da",
   "metadata": {},
   "outputs": [],
   "source": [
    "# run CW ODMR.\n",
    "# control the frequency changes \"manually\" with the code here instead of using external trigger"
   ]
  },
  {
   "cell_type": "code",
   "execution_count": 1,
   "id": "1ca4787b-1d40-41f4-b369-0218330710ea",
   "metadata": {},
   "outputs": [],
   "source": [
    "%matplotlib inline"
   ]
  },
  {
   "cell_type": "code",
   "execution_count": 2,
   "id": "99fcf75d-abc4-4d44-a16f-6c46533df478",
   "metadata": {},
   "outputs": [],
   "source": [
    "import nidaqmx\n",
    "import numpy as np\n",
    "import qt3rfsynthcontrol\n",
    "import ctypes\n",
    "import nidaqmx._lib  # Due to NIDAQmx C-API bug needed to bypass property getter (according to qudi)\n",
    "import nidaqmx.stream_readers\n",
    "import time\n",
    "import matplotlib.pyplot as plt\n",
    "import qcsapphire\n"
   ]
  },
  {
   "cell_type": "code",
   "execution_count": 3,
   "id": "827c8e73-2d01-4456-a132-5e4a316a2887",
   "metadata": {},
   "outputs": [],
   "source": [
    "nisys = nidaqmx.system.System()\n",
    "device = nidaqmx.system.Device('Dev1')"
   ]
  },
  {
   "cell_type": "code",
   "execution_count": 4,
   "id": "41b9e1f9-ddee-431c-802b-d1fd528fe0d2",
   "metadata": {},
   "outputs": [
    {
     "data": {
      "text/plain": [
       "[PersistedTask(name=MyCountEdgesTask)]"
      ]
     },
     "execution_count": 4,
     "metadata": {},
     "output_type": "execute_result"
    }
   ],
   "source": [
    "list(nisys.tasks)"
   ]
  },
  {
   "cell_type": "code",
   "execution_count": 5,
   "id": "8f2888a1-2e0b-4009-83b0-00757bdbe4a1",
   "metadata": {},
   "outputs": [],
   "source": [
    "device.reset_device()"
   ]
  },
  {
   "cell_type": "code",
   "execution_count": 6,
   "id": "e7602296-36ae-4508-ab27-07c1d0b14643",
   "metadata": {},
   "outputs": [],
   "source": [
    "#list(nisys.devices)"
   ]
  },
  {
   "cell_type": "code",
   "execution_count": 7,
   "id": "0a5cdcd8-8f5a-4b66-b9b1-bd6299c1b992",
   "metadata": {},
   "outputs": [],
   "source": [
    "#device = nidaqmx.system.Device('Dev1')\n",
    "#list(device.ao_physical_chans)\n",
    "# list(device.ai_physical_chans)\n",
    "#list(device.di_lines)\n",
    "#list(device.do_lines)\n",
    "#list(device.co_physical_chans)\n",
    "#list(device.ci_physical_chans)\n",
    "# list(device.terminals)"
   ]
  },
  {
   "cell_type": "code",
   "execution_count": 8,
   "id": "9d407b3f-192c-4f01-991f-59ef2b75a78c",
   "metadata": {},
   "outputs": [],
   "source": [
    "#Configure the NI DAQ\n",
    "\n",
    "def configure_tasks(post_fix_task_name = None, \n",
    "                    device_name = 'Dev1',\n",
    "                    clock_counter = 'ctr1',\n",
    "                    clock_di_line = 'port0',\n",
    "                    edge_input_channel = 'PFI12',\n",
    "                    edge_input_counter = 'ctr2',\n",
    "                    clock_rate = 1000, \n",
    "                    N_data_samples_to_acquire = 500,\n",
    "                    trigger_input = None,\n",
    "                    new_edge_task = False,\n",
    "                    new_clock_task = False,\n",
    "                    continuous_daq = False):\n",
    "   \n",
    "    #clock_task_name = f'sample_clock{post_fix_task_name}' \n",
    "    clock_task = nidaqmx.Task()\n",
    "       \n",
    "    if new_clock_task:\n",
    "        clock_task.di_channels.add_di_chan(f'{device_name}/{clock_di_line}')\n",
    "        clock_task.timing.cfg_samp_clk_timing(clock_rate,\n",
    "                                    sample_mode=nidaqmx.constants.AcquisitionType.CONTINUOUS)\n",
    "     \n",
    "        clock_channel = f'/{device_name}/di/SampleClock'\n",
    "\n",
    "    else:\n",
    "        #this adds the clock signal to the output channel\n",
    "        #is this necessary? \n",
    "        clock_task.co_channels.add_co_pulse_chan_freq(\n",
    "                '/{0}/{1}'.format(device_name, clock_counter),\n",
    "                freq=clock_rate,\n",
    "                idle_state=nidaqmx.constants.Level.LOW)\n",
    "\n",
    "        # clock_task.timing.cfg_implicit_timing(\n",
    "        #     sample_mode=nidaqmx.constants.AcquisitionType.FINITE,\n",
    "        #     samps_per_chan=n_steps+2) #qudi configures with n_steps + 1, should recheck why. suspicious extra \"1\" floating around (n_steps = 101)\n",
    "\n",
    "        clock_task.timing.cfg_implicit_timing(\n",
    "            sample_mode=nidaqmx.constants.AcquisitionType.CONTINUOUS,\n",
    "            samps_per_chan=clock_rate) #qudi configures with n_steps + 1, should recheck why. suspicious extra \"1\" floating around (n_steps = 101)\n",
    "\n",
    "        clock_channel = '/{0}InternalOutput'.format(clock_task.channel_names[0])\n",
    "\n",
    "    #edge_detector_task_name = f'edge_input{post_fix_task_name}'\n",
    "\n",
    "    edge_detector_task = nidaqmx.Task()\n",
    "\n",
    "    #todo -- try to replace all of this with edge_detector_task.add_ci_count_edges_chan\n",
    "    \n",
    "    \n",
    "\n",
    "    ctr_name = f'/{device_name}/{edge_input_counter}'\n",
    "    chnl_name = f'/{device_name}/{edge_input_channel}'\n",
    "    \n",
    "    if new_edge_task: #following nspyre recipe -- this does not seem to work! \n",
    "        #I get counts out, but they are very weakly correlated to PL intensity compared to the qudi setup \n",
    "        #\n",
    "        channel = edge_detector_task.ci_channels.add_ci_count_edges_chan(\n",
    "                                    ctr_name,\n",
    "                                    edge=nidaqmx.constants.Edge.RISING,\n",
    "                                    initial_count=0,\n",
    "                                    count_direction=nidaqmx.constants.CountDirection.COUNT_UP)\n",
    "        channel.ci_count_edges_term = chnl_name \n",
    "        \n",
    "        if continuous_daq:\n",
    "            edge_detector_task.timing.cfg_samp_clk_timing(clock_rate, \n",
    "                                                          source=clock_channel,\n",
    "                                                          active_edge=nidaqmx.constants.Edge.RISING, \n",
    "                                                          sample_mode=nidaqmx.constants.AcquisitionType.CONTINUOUS)    \n",
    "        else:        \n",
    "            edge_detector_task.timing.cfg_samp_clk_timing(clock_rate, \n",
    "                                                          source=clock_channel,\n",
    "                                                          active_edge=nidaqmx.constants.Edge.RISING, \n",
    "                                                          sample_mode=nidaqmx.constants.AcquisitionType.FINITE,\n",
    "                                                          samps_per_chan=N_data_samples_to_acquire)\n",
    "        \n",
    "    else:\n",
    "        # why does qudi count the period of signal? In units of \"ticks\" -- is that the same as edge counting? \n",
    "        \n",
    "        edge_detector_task.ci_channels.add_ci_period_chan(\n",
    "                            ctr_name,\n",
    "                            min_val=0,\n",
    "                            max_val=100000000,\n",
    "                            units=nidaqmx.constants.TimeUnits.TICKS,\n",
    "                            edge=nidaqmx.constants.Edge.RISING)\n",
    "        # I get no data when I swap out the line above for this line\n",
    "        # edge_detector_task.ci_channels.add_ci_count_edges_chan(\n",
    "        #                             ctr_name,\n",
    "        #                             edge=nidaqmx.constants.Edge.RISING,\n",
    "        #                             initial_count=0,\n",
    "        #                             count_direction=nidaqmx.constants.CountDirection.COUNT_UP)\n",
    "        \n",
    "        # from qudi -- apparently this overcomes some kind of bug in the C-library, according to comments in qudi code\n",
    "        try:\n",
    "            # this sets the counter to read from the appropriate terminal\n",
    "            nidaqmx._lib.lib_importer.windll.DAQmxSetCIPeriodTerm(\n",
    "                edge_detector_task._handle,\n",
    "                ctypes.c_char_p(ctr_name.encode('ascii')),\n",
    "                ctypes.c_char_p(clock_channel.encode('ascii')))\n",
    "            \n",
    "            #this tells the counter which clock to use\n",
    "            nidaqmx._lib.lib_importer.windll.DAQmxSetCICtrTimebaseSrc(\n",
    "                edge_detector_task._handle,\n",
    "                ctypes.c_char_p(ctr_name.encode('ascii')),\n",
    "                ctypes.c_char_p(chnl_name.encode('ascii')))\n",
    "        except:\n",
    "            nidaqmx._lib.lib_importer.cdll.DAQmxSetCIPeriodTerm(\n",
    "                edge_detector_task._handle,\n",
    "                ctypes.c_char_p(ctr_name.encode('ascii')),\n",
    "                ctypes.c_char_p(clock_channel.encode('ascii')))\n",
    "            nidaqmx._lib.lib_importer.cdll.DAQmxSetCICtrTimebaseSrc(\n",
    "                edge_detector_task._handle,\n",
    "                ctypes.c_char_p(ctr_name.encode('ascii')),\n",
    "                ctypes.c_char_p(chnl_name.encode('ascii')))\n",
    "\n",
    "        edge_detector_task.timing.cfg_implicit_timing(sample_mode=nidaqmx.constants.AcquisitionType.FINITE,\n",
    "                                                      samps_per_chan=N_data_samples_to_acquire)\n",
    "    \n",
    "    if trigger_input:\n",
    "        trigger_channel = f'/{device_name}/{trigger_input}'\n",
    "        print(f'setting up trigger input on {trigger_channel}')\n",
    "        #for counters, we use 'arm-start-trigger' instead of 'start-trigger'. \n",
    "        #the ni documentation is confusing. just eat the fish. \n",
    "        edge_detector_task.triggers.arm_start_trigger.trig_type =  nidaqmx.constants.TriggerType.DIGITAL_EDGE\n",
    "        edge_detector_task.triggers.arm_start_trigger.dig_edge_edge =  nidaqmx.constants.Edge.RISING\n",
    "        edge_detector_task.triggers.arm_start_trigger.dig_edge_src = trigger_channel\n",
    "        \n",
    "        #this does not work. its designed for analog/digital input/output tasks, not counter tasks\n",
    "        #edge_detector_task.triggers.start_trigger.cfg_dig_edge_start_trig(trigger_channel)\n",
    "    \n",
    "\n",
    "    edge_detector_reader = nidaqmx.stream_readers.CounterReader(edge_detector_task.in_stream)\n",
    "    \n",
    "    return clock_task, edge_detector_task, edge_detector_reader\n",
    "\n"
   ]
  },
  {
   "cell_type": "code",
   "execution_count": 9,
   "id": "388fe371-4b44-49bd-956d-6aba9328da24",
   "metadata": {},
   "outputs": [],
   "source": [
    "def run_once(detector_task, detector_reader, clock_rate,  N_samples,  read_write_timeout=10, pulser = None):\n",
    "    \n",
    "    detector_task.wait_until_done() #this doesn't seem to always work\n",
    "    detector_task.start()\n",
    "    time.sleep(0.25)#force a wait for the daq to start up?\n",
    "    data_buffer = np.zeros(N_samples)\n",
    "    \n",
    "    if pulser:\n",
    "        pulser.software_trigger()\n",
    "        time.sleep(  np.max( [float(pulser.system.period()), N_samples / clock_rate]) * 1.1   )\n",
    "    else:\n",
    "        time.sleep(N_samples / clock_rate * 1.1)\n",
    "    \n",
    "    read_samples = detector_reader.read_many_sample_double(\n",
    "                            data_buffer,\n",
    "                            number_of_samples_per_channel=N_samples,\n",
    "                            timeout=read_write_timeout)\n",
    "    detector_task.stop()\n",
    "    try:\n",
    "        assert read_samples == N_samples\n",
    "    except Exception as e:\n",
    "        print(e)\n",
    "        print(f'{read_samples} != {N_samples}')\n",
    "        raise e\n",
    "        \n",
    "    return data_buffer"
   ]
  },
  {
   "cell_type": "code",
   "execution_count": 10,
   "id": "58cde080-f381-4086-beb5-7eded14ca9da",
   "metadata": {},
   "outputs": [],
   "source": [
    "rfsynth = qt3rfsynthcontrol.QT3SynthHD('COM5')"
   ]
  },
  {
   "cell_type": "code",
   "execution_count": 11,
   "id": "604450bd-52e1-43b2-aa48-f82e1733e43a",
   "metadata": {},
   "outputs": [
    {
     "data": {
      "text/plain": [
       "[('model_type', 'WFT SynthHD 1694'),\n",
       " ('serial_number', 1694),\n",
       " ('fw_version', 'Firmware Version 3.23'),\n",
       " ('hw_version', 'Hardware Version 2.06'),\n",
       " ('sub_version', 'HD')]"
      ]
     },
     "execution_count": 11,
     "metadata": {},
     "output_type": "execute_result"
    }
   ],
   "source": [
    "rfsynth.hw_info()"
   ]
  },
  {
   "cell_type": "code",
   "execution_count": 12,
   "id": "f96aaddd-90e8-4c88-9272-ee46c97a4abf",
   "metadata": {},
   "outputs": [
    {
     "data": {
      "text/plain": [
       "[['COM3',\n",
       "  'Intel(R) Active Management Technology - SOL (COM3)',\n",
       "  'PCI\\\\VEN_8086&DEV_43E3&SUBSYS_0A541028&REV_11\\\\3&11583659&1&B3'],\n",
       " ['COM5',\n",
       "  'USB Serial Device (COM5)',\n",
       "  'USB VID:PID=0483:A3E5 SER=206A36705430 LOCATION=1-9:x.0'],\n",
       " ['COM7',\n",
       "  'USB Serial Device (COM7)',\n",
       "  'USB VID:PID=239A:8014 SER=3B0D07C25831555020312E341A3214FF LOCATION=1-10:x.0'],\n",
       " ['COM10',\n",
       "  'USB Serial Device (COM10)',\n",
       "  'USB VID:PID=04D8:000A SER= LOCATION=1-2:x.0']]"
      ]
     },
     "execution_count": 12,
     "metadata": {},
     "output_type": "execute_result"
    }
   ],
   "source": [
    "qcsapphire.discover_devices()"
   ]
  },
  {
   "cell_type": "code",
   "execution_count": 13,
   "id": "63fb38c4-6e9a-4cd8-b289-ae7dc452b6cf",
   "metadata": {},
   "outputs": [],
   "source": [
    "p = qcsapphire.Pulser('COM10')"
   ]
  },
  {
   "cell_type": "code",
   "execution_count": 18,
   "id": "0f4a3ebc-813a-42eb-b1d9-5a1e708306a9",
   "metadata": {},
   "outputs": [
    {
     "data": {
      "text/plain": [
       "'ok'"
      ]
     },
     "execution_count": 18,
     "metadata": {},
     "output_type": "execute_result"
    }
   ],
   "source": [
    "p.channel('B').width(float(p.system.period())*.5)"
   ]
  },
  {
   "cell_type": "code",
   "execution_count": 24,
   "id": "01c1aea6-122e-49f2-899b-b2fd3b963d7b",
   "metadata": {},
   "outputs": [
    {
     "data": {
      "text/plain": [
       "'ok'"
      ]
     },
     "execution_count": 24,
     "metadata": {},
     "output_type": "execute_result"
    }
   ],
   "source": [
    "p.multiplex(['B'], 'D')"
   ]
  },
  {
   "cell_type": "code",
   "execution_count": 15,
   "id": "e9c861d3-c27f-4270-b35d-5537fcd5e5d1",
   "metadata": {},
   "outputs": [],
   "source": [
    "p.set_all_state_off()"
   ]
  },
  {
   "cell_type": "code",
   "execution_count": 51,
   "id": "0d217278-cb0e-4cc6-8793-9352d8397605",
   "metadata": {},
   "outputs": [
    {
     "data": {
      "text/plain": [
       "'ok'"
      ]
     },
     "execution_count": 51,
     "metadata": {},
     "output_type": "execute_result"
    }
   ],
   "source": [
    "## set up for software trigger pulses on channel C\n",
    "daq_pulser_trigger_channel = 'C'\n",
    "p.pulse0.mode('single')\n",
    "p.pulse0.period(0.0001) # 100 mus period\n",
    "p.pulse0.external.mode('trigger') #we then use the software trigger\n",
    "p.channel(daq_pulser_trigger_channel).cmode('normal')\n",
    "p.channel(daq_pulser_trigger_channel).polarity('normal')\n",
    "p.channel(daq_pulser_trigger_channel).width(0.000001) # 1 mus wide pulse\n",
    "p.channel(daq_pulser_trigger_channel).delay(0.000000) \n",
    "p.channel(daq_pulser_trigger_channel).mux(4) \n",
    "\n",
    "p.channel('D').mux(4)\n"
   ]
  },
  {
   "cell_type": "code",
   "execution_count": 15,
   "id": "f9c3e5bd-c4df-46b0-a02e-10058664275b",
   "metadata": {},
   "outputs": [],
   "source": [
    "def run_with_options(freq_low, freq_high, freq_step,\n",
    "                     N_samples_per_step, clock_rate, \n",
    "                     trigger_input, pulser, rfsynth, \n",
    "                     use_new_edge_task, new_clock_task, \n",
    "                     continuous_daq, normalize, rf_power,\n",
    "                     cooling_time = 0):\n",
    "\n",
    "\n",
    "    data = None\n",
    "\n",
    "\n",
    "    try:\n",
    "        daq_time = N_samples_per_step / clock_rate\n",
    "        print(f'acquiring {daq_time} seconds of data per sample')\n",
    "\n",
    "        clock_task, edge_detector_task, edge_detector_reader = configure_tasks(post_fix_task_name = 'v6', \n",
    "                                                                                clock_rate = clock_rate, \n",
    "                                                                                N_data_samples_to_acquire = N_samples_per_step,\n",
    "                                                                                edge_input_channel = 'PFI12',\n",
    "                                                                                clock_counter = 'ctr1',\n",
    "                                                                                trigger_input = trigger_input,\n",
    "                                                                                new_edge_task = use_new_edge_task,\n",
    "                                                                                new_clock_task = new_clock_task,\n",
    "                                                                                continuous_daq = continuous_daq)\n",
    "\n",
    "        if clock_task:\n",
    "            clock_task.start()\n",
    "        \n",
    "        data = {}\n",
    "        \n",
    "        current_freq = freq_low\n",
    "        step = 0\n",
    "\n",
    "        # if pulser:\n",
    "        #     pulser.system.state(1)\n",
    "        #     pulser.channel(daq_pulser_trigger_channel).state(1)\n",
    "\n",
    "        if rfsynth:\n",
    "            rfsynth.rf_off(0)\n",
    "            \n",
    "        while current_freq < freq_high:\n",
    "            if rfsynth:\n",
    "                rfsynth.set_channel_fixed_output(0, rf_power, current_freq)\n",
    "          \n",
    "            if normalize:\n",
    "                normalized_count_rate_pre = run_once(edge_detector_task, edge_detector_reader, clock_rate, N_samples_per_step, read_write_timeout = 10, pulser = pulser)\n",
    "          \n",
    "            if rfsynth:\n",
    "                rfsynth.rf_on(0)\n",
    "                time.sleep(0.025)\n",
    "            data_at_one_freq = run_once(edge_detector_task, edge_detector_reader, clock_rate, N_samples_per_step, read_write_timeout = 10, pulser = pulser)\n",
    "            if rfsynth:\n",
    "                rfsynth.rf_off(0)\n",
    "                time.sleep(0.025)\n",
    "                \n",
    "            if normalize:\n",
    "                normalized_count_rate_post = run_once(edge_detector_task, edge_detector_reader, clock_rate, N_samples_per_step, read_write_timeout = 10, pulser = pulser)\n",
    "                normalized_count_rate = np.mean([normalized_count_rate_pre,normalized_count_rate_post])\n",
    "                data[current_freq] = data_at_one_freq.mean() / normalized_count_rate\n",
    "            else:\n",
    "                data[current_freq] = data_at_one_freq.mean() * clock_rate\n",
    "                \n",
    "            if step % 10 == 0:\n",
    "                if normalize:\n",
    "                    print(f'{current_freq/1e9} GHz: {data[current_freq]} normalized intensity')\n",
    "                else:\n",
    "                    print(f'{current_freq/1e9} GHz: {data[current_freq]} mean counts/second')\n",
    "            current_freq += freq_step\n",
    "            step += 1\n",
    "            \n",
    "            time.sleep(cooling_time)\n",
    "            \n",
    "    except Exception as e:\n",
    "        print(e)\n",
    "        raise(e)\n",
    "\n",
    "    finally:\n",
    "\n",
    "        try:\n",
    "            if rfsynth:\n",
    "                rfsynth.rf_off(0)\n",
    "            # if pulser:\n",
    "            #     pulser.system.state(0)\n",
    "            #     pulser.channel(daq_pulser_trigger_channel).state(0)\n",
    "        except Exception as e:\n",
    "            print(e)\n",
    "\n",
    "        try:\n",
    "            if clock_task:\n",
    "                clock_task.stop()\n",
    "        except Exception as e:\n",
    "            print(e)\n",
    "\n",
    "        try:\n",
    "            if clock_task:\n",
    "                clock_task.close()\n",
    "        except Exception as e:\n",
    "            print(e)\n",
    "\n",
    "        try:\n",
    "            if edge_detector_task:\n",
    "                edge_detector_task.close()\n",
    "        except Exception as e:\n",
    "            print(e)\n",
    "            \n",
    "        return data"
   ]
  },
  {
   "cell_type": "code",
   "execution_count": 16,
   "id": "f2c10a55-7531-43fb-9702-4735249ed4ac",
   "metadata": {
    "tags": []
   },
   "outputs": [],
   "source": [
    "rfsynth.set_channel_fixed_output(0, -10, 2870e6)\n",
    "rfsynth.rf_off(0)"
   ]
  },
  {
   "cell_type": "code",
   "execution_count": 39,
   "id": "805b3856-83b1-4ee4-a2cd-083288a05902",
   "metadata": {},
   "outputs": [
    {
     "name": "stdout",
     "output_type": "stream",
     "text": [
      "acquiring 0.25 seconds of data per sample\n",
      "2.85 GHz: 1.0055098413296022 normalized intensity\n",
      "2.86 GHz: 0.9920718519015409 normalized intensity\n",
      "2.87 GHz: 0.9739847646388069 normalized intensity\n",
      "2.88 GHz: 0.9995510702485275 normalized intensity\n",
      "2.89 GHz: 0.9983526769000373 normalized intensity\n"
     ]
    },
    {
     "data": {
      "text/plain": [
       "[<matplotlib.lines.Line2D at 0x2cacd8745b0>]"
      ]
     },
     "execution_count": 39,
     "metadata": {},
     "output_type": "execute_result"
    },
    {
     "data": {
      "image/png": "[encoded data removed]",
      "text/plain": [
       "<Figure size 432x288 with 1 Axes>"
      ]
     },
     "metadata": {
      "needs_background": "light"
     },
     "output_type": "display_data"
    }
   ],
   "source": [
    "#now hardware is set up in podmr with AOM held open -- green laser power is significantly smaller than before\n",
    "\n",
    "freq_low = 2850e6\n",
    "freq_high = 2900e6\n",
    "freq_step = 1e6\n",
    "N = 50\n",
    "clock_rate = 200 #Hz\n",
    "trigger_input = None\n",
    "pulser = None\n",
    "rf = rfsynth\n",
    "use_new_edge_task = False\n",
    "new_clock_task = True\n",
    "continuous_daq = False\n",
    "normalize = True\n",
    "rf_power = -15\n",
    "\n",
    "\n",
    "data_qudi_style = run_with_options(freq_low, freq_high, freq_step,  N, clock_rate, \n",
    "                                   trigger_input, pulser, rf, use_new_edge_task, \n",
    "                                   new_clock_task, continuous_daq, normalize, rf_power)\n",
    "    \n",
    "    \n",
    "plt.plot(data_qudi_style.keys(), data_qudi_style.values())"
   ]
  },
  {
   "cell_type": "code",
   "execution_count": 17,
   "id": "f2ac3e85-c3fc-4beb-b022-eab79c38d653",
   "metadata": {},
   "outputs": [
    {
     "name": "stdout",
     "output_type": "stream",
     "text": [
      "acquiring 0.25 seconds of data per sample\n",
      "2.85 GHz: 0.996290456190324 normalized intensity\n",
      "2.86 GHz: 0.9988674725430043 normalized intensity\n",
      "2.87 GHz: 0.966534057848089 normalized intensity\n",
      "2.88 GHz: 1.0041691330687887 normalized intensity\n",
      "2.89 GHz: 0.9930750446477384 normalized intensity\n"
     ]
    },
    {
     "data": {
      "text/plain": [
       "[<matplotlib.lines.Line2D at 0x2a32184deb0>]"
      ]
     },
     "execution_count": 17,
     "metadata": {},
     "output_type": "execute_result"
    },
    {
     "data": {
      "image/png": "[encoded data removed]",
      "text/plain": [
       "<Figure size 432x288 with 1 Axes>"
      ]
     },
     "metadata": {
      "needs_background": "light"
     },
     "output_type": "display_data"
    }
   ],
   "source": [
    "#now hardware is set up in podmr with AOM held open -- green laser power is significantly smaller than before\n",
    "\n",
    "freq_low = 2850e6\n",
    "freq_high = 2900e6\n",
    "freq_step = 1e6\n",
    "N = 50\n",
    "clock_rate = 200 #Hz\n",
    "trigger_input = None\n",
    "pulser = None\n",
    "rf = rfsynth\n",
    "use_new_edge_task = False\n",
    "new_clock_task = True\n",
    "continuous_daq = False\n",
    "normalize = True\n",
    "rf_power = -15\n",
    "\n",
    "\n",
    "data_qudi_style = run_with_options(freq_low, freq_high, freq_step,  N, clock_rate, \n",
    "                                   trigger_input, pulser, rf, use_new_edge_task, \n",
    "                                   new_clock_task, continuous_daq, normalize, rf_power)\n",
    "    \n",
    "    \n",
    "plt.plot(data_qudi_style.keys(), data_qudi_style.values())"
   ]
  },
  {
   "cell_type": "code",
   "execution_count": 19,
   "id": "3b6ee4ab-fa42-4dd7-bc83-21bd520c789c",
   "metadata": {},
   "outputs": [
    {
     "name": "stdout",
     "output_type": "stream",
     "text": [
      "acquiring 0.25 seconds of data per sample\n",
      "2.85 GHz: 1.0061258896756613 normalized intensity\n",
      "2.86 GHz: 0.9951639412967342 normalized intensity\n",
      "2.87 GHz: 0.9642694005988935 normalized intensity\n",
      "2.88 GHz: 0.9996516765358315 normalized intensity\n",
      "2.89 GHz: 1.0019184660983265 normalized intensity\n"
     ]
    },
    {
     "data": {
      "text/plain": [
       "[<matplotlib.lines.Line2D at 0x2a322014220>]"
      ]
     },
     "execution_count": 19,
     "metadata": {},
     "output_type": "execute_result"
    },
    {
     "data": {
      "image/png": "[encoded data removed]",
      "text/plain": [
       "<Figure size 432x288 with 1 Axes>"
      ]
     },
     "metadata": {
      "needs_background": "light"
     },
     "output_type": "display_data"
    }
   ],
   "source": [
    "#now hardware is set up in podmr with AOM held open -- green laser power is significantly smaller than before\n",
    "\n",
    "freq_low = 2850e6\n",
    "freq_high = 2900e6\n",
    "freq_step = 1e6\n",
    "N = 50\n",
    "clock_rate = 200 #Hz\n",
    "trigger_input = None\n",
    "pulser = None\n",
    "rf = rfsynth\n",
    "use_new_edge_task = False\n",
    "new_clock_task = True\n",
    "continuous_daq = False\n",
    "normalize = True\n",
    "rf_power = -15\n",
    "\n",
    "\n",
    "data_qudi_style = run_with_options(freq_low, freq_high, freq_step,  N, clock_rate, \n",
    "                                   trigger_input, pulser, rf, use_new_edge_task, \n",
    "                                   new_clock_task, continuous_daq, normalize, rf_power)\n",
    "    \n",
    "    \n",
    "plt.plot(data_qudi_style.keys(), data_qudi_style.values())"
   ]
  },
  {
   "cell_type": "code",
   "execution_count": 29,
   "id": "2104fe25-81be-4050-83a8-98c5fd6d5b25",
   "metadata": {},
   "outputs": [
    {
     "name": "stdout",
     "output_type": "stream",
     "text": [
      "acquiring 0.25 seconds of data per sample\n",
      "setting up trigger input on /Dev1/PFI0\n",
      "2.85 GHz: 1.0032015643571948 normalized intensity\n",
      "2.86 GHz: 0.9859530244775211 normalized intensity\n",
      "2.87 GHz: 0.9604577461396935 normalized intensity\n",
      "2.88 GHz: 0.9916160295361895 normalized intensity\n",
      "2.89 GHz: 0.9982371470681733 normalized intensity\n"
     ]
    },
    {
     "data": {
      "text/plain": [
       "[<matplotlib.lines.Line2D at 0x23888733ac0>]"
      ]
     },
     "execution_count": 29,
     "metadata": {},
     "output_type": "execute_result"
    },
    {
     "data": {
      "image/png": "[encoded data removed]",
      "text/plain": [
       "<Figure size 432x288 with 1 Axes>"
      ]
     },
     "metadata": {
      "needs_background": "light"
     },
     "output_type": "display_data"
    }
   ],
   "source": [
    "#now hardware is set up in podmr with AOM held open -- green laser power is significantly smaller than before\n",
    "\n",
    "#using the pulser\n",
    "freq_low = 2850e6\n",
    "freq_high = 2900e6\n",
    "freq_step = 1e6\n",
    "N = 50\n",
    "clock_rate = 200 #Hz\n",
    "trigger_input = 'PFI0'\n",
    "pulser = p\n",
    "rf = rfsynth\n",
    "use_new_edge_task = False\n",
    "new_clock_task = True\n",
    "continuous_daq = False\n",
    "normalize = True\n",
    "rf_power = -25\n",
    "\n",
    "p.system.state(1)\n",
    "p.channel(daq_pulser_trigger_channel).state(1)\n",
    "p.channel('D').state(1)\n",
    "    \n",
    "data_qudi_style = run_with_options(freq_low, freq_high, freq_step,  N, clock_rate, \n",
    "                                   trigger_input, pulser, rf, use_new_edge_task, \n",
    "                                   new_clock_task, continuous_daq, normalize, rf_power)\n",
    "\n",
    "pulser.system.state(0)\n",
    "    \n",
    "plt.plot(data_qudi_style.keys(), data_qudi_style.values())"
   ]
  },
  {
   "cell_type": "code",
   "execution_count": 60,
   "id": "a2992b24-e2d8-43e0-8dcc-911cb9f62f15",
   "metadata": {},
   "outputs": [
    {
     "name": "stdout",
     "output_type": "stream",
     "text": [
      "acquiring 0.25 seconds of data per sample\n",
      "setting up trigger input on /Dev1/PFI0\n",
      "fake trigger\n",
      "Some or all of the samples requested have not yet been acquired.\n",
      "To wait for the samples to become available use a longer read timeout or read later in your program. To make the samples available sooner, increase the sample rate. If your task uses a start trigger,  make sure that your start trigger is configured correctly. It is also possible that you configured the task for external timing, and no clock was supplied. If this is the case, supply an external clock.\n",
      "Property: DAQmx_Read_RelativeTo\n",
      "Requested Value: DAQmx_Val_CurrReadPos\n",
      "\n",
      "Property: DAQmx_Read_Offset\n",
      "Requested Value: 0\n",
      "\n",
      "Task Name: edge_inputv162\n",
      "\n",
      "Status Code: -200284\n"
     ]
    },
    {
     "data": {
      "text/plain": [
       "[<matplotlib.lines.Line2D at 0x1780b74c5b0>]"
      ]
     },
     "execution_count": 60,
     "metadata": {},
     "output_type": "execute_result"
    },
    {
     "data": {
      "image/png": "[encoded data removed]",
      "text/plain": [
       "<Figure size 432x288 with 1 Axes>"
      ]
     },
     "metadata": {
      "needs_background": "light"
     },
     "output_type": "display_data"
    }
   ],
   "source": [
    "#now hardware is set up in podmr with AOM held open -- green laser power is significantly smaller than before\n",
    "\n",
    "#using the pulser\n",
    "\n",
    "class FakePulser:\n",
    "    def software_trigger(self):\n",
    "        print('fake trigger')\n",
    "    \n",
    "freq_low = 2850e6\n",
    "freq_high = 2900e6\n",
    "freq_step = 1e6\n",
    "N = 50\n",
    "clock_rate = 200 #Hz\n",
    "trigger_input = 'PFI0'\n",
    "pulser = FakePulser()\n",
    "rf = rfsynth\n",
    "use_new_edge_task = False\n",
    "new_clock_task = False\n",
    "continuous_daq = False\n",
    "normalize = True\n",
    "rf_power = -20\n",
    "\n",
    "data_qudi_style = run_with_options(freq_low, freq_high, freq_step,  N, clock_rate, \n",
    "                                   trigger_input, pulser, rf, use_new_edge_task, \n",
    "                                   new_clock_task, continuous_daq, normalize, rf_power)\n",
    "plt.plot(data_qudi_style.keys(), data_qudi_style.values())"
   ]
  },
  {
   "cell_type": "code",
   "execution_count": 112,
   "id": "81c68803-d093-47af-9dea-59d583f17e2d",
   "metadata": {},
   "outputs": [
    {
     "name": "stdout",
     "output_type": "stream",
     "text": [
      "acquiring 0.25 seconds of data per sample\n",
      "2.85 GHz: 160032.0 mean counts/second\n",
      "2.86 GHz: 158696.0 mean counts/second\n",
      "2.87 GHz: 151076.0 mean counts/second\n",
      "2.88 GHz: 159348.0 mean counts/second\n",
      "2.89 GHz: 159827.99999999997 mean counts/second\n",
      "acquiring 0.25 seconds of data per sample\n",
      "2.85 GHz: 159500.0 mean counts/second\n",
      "2.86 GHz: 157872.0 mean counts/second\n",
      "2.87 GHz: 152436.0 mean counts/second\n",
      "2.88 GHz: 157759.99999999997 mean counts/second\n",
      "2.89 GHz: 158412.0 mean counts/second\n"
     ]
    }
   ],
   "source": [
    "#now hardware is set up in podmr with AOM held open -- green laser power is significantly smaller than before\n",
    "\n",
    "#what happens when the readout is tiny? \n",
    "\n",
    "\n",
    "#using the pulser\n",
    "freq_low = 2850e6\n",
    "freq_high = 2900e6\n",
    "freq_step = 1e6\n",
    "N = 2500000\n",
    "clock_rate = int(10e6) #1 MHz\n",
    "trigger_input = None\n",
    "pulser = None\n",
    "rf = rfsynth\n",
    "use_new_edge_task = False\n",
    "new_clock_task = True\n",
    "continuous_daq = False\n",
    "normalize = False\n",
    "rf_power = -25\n",
    "\n",
    "\n",
    "#print(f'waiting: {np.max( [float(pulser.system.period()), N / clock_rate])} after every trigger')\n",
    "\n",
    "#pulser.system.state(1)\n",
    "data = []\n",
    "for i in range(2):\n",
    "    _d = run_with_options(freq_low, freq_high, freq_step,  N, clock_rate, \n",
    "                                   trigger_input, pulser, rf, use_new_edge_task, \n",
    "                                   new_clock_task, continuous_daq, normalize, rf_power)\n",
    "    data.append(_d)\n",
    "#pulser.system.state(0)\n",
    "freq = list(data[0].keys())\n",
    "summed_data = {f:np.mean([scan[f] for scan in data]) for f in freq}\n"
   ]
  },
  {
   "cell_type": "code",
   "execution_count": 113,
   "id": "4764d366-0dd6-42e4-8521-2edbdadc5f74",
   "metadata": {},
   "outputs": [
    {
     "data": {
      "text/plain": [
       "[<matplotlib.lines.Line2D at 0x2388dbb0400>]"
      ]
     },
     "execution_count": 113,
     "metadata": {},
     "output_type": "execute_result"
    },
    {
     "data": {
      "image/png": "[encoded data removed]",
      "text/plain": [
       "<Figure size 432x288 with 1 Axes>"
      ]
     },
     "metadata": {
      "needs_background": "light"
     },
     "output_type": "display_data"
    }
   ],
   "source": [
    "plt.plot(summed_data.keys(), summed_data.values())"
   ]
  },
  {
   "cell_type": "code",
   "execution_count": 66,
   "id": "3f2c19da-f4ec-4dad-ba80-050c3c626352",
   "metadata": {},
   "outputs": [
    {
     "name": "stdout",
     "output_type": "stream",
     "text": [
      "waiting: 0.25 after every trigger\n",
      "acquiring 0.25 seconds of data per sample\n",
      "setting up trigger input on /Dev1/PFI0\n",
      "2.85 GHz: 45377.0 mean counts/second\n",
      "2.86 GHz: 44960.0 mean counts/second\n",
      "2.87 GHz: 43173.0 mean counts/second\n",
      "2.88 GHz: 45111.0 mean counts/second\n",
      "2.89 GHz: 44802.0 mean counts/second\n"
     ]
    },
    {
     "data": {
      "text/plain": [
       "[<matplotlib.lines.Line2D at 0x2388be295e0>]"
      ]
     },
     "execution_count": 66,
     "metadata": {},
     "output_type": "execute_result"
    },
    {
     "data": {
      "image/png": "[encoded data removed]",
      "text/plain": [
       "<Figure size 432x288 with 1 Axes>"
      ]
     },
     "metadata": {
      "needs_background": "light"
     },
     "output_type": "display_data"
    }
   ],
   "source": [
    "#now hardware is set up in podmr with AOM held open -- green laser power is significantly smaller than before\n",
    "\n",
    "#what happens when the readout is tiny? 10 samples of 1 microsecond each \n",
    "\n",
    "\n",
    "#using the pulser\n",
    "freq_low = 2850e6\n",
    "freq_high = 2900e6\n",
    "freq_step = 1e6\n",
    "N = 250000\n",
    "clock_rate = int(1e6) #1 MHz\n",
    "trigger_input = 'PFI0'\n",
    "pulser = p\n",
    "rf = rfsynth\n",
    "use_new_edge_task = False\n",
    "new_clock_task = True\n",
    "continuous_daq = False\n",
    "normalize = False\n",
    "rf_power = -25\n",
    "\n",
    "\n",
    "print(f'waiting: {np.max( [float(pulser.system.period()), N / clock_rate])} after every trigger')\n",
    "\n",
    "pulser.system.state(1)\n",
    "\n",
    "data = run_with_options(freq_low, freq_high, freq_step,  N, clock_rate, \n",
    "                                   trigger_input, pulser, rf, use_new_edge_task, \n",
    "                                   new_clock_task, continuous_daq, normalize, rf_power)\n",
    "\n",
    "pulser.system.state(0)\n",
    "    \n",
    "plt.plot(data.keys(), data.values())"
   ]
  },
  {
   "cell_type": "code",
   "execution_count": null,
   "id": "108c451a-e2f2-4f38-aa37-ec6821c80b1b",
   "metadata": {},
   "outputs": [],
   "source": []
  },
  {
   "cell_type": "code",
   "execution_count": null,
   "id": "c979579e-cc75-404c-9509-ef64bbdbc574",
   "metadata": {},
   "outputs": [],
   "source": []
  }
 ],
 "metadata": {
  "kernelspec": {
   "display_name": "Python 3 (ipykernel)",
   "language": "python",
   "name": "python3"
  },
  "language_info": {
   "codemirror_mode": {
    "name": "ipython",
    "version": 3
   },
   "file_extension": ".py",
   "mimetype": "text/x-python",
   "name": "python",
   "nbconvert_exporter": "python",
   "pygments_lexer": "ipython3",
   "version": "3.9.12"
  }
 },
 "nbformat": 4,
 "nbformat_minor": 5
}
