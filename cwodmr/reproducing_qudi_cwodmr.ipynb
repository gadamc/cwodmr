{
 "cells": [
  {
   "cell_type": "code",
   "execution_count": 1,
   "id": "00f570d5-e5a4-4afb-aa88-50f53a55fce2",
   "metadata": {},
   "outputs": [],
   "source": [
    "import nidaqmx as ni"
   ]
  },
  {
   "cell_type": "code",
   "execution_count": 2,
   "id": "770e5c69-301e-427d-a240-09d09836e2b2",
   "metadata": {},
   "outputs": [],
   "source": [
    "# initialize data arrays to hold results"
   ]
  },
  {
   "cell_type": "code",
   "execution_count": 93,
   "id": "be68a097-fde4-42ac-b605-533e319c9b29",
   "metadata": {},
   "outputs": [
    {
     "data": {
      "text/plain": [
       "0"
      ]
     },
     "execution_count": 93,
     "metadata": {},
     "output_type": "execute_result"
    }
   ],
   "source": [
    "import PyDAQmx.DAQmxFunctions as pydaqmxf\n",
    "pydaqmxf.DAQmxResetDevice('Dev1')"
   ]
  },
  {
   "cell_type": "code",
   "execution_count": 4,
   "id": "5760b615-c749-4ad8-b67f-d66eb8cbeed1",
   "metadata": {},
   "outputs": [],
   "source": [
    "import numpy as np"
   ]
  },
  {
   "cell_type": "code",
   "execution_count": 5,
   "id": "3f5ba061-af6b-4dae-b09b-0803160ac74b",
   "metadata": {},
   "outputs": [],
   "source": [
    "scan_frequency_ranges = [(2820e6, 2920e6, 101)] #change to start freq, stop freq and N step\n",
    "#scan_frequency_ranges = [(30e6, 40e6, 1000)] #change to start freq, stop freq and N step"
   ]
  },
  {
   "cell_type": "code",
   "execution_count": 6,
   "id": "a64fb40b-602a-44a4-8187-6f63b7e17a11",
   "metadata": {},
   "outputs": [],
   "source": [
    "frequency_data = [np.linspace(*r) for r in scan_frequency_ranges]"
   ]
  },
  {
   "cell_type": "code",
   "execution_count": 7,
   "id": "b72ff6a3-28d6-4765-95a3-ffb1bf3e7b02",
   "metadata": {},
   "outputs": [],
   "source": [
    "#rename to samples per sweep? \n",
    "\n",
    "samples_per_line = sum(freq_range[-1] for freq_range in scan_frequency_ranges)"
   ]
  },
  {
   "cell_type": "code",
   "execution_count": 8,
   "id": "4c8184a1-4df2-4e72-a94e-69a12a4b9784",
   "metadata": {},
   "outputs": [
    {
     "data": {
      "text/plain": [
       "101"
      ]
     },
     "execution_count": 8,
     "metadata": {},
     "output_type": "execute_result"
    }
   ],
   "source": [
    "samples_per_line"
   ]
  },
  {
   "cell_type": "code",
   "execution_count": 9,
   "id": "47fc6697-7166-4fb8-a472-6fd49058ce14",
   "metadata": {},
   "outputs": [],
   "source": [
    "run_time = 60\n",
    "data_rate = 200  #200 samples/sec?\n",
    "estimated_samples = run_time * data_rate"
   ]
  },
  {
   "cell_type": "code",
   "execution_count": 10,
   "id": "6fda7377-128b-4681-b3ea-c2189639b801",
   "metadata": {},
   "outputs": [
    {
     "data": {
      "text/plain": [
       "12000"
      ]
     },
     "execution_count": 10,
     "metadata": {},
     "output_type": "execute_result"
    }
   ],
   "source": [
    "estimated_samples"
   ]
  },
  {
   "cell_type": "code",
   "execution_count": 11,
   "id": "b3e67369-5a4d-4614-96f5-02a074277bb5",
   "metadata": {},
   "outputs": [],
   "source": [
    "estimated_lines = max(1, int(1.05 * estimated_samples / samples_per_line)) #qudi adds a 5% buffer"
   ]
  },
  {
   "cell_type": "code",
   "execution_count": 12,
   "id": "0cc44055-3eb4-485a-bfd0-a9e9bc7af21b",
   "metadata": {},
   "outputs": [
    {
     "data": {
      "text/plain": [
       "124"
      ]
     },
     "execution_count": 12,
     "metadata": {},
     "output_type": "execute_result"
    }
   ],
   "source": [
    "estimated_lines #change to number of sweeps?"
   ]
  },
  {
   "cell_type": "code",
   "execution_count": 13,
   "id": "2f2cb2dc-89ff-47a6-b3e1-0563b07552bb",
   "metadata": {},
   "outputs": [],
   "source": [
    "raw_data = dict()\n",
    "fit_results = dict()\n",
    "signal_data = dict()"
   ]
  },
  {
   "cell_type": "code",
   "execution_count": 14,
   "id": "e3afe5bc-622e-46fb-b56e-694fdc903bdf",
   "metadata": {},
   "outputs": [],
   "source": [
    "raw_data['PFI0'] =  [\n",
    "                np.full((freq_arr.size, estimated_lines), np.nan) for freq_arr in\n",
    "                frequency_data\n",
    "            ]\n"
   ]
  },
  {
   "cell_type": "code",
   "execution_count": 15,
   "id": "03b373e1-1552-4d90-870b-c93b970661f8",
   "metadata": {},
   "outputs": [
    {
     "data": {
      "text/plain": [
       "(101, 124)"
      ]
     },
     "execution_count": 15,
     "metadata": {},
     "output_type": "execute_result"
    }
   ],
   "source": [
    "raw_data['PFI0'][0].shape"
   ]
  },
  {
   "cell_type": "code",
   "execution_count": 16,
   "id": "580c398c-23a9-4839-8a7a-7d75bc995d54",
   "metadata": {},
   "outputs": [],
   "source": [
    "# initialize the DAQ -- reproducing qudi"
   ]
  },
  {
   "cell_type": "code",
   "execution_count": 17,
   "id": "96b970c8-0686-4415-8d62-ca9352920320",
   "metadata": {},
   "outputs": [],
   "source": [
    "oversampling_factor = 1.0 #not sure why this is in qudi\n",
    "sample_rate = oversampling_factor * data_rate"
   ]
  },
  {
   "cell_type": "code",
   "execution_count": 18,
   "id": "a69e0387-e024-40b0-92f0-7b3e94116dac",
   "metadata": {},
   "outputs": [],
   "source": [
    "frequencies = scan_frequency_ranges[0]"
   ]
  },
  {
   "cell_type": "code",
   "execution_count": 19,
   "id": "a94cade9-ad9f-457e-94d3-41a6ddf098e7",
   "metadata": {},
   "outputs": [],
   "source": [
    "samples = frequencies[-1]"
   ]
  },
  {
   "cell_type": "code",
   "execution_count": 91,
   "id": "2390644c-4d16-46f8-ab4f-ee2f29266c28",
   "metadata": {},
   "outputs": [],
   "source": [
    "mw_source.close()"
   ]
  },
  {
   "cell_type": "code",
   "execution_count": 20,
   "id": "bf7394a3-20e7-4b36-b1fb-7ba17365d400",
   "metadata": {},
   "outputs": [],
   "source": [
    "import windfreak\n",
    "mw_source = windfreak.SynthHD('COM5')\n",
    "mw_direct_device = mw_source \n"
   ]
  },
  {
   "cell_type": "code",
   "execution_count": 21,
   "id": "ee1c9ffa-a35d-4802-8f22-26dd2a602eeb",
   "metadata": {},
   "outputs": [],
   "source": [
    "# mw_source.trigger_mode"
   ]
  },
  {
   "cell_type": "code",
   "execution_count": 22,
   "id": "91e9396d-2f5f-48b6-af10-46a99059049b",
   "metadata": {},
   "outputs": [],
   "source": [
    "# mw_source[0].sweep_enable = False"
   ]
  },
  {
   "cell_type": "code",
   "execution_count": 23,
   "id": "37566357-6161-48c6-b19a-53560480b029",
   "metadata": {},
   "outputs": [],
   "source": [
    "# mw_source[0].power = -5.0\n",
    "# mw_source[0].frequency = 30e6"
   ]
  },
  {
   "cell_type": "code",
   "execution_count": 24,
   "id": "82ba586d-6a25-433b-bb14-1f27ba2a3665",
   "metadata": {},
   "outputs": [],
   "source": [
    "# mw_source[0].frequency"
   ]
  },
  {
   "cell_type": "code",
   "execution_count": 25,
   "id": "b53366be-4215-498c-be58-5b101575bf5f",
   "metadata": {},
   "outputs": [],
   "source": [
    "#turn MW source off\n",
    "mw_direct_device._write('E0r0h0')"
   ]
  },
  {
   "cell_type": "code",
   "execution_count": 26,
   "id": "3f287e8e-29bc-4023-a468-df6b0f01aa1f",
   "metadata": {},
   "outputs": [],
   "source": [
    "# mw_direct_device._read()"
   ]
  },
  {
   "cell_type": "code",
   "execution_count": 27,
   "id": "336514e0-02be-4721-9b48-fa0e742c2c5d",
   "metadata": {},
   "outputs": [],
   "source": [
    "#turn MW source on\n",
    "# mw_direct_device._write('E1r1h1')"
   ]
  },
  {
   "cell_type": "code",
   "execution_count": 28,
   "id": "cc4cb1e6-9b55-4f60-9c5e-f3969e8fe180",
   "metadata": {},
   "outputs": [],
   "source": [
    "# mw_source.close()"
   ]
  },
  {
   "cell_type": "code",
   "execution_count": 94,
   "id": "c471a387-c847-4b09-8a0a-1b7ba8d4f085",
   "metadata": {},
   "outputs": [
    {
     "ename": "AttributeError",
     "evalue": "'NoneType' object has no attribute 'write'",
     "output_type": "error",
     "traceback": [
      "\u001b[1;31m---------------------------------------------------------------------------\u001b[0m",
      "\u001b[1;31mAttributeError\u001b[0m                            Traceback (most recent call last)",
      "Input \u001b[1;32mIn [94]\u001b[0m, in \u001b[0;36m<cell line: 2>\u001b[1;34m()\u001b[0m\n\u001b[0;32m      1\u001b[0m \u001b[38;5;66;03m# trigger mode: single step\u001b[39;00m\n\u001b[1;32m----> 2\u001b[0m \u001b[43mmw_direct_device\u001b[49m\u001b[38;5;241;43m.\u001b[39;49m\u001b[43m_write\u001b[49m\u001b[43m(\u001b[49m\u001b[38;5;124;43m'\u001b[39;49m\u001b[38;5;124;43mw0\u001b[39;49m\u001b[38;5;124;43m'\u001b[39;49m\u001b[43m)\u001b[49m\n",
      "File \u001b[1;32m~\\anaconda3\\envs\\qdl-dev\\lib\\site-packages\\windfreak\\device.py:52\u001b[0m, in \u001b[0;36mSerialDevice._write\u001b[1;34m(self, data)\u001b[0m\n\u001b[0;32m     46\u001b[0m \u001b[38;5;28;01mdef\u001b[39;00m \u001b[38;5;21m_write\u001b[39m(\u001b[38;5;28mself\u001b[39m, data):\n\u001b[0;32m     47\u001b[0m     \u001b[38;5;124;03m\"\"\"Write to device.\u001b[39;00m\n\u001b[0;32m     48\u001b[0m \n\u001b[0;32m     49\u001b[0m \u001b[38;5;124;03m    Args:\u001b[39;00m\n\u001b[0;32m     50\u001b[0m \u001b[38;5;124;03m        data (str): write data\u001b[39;00m\n\u001b[0;32m     51\u001b[0m \u001b[38;5;124;03m    \"\"\"\u001b[39;00m\n\u001b[1;32m---> 52\u001b[0m     \u001b[38;5;28;43mself\u001b[39;49m\u001b[38;5;241;43m.\u001b[39;49m\u001b[43m_dev\u001b[49m\u001b[38;5;241;43m.\u001b[39;49m\u001b[43mwrite\u001b[49m(data\u001b[38;5;241m.\u001b[39mencode(\u001b[38;5;124m'\u001b[39m\u001b[38;5;124mutf-8\u001b[39m\u001b[38;5;124m'\u001b[39m))\n",
      "\u001b[1;31mAttributeError\u001b[0m: 'NoneType' object has no attribute 'write'"
     ]
    }
   ],
   "source": [
    "# trigger mode: single step\n",
    "mw_direct_device._write('w0')"
   ]
  },
  {
   "cell_type": "code",
   "execution_count": 29,
   "id": "1f960610-815c-494b-a03d-22cfc96aeffb",
   "metadata": {},
   "outputs": [
    {
     "data": {
      "text/plain": [
       "(2820000000.0, 2920000000.0, 101)"
      ]
     },
     "execution_count": 29,
     "metadata": {},
     "output_type": "execute_result"
    }
   ],
   "source": [
    "frequencies"
   ]
  },
  {
   "cell_type": "code",
   "execution_count": 30,
   "id": "80747b7c-5cb1-43b4-9b60-64ca9c512e11",
   "metadata": {},
   "outputs": [
    {
     "name": "stdout",
     "output_type": "stream",
     "text": [
      "Configured scan with: scan_power = -5.0, len(scan_frequencies) = 3, scan_sample_rate = 0.00375\n"
     ]
    }
   ],
   "source": [
    "# configures the MW source\n",
    "scan_power = -5.0\n",
    "\n",
    "# qudi_odmr_logic calls mw.configure_scan(power, frequencies, mode, sample_rate),\n",
    "#which then calls\n",
    "# mw._write_sweep, which is reproduced here\n",
    "#start, stop, points = self._scan_frequencies\n",
    "start, stop, points = frequencies\n",
    "\n",
    "step = (stop - start) / (points - 1)\n",
    "\n",
    "# sweep mode: linear sweep, non-continuous\n",
    "# can later transform this into more readable windfreak calls\n",
    "mw_direct_device._write('X0')\n",
    "mw_direct_device._write('c0')\n",
    "\n",
    "# trigger mode: single step\n",
    "mw_direct_device._write('w2')\n",
    "\n",
    "# sweep direction\n",
    "if stop >= start:\n",
    "    mw_direct_device._write('^1')\n",
    "else:\n",
    "    mw_direct_device._write('^0')\n",
    "\n",
    "# sweep lower and upper frequency and steps\n",
    "mw_direct_device._write(f'l{start / 1e6:5.7f}')\n",
    "mw_direct_device._write(f'u{stop / 1e6:5.7f}')\n",
    "mw_direct_device._write(f's{step / 1e6:5.7f}')\n",
    "\n",
    "# set power\n",
    "mw_direct_device._write(f'W{scan_power:2.3f}')\n",
    "# set sweep lower end power\n",
    "mw_direct_device._write(f'[{scan_power:2.3f}')\n",
    "# set sweep upper end power\n",
    "mw_direct_device._write(f']{scan_power:2.3f}')\n",
    "\n",
    "#after _write_sweep, configure_sweep continues\n",
    "mw_direct_device._write(f't{1000 * 0.75 / sample_rate:f}') \n",
    "scan_sample_rate = float(mw_direct_device._query('t?')) / 1000\n",
    "\n",
    "print(f'Configured scan with: '\n",
    "               f'scan_power = {scan_power}, '\n",
    "               f'len(scan_frequencies) = {len(frequencies)}, '\n",
    "               f'scan_sample_rate = {scan_sample_rate}')"
   ]
  },
  {
   "cell_type": "code",
   "execution_count": 31,
   "id": "0a7588d7-cc1b-4240-82af-c21c886347df",
   "metadata": {},
   "outputs": [
    {
     "data": {
      "text/plain": [
       "(2820000000.0, 2920000000.0, 101)"
      ]
     },
     "execution_count": 31,
     "metadata": {},
     "output_type": "execute_result"
    }
   ],
   "source": [
    "frequencies"
   ]
  },
  {
   "cell_type": "code",
   "execution_count": 32,
   "id": "c272922f-2661-4b04-82f3-f1628ea0cb78",
   "metadata": {},
   "outputs": [],
   "source": [
    "#start scan\n",
    "mw_direct_device._write('g1')"
   ]
  },
  {
   "cell_type": "code",
   "execution_count": 33,
   "id": "dcb8bf89-2d69-464c-960e-3f62b9c0d200",
   "metadata": {},
   "outputs": [],
   "source": [
    "def stat(a_mw_device):\n",
    "    \"\"\" Return status of PLL, power amplifier and output power muting for current channel.\n",
    "\n",
    "    @return tuple(bool): PLL on, power amplifier on, output power muting on\n",
    "    \"\"\"\n",
    "    # PLL status\n",
    "    E = int(a_mw_device._query('E?'))\n",
    "    # power amplifier status\n",
    "    r = int(a_mw_device._query('r?'))\n",
    "    # hig/low power selector\n",
    "    h = int(a_mw_device._query('h?'))\n",
    "    return E, r, h"
   ]
  },
  {
   "cell_type": "code",
   "execution_count": 34,
   "id": "08417b91-fbc4-4933-aba6-6e3a5b80a356",
   "metadata": {},
   "outputs": [
    {
     "data": {
      "text/plain": [
       "(0, 0, 0)"
      ]
     },
     "execution_count": 34,
     "metadata": {},
     "output_type": "execute_result"
    }
   ],
   "source": [
    "stat(mw_direct_device)"
   ]
  },
  {
   "cell_type": "code",
   "execution_count": 82,
   "id": "12b003ca-e314-437f-86b5-c60d9a020ec0",
   "metadata": {},
   "outputs": [],
   "source": [
    "# NI DAQ setup\n",
    "\n",
    "device_name = 'Dev1'\n",
    "channels = ['PFI0']\n",
    "rw_timeout = 10"
   ]
  },
  {
   "cell_type": "code",
   "execution_count": 35,
   "id": "8ac583df-ba41-4489-b4e7-c1a199c63868",
   "metadata": {},
   "outputs": [],
   "source": [
    "device_handle = ni.system.Device(device_name)\n",
    "all_counters = tuple(ctr.split('/')[-1] for ctr in device_handle.co_physical_chans.channel_names if 'ctr' in ctr.lower())"
   ]
  },
  {
   "cell_type": "code",
   "execution_count": 36,
   "id": "f96be382-e249-4aea-8680-168ebe70e4bd",
   "metadata": {},
   "outputs": [],
   "source": [
    "device_handle.reset_device()"
   ]
  },
  {
   "cell_type": "code",
   "execution_count": 37,
   "id": "846a79aa-8e6e-4e0e-baf9-09416ccc6cef",
   "metadata": {},
   "outputs": [],
   "source": [
    "system = ni.system.System.local()"
   ]
  },
  {
   "cell_type": "code",
   "execution_count": 38,
   "id": "e8f07e27-dd43-44ea-a92f-5591d80889a0",
   "metadata": {},
   "outputs": [],
   "source": [
    "#line 527 - daq.set_sample_rate(sample_rate) simply sets a property value of the DAQ software object.\n",
    "#line 528 - daq.set_frame_size(samples) also sets a property value of the DAQ software object\n",
    "\n",
    "# how do we start the NI DAQ card and how do we sync it to the frequency of the RF signal?\n",
    "\n",
    "# qudi executes the _scan_odmr_line repeatedly until the total run time has elapsed\n",
    "# recall that a 'line' here is like a raster-line in signal processing -- it's a single sweep through the full frequency range\n",
    "\n",
    "#_scan_odrm_line\n",
    "  # scanner = self._data_scanner()\n",
    "  # new_counts = scanner.acquire_frame()\n",
    "  # self._microwave().reset_scan() #why reset here when there are still tasks to perform? \n",
    "\n",
    "# scanner.acquire_frame()\n",
    "    # self.start_buffered_acquisition()\n",
    "    # data = self.get_buffered_samples(self._frame_size)\n",
    "    # self.stop_buffered_acquisition()\n",
    "    # return data\n",
    "\n",
    "#scanner.start_buffered_acquisition()\n",
    "#we do not have an external clock, so first a task is created to set up an internal clock\n"
   ]
  },
  {
   "cell_type": "code",
   "execution_count": 40,
   "id": "9c542a7b-c6d8-46d1-a15d-882f5a482779",
   "metadata": {},
   "outputs": [],
   "source": [
    "# WE MUST KEEP TRACK OF ALL TASK HANDLES\n",
    "# THERE DOESN'T SEEM TO BE ANY WAY OF RETRIEVING THEM LATER\n",
    "# UNCOMMENT BELOW ON FIRST RUN, COMMENT AGAIN TO PROTECT \n",
    "\n",
    "#all_tasks = {}\n"
   ]
  },
  {
   "cell_type": "code",
   "execution_count": 68,
   "id": "ade8f243-74e0-4ef7-a2fe-b566e965fe18",
   "metadata": {},
   "outputs": [
    {
     "name": "stdout",
     "output_type": "stream",
     "text": [
      "created task SampleClock_2454152451312 with counter ctr0\n"
     ]
    }
   ],
   "source": [
    "# the code sets up a sample clock task\n",
    "task = None\n",
    "for counter_name in all_counters:\n",
    "    if task is None:\n",
    "        task_name = 'SampleClock_{0:d}'.format(id(all_counters))\n",
    "        task = ni.Task(task_name)\n",
    "\n",
    "        task.co_channels.add_co_pulse_chan_freq(\n",
    "            '/{0}/{1}'.format(device_name, counter_name),\n",
    "            freq=sample_rate,\n",
    "            idle_state=ni.constants.Level.LOW)\n",
    "        task.timing.cfg_implicit_timing(\n",
    "            sample_mode=ni.constants.AcquisitionType.FINITE,\n",
    "            samps_per_chan=samples + 1)\n",
    "        \n",
    "        #task.control(ni.constants.TaskMode.TASK_RESERVE)\n",
    "        \n",
    "        print(f'created task {task_name} with counter {counter_name}')\n",
    "        all_tasks[task_name] = task\n",
    "                                "
   ]
  },
  {
   "cell_type": "code",
   "execution_count": null,
   "id": "79c69d4a-9b1a-4575-b47f-da151c8b0ad4",
   "metadata": {},
   "outputs": [],
   "source": []
  },
  {
   "cell_type": "code",
   "execution_count": 127,
   "id": "a3468cb5-3c89-4b78-9850-56f20f80f538",
   "metadata": {},
   "outputs": [
    {
     "data": {
      "text/plain": [
       "{'SampleClock_3054461194304': Task(name=SampleClock_3054461194304)}"
      ]
     },
     "execution_count": 127,
     "metadata": {},
     "output_type": "execute_result"
    }
   ],
   "source": [
    "# for task_name, task in all_tasks.items():\n",
    "#     task.stop()"
   ]
  },
  {
   "cell_type": "code",
   "execution_count": 42,
   "id": "0de41d33-3fa2-4371-a6a8-ea3dec63181b",
   "metadata": {},
   "outputs": [],
   "source": [
    "# we now set up tasks for each of the channels. Here we only use the digital channel pfi0\n",
    "\n",
    "digital_channels = ['PFI0']"
   ]
  },
  {
   "cell_type": "code",
   "execution_count": 69,
   "id": "89d7dd00-eb9f-4c2e-85a2-b8e6617a767a",
   "metadata": {},
   "outputs": [
    {
     "data": {
      "text/plain": [
       "{'SampleClock_2454152451312': Task(name=SampleClock_2454152451312)}"
      ]
     },
     "execution_count": 69,
     "metadata": {},
     "output_type": "execute_result"
    }
   ],
   "source": [
    "all_tasks"
   ]
  },
  {
   "cell_type": "code",
   "execution_count": 70,
   "id": "ed0812c5-eb86-4b13-a2f3-2bd2347e432a",
   "metadata": {},
   "outputs": [
    {
     "data": {
      "text/plain": [
       "['Dev1/ctr0']"
      ]
     },
     "execution_count": 70,
     "metadata": {},
     "output_type": "execute_result"
    }
   ],
   "source": [
    "clock_task_handle = all_tasks['SampleClock_2454152451312']\n",
    "clock_task_handle.channel_names"
   ]
  },
  {
   "cell_type": "code",
   "execution_count": 71,
   "id": "ec88d9bf-090a-4ced-90ae-81adc9f03b39",
   "metadata": {},
   "outputs": [],
   "source": [
    "digital_tasks = {} #keep track of digital_tasks\n",
    "digital_readers =[] #keep track of digital read channels"
   ]
  },
  {
   "cell_type": "code",
   "execution_count": 72,
   "id": "263644ff-0c61-49d4-90a9-daeaf217c067",
   "metadata": {},
   "outputs": [],
   "source": [
    "import ctypes\n",
    "import nidaqmx._lib  # Due to NIDAQmx C-API bug needed to bypass property getter\n",
    "import nidaqmx.stream_readers\n",
    "\n",
    "clock_channel = '/{0}InternalOutput'.format(clock_task_handle.channel_names[0])\n",
    "\n",
    "for i, chnl in enumerate(digital_channels):\n",
    "        chnl_name = '/{0}/{1}'.format(device_name, chnl)\n",
    "        task_name = 'PeriodCounter_{0}'.format(chnl)\n",
    "        task = ni.Task(task_name)\n",
    "        # question -- DOES THE FOLLOWING ALWAYS NEED TO USE THE SAME COUNTER THAT WAS USED FOR THE CLOCK TASK ABOVE?\n",
    "        # it seems that, from reading qudi, this will be the scenario. \n",
    "        # or maybe I need to use the next counter\n",
    "        \n",
    "        ctr_name = '/{0}/{1}'.format(device_name, 'ctr1') #MUST BE DIFFERENT COUNTER FROM ABOVE\n",
    "        #ctr_name = f'/{clock_task_handle.channel_names[0]}'\n",
    "        task.ci_channels.add_ci_period_chan(\n",
    "                        ctr_name,\n",
    "                        min_val=0,\n",
    "                        max_val=100000000,\n",
    "                        units=ni.constants.TimeUnits.TICKS,\n",
    "                        edge=ni.constants.Edge.RISING)\n",
    "        \n",
    "        # following qudi here\n",
    "        try:\n",
    "            nidaqmx._lib.lib_importer.windll.DAQmxSetCIPeriodTerm(\n",
    "                task._handle,\n",
    "                ctypes.c_char_p(ctr_name.encode('ascii')),\n",
    "                ctypes.c_char_p(clock_channel.encode('ascii')))\n",
    "            nidaqmx._lib.lib_importer.windll.DAQmxSetCICtrTimebaseSrc(\n",
    "                task._handle,\n",
    "                ctypes.c_char_p(ctr_name.encode('ascii')),\n",
    "                ctypes.c_char_p(chnl_name.encode('ascii')))\n",
    "        except:\n",
    "            print(\"exception\")\n",
    "            nidaqmx._lib.lib_importer.cdll.DAQmxSetCIPeriodTerm(\n",
    "                task._handle,\n",
    "                ctypes.c_char_p(ctr_name.encode('ascii')),\n",
    "                ctypes.c_char_p(clock_channel.encode('ascii')))\n",
    "            nidaqmx._lib.lib_importer.cdll.DAQmxSetCICtrTimebaseSrc(\n",
    "                task._handle,\n",
    "                ctypes.c_char_p(ctr_name.encode('ascii')),\n",
    "                ctypes.c_char_p(chnl_name.encode('ascii')))\n",
    "\n",
    "        task.timing.cfg_implicit_timing(\n",
    "            sample_mode=ni.constants.AcquisitionType.FINITE,\n",
    "            samps_per_chan=samples)\n",
    "        \n",
    "        #commenting out for now because it keeps throwing\n",
    "        #task.control(ni.constants.TaskMode.TASK_RESERVE)\n",
    "        \n",
    "        digital_readers.append(nidaqmx.stream_readers.CounterReader(task.in_stream))\n",
    "        digital_readers[-1].verify_array_shape = False\n",
    "        digital_tasks[task_name] = task"
   ]
  },
  {
   "cell_type": "code",
   "execution_count": 47,
   "id": "3d250a88-8de3-423a-ba61-4c648270b1b9",
   "metadata": {},
   "outputs": [],
   "source": [
    "#task.close()\n",
    "#pydaqmxf.DAQmxClearTask(task._handle)"
   ]
  },
  {
   "cell_type": "code",
   "execution_count": 73,
   "id": "ab9c7c69-5594-4623-96d4-34936868934b",
   "metadata": {},
   "outputs": [
    {
     "data": {
      "text/plain": [
       "{'PeriodCounter_PFI0': Task(name=PeriodCounter_PFI0)}"
      ]
     },
     "execution_count": 73,
     "metadata": {},
     "output_type": "execute_result"
    }
   ],
   "source": [
    "digital_tasks"
   ]
  },
  {
   "cell_type": "code",
   "execution_count": 80,
   "id": "eb2e0652-9547-4108-982c-57f99fc42fcf",
   "metadata": {},
   "outputs": [
    {
     "data": {
      "text/plain": [
       "[<nidaqmx.stream_readers.CounterReader at 0x23b682b2730>]"
      ]
     },
     "execution_count": 80,
     "metadata": {},
     "output_type": "execute_result"
    }
   ],
   "source": [
    "digital_readers"
   ]
  },
  {
   "cell_type": "code",
   "execution_count": 74,
   "id": "eb5e391d-7d81-4c9c-8681-d2e6e6e1c209",
   "metadata": {},
   "outputs": [],
   "source": [
    "for task_name, task in digital_tasks.items():\n",
    "    task.start()"
   ]
  },
  {
   "cell_type": "code",
   "execution_count": 65,
   "id": "7462a67c-08cd-4309-ad73-3a8e1ee7d03e",
   "metadata": {},
   "outputs": [],
   "source": [
    "# for task_name, task in digital_tasks.items():\n",
    "#     task.close()"
   ]
  },
  {
   "cell_type": "code",
   "execution_count": 51,
   "id": "8dd2ece5-b269-4af4-8521-247013c428f8",
   "metadata": {},
   "outputs": [
    {
     "data": {
      "text/plain": [
       "0"
      ]
     },
     "execution_count": 51,
     "metadata": {},
     "output_type": "execute_result"
    }
   ],
   "source": [
    "pydaqmxf.DAQmxResetDevice('Dev1')"
   ]
  },
  {
   "cell_type": "code",
   "execution_count": 86,
   "id": "dd405c6f-6ada-4431-935e-77d209f90832",
   "metadata": {},
   "outputs": [],
   "source": [
    "#digital_tasks['PeriodCounter_PFI0'].start()"
   ]
  },
  {
   "cell_type": "code",
   "execution_count": 75,
   "id": "701ced0b-41c1-4827-bedb-9dbd139fe46e",
   "metadata": {},
   "outputs": [],
   "source": [
    "clock_task_handle.start() #reset the device if this throws"
   ]
  },
  {
   "cell_type": "code",
   "execution_count": 77,
   "id": "ba77a05a-7e8b-4243-ad50-c13ea1164700",
   "metadata": {},
   "outputs": [
    {
     "data": {
      "text/plain": [
       "101"
      ]
     },
     "execution_count": 77,
     "metadata": {},
     "output_type": "execute_result"
    }
   ],
   "source": [
    "# qudi - get_buffered_samples\n",
    "digital_tasks['PeriodCounter_PFI0'].in_stream.avail_samp_per_chan  #these are the number of samples available to be read out"
   ]
  },
  {
   "cell_type": "code",
   "execution_count": 81,
   "id": "ed0af76a-a1f1-4ec5-a0ae-e79e3616dd5a",
   "metadata": {},
   "outputs": [
    {
     "data": {
      "text/plain": [
       "101"
      ]
     },
     "execution_count": 81,
     "metadata": {},
     "output_type": "execute_result"
    }
   ],
   "source": [
    "samples"
   ]
  },
  {
   "cell_type": "code",
   "execution_count": 78,
   "id": "820edc8f-363e-43f6-bb8a-361892b53410",
   "metadata": {},
   "outputs": [],
   "source": [
    "data_buffer = np.zeros(samples)"
   ]
  },
  {
   "cell_type": "code",
   "execution_count": 79,
   "id": "08d91e68-2f2f-4219-ba44-fc171866b720",
   "metadata": {},
   "outputs": [
    {
     "data": {
      "text/plain": [
       "array([0., 0., 0., 0., 0., 0., 0., 0., 0., 0., 0., 0., 0., 0., 0., 0., 0.,\n",
       "       0., 0., 0., 0., 0., 0., 0., 0., 0., 0., 0., 0., 0., 0., 0., 0., 0.,\n",
       "       0., 0., 0., 0., 0., 0., 0., 0., 0., 0., 0., 0., 0., 0., 0., 0., 0.,\n",
       "       0., 0., 0., 0., 0., 0., 0., 0., 0., 0., 0., 0., 0., 0., 0., 0., 0.,\n",
       "       0., 0., 0., 0., 0., 0., 0., 0., 0., 0., 0., 0., 0., 0., 0., 0., 0.,\n",
       "       0., 0., 0., 0., 0., 0., 0., 0., 0., 0., 0., 0., 0., 0., 0., 0.])"
      ]
     },
     "execution_count": 79,
     "metadata": {},
     "output_type": "execute_result"
    }
   ],
   "source": [
    "data_buffer"
   ]
  },
  {
   "cell_type": "code",
   "execution_count": 83,
   "id": "9e73a90a-76ea-440b-83f8-50d49bc7f6e4",
   "metadata": {},
   "outputs": [],
   "source": [
    "reader = digital_readers[-1]\n",
    "\n",
    "read_samples = reader.read_many_sample_double(\n",
    "                    data_buffer,\n",
    "                    number_of_samples_per_channel=samples,\n",
    "                    timeout=rw_timeout)"
   ]
  },
  {
   "cell_type": "code",
   "execution_count": 84,
   "id": "d6c0afb0-9707-4977-bef6-8f814503a358",
   "metadata": {},
   "outputs": [],
   "source": [
    "data = dict()"
   ]
  },
  {
   "cell_type": "code",
   "execution_count": 85,
   "id": "0c44b32e-1a8e-4e3e-8a73-a6a80289d8c6",
   "metadata": {},
   "outputs": [
    {
     "data": {
      "text/plain": [
       "array([3., 0., 2., 1., 1., 1., 1., 1., 3., 2., 1., 2., 1., 2., 3., 3., 2.,\n",
       "       2., 2., 1., 1., 0., 1., 0., 4., 1., 0., 2., 2., 2., 0., 2., 3., 0.,\n",
       "       3., 1., 4., 1., 4., 3., 2., 3., 4., 1., 2., 2., 1., 1., 1., 5., 5.,\n",
       "       2., 1., 1., 4., 5., 0., 2., 2., 1., 1., 1., 2., 0., 1., 1., 1., 2.,\n",
       "       2., 1., 1., 2., 2., 1., 1., 0., 2., 3., 2., 0., 1., 1., 0., 2., 1.,\n",
       "       0., 5., 0., 0., 1., 0., 3., 1., 1., 0., 0., 1., 1., 2., 1., 0.])"
      ]
     },
     "execution_count": 85,
     "metadata": {},
     "output_type": "execute_result"
    }
   ],
   "source": [
    "data_buffer"
   ]
  },
  {
   "cell_type": "code",
   "execution_count": 86,
   "id": "f3a82211-232f-4b73-971a-bfb7fd09309d",
   "metadata": {},
   "outputs": [],
   "source": [
    "data[reader._task.name.split('_')[-1]] = data_buffer"
   ]
  },
  {
   "cell_type": "code",
   "execution_count": 87,
   "id": "b88aea13-099e-4118-8cbc-322787be4bfb",
   "metadata": {},
   "outputs": [
    {
     "data": {
      "text/plain": [
       "{'PFI0': array([3., 0., 2., 1., 1., 1., 1., 1., 3., 2., 1., 2., 1., 2., 3., 3., 2.,\n",
       "        2., 2., 1., 1., 0., 1., 0., 4., 1., 0., 2., 2., 2., 0., 2., 3., 0.,\n",
       "        3., 1., 4., 1., 4., 3., 2., 3., 4., 1., 2., 2., 1., 1., 1., 5., 5.,\n",
       "        2., 1., 1., 4., 5., 0., 2., 2., 1., 1., 1., 2., 0., 1., 1., 1., 2.,\n",
       "        2., 1., 1., 2., 2., 1., 1., 0., 2., 3., 2., 0., 1., 1., 0., 2., 1.,\n",
       "        0., 5., 0., 0., 1., 0., 3., 1., 1., 0., 0., 1., 1., 2., 1., 0.])}"
      ]
     },
     "execution_count": 87,
     "metadata": {},
     "output_type": "execute_result"
    }
   ],
   "source": [
    "data"
   ]
  },
  {
   "cell_type": "code",
   "execution_count": 89,
   "id": "8b942aaf-4bf5-4150-a97c-4dd4b0b92415",
   "metadata": {},
   "outputs": [],
   "source": [
    "#then qudi stops all tasks\n",
    "\n",
    "\n",
    "clock_task_handle.stop() #reset the device if this throws\n",
    "clock_task_handle.close() #reset the device if this throws\n",
    "clock_task_handle = None"
   ]
  },
  {
   "cell_type": "code",
   "execution_count": 90,
   "id": "6c5c4856-884c-48ee-9553-ff1bf27c6e3d",
   "metadata": {},
   "outputs": [],
   "source": [
    "for task_name, task in digital_tasks.items():\n",
    "    task.stop()\n",
    "    task.close()"
   ]
  },
  {
   "cell_type": "code",
   "execution_count": 92,
   "id": "fb077f57-0bc8-4aed-8bb3-7dd43d624424",
   "metadata": {},
   "outputs": [
    {
     "data": {
      "text/plain": [
       "101"
      ]
     },
     "execution_count": 92,
     "metadata": {},
     "output_type": "execute_result"
    }
   ],
   "source": [
    "read_samples"
   ]
  },
  {
   "cell_type": "code",
   "execution_count": null,
   "id": "19aa5e47-77d1-426b-a8f0-59208789e2d5",
   "metadata": {},
   "outputs": [],
   "source": []
  }
 ],
 "metadata": {
  "kernelspec": {
   "display_name": "Python 3 (ipykernel)",
   "language": "python",
   "name": "python3"
  },
  "language_info": {
   "codemirror_mode": {
    "name": "ipython",
    "version": 3
   },
   "file_extension": ".py",
   "mimetype": "text/x-python",
   "name": "python",
   "nbconvert_exporter": "python",
   "pygments_lexer": "ipython3",
   "version": "3.9.12"
  }
 },
 "nbformat": 4,
 "nbformat_minor": 5
}
