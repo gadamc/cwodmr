{
 "cells": [
  {
   "cell_type": "code",
   "execution_count": 1,
   "id": "2c9bca55-0e0c-4c89-ac42-8d6c0461a95c",
   "metadata": {},
   "outputs": [],
   "source": [
    "%load_ext autoreload\n",
    "%autoreload 2"
   ]
  },
  {
   "cell_type": "code",
   "execution_count": 30,
   "id": "a5d1f194-2249-4428-9152-2e5914616faa",
   "metadata": {},
   "outputs": [],
   "source": [
    "import qt3rfsynthcontrol\n",
    "import logging\n",
    "logging.basicConfig(level = logging.INFO)"
   ]
  },
  {
   "cell_type": "code",
   "execution_count": 3,
   "id": "4977d74c-89c6-48c1-8926-ff64add15a46",
   "metadata": {},
   "outputs": [
    {
     "data": {
      "text/plain": [
       "[['COM3',\n",
       "  'Intel(R) Active Management Technology - SOL (COM3)',\n",
       "  'PCI\\\\VEN_8086&DEV_43E3&SUBSYS_0A541028&REV_11\\\\3&11583659&1&B3'],\n",
       " ['COM5',\n",
       "  'USB Serial Device (COM5)',\n",
       "  'USB VID:PID=0483:A3E5 SER=206A36705430 LOCATION=1-2:x.0'],\n",
       " ['COM6',\n",
       "  'USB Serial Device (COM6)',\n",
       "  'USB VID:PID=04D8:000A SER= LOCATION=1-8:x.0'],\n",
       " ['COM7',\n",
       "  'USB Serial Device (COM7)',\n",
       "  'USB VID:PID=239A:8014 SER=3B0D07C25831555020312E341A3214FF LOCATION=1-6:x.0']]"
      ]
     },
     "execution_count": 3,
     "metadata": {},
     "output_type": "execute_result"
    }
   ],
   "source": [
    "qt3rfsynthcontrol.discover_devices()"
   ]
  },
  {
   "cell_type": "code",
   "execution_count": 4,
   "id": "d4946388-251e-49eb-ac57-2eb348234d90",
   "metadata": {},
   "outputs": [],
   "source": [
    "rfsynth = qt3rfsynthcontrol.QT3SynthHD('COM5')"
   ]
  },
  {
   "cell_type": "code",
   "execution_count": 6,
   "id": "42249342-ee0e-4e6c-8b9a-7c91fe91fba5",
   "metadata": {},
   "outputs": [
    {
     "data": {
      "text/plain": [
       "[('model_type', 'WFT SynthHD 1694'),\n",
       " ('serial_number', 1694),\n",
       " ('fw_version', 'Firmware Version 3.23'),\n",
       " ('hw_version', 'Hardware Version 2.06'),\n",
       " ('sub_version', 'HD')]"
      ]
     },
     "execution_count": 6,
     "metadata": {},
     "output_type": "execute_result"
    }
   ],
   "source": [
    "rfsynth.hw_info()"
   ]
  },
  {
   "cell_type": "code",
   "execution_count": 7,
   "id": "0bf88438-c3bd-443f-9c42-ddc618d8e9ae",
   "metadata": {},
   "outputs": [
    {
     "data": {
      "text/plain": [
       "['C) Control Channel (A(0) or B(1))  0',\n",
       " 'f) RF Frequency Now (MHz) 65.00000000, 6200.00000000',\n",
       " 'W) RF Power (dBm) -20.000, 0.000',\n",
       " 'V) Amp Calibration success? 1',\n",
       " 'Z) Temperature Comp (0=none, 1=on set, 2=1sec, 3=10sec) 3, 3',\n",
       " 'a) VGA DAC Setting (0=min, 4000=max) 471, 1018',\n",
       " '~) RF Phase Step (0=minimum, 360.0=maximum) 0.0000, 0.0000',\n",
       " 'h) RF High(1) or Low(0) Power 1, 0',\n",
       " 'E) PLL Chip En On(1) or Off(0) 1, 0',\n",
       " 'U) PLL charge pump current 0, 5',\n",
       " 'b) REF Doubler On(1) or Off(0) 0, 0',\n",
       " 'i) Channel spacing (Hz) 100.000, 100.000',\n",
       " 'x) Reference (external=0, int 27MHz=1, int 10MHz=2) 1',\n",
       " '*) PLL reference frequency (MHz) 27.00000000',\n",
       " 'l) Sweep lower frequency (MHz) 50.00000000, 1000.00000000',\n",
       " 'u) Sweep upper frequency (MHz) 100.00000000, 5000.00000000',\n",
       " 's) Sweep step size (MHz/%) 25.00000000, 200.00000000',\n",
       " 't) Sweep step time (mS) 200.000, 1.000',\n",
       " '[) Sweep amplitude low (dBm) -10.000, 0.000',\n",
       " ']) Sweep amplitude high (dBm) -10.000, 0.000',\n",
       " '^) Sweep direction (up=1 / down=0) 1, 1',\n",
       " 'k) Sweep differential seperation (MHz) 1.00000000',\n",
       " 'n) Sweep differential: (0=off, 1=ChA-DiffFreq, 2=ChA+DiffFreq)  0',\n",
       " 'X) Sweep type (lin=0 / tab=1 / %=2) 0, 0',\n",
       " 'g) Sweep run (on=1 / off=0) 0',\n",
       " 'c) Sweep set continuous mode 0',\n",
       " 'w) Enable trigger: (0=software, 1=sweep, 2=step, 3=hold all, ..) 2',\n",
       " 'Y) Trigger Polarity (active low=0 / active high=1) 1',\n",
       " 'F) AM step time (uS) 0',\n",
       " 'q) AM # of cycle repetitions 100',\n",
       " 'A) AM Run Continuous (on=1 / off=0) 0',\n",
       " 'P) Pulse On time (uS) 1, 1',\n",
       " 'O) Pulse Off time (uS) 3, 10',\n",
       " 'R) Pulse # of repetitions 10, 1',\n",
       " ':) Pulse Invert signal (on=1 / off=0) 0, 0',\n",
       " 'G) Pulse Run one burst',\n",
       " 'j) Pulse continuous mode 0',\n",
       " '<) FM Frequency (Hz) 1000, 1000',\n",
       " '>) FM Deviation (Hz) 100000, 100000',\n",
       " ',) FM # of repetitions 100, 100',\n",
       " ';) FM Type (sinusoid=0 / chirp=1) 0, 0',\n",
       " '/) FM continuous mode 0',\n",
       " 'p) Phase lock status (lock=1 / unlock=0) 0, 0',\n",
       " 'I) Trigger digital status (high=1 / low=0) 0',\n",
       " 'z) Temperature in degrees C 36.375',\n",
       " 'm) Automatic communication mode (UART=1 / USB=0) 0',\n",
       " 'T) Send test message to both USB and UART',\n",
       " 'v) Show version (0=FW, 1=HW, 2=Model) 3.23, 2.06',\n",
       " '+) Model Type',\n",
       " '-) Serial Number 1694',\n",
       " 'e) Write all settings to eeprom',\n",
       " '?) help',\n",
       " 'Cal datecode YYWW 2204',\n",
       " 'EOM.']"
      ]
     },
     "execution_count": 7,
     "metadata": {},
     "output_type": "execute_result"
    }
   ],
   "source": [
    "rfsynth.current_status()"
   ]
  },
  {
   "cell_type": "code",
   "execution_count": 8,
   "id": "1e502134-cbfa-4b17-ae0b-1407735cbb80",
   "metadata": {},
   "outputs": [],
   "source": [
    "rfsynth.rf_off(0)"
   ]
  },
  {
   "cell_type": "code",
   "execution_count": 10,
   "id": "d2f02203-4664-4c7e-9001-764947cf3208",
   "metadata": {},
   "outputs": [],
   "source": [
    "rfsynth.set_channel_fixed_output(0, -10, 18e6)"
   ]
  },
  {
   "cell_type": "code",
   "execution_count": 11,
   "id": "bfaa6208-5a12-4899-b772-9c58e61c2202",
   "metadata": {},
   "outputs": [],
   "source": [
    "rfsynth.rf_on(0)"
   ]
  },
  {
   "cell_type": "code",
   "execution_count": 33,
   "id": "2a022c95-0fa7-41b2-bac9-1a87e180258f",
   "metadata": {},
   "outputs": [],
   "source": [
    "rfsynth.rf_off(0)"
   ]
  },
  {
   "cell_type": "code",
   "execution_count": 31,
   "id": "ba8fd2f9-46ed-4d2f-a6f2-f7093a1a269f",
   "metadata": {},
   "outputs": [
    {
     "name": "stderr",
     "output_type": "stream",
     "text": [
      "INFO:qt3rfsynthcontrol.device.QT3SynthHD:Configured scan with\n",
      "INFO:qt3rfsynthcontrol.device.QT3SynthHD:scan_power = -10.0\n",
      "INFO:qt3rfsynthcontrol.device.QT3SynthHD:scan_frequencies (low to high) = 2.9999999999999997e-05 - 9.999999999999999e-05 MHz\n",
      "INFO:qt3rfsynthcontrol.device.QT3SynthHD:frequency step size = 9.999999999999999e-06 MHz\n",
      "INFO:qt3rfsynthcontrol.device.QT3SynthHD:time @ each frequency = 0.5 s\n",
      "INFO:qt3rfsynthcontrol.device.QT3SynthHD:number of steps, including low and high = 8\n",
      "INFO:qt3rfsynthcontrol.device.QT3SynthHD:trigger mode = single frequency step\n"
     ]
    }
   ],
   "source": [
    "rfsynth.set_frequency_sweep(0, -10.0, 30e6, 100e6, 8, 'single frequency step', 'high')"
   ]
  },
  {
   "cell_type": "code",
   "execution_count": 32,
   "id": "d3140b06-1476-40e0-bf32-7bc5e49daa45",
   "metadata": {},
   "outputs": [],
   "source": [
    "rfsynth.rf_on(0)"
   ]
  },
  {
   "cell_type": "code",
   "execution_count": 34,
   "id": "bfc819b3-11e7-4f0b-b05b-7d06c90989e5",
   "metadata": {},
   "outputs": [],
   "source": [
    "rfsynth.close()"
   ]
  },
  {
   "cell_type": "code",
   "execution_count": null,
   "id": "185a7bdb-89d5-4f96-b756-50bdb1e184a9",
   "metadata": {},
   "outputs": [],
   "source": []
  }
 ],
 "metadata": {
  "kernelspec": {
   "display_name": "Python 3 (ipykernel)",
   "language": "python",
   "name": "python3"
  },
  "language_info": {
   "codemirror_mode": {
    "name": "ipython",
    "version": 3
   },
   "file_extension": ".py",
   "mimetype": "text/x-python",
   "name": "python",
   "nbconvert_exporter": "python",
   "pygments_lexer": "ipython3",
   "version": "3.9.12"
  }
 },
 "nbformat": 4,
 "nbformat_minor": 5
}
