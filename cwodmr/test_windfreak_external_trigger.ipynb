{
 "cells": [
  {
   "cell_type": "code",
   "execution_count": 1,
   "id": "8a9051bf-b577-4d3b-81a5-33f5979a8b37",
   "metadata": {},
   "outputs": [],
   "source": [
    "import windfreak"
   ]
  },
  {
   "cell_type": "code",
   "execution_count": 138,
   "id": "95fae0ce-9659-42b9-aa56-896fc0a1d8a3",
   "metadata": {},
   "outputs": [],
   "source": [
    "mw_source.close()"
   ]
  },
  {
   "cell_type": "code",
   "execution_count": 54,
   "id": "13d54540-4ccf-414c-b75d-27f86de6b667",
   "metadata": {},
   "outputs": [],
   "source": [
    "low_f = 2820e6\n",
    "high_f = 2920e6\n",
    "low_f = 50e6\n",
    "high_f = 100e6\n",
    "n_steps = 3\n",
    "scan_frequency_ranges = [low_f, high_f, n_steps] #change to start freq, stop freq and N step\n",
    "scan_power = -10.0 #dBmW\n",
    "freq_sample_time = 0.200 \n",
    "#ata_rate = 10#Hz specifies the amount of time spent at each frequency in the sweep\n"
   ]
  },
  {
   "cell_type": "code",
   "execution_count": 55,
   "id": "985d0dbf-1cb6-404f-9bbc-4b328da59944",
   "metadata": {},
   "outputs": [
    {
     "data": {
      "text/plain": [
       "[50000000.0, 100000000.0, 3]"
      ]
     },
     "execution_count": 55,
     "metadata": {},
     "output_type": "execute_result"
    }
   ],
   "source": [
    "scan_frequency_ranges"
   ]
  },
  {
   "cell_type": "code",
   "execution_count": null,
   "id": "d42747cf-095b-4601-8764-76659daec7c5",
   "metadata": {},
   "outputs": [],
   "source": []
  },
  {
   "cell_type": "code",
   "execution_count": 81,
   "id": "f64d834e-4bb8-4bb6-8eb5-bf7fa3913c2c",
   "metadata": {},
   "outputs": [
    {
     "name": "stdout",
     "output_type": "stream",
     "text": [
      "model_type: WFT SynthHD 1694\n",
      "serial_number: 1694\n",
      "fw_version: Firmware Version 3.23\n",
      "hw_version: Hardware Version 2.06\n",
      "sub_version: HD\n"
     ]
    }
   ],
   "source": [
    "for x in ['model_type','serial_number','fw_version','hw_version','sub_version']:\n",
    "    print(f'{x}: {mw_source.read(x)}')\n"
   ]
  },
  {
   "cell_type": "code",
   "execution_count": 2,
   "id": "4f4897d4-2286-4a74-a6b3-498b306cc1ef",
   "metadata": {},
   "outputs": [],
   "source": [
    "mw_source = windfreak.SynthHD('COM5')"
   ]
  },
  {
   "cell_type": "code",
   "execution_count": 3,
   "id": "048b6323-068b-4efe-95b8-52b1b96afb62",
   "metadata": {},
   "outputs": [],
   "source": [
    "mw_source._write('C1E0r0h0')\n",
    "mw_source._write('C0E0r0h0')"
   ]
  },
  {
   "cell_type": "code",
   "execution_count": 381,
   "id": "db6ad71f-c62e-46e6-9070-74307d2e234b",
   "metadata": {},
   "outputs": [],
   "source": [
    "mw_source._write('C0Y1') ## SETS the trigger polarity to HIGH Y0 --> LOW"
   ]
  },
  {
   "cell_type": "code",
   "execution_count": 139,
   "id": "eeec840e-3c76-48f7-a10a-05062f60d028",
   "metadata": {},
   "outputs": [
    {
     "ename": "AttributeError",
     "evalue": "'NoneType' object has no attribute 'write'",
     "output_type": "error",
     "traceback": [
      "\u001b[1;31m---------------------------------------------------------------------------\u001b[0m",
      "\u001b[1;31mAttributeError\u001b[0m                            Traceback (most recent call last)",
      "Input \u001b[1;32mIn [139]\u001b[0m, in \u001b[0;36m<cell line: 1>\u001b[1;34m()\u001b[0m\n\u001b[1;32m----> 1\u001b[0m \u001b[38;5;28mprint\u001b[39m(\u001b[43mmw_source\u001b[49m\u001b[43m[\u001b[49m\u001b[38;5;241;43m0\u001b[39;49m\u001b[43m]\u001b[49m\u001b[38;5;241;43m.\u001b[39;49m\u001b[43mread\u001b[49m\u001b[43m(\u001b[49m\u001b[38;5;124;43m'\u001b[39;49m\u001b[38;5;124;43mpll_power_on\u001b[39;49m\u001b[38;5;124;43m'\u001b[39;49m\u001b[43m)\u001b[49m)\n\u001b[0;32m      2\u001b[0m \u001b[38;5;28mprint\u001b[39m(mw_source[\u001b[38;5;241m1\u001b[39m]\u001b[38;5;241m.\u001b[39mread(\u001b[38;5;124m'\u001b[39m\u001b[38;5;124mpll_power_on\u001b[39m\u001b[38;5;124m'\u001b[39m))\n",
      "File \u001b[1;32m~\\anaconda3\\envs\\qdl-dev\\lib\\site-packages\\windfreak\\synth_hd.py:37\u001b[0m, in \u001b[0;36mSynthHDChannel.read\u001b[1;34m(self, attribute, *args)\u001b[0m\n\u001b[0;32m     36\u001b[0m \u001b[38;5;28;01mdef\u001b[39;00m \u001b[38;5;21mread\u001b[39m(\u001b[38;5;28mself\u001b[39m, attribute, \u001b[38;5;241m*\u001b[39margs):\n\u001b[1;32m---> 37\u001b[0m     \u001b[38;5;28;43mself\u001b[39;49m\u001b[38;5;241;43m.\u001b[39;49m\u001b[43mselect\u001b[49m\u001b[43m(\u001b[49m\u001b[43m)\u001b[49m\n\u001b[0;32m     38\u001b[0m     \u001b[38;5;28;01mreturn\u001b[39;00m \u001b[38;5;28mself\u001b[39m\u001b[38;5;241m.\u001b[39m_parent\u001b[38;5;241m.\u001b[39mread(attribute, \u001b[38;5;241m*\u001b[39margs)\n",
      "File \u001b[1;32m~\\anaconda3\\envs\\qdl-dev\\lib\\site-packages\\windfreak\\synth_hd.py:42\u001b[0m, in \u001b[0;36mSynthHDChannel.select\u001b[1;34m(self)\u001b[0m\n\u001b[0;32m     40\u001b[0m \u001b[38;5;28;01mdef\u001b[39;00m \u001b[38;5;21mselect\u001b[39m(\u001b[38;5;28mself\u001b[39m):\n\u001b[0;32m     41\u001b[0m     \u001b[38;5;124;03m\"\"\"Select channel.\"\"\"\u001b[39;00m\n\u001b[1;32m---> 42\u001b[0m     \u001b[38;5;28;43mself\u001b[39;49m\u001b[38;5;241;43m.\u001b[39;49m\u001b[43m_parent\u001b[49m\u001b[38;5;241;43m.\u001b[39;49m\u001b[43mwrite\u001b[49m\u001b[43m(\u001b[49m\u001b[38;5;124;43m'\u001b[39;49m\u001b[38;5;124;43mchannel\u001b[39;49m\u001b[38;5;124;43m'\u001b[39;49m\u001b[43m,\u001b[49m\u001b[43m \u001b[49m\u001b[38;5;28;43mself\u001b[39;49m\u001b[38;5;241;43m.\u001b[39;49m\u001b[43m_index\u001b[49m\u001b[43m)\u001b[49m\n",
      "File \u001b[1;32m~\\anaconda3\\envs\\qdl-dev\\lib\\site-packages\\windfreak\\device.py:30\u001b[0m, in \u001b[0;36mSerialDevice.write\u001b[1;34m(self, attribute, *args)\u001b[0m\n\u001b[0;32m     28\u001b[0m     \u001b[38;5;28;01mraise\u001b[39;00m \u001b[38;5;167;01mValueError\u001b[39;00m(\u001b[38;5;124m'\u001b[39m\u001b[38;5;124mNumber of arguments and data-types are not equal.\u001b[39m\u001b[38;5;124m'\u001b[39m)\n\u001b[0;32m     29\u001b[0m args \u001b[38;5;241m=\u001b[39m ((\u001b[38;5;28mint\u001b[39m(ar) \u001b[38;5;28;01mif\u001b[39;00m dt \u001b[38;5;129;01mis\u001b[39;00m \u001b[38;5;28mbool\u001b[39m \u001b[38;5;28;01melse\u001b[39;00m dt(ar)) \u001b[38;5;28;01mfor\u001b[39;00m dt, ar \u001b[38;5;129;01min\u001b[39;00m \u001b[38;5;28mzip\u001b[39m(dtype, args))\n\u001b[1;32m---> 30\u001b[0m \u001b[38;5;28;43mself\u001b[39;49m\u001b[38;5;241;43m.\u001b[39;49m\u001b[43m_write\u001b[49m\u001b[43m(\u001b[49m\u001b[43mrequest\u001b[49m\u001b[38;5;241;43m.\u001b[39;49m\u001b[43mformat\u001b[49m\u001b[43m(\u001b[49m\u001b[38;5;241;43m*\u001b[39;49m\u001b[43margs\u001b[49m\u001b[43m)\u001b[49m\u001b[43m)\u001b[49m\n",
      "File \u001b[1;32m~\\anaconda3\\envs\\qdl-dev\\lib\\site-packages\\windfreak\\device.py:52\u001b[0m, in \u001b[0;36mSerialDevice._write\u001b[1;34m(self, data)\u001b[0m\n\u001b[0;32m     46\u001b[0m \u001b[38;5;28;01mdef\u001b[39;00m \u001b[38;5;21m_write\u001b[39m(\u001b[38;5;28mself\u001b[39m, data):\n\u001b[0;32m     47\u001b[0m     \u001b[38;5;124;03m\"\"\"Write to device.\u001b[39;00m\n\u001b[0;32m     48\u001b[0m \n\u001b[0;32m     49\u001b[0m \u001b[38;5;124;03m    Args:\u001b[39;00m\n\u001b[0;32m     50\u001b[0m \u001b[38;5;124;03m        data (str): write data\u001b[39;00m\n\u001b[0;32m     51\u001b[0m \u001b[38;5;124;03m    \"\"\"\u001b[39;00m\n\u001b[1;32m---> 52\u001b[0m     \u001b[38;5;28;43mself\u001b[39;49m\u001b[38;5;241;43m.\u001b[39;49m\u001b[43m_dev\u001b[49m\u001b[38;5;241;43m.\u001b[39;49m\u001b[43mwrite\u001b[49m(data\u001b[38;5;241m.\u001b[39mencode(\u001b[38;5;124m'\u001b[39m\u001b[38;5;124mutf-8\u001b[39m\u001b[38;5;124m'\u001b[39m))\n",
      "\u001b[1;31mAttributeError\u001b[0m: 'NoneType' object has no attribute 'write'"
     ]
    }
   ],
   "source": [
    "print(mw_source[0].read('pll_power_on'))\n",
    "print(mw_source[1].read('pll_power_on'))"
   ]
  },
  {
   "cell_type": "code",
   "execution_count": 47,
   "id": "4eb06f34-ac5a-4a64-87b5-e5d42adf6460",
   "metadata": {},
   "outputs": [
    {
     "name": "stdout",
     "output_type": "stream",
     "text": [
      "-10.0\n",
      "0.0\n"
     ]
    }
   ],
   "source": [
    "print(mw_source[0].power)\n",
    "print(mw_source[1].power)"
   ]
  },
  {
   "cell_type": "code",
   "execution_count": 66,
   "id": "61f2ea59-a12a-4325-aa99-d72647cc7e40",
   "metadata": {},
   "outputs": [],
   "source": [
    "mw_source.trigger_mode = 'single frequency step'"
   ]
  },
  {
   "cell_type": "code",
   "execution_count": 60,
   "id": "498cfaf6-e766-4f45-96b5-5e125a92af1f",
   "metadata": {},
   "outputs": [
    {
     "data": {
      "text/plain": [
       "'1'"
      ]
     },
     "execution_count": 60,
     "metadata": {},
     "output_type": "execute_result"
    }
   ],
   "source": [
    "mw_source._query('C0Y?')"
   ]
  },
  {
   "cell_type": "code",
   "execution_count": 136,
   "id": "e10dd23f-62ba-4ff1-856c-7efb29d9c9dd",
   "metadata": {},
   "outputs": [
    {
     "data": {
      "text/plain": [
       "True"
      ]
     },
     "execution_count": 136,
     "metadata": {},
     "output_type": "execute_result"
    }
   ],
   "source": [
    "mw_source[0].read('calibrated')"
   ]
  },
  {
   "cell_type": "code",
   "execution_count": 82,
   "id": "fca4926a-db5a-4b5d-9cd1-a727e380245f",
   "metadata": {},
   "outputs": [
    {
     "name": "stdout",
     "output_type": "stream",
     "text": [
      "Configured scan with\n",
      "scan_power = -10.0\n",
      "scan_frequencies (low to high) = 50.0 - 100.0 MHz\n",
      "frequency step size = 25.0 MHz\n",
      "time @ each frequency = 0.2 s\n",
      "number of steps = 3\n",
      "time for full scan = 0.6000000000000001 s\n",
      "trigger mode = single frequency step\n"
     ]
    }
   ],
   "source": [
    "#we need to set up the RF pulser to enable its RF output on an external trigger\n",
    "#and external trigger needs to set a voltage low (? -5V?, -3.3V? ... docs are confusing and suggest +3.3V)\n",
    "#the trigger pulse width needs to be less than the time duration of each frequency during the sweep, \n",
    "#otherwise the RF will interpret the trigger pulse to move to the next frequency\n",
    "\n",
    "frequency_step = (high_f - low_f) / (n_steps - 1)\n",
    "mw_source.write('channel',0)\n",
    "mw_source._write('Y1') ## SETS the trigger polarity Y1 to HIGH, Y0 to LOW. This function is undocumented!\n",
    "mw_source[0].write('sweep_type',0) #X0 #linear sweep\n",
    "mw_source[0].write('sweep_cont',0) #c0 #1 - set to do continuous sweep, 0 -- set to stop after full sweep\n",
    "#mw_source[0].trigger_mode ='disabled' #w0\n",
    "mw_source.trigger_mode = 'single frequency step' #w2\n",
    "\n",
    "mw_source[0].write('sweep_direction',int(high_f >= low_f)) #^1 or ^0 if low_f > high_f\n",
    "\n",
    "mw_source[0].write('sweep_freq_low', low_f / 1e6) #in MHz. Might need to be careful here on how many digits are written. for example, the device might not be happy with 10.000000000000000001\n",
    "mw_source[0].write('sweep_freq_high', high_f / 1e6) #in MHz. Might need to be careful here on how many digits are written. for example, the device might not be happy with 10.000000000000000001\n",
    "mw_source[0].write('sweep_freq_step', frequency_step / 1e6) #in MHz. Might need to be careful here on how many digits are written. for example, the device might not be happy with 10.000000000000000001\n",
    "\n",
    "# mw_direct_device._write(f'l{low_f / 1e6:5.7f}')\n",
    "# mw_direct_device._write(f'u{high_f / 1e6:5.7f}')\n",
    "# mw_direct_device._write(f's{frequency_step / 1e6:5.7f}')\n",
    "\n",
    "# set power\n",
    "mw_source[0].write('power', scan_power) #f'W{scan_power:2.3f}'\n",
    "mw_source[0].write('sweep_power_low',scan_power) #f'[{scan_power:2.3f}'\n",
    "mw_source[0].write('sweep_power_high',scan_power) #f']{scan_power:2.3f}'\n",
    "\n",
    "#freq_step_time = 1 / data_rate #in seconds\n",
    "mw_source[0].write('sweep_time_step',freq_sample_time * 1e3) #limits between 4ms and 10000ms!\n",
    "\n",
    "total_time_in_s = freq_sample_time * (n_steps)\n",
    "\n",
    "print(f'Configured scan with')\n",
    "print( f'scan_power = {scan_power}')\n",
    "print(f'scan_frequencies (low to high) = {low_f*1e-6} - {high_f*1e-6} MHz')\n",
    "print(f'frequency step size = {frequency_step*1e-6} MHz')\n",
    "print(f'time @ each frequency = {freq_sample_time} s')\n",
    "print(f'number of steps = {n_steps}')\n",
    "print(f'time for full scan = {total_time_in_s} s')\n",
    "print(f'trigger mode = {mw_source.trigger_mode}')\n"
   ]
  },
  {
   "cell_type": "code",
   "execution_count": 84,
   "id": "c82b09c3-52aa-4221-b550-6b7636fd264b",
   "metadata": {},
   "outputs": [],
   "source": [
    "mw_source[0].frequency = 65e6"
   ]
  },
  {
   "cell_type": "code",
   "execution_count": 116,
   "id": "67ce27b0-ca62-4aaf-b41c-5034bf164c6f",
   "metadata": {},
   "outputs": [],
   "source": [
    "mw_source._write('C0?')"
   ]
  },
  {
   "cell_type": "code",
   "execution_count": 137,
   "id": "fc2622ee-f6ba-4e31-a56b-222f9bbb5e33",
   "metadata": {},
   "outputs": [
    {
     "data": {
      "text/plain": [
       "[]"
      ]
     },
     "execution_count": 137,
     "metadata": {},
     "output_type": "execute_result"
    }
   ],
   "source": [
    "mw_source._dev.readlines()"
   ]
  },
  {
   "cell_type": "code",
   "execution_count": 109,
   "id": "e01f96a6-5adc-44fc-9ba5-35a535fc6617",
   "metadata": {},
   "outputs": [],
   "source": [
    "mw_source._write('C1?')\n",
    "status = mw_source._dev.readlines()"
   ]
  },
  {
   "cell_type": "code",
   "execution_count": 111,
   "id": "f273e5e6-0cee-412a-b10f-172c177b903c",
   "metadata": {},
   "outputs": [],
   "source": [
    "status = [x.decode('utf-8').strip() for x in status]"
   ]
  },
  {
   "cell_type": "code",
   "execution_count": 112,
   "id": "cf7d303d-feab-43f2-9ba1-d49e2d9d12be",
   "metadata": {},
   "outputs": [
    {
     "data": {
      "text/plain": [
       "['C) Control Channel (A(0) or B(1))  1',\n",
       " 'f) RF Frequency Now (MHz) 100.00000000, 6200.00000000',\n",
       " 'W) RF Power (dBm) -10.000, 0.000',\n",
       " 'V) Amp Calibration success? 1',\n",
       " 'Z) Temperature Comp (0=none, 1=on set, 2=1sec, 3=10sec) 3, 3',\n",
       " 'a) VGA DAC Setting (0=min, 4000=max) 636, 1016',\n",
       " '~) RF Phase Step (0=minimum, 360.0=maximum) 0.0000, 0.0000',\n",
       " 'h) RF High(1) or Low(0) Power 1, 0',\n",
       " 'E) PLL Chip En On(1) or Off(0) 1, 0',\n",
       " 'U) PLL charge pump current 0, 5',\n",
       " 'b) REF Doubler On(1) or Off(0) 0, 0',\n",
       " 'i) Channel spacing (Hz) 100.000, 100.000',\n",
       " 'x) Reference (external=0, int 27MHz=1, int 10MHz=2) 1',\n",
       " '*) PLL reference frequency (MHz) 27.00000000',\n",
       " 'l) Sweep lower frequency (MHz) 50.00000000, 1000.00000000',\n",
       " 'u) Sweep upper frequency (MHz) 100.00000000, 5000.00000000',\n",
       " 's) Sweep step size (MHz/%) 25.00000000, 200.00000000',\n",
       " 't) Sweep step time (mS) 200.000, 1.000',\n",
       " '[) Sweep amplitude low (dBm) -10.000, 0.000',\n",
       " ']) Sweep amplitude high (dBm) -10.000, 0.000',\n",
       " '^) Sweep direction (up=1 / down=0) 1, 1',\n",
       " 'k) Sweep differential seperation (MHz) 1.00000000',\n",
       " 'n) Sweep differential: (0=off, 1=ChA-DiffFreq, 2=ChA+DiffFreq)  0',\n",
       " 'X) Sweep type (lin=0 / tab=1 / %=2) 0, 0',\n",
       " 'g) Sweep run (on=1 / off=0) 0',\n",
       " 'c) Sweep set continuous mode 0',\n",
       " 'w) Enable trigger: (0=software, 1=sweep, 2=step, 3=hold all, ..) 2',\n",
       " 'Y) Trigger Polarity (active low=0 / active high=1) 1',\n",
       " 'F) AM step time (uS) 0',\n",
       " 'q) AM # of cycle repetitions 100',\n",
       " 'A) AM Run Continuous (on=1 / off=0) 0',\n",
       " 'P) Pulse On time (uS) 1, 1',\n",
       " 'O) Pulse Off time (uS) 3, 10',\n",
       " 'R) Pulse # of repetitions 10, 1',\n",
       " ':) Pulse Invert signal (on=1 / off=0) 0, 0',\n",
       " 'G) Pulse Run one burst',\n",
       " 'j) Pulse continuous mode 0',\n",
       " '<) FM Frequency (Hz) 1000, 1000',\n",
       " '>) FM Deviation (Hz) 100000, 100000',\n",
       " ',) FM # of repetitions 100, 100',\n",
       " ';) FM Type (sinusoid=0 / chirp=1) 0, 0',\n",
       " '/) FM continuous mode 0',\n",
       " 'p) Phase lock status (lock=1 / unlock=0) 0, 0',\n",
       " 'I) Trigger digital status (high=1 / low=0) 0',\n",
       " 'z) Temperature in degrees C 35.750',\n",
       " 'm) Automatic communication mode (UART=1 / USB=0) 0',\n",
       " 'T) Send test message to both USB and UART',\n",
       " 'v) Show version (0=FW, 1=HW, 2=Model) 3.23, 2.06',\n",
       " '+) Model Type',\n",
       " '-) Serial Number 1694',\n",
       " 'e) Write all settings to eeprom',\n",
       " '?) help',\n",
       " 'Cal datecode YYWW 2204',\n",
       " 'EOM.']"
      ]
     },
     "execution_count": 112,
     "metadata": {},
     "output_type": "execute_result"
    }
   ],
   "source": [
    "status"
   ]
  },
  {
   "cell_type": "code",
   "execution_count": 115,
   "id": "5353f77a-5f6c-4083-99e1-abcc5a3ac3dc",
   "metadata": {},
   "outputs": [],
   "source": [
    "mw_source[0].frequency = 65e6"
   ]
  },
  {
   "cell_type": "code",
   "execution_count": 92,
   "id": "25343050-5fe9-4247-ab18-b3330506dd60",
   "metadata": {},
   "outputs": [
    {
     "data": {
      "text/plain": [
       "False"
      ]
     },
     "execution_count": 92,
     "metadata": {},
     "output_type": "execute_result"
    }
   ],
   "source": [
    "mw_source[0].read('sweep_single')"
   ]
  },
  {
   "cell_type": "code",
   "execution_count": 119,
   "id": "e96444c5-6399-4174-bac6-40bd947a99a2",
   "metadata": {},
   "outputs": [],
   "source": [
    "mw_source.write('sweep_single',0)"
   ]
  },
  {
   "cell_type": "code",
   "execution_count": 71,
   "id": "9d37d472-d10f-4968-b1a2-237ec19b3cb0",
   "metadata": {},
   "outputs": [
    {
     "name": "stdout",
     "output_type": "stream",
     "text": [
      "False\n",
      "False\n",
      "False\n"
     ]
    }
   ],
   "source": [
    "print(mw_source[0].read('pll_power_on'))\n",
    "print(mw_source[0].read('pa_power_on'))\n",
    "print(mw_source[0].read('rf_enable'))"
   ]
  },
  {
   "cell_type": "code",
   "execution_count": 83,
   "id": "f903c576-3fc0-4c5e-ac97-0c40e4fb3c82",
   "metadata": {},
   "outputs": [],
   "source": [
    "mw_source[0].enable = True"
   ]
  },
  {
   "cell_type": "code",
   "execution_count": 3,
   "id": "88f9c9ff-dc5d-4632-af70-41e667f27181",
   "metadata": {},
   "outputs": [],
   "source": [
    "#we use the qcsapphire to deliver the trigger pulse\n",
    "import qcsapphire"
   ]
  },
  {
   "cell_type": "code",
   "execution_count": 4,
   "id": "e0df4b66-6458-44b9-8f7c-2c370f069341",
   "metadata": {},
   "outputs": [
    {
     "ename": "SerialException",
     "evalue": "could not open port 'COM6': FileNotFoundError(2, 'The system cannot find the file specified.', None, 2)",
     "output_type": "error",
     "traceback": [
      "\u001b[1;31m---------------------------------------------------------------------------\u001b[0m",
      "\u001b[1;31mSerialException\u001b[0m                           Traceback (most recent call last)",
      "Input \u001b[1;32mIn [4]\u001b[0m, in \u001b[0;36m<cell line: 1>\u001b[1;34m()\u001b[0m\n\u001b[1;32m----> 1\u001b[0m my_pulser \u001b[38;5;241m=\u001b[39m \u001b[43mqcsapphire\u001b[49m\u001b[38;5;241;43m.\u001b[39;49m\u001b[43mPulser\u001b[49m\u001b[43m(\u001b[49m\u001b[38;5;124;43m'\u001b[39;49m\u001b[38;5;124;43mCOM6\u001b[39;49m\u001b[38;5;124;43m'\u001b[39;49m\u001b[43m)\u001b[49m\n",
      "File \u001b[1;32m~\\anaconda3\\envs\\qdl-dev\\lib\\site-packages\\qcsapphire-1.0.0-py3.9.egg\\qcsapphire\\pulser.py:79\u001b[0m, in \u001b[0;36mPulser.__init__\u001b[1;34m(self, port, timeout)\u001b[0m\n\u001b[0;32m     77\u001b[0m \u001b[38;5;28mself\u001b[39m\u001b[38;5;241m.\u001b[39marg_separator \u001b[38;5;241m=\u001b[39m \u001b[38;5;124m'\u001b[39m\u001b[38;5;124m:\u001b[39m\u001b[38;5;124m'\u001b[39m\n\u001b[0;32m     78\u001b[0m \u001b[38;5;28mself\u001b[39m\u001b[38;5;241m.\u001b[39mlast_write_command \u001b[38;5;241m=\u001b[39m \u001b[38;5;28;01mNone\u001b[39;00m\n\u001b[1;32m---> 79\u001b[0m \u001b[38;5;28;43mself\u001b[39;49m\u001b[38;5;241;43m.\u001b[39;49m\u001b[43m_open\u001b[49m\u001b[43m(\u001b[49m\u001b[43m)\u001b[49m\n",
      "File \u001b[1;32m~\\anaconda3\\envs\\qdl-dev\\lib\\site-packages\\qcsapphire-1.0.0-py3.9.egg\\qcsapphire\\pulser.py:98\u001b[0m, in \u001b[0;36mPulser._open\u001b[1;34m(self)\u001b[0m\n\u001b[0;32m     96\u001b[0m \u001b[38;5;28;01mif\u001b[39;00m \u001b[38;5;28mself\u001b[39m\u001b[38;5;241m.\u001b[39m_inst \u001b[38;5;129;01mis\u001b[39;00m \u001b[38;5;129;01mnot\u001b[39;00m \u001b[38;5;28;01mNone\u001b[39;00m:\n\u001b[0;32m     97\u001b[0m     \u001b[38;5;28;01mraise\u001b[39;00m \u001b[38;5;167;01mRuntimeError\u001b[39;00m(\u001b[38;5;124m'\u001b[39m\u001b[38;5;124mDevice has already been opened.\u001b[39m\u001b[38;5;124m'\u001b[39m)\n\u001b[1;32m---> 98\u001b[0m \u001b[38;5;28mself\u001b[39m\u001b[38;5;241m.\u001b[39m_inst \u001b[38;5;241m=\u001b[39m \u001b[43mSerial\u001b[49m\u001b[43m(\u001b[49m\u001b[43mport\u001b[49m\u001b[38;5;241;43m=\u001b[39;49m\u001b[38;5;28;43mself\u001b[39;49m\u001b[38;5;241;43m.\u001b[39;49m\u001b[43m_port\u001b[49m\u001b[43m,\u001b[49m\u001b[43m \u001b[49m\u001b[43mtimeout\u001b[49m\u001b[38;5;241;43m=\u001b[39;49m\u001b[38;5;28;43mself\u001b[39;49m\u001b[38;5;241;43m.\u001b[39;49m\u001b[43m_timeout\u001b[49m\u001b[43m)\u001b[49m\n",
      "File \u001b[1;32m~\\anaconda3\\envs\\qdl-dev\\lib\\site-packages\\serial\\serialwin32.py:33\u001b[0m, in \u001b[0;36mSerial.__init__\u001b[1;34m(self, *args, **kwargs)\u001b[0m\n\u001b[0;32m     31\u001b[0m \u001b[38;5;28mself\u001b[39m\u001b[38;5;241m.\u001b[39m_overlapped_read \u001b[38;5;241m=\u001b[39m \u001b[38;5;28;01mNone\u001b[39;00m\n\u001b[0;32m     32\u001b[0m \u001b[38;5;28mself\u001b[39m\u001b[38;5;241m.\u001b[39m_overlapped_write \u001b[38;5;241m=\u001b[39m \u001b[38;5;28;01mNone\u001b[39;00m\n\u001b[1;32m---> 33\u001b[0m \u001b[38;5;28msuper\u001b[39m(Serial, \u001b[38;5;28mself\u001b[39m)\u001b[38;5;241m.\u001b[39m\u001b[38;5;21m__init__\u001b[39m(\u001b[38;5;241m*\u001b[39margs, \u001b[38;5;241m*\u001b[39m\u001b[38;5;241m*\u001b[39mkwargs)\n",
      "File \u001b[1;32m~\\anaconda3\\envs\\qdl-dev\\lib\\site-packages\\serial\\serialutil.py:244\u001b[0m, in \u001b[0;36mSerialBase.__init__\u001b[1;34m(self, port, baudrate, bytesize, parity, stopbits, timeout, xonxoff, rtscts, write_timeout, dsrdtr, inter_byte_timeout, exclusive, **kwargs)\u001b[0m\n\u001b[0;32m    241\u001b[0m     \u001b[38;5;28;01mraise\u001b[39;00m \u001b[38;5;167;01mValueError\u001b[39;00m(\u001b[38;5;124m'\u001b[39m\u001b[38;5;124munexpected keyword arguments: \u001b[39m\u001b[38;5;132;01m{!r}\u001b[39;00m\u001b[38;5;124m'\u001b[39m\u001b[38;5;241m.\u001b[39mformat(kwargs))\n\u001b[0;32m    243\u001b[0m \u001b[38;5;28;01mif\u001b[39;00m port \u001b[38;5;129;01mis\u001b[39;00m \u001b[38;5;129;01mnot\u001b[39;00m \u001b[38;5;28;01mNone\u001b[39;00m:\n\u001b[1;32m--> 244\u001b[0m     \u001b[38;5;28;43mself\u001b[39;49m\u001b[38;5;241;43m.\u001b[39;49m\u001b[43mopen\u001b[49m\u001b[43m(\u001b[49m\u001b[43m)\u001b[49m\n",
      "File \u001b[1;32m~\\anaconda3\\envs\\qdl-dev\\lib\\site-packages\\serial\\serialwin32.py:64\u001b[0m, in \u001b[0;36mSerial.open\u001b[1;34m(self)\u001b[0m\n\u001b[0;32m     62\u001b[0m \u001b[38;5;28;01mif\u001b[39;00m \u001b[38;5;28mself\u001b[39m\u001b[38;5;241m.\u001b[39m_port_handle \u001b[38;5;241m==\u001b[39m win32\u001b[38;5;241m.\u001b[39mINVALID_HANDLE_VALUE:\n\u001b[0;32m     63\u001b[0m     \u001b[38;5;28mself\u001b[39m\u001b[38;5;241m.\u001b[39m_port_handle \u001b[38;5;241m=\u001b[39m \u001b[38;5;28;01mNone\u001b[39;00m    \u001b[38;5;66;03m# 'cause __del__ is called anyway\u001b[39;00m\n\u001b[1;32m---> 64\u001b[0m     \u001b[38;5;28;01mraise\u001b[39;00m SerialException(\u001b[38;5;124m\"\u001b[39m\u001b[38;5;124mcould not open port \u001b[39m\u001b[38;5;132;01m{!r}\u001b[39;00m\u001b[38;5;124m: \u001b[39m\u001b[38;5;132;01m{!r}\u001b[39;00m\u001b[38;5;124m\"\u001b[39m\u001b[38;5;241m.\u001b[39mformat(\u001b[38;5;28mself\u001b[39m\u001b[38;5;241m.\u001b[39mportstr, ctypes\u001b[38;5;241m.\u001b[39mWinError()))\n\u001b[0;32m     66\u001b[0m \u001b[38;5;28;01mtry\u001b[39;00m:\n\u001b[0;32m     67\u001b[0m     \u001b[38;5;28mself\u001b[39m\u001b[38;5;241m.\u001b[39m_overlapped_read \u001b[38;5;241m=\u001b[39m win32\u001b[38;5;241m.\u001b[39mOVERLAPPED()\n",
      "\u001b[1;31mSerialException\u001b[0m: could not open port 'COM6': FileNotFoundError(2, 'The system cannot find the file specified.', None, 2)"
     ]
    }
   ],
   "source": [
    "my_pulser = qcsapphire.Pulser('COM6')"
   ]
  },
  {
   "cell_type": "code",
   "execution_count": 16,
   "id": "7f4034a6-8062-4713-b068-18d85c73b4d2",
   "metadata": {},
   "outputs": [
    {
     "data": {
      "text/plain": [
       "'ok'"
      ]
     },
     "execution_count": 16,
     "metadata": {},
     "output_type": "execute_result"
    }
   ],
   "source": [
    "my_pulser.pulse0.state(1)"
   ]
  },
  {
   "cell_type": "code",
   "execution_count": 5,
   "id": "f5e9ad2d-6071-4d76-9144-818a3fc6a30f",
   "metadata": {},
   "outputs": [
    {
     "data": {
      "text/plain": [
       "'ok'"
      ]
     },
     "execution_count": 5,
     "metadata": {},
     "output_type": "execute_result"
    }
   ],
   "source": [
    "my_pulser.pulse1.state(0)\n",
    "my_pulser.pulse2.state(0)\n",
    "my_pulser.pulse3.state(0)\n",
    "my_pulser.pulse4.state(0)"
   ]
  },
  {
   "cell_type": "code",
   "execution_count": 14,
   "id": "5dd574c1-52f4-4053-85e1-3ae072ddba21",
   "metadata": {},
   "outputs": [
    {
     "data": {
      "text/plain": [
       "'NORM'"
      ]
     },
     "execution_count": 14,
     "metadata": {},
     "output_type": "execute_result"
    }
   ],
   "source": [
    "my_pulser.pulse1.polarity('NORM')\n",
    "my_pulser.pulse1.polarity()"
   ]
  },
  {
   "cell_type": "code",
   "execution_count": 122,
   "id": "2e061330-fa82-416d-b86e-2e074d155e3a",
   "metadata": {},
   "outputs": [
    {
     "data": {
      "text/plain": [
       "'0.050000000'"
      ]
     },
     "execution_count": 122,
     "metadata": {},
     "output_type": "execute_result"
    }
   ],
   "source": []
  },
  {
   "cell_type": "code",
   "execution_count": 135,
   "id": "a7dda11d-9856-4843-afe4-81c6ab1fbbc2",
   "metadata": {},
   "outputs": [
    {
     "data": {
      "text/plain": [
       "'5.00'"
      ]
     },
     "execution_count": 135,
     "metadata": {},
     "output_type": "execute_result"
    }
   ],
   "source": [
    "my_pulser.pulse1.output.amplitude()"
   ]
  },
  {
   "cell_type": "code",
   "execution_count": 130,
   "id": "3fd31675-d781-4f35-b697-e23967ee0109",
   "metadata": {},
   "outputs": [
    {
     "data": {
      "text/plain": [
       "'ok'"
      ]
     },
     "execution_count": 130,
     "metadata": {},
     "output_type": "execute_result"
    }
   ],
   "source": [
    "my_pulser.pulse1.output.amplitude(5.)"
   ]
  },
  {
   "cell_type": "code",
   "execution_count": null,
   "id": "125f8828-de41-455e-b0dd-e81e22a2ec38",
   "metadata": {},
   "outputs": [],
   "source": []
  },
  {
   "cell_type": "code",
   "execution_count": 18,
   "id": "ffb54757-8b7d-4b9e-8add-575d49dfec59",
   "metadata": {},
   "outputs": [
    {
     "data": {
      "text/plain": [
       "'ok'"
      ]
     },
     "execution_count": 18,
     "metadata": {},
     "output_type": "execute_result"
    }
   ],
   "source": [
    "my_pulser.pulse1.cmode('NORM')\n",
    "my_pulser.pulse1.cmode()\n",
    "# my_pulser.pulse1.cmode('BURST')\n",
    "# print(my_pulser.pulse1.cmode())\n",
    "# print(my_pulser.pulse1.bcounter(100))\n",
    "my_pulser.pulse1.cmode('SINGLE')\n",
    "my_pulser.pulse1.cmode()\n",
    "my_pulser.pulse0.mode('SINGLE')"
   ]
  },
  {
   "cell_type": "code",
   "execution_count": 7,
   "id": "f2a6746e-2fdd-4bed-8d74-1cf3d5e64055",
   "metadata": {},
   "outputs": [
    {
     "data": {
      "text/plain": [
       "'DIS'"
      ]
     },
     "execution_count": 7,
     "metadata": {},
     "output_type": "execute_result"
    }
   ],
   "source": [
    "my_pulser.pulse0.external.mode()"
   ]
  },
  {
   "cell_type": "code",
   "execution_count": 12,
   "id": "75d53d87-fb13-4fae-80eb-36fb9cec9a11",
   "metadata": {},
   "outputs": [
    {
     "data": {
      "text/plain": [
       "'ok'"
      ]
     },
     "execution_count": 12,
     "metadata": {},
     "output_type": "execute_result"
    }
   ],
   "source": [
    "my_pulser.pulse1.state(1)"
   ]
  },
  {
   "cell_type": "code",
   "execution_count": 19,
   "id": "3e74eb13-2f9a-4d49-b2dd-cea8ae2dcdc6",
   "metadata": {},
   "outputs": [
    {
     "name": "stdout",
     "output_type": "stream",
     "text": [
      "system period: 0.100000000\n",
      "pulse 1 width: 0.050000000\n"
     ]
    }
   ],
   "source": [
    "#my_pulser.pulse0.period(.1)\n",
    "print(f'system period: {my_pulser.pulse0.period()}')\n",
    "#my_pulser.pulse1.width(0.05)\n",
    "print(f'pulse 1 width: {my_pulser.pulse1.width()}')"
   ]
  },
  {
   "cell_type": "code",
   "execution_count": 21,
   "id": "8284d9ce-018c-4697-a691-5be65a3c2faf",
   "metadata": {},
   "outputs": [
    {
     "ename": "Exception",
     "evalue": "Invalid parameter. Last write command == :PULSE0:EXTERNAL:MODE EXT",
     "output_type": "error",
     "traceback": [
      "\u001b[1;31m---------------------------------------------------------------------------\u001b[0m",
      "\u001b[1;31mException\u001b[0m                                 Traceback (most recent call last)",
      "Input \u001b[1;32mIn [21]\u001b[0m, in \u001b[0;36m<cell line: 1>\u001b[1;34m()\u001b[0m\n\u001b[1;32m----> 1\u001b[0m \u001b[43mmy_pulser\u001b[49m\u001b[38;5;241;43m.\u001b[39;49m\u001b[43mpulse0\u001b[49m\u001b[38;5;241;43m.\u001b[39;49m\u001b[43mexternal\u001b[49m\u001b[38;5;241;43m.\u001b[39;49m\u001b[43mmode\u001b[49m\u001b[43m(\u001b[49m\u001b[38;5;124;43m'\u001b[39;49m\u001b[38;5;124;43mEXT\u001b[39;49m\u001b[38;5;124;43m'\u001b[39;49m\u001b[43m)\u001b[49m\n",
      "File \u001b[1;32m~\\anaconda3\\envs\\qdl-dev\\lib\\site-packages\\qcsapphire-1.0.0-py3.9.egg\\qcsapphire\\pulser.py:68\u001b[0m, in \u001b[0;36mProperty.__call__\u001b[1;34m(self, *values)\u001b[0m\n\u001b[0;32m     65\u001b[0m values \u001b[38;5;241m=\u001b[39m \u001b[38;5;28mself\u001b[39m\u001b[38;5;241m.\u001b[39marg_separator\u001b[38;5;241m.\u001b[39mjoin( values )\n\u001b[0;32m     67\u001b[0m cmd \u001b[38;5;241m=\u001b[39m \u001b[38;5;124mf\u001b[39m\u001b[38;5;124m'\u001b[39m\u001b[38;5;132;01m{\u001b[39;00m\u001b[38;5;28mself\u001b[39m\u001b[38;5;241m.\u001b[39marg_separator\u001b[38;5;132;01m}\u001b[39;00m\u001b[38;5;132;01m{\u001b[39;00m \u001b[38;5;28mself\u001b[39m\u001b[38;5;241m.\u001b[39mname \u001b[38;5;132;01m}\u001b[39;00m\u001b[38;5;124m \u001b[39m\u001b[38;5;132;01m{\u001b[39;00m values \u001b[38;5;132;01m}\u001b[39;00m\u001b[38;5;124m'\u001b[39m\n\u001b[1;32m---> 68\u001b[0m \u001b[38;5;28;01mreturn\u001b[39;00m \u001b[38;5;28;43mself\u001b[39;49m\u001b[38;5;241;43m.\u001b[39;49m\u001b[43m__inst\u001b[49m\u001b[38;5;241;43m.\u001b[39;49m\u001b[43mquery\u001b[49m\u001b[43m(\u001b[49m\u001b[43m \u001b[49m\u001b[43mcmd\u001b[49m\u001b[43m \u001b[49m\u001b[43m)\u001b[49m\n",
      "File \u001b[1;32m~\\anaconda3\\envs\\qdl-dev\\lib\\site-packages\\qcsapphire-1.0.0-py3.9.egg\\qcsapphire\\pulser.py:193\u001b[0m, in \u001b[0;36mPulser.query\u001b[1;34m(self, data)\u001b[0m\n\u001b[0;32m    191\u001b[0m     return_val \u001b[38;5;241m=\u001b[39m \u001b[38;5;28mself\u001b[39m\u001b[38;5;241m.\u001b[39m_readlines()\n\u001b[0;32m    192\u001b[0m \u001b[38;5;28;01melse\u001b[39;00m:\n\u001b[1;32m--> 193\u001b[0m     return_val \u001b[38;5;241m=\u001b[39m \u001b[38;5;28;43mself\u001b[39;49m\u001b[38;5;241;43m.\u001b[39;49m\u001b[43m_readline\u001b[49m\u001b[43m(\u001b[49m\u001b[43m)\u001b[49m\n\u001b[0;32m    195\u001b[0m \u001b[38;5;28;01mreturn\u001b[39;00m return_val\n",
      "File \u001b[1;32m~\\anaconda3\\envs\\qdl-dev\\lib\\site-packages\\qcsapphire-1.0.0-py3.9.egg\\qcsapphire\\pulser.py:162\u001b[0m, in \u001b[0;36mPulser._readline\u001b[1;34m(self)\u001b[0m\n\u001b[0;32m    155\u001b[0m \u001b[38;5;124;03m'''\u001b[39;00m\n\u001b[0;32m    156\u001b[0m \u001b[38;5;124;03mRead from device.\u001b[39;00m\n\u001b[0;32m    157\u001b[0m \n\u001b[0;32m    158\u001b[0m \u001b[38;5;124;03mReturns:\u001b[39;00m\n\u001b[0;32m    159\u001b[0m \u001b[38;5;124;03m    a string response from the device.\u001b[39;00m\n\u001b[0;32m    160\u001b[0m \u001b[38;5;124;03m'''\u001b[39;00m\n\u001b[0;32m    161\u001b[0m rdata \u001b[38;5;241m=\u001b[39m \u001b[38;5;28mself\u001b[39m\u001b[38;5;241m.\u001b[39m_inst\u001b[38;5;241m.\u001b[39mreadline()\n\u001b[1;32m--> 162\u001b[0m \u001b[38;5;28;01mreturn\u001b[39;00m \u001b[38;5;28;43mself\u001b[39;49m\u001b[38;5;241;43m.\u001b[39;49m\u001b[43m_check_error\u001b[49m\u001b[43m(\u001b[49m\u001b[43mrdata\u001b[49m\u001b[38;5;241;43m.\u001b[39;49m\u001b[43mdecode\u001b[49m\u001b[43m(\u001b[49m\u001b[38;5;124;43m'\u001b[39;49m\u001b[38;5;124;43mutf-8\u001b[39;49m\u001b[38;5;124;43m'\u001b[39;49m\u001b[43m)\u001b[49m\u001b[38;5;241;43m.\u001b[39;49m\u001b[43mstrip\u001b[49m\u001b[43m(\u001b[49m\u001b[43m)\u001b[49m\u001b[43m)\u001b[49m\n",
      "File \u001b[1;32m~\\anaconda3\\envs\\qdl-dev\\lib\\site-packages\\qcsapphire-1.0.0-py3.9.egg\\qcsapphire\\pulser.py:129\u001b[0m, in \u001b[0;36mPulser._check_error\u001b[1;34m(self, string)\u001b[0m\n\u001b[0;32m    127\u001b[0m \u001b[38;5;28;01mexcept\u001b[39;00m \u001b[38;5;167;01mException\u001b[39;00m \u001b[38;5;28;01mas\u001b[39;00m e:\n\u001b[0;32m    128\u001b[0m     \u001b[38;5;28mself\u001b[39m\u001b[38;5;241m.\u001b[39m_readlines() \u001b[38;5;66;03m#flush out the read return on error to be ready for next query\u001b[39;00m\n\u001b[1;32m--> 129\u001b[0m     \u001b[38;5;28;01mraise\u001b[39;00m e\n\u001b[0;32m    131\u001b[0m \u001b[38;5;28;01mreturn\u001b[39;00m string\n",
      "File \u001b[1;32m~\\anaconda3\\envs\\qdl-dev\\lib\\site-packages\\qcsapphire-1.0.0-py3.9.egg\\qcsapphire\\pulser.py:118\u001b[0m, in \u001b[0;36mPulser._check_error\u001b[1;34m(self, string)\u001b[0m\n\u001b[0;32m    116\u001b[0m     \u001b[38;5;28;01mraise\u001b[39;00m \u001b[38;5;167;01mException\u001b[39;00m(\u001b[38;5;124mf\u001b[39m\u001b[38;5;124m'\u001b[39m\u001b[38;5;124mMissing parameter. Last write command == \u001b[39m\u001b[38;5;132;01m{\u001b[39;00m\u001b[38;5;28mself\u001b[39m\u001b[38;5;241m.\u001b[39mlast_write_command\u001b[38;5;132;01m}\u001b[39;00m\u001b[38;5;124m'\u001b[39m)\n\u001b[0;32m    117\u001b[0m \u001b[38;5;28;01melif\u001b[39;00m string[\u001b[38;5;241m1\u001b[39m] \u001b[38;5;241m==\u001b[39m \u001b[38;5;124m'\u001b[39m\u001b[38;5;124m5\u001b[39m\u001b[38;5;124m'\u001b[39m:\n\u001b[1;32m--> 118\u001b[0m     \u001b[38;5;28;01mraise\u001b[39;00m \u001b[38;5;167;01mException\u001b[39;00m(\u001b[38;5;124mf\u001b[39m\u001b[38;5;124m'\u001b[39m\u001b[38;5;124mInvalid parameter. Last write command == \u001b[39m\u001b[38;5;132;01m{\u001b[39;00m\u001b[38;5;28mself\u001b[39m\u001b[38;5;241m.\u001b[39mlast_write_command\u001b[38;5;132;01m}\u001b[39;00m\u001b[38;5;124m'\u001b[39m)\n\u001b[0;32m    119\u001b[0m \u001b[38;5;28;01melif\u001b[39;00m string[\u001b[38;5;241m1\u001b[39m] \u001b[38;5;241m==\u001b[39m \u001b[38;5;124m'\u001b[39m\u001b[38;5;124m6\u001b[39m\u001b[38;5;124m'\u001b[39m:\n\u001b[0;32m    120\u001b[0m     \u001b[38;5;28;01mraise\u001b[39;00m \u001b[38;5;167;01mException\u001b[39;00m(\u001b[38;5;124mf\u001b[39m\u001b[38;5;124m'\u001b[39m\u001b[38;5;124mQuery only, command needs a question mark. Last write command == \u001b[39m\u001b[38;5;132;01m{\u001b[39;00m\u001b[38;5;28mself\u001b[39m\u001b[38;5;241m.\u001b[39mlast_write_command\u001b[38;5;132;01m}\u001b[39;00m\u001b[38;5;124m'\u001b[39m)\n",
      "\u001b[1;31mException\u001b[0m: Invalid parameter. Last write command == :PULSE0:EXTERNAL:MODE EXT"
     ]
    }
   ],
   "source": [
    "my_pulser.pulse0.external.mode('EXT')"
   ]
  },
  {
   "cell_type": "code",
   "execution_count": 119,
   "id": "d0223029-b354-434a-a85c-1bdd17af83d2",
   "metadata": {},
   "outputs": [
    {
     "data": {
      "text/plain": [
       "'ok'"
      ]
     },
     "execution_count": 119,
     "metadata": {},
     "output_type": "execute_result"
    }
   ],
   "source": [
    "my_pulser.query('*RST')"
   ]
  },
  {
   "cell_type": "code",
   "execution_count": 84,
   "id": "c2eceee9-8433-4889-8458-7556c9d9504c",
   "metadata": {},
   "outputs": [],
   "source": [
    "import time\n",
    "for i in range(100):\n",
    "    time.sleep(0.2)\n",
    "    my_pulser.sof"
   ]
  },
  {
   "cell_type": "code",
   "execution_count": null,
   "id": "4857e1ed-0c7d-4767-8dd3-8fd7ba9cf499",
   "metadata": {},
   "outputs": [],
   "source": []
  }
 ],
 "metadata": {
  "kernelspec": {
   "display_name": "Python 3 (ipykernel)",
   "language": "python",
   "name": "python3"
  },
  "language_info": {
   "codemirror_mode": {
    "name": "ipython",
    "version": 3
   },
   "file_extension": ".py",
   "mimetype": "text/x-python",
   "name": "python",
   "nbconvert_exporter": "python",
   "pygments_lexer": "ipython3",
   "version": "3.9.12"
  }
 },
 "nbformat": 4,
 "nbformat_minor": 5
}
