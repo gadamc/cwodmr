{
 "cells": [
  {
   "cell_type": "code",
   "execution_count": 1,
   "id": "4a4ae899-dec7-4d40-86b2-40cebddc13da",
   "metadata": {},
   "outputs": [],
   "source": [
    "# run CW ODMR.\n",
    "# control the frequency changes \"manually\" with the code here instead of using external trigger"
   ]
  },
  {
   "cell_type": "code",
   "execution_count": 1,
   "id": "1ca4787b-1d40-41f4-b369-0218330710ea",
   "metadata": {},
   "outputs": [],
   "source": [
    "%matplotlib inline"
   ]
  },
  {
   "cell_type": "code",
   "execution_count": 2,
   "id": "99fcf75d-abc4-4d44-a16f-6c46533df478",
   "metadata": {},
   "outputs": [],
   "source": [
    "import nidaqmx\n",
    "import numpy as np\n",
    "import qt3rfsynthcontrol\n",
    "import ctypes\n",
    "import nidaqmx._lib  # Due to NIDAQmx C-API bug needed to bypass property getter (according to qudi)\n",
    "import nidaqmx.stream_readers\n",
    "import time\n",
    "import matplotlib.pyplot as plt\n",
    "import qcsapphire\n",
    "import pprint\n",
    "pp = pprint.PrettyPrinter(indent=4)"
   ]
  },
  {
   "cell_type": "code",
   "execution_count": 3,
   "id": "827c8e73-2d01-4456-a132-5e4a316a2887",
   "metadata": {},
   "outputs": [],
   "source": [
    "nisys = nidaqmx.system.System()\n",
    "device = nidaqmx.system.Device('Dev1')"
   ]
  },
  {
   "cell_type": "code",
   "execution_count": 4,
   "id": "41b9e1f9-ddee-431c-802b-d1fd528fe0d2",
   "metadata": {},
   "outputs": [
    {
     "data": {
      "text/plain": [
       "[]"
      ]
     },
     "execution_count": 4,
     "metadata": {},
     "output_type": "execute_result"
    }
   ],
   "source": [
    "list(nisys.tasks)"
   ]
  },
  {
   "cell_type": "code",
   "execution_count": 5,
   "id": "8f2888a1-2e0b-4009-83b0-00757bdbe4a1",
   "metadata": {},
   "outputs": [],
   "source": [
    "device.reset_device()"
   ]
  },
  {
   "cell_type": "code",
   "execution_count": 6,
   "id": "e7602296-36ae-4508-ab27-07c1d0b14643",
   "metadata": {},
   "outputs": [],
   "source": [
    "#list(nisys.devices)"
   ]
  },
  {
   "cell_type": "code",
   "execution_count": 7,
   "id": "0a5cdcd8-8f5a-4b66-b9b1-bd6299c1b992",
   "metadata": {},
   "outputs": [],
   "source": [
    "#device = nidaqmx.system.Device('Dev1')\n",
    "#list(device.ao_physical_chans)\n",
    "# list(device.ai_physical_chans)\n",
    "#list(device.di_lines)\n",
    "#list(device.do_lines)\n",
    "#list(device.co_physical_chans)\n",
    "#list(device.ci_physical_chans)\n",
    "# list(device.terminals)"
   ]
  },
  {
   "cell_type": "code",
   "execution_count": 8,
   "id": "9d407b3f-192c-4f01-991f-59ef2b75a78c",
   "metadata": {},
   "outputs": [],
   "source": [
    "#Configure the NI DAQ\n",
    "\n",
    "def configure_tasks(post_fix_task_name = None, \n",
    "                    device_name = 'Dev1',\n",
    "                    clock_counter = 'ctr1',\n",
    "                    clock_di_line = 'port0',\n",
    "                    edge_input_channel = 'PFI12',\n",
    "                    edge_input_counter = 'ctr2',\n",
    "                    clock_rate = 1000, \n",
    "                    N_data_samples_to_acquire = 500,\n",
    "                    trigger_input = None,\n",
    "                    new_edge_task = False,\n",
    "                    new_clock_task = False,\n",
    "                    continuous_daq = False):\n",
    "   \n",
    "    #clock_task_name = f'sample_clock{post_fix_task_name}' \n",
    "    clock_task = nidaqmx.Task()\n",
    "       \n",
    "    if new_clock_task:\n",
    "        clock_task.di_channels.add_di_chan(f'{device_name}/{clock_di_line}')\n",
    "        clock_task.timing.cfg_samp_clk_timing(clock_rate,\n",
    "                                    sample_mode=nidaqmx.constants.AcquisitionType.CONTINUOUS)\n",
    "     \n",
    "        clock_channel = f'/{device_name}/di/SampleClock'\n",
    "\n",
    "    else:\n",
    "        #this adds the clock signal to the output channel\n",
    "        #is this necessary? \n",
    "        clock_task.co_channels.add_co_pulse_chan_freq(\n",
    "                '/{0}/{1}'.format(device_name, clock_counter),\n",
    "                freq=clock_rate,\n",
    "                idle_state=nidaqmx.constants.Level.LOW)\n",
    "\n",
    "        # clock_task.timing.cfg_implicit_timing(\n",
    "        #     sample_mode=nidaqmx.constants.AcquisitionType.FINITE,\n",
    "        #     samps_per_chan=n_steps+2) #qudi configures with n_steps + 1, should recheck why. suspicious extra \"1\" floating around (n_steps = 101)\n",
    "\n",
    "        clock_task.timing.cfg_implicit_timing(\n",
    "            sample_mode=nidaqmx.constants.AcquisitionType.CONTINUOUS,\n",
    "            samps_per_chan=clock_rate) #qudi configures with n_steps + 1, should recheck why. suspicious extra \"1\" floating around (n_steps = 101)\n",
    "\n",
    "        clock_channel = '/{0}InternalOutput'.format(clock_task.channel_names[0])\n",
    "\n",
    "    #edge_detector_task_name = f'edge_input{post_fix_task_name}'\n",
    "\n",
    "    edge_detector_task = nidaqmx.Task()\n",
    "\n",
    "    #todo -- try to replace all of this with edge_detector_task.add_ci_count_edges_chan\n",
    "    \n",
    "    \n",
    "\n",
    "    ctr_name = f'/{device_name}/{edge_input_counter}'\n",
    "    chnl_name = f'/{device_name}/{edge_input_channel}'\n",
    "    \n",
    "    if new_edge_task: #following nspyre recipe -- this does not seem to work! \n",
    "        #I get counts out, but they are very weakly correlated to PL intensity compared to the qudi setup \n",
    "        #\n",
    "        channel = edge_detector_task.ci_channels.add_ci_count_edges_chan(\n",
    "                                    ctr_name,\n",
    "                                    edge=nidaqmx.constants.Edge.RISING,\n",
    "                                    initial_count=0,\n",
    "                                    count_direction=nidaqmx.constants.CountDirection.COUNT_UP)\n",
    "        channel.ci_count_edges_term = chnl_name \n",
    "        \n",
    "        if continuous_daq:\n",
    "            edge_detector_task.timing.cfg_samp_clk_timing(clock_rate, \n",
    "                                                          source=clock_channel,\n",
    "                                                          active_edge=nidaqmx.constants.Edge.RISING, \n",
    "                                                          sample_mode=nidaqmx.constants.AcquisitionType.CONTINUOUS)    \n",
    "        else:        \n",
    "            edge_detector_task.timing.cfg_samp_clk_timing(clock_rate, \n",
    "                                                          source=clock_channel,\n",
    "                                                          active_edge=nidaqmx.constants.Edge.RISING, \n",
    "                                                          sample_mode=nidaqmx.constants.AcquisitionType.FINITE,\n",
    "                                                          samps_per_chan=N_data_samples_to_acquire)\n",
    "        \n",
    "    else:\n",
    "        # why does qudi count the period of signal? In units of \"ticks\" -- is that the same as edge counting? \n",
    "        \n",
    "        edge_detector_task.ci_channels.add_ci_period_chan(\n",
    "                            ctr_name,\n",
    "                            min_val=0,\n",
    "                            max_val=100000000,\n",
    "                            units=nidaqmx.constants.TimeUnits.TICKS,\n",
    "                            edge=nidaqmx.constants.Edge.RISING)\n",
    "        # I get no data when I swap out the line above for this line\n",
    "        # edge_detector_task.ci_channels.add_ci_count_edges_chan(\n",
    "        #                             ctr_name,\n",
    "        #                             edge=nidaqmx.constants.Edge.RISING,\n",
    "        #                             initial_count=0,\n",
    "        #                             count_direction=nidaqmx.constants.CountDirection.COUNT_UP)\n",
    "        \n",
    "        # from qudi -- apparently this overcomes some kind of bug in the C-library, according to comments in qudi code\n",
    "        try:\n",
    "            # this sets the counter to read from the appropriate terminal\n",
    "            nidaqmx._lib.lib_importer.windll.DAQmxSetCIPeriodTerm(\n",
    "                edge_detector_task._handle,\n",
    "                ctypes.c_char_p(ctr_name.encode('ascii')),\n",
    "                ctypes.c_char_p(clock_channel.encode('ascii')))\n",
    "            \n",
    "            #this tells the counter which clock to use\n",
    "            nidaqmx._lib.lib_importer.windll.DAQmxSetCICtrTimebaseSrc(\n",
    "                edge_detector_task._handle,\n",
    "                ctypes.c_char_p(ctr_name.encode('ascii')),\n",
    "                ctypes.c_char_p(chnl_name.encode('ascii')))\n",
    "        except:\n",
    "            nidaqmx._lib.lib_importer.cdll.DAQmxSetCIPeriodTerm(\n",
    "                edge_detector_task._handle,\n",
    "                ctypes.c_char_p(ctr_name.encode('ascii')),\n",
    "                ctypes.c_char_p(clock_channel.encode('ascii')))\n",
    "            nidaqmx._lib.lib_importer.cdll.DAQmxSetCICtrTimebaseSrc(\n",
    "                edge_detector_task._handle,\n",
    "                ctypes.c_char_p(ctr_name.encode('ascii')),\n",
    "                ctypes.c_char_p(chnl_name.encode('ascii')))\n",
    "\n",
    "        edge_detector_task.timing.cfg_implicit_timing(sample_mode=nidaqmx.constants.AcquisitionType.FINITE,\n",
    "                                                      samps_per_chan=N_data_samples_to_acquire)\n",
    "    \n",
    "    if trigger_input:\n",
    "        trigger_channel = f'/{device_name}/{trigger_input}'\n",
    "        print(f'setting up trigger input on {trigger_channel}')\n",
    "        #for counters, we use 'arm-start-trigger' instead of 'start-trigger'. \n",
    "        #the ni documentation is confusing. just eat the fish. \n",
    "        edge_detector_task.triggers.arm_start_trigger.trig_type =  nidaqmx.constants.TriggerType.DIGITAL_EDGE\n",
    "        edge_detector_task.triggers.arm_start_trigger.dig_edge_edge =  nidaqmx.constants.Edge.RISING\n",
    "        edge_detector_task.triggers.arm_start_trigger.dig_edge_src = trigger_channel\n",
    "        \n",
    "        #this does not work. its designed for analog/digital input/output tasks, not counter tasks\n",
    "        #edge_detector_task.triggers.start_trigger.cfg_dig_edge_start_trig(trigger_channel)\n",
    "    \n",
    "\n",
    "    edge_detector_reader = nidaqmx.stream_readers.CounterReader(edge_detector_task.in_stream)\n",
    "    \n",
    "    return clock_task, edge_detector_task, edge_detector_reader\n",
    "\n"
   ]
  },
  {
   "cell_type": "code",
   "execution_count": 9,
   "id": "388fe371-4b44-49bd-956d-6aba9328da24",
   "metadata": {},
   "outputs": [],
   "source": [
    "def run_once(detector_task, detector_reader, clock_rate,  N_samples,  read_write_timeout=10, pulser = None):\n",
    "    \n",
    "    detector_task.wait_until_done() #this doesn't seem to always work\n",
    "    detector_task.start()\n",
    "    data_buffer = np.zeros(N_samples)\n",
    "    \n",
    "    if pulser:\n",
    "        pulser.software_trigger()\n",
    "    \n",
    "    time.sleep(N_samples / clock_rate * 1.1)\n",
    "    \n",
    "    read_samples = detector_reader.read_many_sample_double(\n",
    "                            data_buffer,\n",
    "                            number_of_samples_per_channel=N_samples,\n",
    "                            timeout=read_write_timeout)\n",
    "    detector_task.stop()\n",
    "    try:\n",
    "        assert read_samples == N_samples\n",
    "    except Exception as e:\n",
    "        print(e)\n",
    "        print(f'{read_samples} != {N_samples}')\n",
    "        raise e\n",
    "        \n",
    "    return data_buffer"
   ]
  },
  {
   "cell_type": "code",
   "execution_count": 10,
   "id": "58cde080-f381-4086-beb5-7eded14ca9da",
   "metadata": {},
   "outputs": [],
   "source": [
    "rfsynth = qt3rfsynthcontrol.QT3SynthHD('COM5')"
   ]
  },
  {
   "cell_type": "code",
   "execution_count": 11,
   "id": "604450bd-52e1-43b2-aa48-f82e1733e43a",
   "metadata": {},
   "outputs": [
    {
     "data": {
      "text/plain": [
       "[('model_type', 'WFT SynthHD 1694'),\n",
       " ('serial_number', 1694),\n",
       " ('fw_version', 'Firmware Version 3.23'),\n",
       " ('hw_version', 'Hardware Version 2.06'),\n",
       " ('sub_version', 'HD')]"
      ]
     },
     "execution_count": 11,
     "metadata": {},
     "output_type": "execute_result"
    }
   ],
   "source": [
    "rfsynth.hw_info()"
   ]
  },
  {
   "cell_type": "code",
   "execution_count": 12,
   "id": "f96aaddd-90e8-4c88-9272-ee46c97a4abf",
   "metadata": {},
   "outputs": [
    {
     "data": {
      "text/plain": [
       "[['COM3',\n",
       "  'Intel(R) Active Management Technology - SOL (COM3)',\n",
       "  'PCI\\\\VEN_8086&DEV_43E3&SUBSYS_0A541028&REV_11\\\\3&11583659&1&B3'],\n",
       " ['COM5',\n",
       "  'USB Serial Device (COM5)',\n",
       "  'USB VID:PID=0483:A3E5 SER=206A36705430 LOCATION=1-9:x.0'],\n",
       " ['COM7',\n",
       "  'USB Serial Device (COM7)',\n",
       "  'USB VID:PID=239A:8014 SER=3B0D07C25831555020312E341A3214FF LOCATION=1-10:x.0'],\n",
       " ['COM10',\n",
       "  'USB Serial Device (COM10)',\n",
       "  'USB VID:PID=04D8:000A SER= LOCATION=1-2:x.0']]"
      ]
     },
     "execution_count": 12,
     "metadata": {},
     "output_type": "execute_result"
    }
   ],
   "source": [
    "qcsapphire.discover_devices()"
   ]
  },
  {
   "cell_type": "code",
   "execution_count": 13,
   "id": "63fb38c4-6e9a-4cd8-b289-ae7dc452b6cf",
   "metadata": {},
   "outputs": [],
   "source": [
    "p = qcsapphire.Pulser('COM10')"
   ]
  },
  {
   "cell_type": "code",
   "execution_count": 14,
   "id": "e9c861d3-c27f-4270-b35d-5537fcd5e5d1",
   "metadata": {},
   "outputs": [],
   "source": [
    "p.set_all_state_off()"
   ]
  },
  {
   "cell_type": "code",
   "execution_count": 52,
   "id": "3ef69a51-fa5e-46b3-93e1-8930a24a7d5a",
   "metadata": {},
   "outputs": [],
   "source": [
    "p.close()\n",
    "p.open()"
   ]
  },
  {
   "cell_type": "code",
   "execution_count": 53,
   "id": "8c316a36-e619-40ad-be91-08ce4b8a1f49",
   "metadata": {},
   "outputs": [],
   "source": [
    "# set up pulser to hold open laser and MW\n",
    "aom_pulser_channel = 'A'\n",
    "mw_source_pulser_channel = 'B'"
   ]
  },
  {
   "cell_type": "code",
   "execution_count": 93,
   "id": "5134d740-b5dd-4310-9ade-04a7b5fea893",
   "metadata": {},
   "outputs": [
    {
     "data": {
      "text/plain": [
       "'ok'"
      ]
     },
     "execution_count": 93,
     "metadata": {},
     "output_type": "execute_result"
    }
   ],
   "source": [
    "p.system.mode('normal')\n",
    "p.system.period(.001)\n",
    "p.system.external.mode('disabled')"
   ]
  },
  {
   "cell_type": "code",
   "execution_count": 94,
   "id": "d9b156fe-faa3-4150-86db-ea27c8d2028c",
   "metadata": {},
   "outputs": [
    {
     "data": {
      "text/plain": [
       "'ok'"
      ]
     },
     "execution_count": 94,
     "metadata": {},
     "output_type": "execute_result"
    }
   ],
   "source": [
    "p.channel(aom_pulser_channel).cmode('normal')\n",
    "p.channel(aom_pulser_channel).polarity('normal')\n",
    "p.channel(aom_pulser_channel).width(0.9999*float(p.system.period()))\n",
    "p.channel(aom_pulser_channel).delay(0) \n",
    "p.channel(aom_pulser_channel).mux(2**(p._conver_channel_name_to_int(aom_pulser_channel)-1))\n",
    "\n",
    "p.channel(aom_pulser_channel).state(1)"
   ]
  },
  {
   "cell_type": "code",
   "execution_count": 95,
   "id": "10fed7a7-9004-4cac-bc87-ba66e48f1e5e",
   "metadata": {},
   "outputs": [
    {
     "data": {
      "text/plain": [
       "'ok'"
      ]
     },
     "execution_count": 95,
     "metadata": {},
     "output_type": "execute_result"
    }
   ],
   "source": [
    "#just output channel same as aom channel\n",
    "p.channel(mw_source_pulser_channel).mux(2**(p._conver_channel_name_to_int(aom_pulser_channel)-1))\n",
    "\n",
    "p.channel(mw_source_pulser_channel).state(1)"
   ]
  },
  {
   "cell_type": "code",
   "execution_count": 85,
   "id": "762b3322-b05c-4ea5-9d6a-1afe2d618fd7",
   "metadata": {},
   "outputs": [
    {
     "data": {
      "text/plain": [
       "'ok'"
      ]
     },
     "execution_count": 91,
     "metadata": {},
     "output_type": "execute_result"
    }
   ],
   "source": [
    "p.system.state(1)"
   ]
  },
  {
   "cell_type": "code",
   "execution_count": 15,
   "id": "841c9523-10df-4594-aa86-49f3b73a5fea",
   "metadata": {},
   "outputs": [
    {
     "name": "stdout",
     "output_type": "stream",
     "text": [
      "[   (':PULSE0:STATE?', '0'),\n",
      "    (':PULSE0:PERIOD?', '0.001000000'),\n",
      "    (':PULSE0:MODE?', 'NORM'),\n",
      "    (':PULSE0:BCOUNTER?', '5'),\n",
      "    (':PULSE0:PCOUNTER?', '3'),\n",
      "    (':PULSE0:OCOUNTER?', '2'),\n",
      "    (':PULSE0:EXTERNAL:MODE?', 'DIS'),\n",
      "    (':PULSE0:EXTERNAL:LEVEL?', '2.50'),\n",
      "    (':PULSE0:EXTERNAL:EDGE?', 'RIS'),\n",
      "    (':PULSE0:EXTERNAL:POLARITY?', 'HIGH')]\n",
      "'channel A'\n",
      "[   (':PULSE1:STATE?', '0'),\n",
      "    (':PULSE1:WIDTH?', '0.000999900'),\n",
      "    (':PULSE1:DELAY?', '0.00000000'),\n",
      "    (':PULSE1:SYNC?', 'T0'),\n",
      "    (':PULSE1:MUX?', '1'),\n",
      "    (':PULSE1:POLARITY?', 'NORM'),\n",
      "    (':PULSE1:OUTPUT:AMPLITUDE?', '5.00'),\n",
      "    (':PULSE1:CMODE?', 'NORM'),\n",
      "    (':PULSE1:BCOUNTER?', '5'),\n",
      "    (':PULSE1:PCOUNTER?', '4'),\n",
      "    (':PULSE1:WCOUNTER?', '0'),\n",
      "    (':PULSE1:CGATE?', 'DIS')]\n",
      "'channel B'\n",
      "[   (':PULSE2:STATE?', '0'),\n",
      "    (':PULSE2:WIDTH?', '0.999990000'),\n",
      "    (':PULSE2:DELAY?', '0.00000000'),\n",
      "    (':PULSE2:SYNC?', 'T0'),\n",
      "    (':PULSE2:MUX?', '1'),\n",
      "    (':PULSE2:POLARITY?', 'NORM'),\n",
      "    (':PULSE2:OUTPUT:AMPLITUDE?', '5.00'),\n",
      "    (':PULSE2:CMODE?', 'NORM'),\n",
      "    (':PULSE2:BCOUNTER?', '5'),\n",
      "    (':PULSE2:PCOUNTER?', '4'),\n",
      "    (':PULSE2:WCOUNTER?', '0'),\n",
      "    (':PULSE2:CGATE?', 'DIS')]\n",
      "'channel C'\n",
      "[   (':PULSE3:STATE?', '0'),\n",
      "    (':PULSE3:WIDTH?', '0.000100000'),\n",
      "    (':PULSE3:DELAY?', '0.00005300'),\n",
      "    (':PULSE3:SYNC?', 'T0'),\n",
      "    (':PULSE3:MUX?', '4'),\n",
      "    (':PULSE3:POLARITY?', 'NORM'),\n",
      "    (':PULSE3:OUTPUT:AMPLITUDE?', '5.00'),\n",
      "    (':PULSE3:CMODE?', 'NORM'),\n",
      "    (':PULSE3:BCOUNTER?', '5'),\n",
      "    (':PULSE3:PCOUNTER?', '4'),\n",
      "    (':PULSE3:WCOUNTER?', '0'),\n",
      "    (':PULSE3:CGATE?', 'DIS')]\n",
      "'channel D'\n",
      "[   (':PULSE4:STATE?', '0'),\n",
      "    (':PULSE4:WIDTH?', '0.000001000'),\n",
      "    (':PULSE4:DELAY?', '0.00000000'),\n",
      "    (':PULSE4:SYNC?', 'T0'),\n",
      "    (':PULSE4:MUX?', '7'),\n",
      "    (':PULSE4:POLARITY?', 'NORM'),\n",
      "    (':PULSE4:OUTPUT:AMPLITUDE?', '3.30'),\n",
      "    (':PULSE4:CMODE?', 'NORM'),\n",
      "    (':PULSE4:BCOUNTER?', '5'),\n",
      "    (':PULSE4:PCOUNTER?', '4'),\n",
      "    (':PULSE4:WCOUNTER?', '0'),\n",
      "    (':PULSE4:CGATE?', 'DIS')]\n"
     ]
    }
   ],
   "source": [
    "pp = pprint.PrettyPrinter(indent=4)\n",
    "pp.pprint(p.report_global_settings())\n",
    "\n",
    "for chan in p.channel_names()[1:]:\n",
    "    pp.pprint(f'channel {chan}')\n",
    "    pp.pprint(p.report_channel_settings(chan))"
   ]
  },
  {
   "cell_type": "code",
   "execution_count": 17,
   "id": "f9c3e5bd-c4df-46b0-a02e-10058664275b",
   "metadata": {},
   "outputs": [],
   "source": [
    "def run_with_options(freq_low, freq_high, freq_step,\n",
    "                     N_samples_per_step, clock_rate, \n",
    "                     trigger_input, pulser, rfsynth, \n",
    "                     use_new_edge_task, new_clock_task, \n",
    "                     continuous_daq, normalize, rf_power,\n",
    "                     cooling_time = 0):\n",
    "\n",
    "\n",
    "    data = None\n",
    "\n",
    "\n",
    "    try:\n",
    "        daq_time = N_samples_per_step / clock_rate\n",
    "        print(f'acquiring {daq_time} seconds of data per sample')\n",
    "\n",
    "        clock_task, edge_detector_task, edge_detector_reader = configure_tasks(post_fix_task_name = 'v4', \n",
    "                                                                                clock_rate = clock_rate, \n",
    "                                                                                N_data_samples_to_acquire = N_samples_per_step,\n",
    "                                                                                edge_input_channel = 'PFI12',\n",
    "                                                                                clock_counter = 'ctr1',\n",
    "                                                                                trigger_input = trigger_input,\n",
    "                                                                                new_edge_task = use_new_edge_task,\n",
    "                                                                                new_clock_task = new_clock_task,\n",
    "                                                                                continuous_daq = continuous_daq)\n",
    "\n",
    "        if clock_task:\n",
    "            clock_task.start()\n",
    "\n",
    "        data = {}\n",
    "        \n",
    "        current_freq = freq_low\n",
    "        step = 0\n",
    "\n",
    "        # if pulser:\n",
    "        #     pulser.system.state(1)\n",
    "        #     pulser.channel(daq_pulser_trigger_channel).state(1)\n",
    "\n",
    "        \n",
    "            \n",
    "        while current_freq < freq_high:\n",
    "            if rfsynth:\n",
    "                rfsynth.set_channel_fixed_output(0, rf_power, current_freq)\n",
    "                time.sleep(0.001)\n",
    "                \n",
    "            if normalize:\n",
    "                if rfsynth:\n",
    "                    rfsynth.rf_off(0)\n",
    "                    time.sleep(0.03)\n",
    "\n",
    "                normalized_count_rate_pre = run_once(edge_detector_task, edge_detector_reader, clock_rate, N_samples_per_step, read_write_timeout = 10, pulser = pulser)\n",
    "          \n",
    "                if rfsynth:\n",
    "                    rfsynth.rf_on(0)\n",
    "                    time.sleep(0.03)\n",
    "                \n",
    "            data_at_one_freq = run_once(edge_detector_task, edge_detector_reader, clock_rate, N_samples_per_step, read_write_timeout = 10, pulser = pulser)\n",
    "            \n",
    "            if normalize:\n",
    "                if rfsynth:\n",
    "                    rfsynth.rf_off(0)\n",
    "                    time.sleep(0.03)\n",
    "                normalized_count_rate_post = run_once(edge_detector_task, edge_detector_reader, clock_rate, N_samples_per_step, read_write_timeout = 10, pulser = pulser)\n",
    "                normalized_count_rate = np.mean([normalized_count_rate_pre,normalized_count_rate_post])\n",
    "                data[current_freq] = data_at_one_freq.mean() / normalized_count_rate\n",
    "            else:\n",
    "                data[current_freq] = data_at_one_freq.mean() * clock_rate\n",
    "                \n",
    "            if step % 10 == 0:\n",
    "                if normalize:\n",
    "                    print(f'{current_freq/1e9} GHz: {data[current_freq]} normalized intensity')\n",
    "                else:\n",
    "                    print(f'{current_freq/1e9} GHz: {data[current_freq]} mean counts/second')\n",
    "            current_freq += freq_step\n",
    "            step += 1\n",
    "            \n",
    "            time.sleep(cooling_time)\n",
    "            \n",
    "    except Exception as e:\n",
    "        print(e)\n",
    "        raise(e)\n",
    "\n",
    "    finally:\n",
    "\n",
    "        try:\n",
    "            if rfsynth:\n",
    "                rfsynth.rf_off(0)\n",
    "            # if pulser:\n",
    "            #     pulser.system.state(0)\n",
    "            #     pulser.channel(daq_pulser_trigger_channel).state(0)\n",
    "        except Exception as e:\n",
    "            print(e)\n",
    "\n",
    "        try:\n",
    "            if clock_task:\n",
    "                clock_task.stop()\n",
    "        except Exception as e:\n",
    "            print(e)\n",
    "\n",
    "        try:\n",
    "            if clock_task:\n",
    "                clock_task.close()\n",
    "        except Exception as e:\n",
    "            print(e)\n",
    "\n",
    "        try:\n",
    "            if edge_detector_task:\n",
    "                edge_detector_task.close()\n",
    "        except Exception as e:\n",
    "            print(e)\n",
    "            \n",
    "        return data"
   ]
  },
  {
   "cell_type": "code",
   "execution_count": 35,
   "id": "f2c10a55-7531-43fb-9702-4735249ed4ac",
   "metadata": {},
   "outputs": [],
   "source": [
    "rfsynth.set_channel_fixed_output(0, -5, 2800e6)\n",
    "rfsynth.rf_on(0)"
   ]
  },
  {
   "cell_type": "code",
   "execution_count": null,
   "id": "db9e43ff-fa89-423d-aacf-a958cf439179",
   "metadata": {},
   "outputs": [],
   "source": []
  },
  {
   "cell_type": "code",
   "execution_count": 37,
   "id": "805b3856-83b1-4ee4-a2cd-083288a05902",
   "metadata": {},
   "outputs": [
    {
     "name": "stdout",
     "output_type": "stream",
     "text": [
      "acquiring 0.25 seconds of data per sample\n",
      "2.85 GHz: 0.9832245955042997 normalized intensity\n",
      "2.86 GHz: 0.9488346932335572 normalized intensity\n",
      "2.87 GHz: 0.9009067241224525 normalized intensity\n",
      "2.88 GHz: 0.9317367205957653 normalized intensity\n",
      "2.89 GHz: 0.9724927387664446 normalized intensity\n"
     ]
    },
    {
     "data": {
      "text/plain": [
       "[<matplotlib.lines.Line2D at 0x1e52af14fa0>]"
      ]
     },
     "execution_count": 37,
     "metadata": {},
     "output_type": "execute_result"
    },
    {
     "data": {
      "image/png": "[encoded data removed]",
      "text/plain": [
       "<Figure size 432x288 with 1 Axes>"
      ]
     },
     "metadata": {
      "needs_background": "light"
     },
     "output_type": "display_data"
    }
   ],
   "source": [
    "#now hardware is set up in podmr with AOM held open -- green laser power is significantly smaller than before\n",
    "\n",
    "freq_low = 2850e6\n",
    "freq_high = 2900e6\n",
    "freq_step = 1e6\n",
    "N = 50\n",
    "clock_rate = 200 #Hz\n",
    "trigger_input = None\n",
    "pulser = None\n",
    "rf = rfsynth\n",
    "use_new_edge_task = False\n",
    "new_clock_task = True\n",
    "continuous_daq = False\n",
    "normalize = True\n",
    "rf_power = -5\n",
    "\n",
    "\n",
    "data_qudi_style = run_with_options(freq_low, freq_high, freq_step,  N, clock_rate, \n",
    "                                   trigger_input, pulser, rf, use_new_edge_task, \n",
    "                                   new_clock_task, continuous_daq, normalize, rf_power)\n",
    "    \n",
    "    \n",
    "plt.plot(data_qudi_style.keys(), data_qudi_style.values())"
   ]
  },
  {
   "cell_type": "code",
   "execution_count": 39,
   "id": "2104fe25-81be-4050-83a8-98c5fd6d5b25",
   "metadata": {},
   "outputs": [
    {
     "name": "stdout",
     "output_type": "stream",
     "text": [
      "acquiring 0.25 seconds of data per sample\n",
      "2.85 GHz: 1.0023966770558677 normalized intensity\n",
      "2.86 GHz: 0.9961617107613976 normalized intensity\n",
      "2.87 GHz: 0.9856647684718702 normalized intensity\n",
      "2.88 GHz: 0.9931565587430352 normalized intensity\n",
      "2.89 GHz: 0.9933000570613953 normalized intensity\n"
     ]
    },
    {
     "data": {
      "text/plain": [
       "[<matplotlib.lines.Line2D at 0x1c566a922e0>]"
      ]
     },
     "execution_count": 39,
     "metadata": {},
     "output_type": "execute_result"
    },
    {
     "data": {
      "image/png": "[encoded data removed]",
      "text/plain": [
       "<Figure size 432x288 with 1 Axes>"
      ]
     },
     "metadata": {
      "needs_background": "light"
     },
     "output_type": "display_data"
    }
   ],
   "source": [
    "#now hardware is set up in podmr with AOM held open -- green laser power is significantly smaller than before\n",
    "\n",
    "#using the pulser\n",
    "freq_low = 2850e6\n",
    "freq_high = 2900e6\n",
    "freq_step = 1e6\n",
    "N = 50\n",
    "clock_rate = 200 #Hz\n",
    "trigger_input = None\n",
    "pulser = None\n",
    "rf = rfsynth\n",
    "use_new_edge_task = True\n",
    "new_clock_task = True\n",
    "continuous_daq = False\n",
    "normalize = True\n",
    "rf_power = -20\n",
    "\n",
    "# pulser.system.state(1)\n",
    "# pulser.channel(daq_pulser_trigger_channel).state(1)\n",
    "    \n",
    "data_qudi_style = run_with_options(freq_low, freq_high, freq_step,  N, clock_rate, \n",
    "                                   trigger_input, pulser, rf, use_new_edge_task, \n",
    "                                   new_clock_task, continuous_daq, normalize, rf_power)\n",
    "\n",
    "# pulser.system.state(0)\n",
    "# pulser.channel(daq_pulser_trigger_channel).state(0)\n",
    "    \n",
    "plt.plot(data_qudi_style.keys(), data_qudi_style.values())"
   ]
  },
  {
   "cell_type": "code",
   "execution_count": 37,
   "id": "271eec9f-e623-4f37-bdcb-5d9bf443ed48",
   "metadata": {},
   "outputs": [
    {
     "name": "stdout",
     "output_type": "stream",
     "text": [
      "acquiring 0.25 seconds of data per sample\n",
      "setting up trigger input on /Dev1/PFI0\n",
      "2.85 GHz: 1.0049004246842919 normalized intensity\n",
      "2.86 GHz: 1.0041783098289374 normalized intensity\n",
      "2.87 GHz: 0.9826495714351425 normalized intensity\n",
      "2.88 GHz: 0.9936019444196783 normalized intensity\n",
      "2.89 GHz: 1.0069112840936376 normalized intensity\n"
     ]
    },
    {
     "data": {
      "text/plain": [
       "[<matplotlib.lines.Line2D at 0x1c5669ebf10>]"
      ]
     },
     "execution_count": 37,
     "metadata": {},
     "output_type": "execute_result"
    },
    {
     "data": {
      "image/png": "[encoded data removed]",
      "text/plain": [
       "<Figure size 432x288 with 1 Axes>"
      ]
     },
     "metadata": {
      "needs_background": "light"
     },
     "output_type": "display_data"
    }
   ],
   "source": [
    "#now hardware is set up in podmr with AOM held open -- green laser power is significantly smaller than before\n",
    "\n",
    "#using the pulser\n",
    "freq_low = 2850e6\n",
    "freq_high = 2900e6\n",
    "freq_step = 1e6\n",
    "N = 50\n",
    "clock_rate = 200 #Hz\n",
    "trigger_input = 'PFI0'\n",
    "pulser = p\n",
    "rf = rfsynth\n",
    "use_new_edge_task = True\n",
    "new_clock_task = True\n",
    "continuous_daq = False\n",
    "normalize = True\n",
    "rf_power = -20\n",
    "\n",
    "pulser.system.state(1)\n",
    "pulser.channel(daq_pulser_trigger_channel).state(1)\n",
    "    \n",
    "data_qudi_style = run_with_options(freq_low, freq_high, freq_step,  N, clock_rate, \n",
    "                                   trigger_input, pulser, rf, use_new_edge_task, \n",
    "                                   new_clock_task, continuous_daq, normalize, rf_power)\n",
    "\n",
    "pulser.system.state(0)\n",
    "pulser.channel(daq_pulser_trigger_channel).state(0)\n",
    "    \n",
    "plt.plot(data_qudi_style.keys(), data_qudi_style.values())"
   ]
  },
  {
   "cell_type": "code",
   "execution_count": 60,
   "id": "a2992b24-e2d8-43e0-8dcc-911cb9f62f15",
   "metadata": {},
   "outputs": [
    {
     "name": "stdout",
     "output_type": "stream",
     "text": [
      "acquiring 0.25 seconds of data per sample\n",
      "setting up trigger input on /Dev1/PFI0\n",
      "fake trigger\n",
      "Some or all of the samples requested have not yet been acquired.\n",
      "To wait for the samples to become available use a longer read timeout or read later in your program. To make the samples available sooner, increase the sample rate. If your task uses a start trigger,  make sure that your start trigger is configured correctly. It is also possible that you configured the task for external timing, and no clock was supplied. If this is the case, supply an external clock.\n",
      "Property: DAQmx_Read_RelativeTo\n",
      "Requested Value: DAQmx_Val_CurrReadPos\n",
      "\n",
      "Property: DAQmx_Read_Offset\n",
      "Requested Value: 0\n",
      "\n",
      "Task Name: edge_inputv162\n",
      "\n",
      "Status Code: -200284\n"
     ]
    },
    {
     "data": {
      "text/plain": [
       "[<matplotlib.lines.Line2D at 0x1780b74c5b0>]"
      ]
     },
     "execution_count": 60,
     "metadata": {},
     "output_type": "execute_result"
    },
    {
     "data": {
      "image/png": "[encoded data removed]",
      "text/plain": [
       "<Figure size 432x288 with 1 Axes>"
      ]
     },
     "metadata": {
      "needs_background": "light"
     },
     "output_type": "display_data"
    }
   ],
   "source": [
    "#now hardware is set up in podmr with AOM held open -- green laser power is significantly smaller than before\n",
    "\n",
    "#using the pulser\n",
    "\n",
    "class FakePulser:\n",
    "    def software_trigger(self):\n",
    "        print('fake trigger')\n",
    "    \n",
    "freq_low = 2850e6\n",
    "freq_high = 2900e6\n",
    "freq_step = 1e6\n",
    "N = 50\n",
    "clock_rate = 200 #Hz\n",
    "trigger_input = 'PFI0'\n",
    "pulser = FakePulser()\n",
    "rf = rfsynth\n",
    "use_new_edge_task = False\n",
    "new_clock_task = False\n",
    "continuous_daq = False\n",
    "normalize = True\n",
    "rf_power = -20\n",
    "\n",
    "data_qudi_style = run_with_options(freq_low, freq_high, freq_step,  N, clock_rate, \n",
    "                                   trigger_input, pulser, rf, use_new_edge_task, \n",
    "                                   new_clock_task, continuous_daq, normalize, rf_power)\n",
    "plt.plot(data_qudi_style.keys(), data_qudi_style.values())"
   ]
  },
  {
   "cell_type": "code",
   "execution_count": 40,
   "id": "3f2c19da-f4ec-4dad-ba80-050c3c626352",
   "metadata": {},
   "outputs": [
    {
     "name": "stdout",
     "output_type": "stream",
     "text": [
      "acquiring 0.25 seconds of data per sample\n",
      "setting up trigger input on /Dev1/PFI0\n",
      "2.85 GHz: 0.9980433043041465 normalized intensity\n",
      "2.86 GHz: 1.0031262647295165 normalized intensity\n",
      "2.87 GHz: 0.9649572450429879 normalized intensity\n",
      "2.88 GHz: 0.9918390697239994 normalized intensity\n",
      "2.89 GHz: 1.0007942069609903 normalized intensity\n"
     ]
    },
    {
     "data": {
      "text/plain": [
       "[<matplotlib.lines.Line2D at 0x1c566ad3640>]"
      ]
     },
     "execution_count": 40,
     "metadata": {},
     "output_type": "execute_result"
    },
    {
     "data": {
      "image/png": "[encoded data removed]",
      "text/plain": [
       "<Figure size 432x288 with 1 Axes>"
      ]
     },
     "metadata": {
      "needs_background": "light"
     },
     "output_type": "display_data"
    }
   ],
   "source": [
    "#now hardware is set up in podmr with AOM held open -- green laser power is significantly smaller than before\n",
    "\n",
    "#using the pulser\n",
    "freq_low = 2850e6\n",
    "freq_high = 2900e6\n",
    "freq_step = 1e6\n",
    "N = 50\n",
    "clock_rate = 200 #Hz\n",
    "trigger_input = 'PFI0'\n",
    "pulser = p\n",
    "rf = rfsynth\n",
    "use_new_edge_task = False\n",
    "new_clock_task = False\n",
    "continuous_daq = False\n",
    "normalize = True\n",
    "rf_power = -20\n",
    "\n",
    "pulser.system.state(1)\n",
    "pulser.channel(daq_pulser_trigger_channel).state(1)\n",
    "    \n",
    "data_qudi_style = run_with_options(freq_low, freq_high, freq_step,  N, clock_rate, \n",
    "                                   trigger_input, pulser, rf, use_new_edge_task, \n",
    "                                   new_clock_task, continuous_daq, normalize, rf_power)\n",
    "\n",
    "pulser.system.state(0)\n",
    "pulser.channel(daq_pulser_trigger_channel).state(0)\n",
    "    \n",
    "plt.plot(data_qudi_style.keys(), data_qudi_style.values())"
   ]
  },
  {
   "cell_type": "code",
   "execution_count": null,
   "id": "c979579e-cc75-404c-9509-ef64bbdbc574",
   "metadata": {},
   "outputs": [],
   "source": []
  }
 ],
 "metadata": {
  "kernelspec": {
   "display_name": "Python 3 (ipykernel)",
   "language": "python",
   "name": "python3"
  },
  "language_info": {
   "codemirror_mode": {
    "name": "ipython",
    "version": 3
   },
   "file_extension": ".py",
   "mimetype": "text/x-python",
   "name": "python",
   "nbconvert_exporter": "python",
   "pygments_lexer": "ipython3",
   "version": "3.9.12"
  }
 },
 "nbformat": 4,
 "nbformat_minor": 5
}
