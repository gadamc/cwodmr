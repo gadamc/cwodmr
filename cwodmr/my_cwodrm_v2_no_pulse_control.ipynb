{
 "cells": [
  {
   "cell_type": "code",
   "execution_count": 1,
   "id": "4a4ae899-dec7-4d40-86b2-40cebddc13da",
   "metadata": {},
   "outputs": [],
   "source": [
    "# run CW ODMR.\n",
    "# control the frequency changes \"manually\" with the code here instead of using external trigger"
   ]
  },
  {
   "cell_type": "code",
   "execution_count": 1,
   "id": "1ca4787b-1d40-41f4-b369-0218330710ea",
   "metadata": {},
   "outputs": [],
   "source": [
    "%matplotlib inline"
   ]
  },
  {
   "cell_type": "code",
   "execution_count": 2,
   "id": "99fcf75d-abc4-4d44-a16f-6c46533df478",
   "metadata": {},
   "outputs": [],
   "source": [
    "import nidaqmx\n",
    "import numpy as np\n",
    "import qt3rfsynthcontrol\n",
    "import ctypes\n",
    "import nidaqmx._lib  # Due to NIDAQmx C-API bug needed to bypass property getter (according to qudi)\n",
    "import nidaqmx.stream_readers\n",
    "import time\n",
    "import matplotlib.pyplot as plt"
   ]
  },
  {
   "cell_type": "code",
   "execution_count": 5,
   "id": "9d407b3f-192c-4f01-991f-59ef2b75a78c",
   "metadata": {},
   "outputs": [],
   "source": [
    "#Configure the NI DAQ\n",
    "\n",
    "def configure_tasks(post_fix_task_name = None, \n",
    "                    device_name = 'Dev1',\n",
    "                    clock_counter = 'ctr1',\n",
    "                    edge_input_channel = 'PFI0',\n",
    "                    edge_input_counter = 'ctr2',\n",
    "                    clock_rate = 1000, \n",
    "                    N_data_samples_to_acquire = 500):\n",
    "   \n",
    "    clock_task_name = f'sample_clock{post_fix_task_name}' \n",
    "    clock_task = nidaqmx.Task(clock_task_name)\n",
    "       \n",
    "    #this adds the clock singal to the output channel \n",
    "    clock_task.co_channels.add_co_pulse_chan_freq(\n",
    "            '/{0}/{1}'.format(device_name, clock_counter),\n",
    "            freq=clock_rate,\n",
    "            idle_state=nidaqmx.constants.Level.LOW)\n",
    "\n",
    "    # clock_task.timing.cfg_implicit_timing(\n",
    "    #     sample_mode=nidaqmx.constants.AcquisitionType.FINITE,\n",
    "    #     samps_per_chan=n_steps+2) #qudi configures with n_steps + 1, should recheck why. suspicious extra \"1\" floating around (n_steps = 101)\n",
    "\n",
    "    clock_task.timing.cfg_implicit_timing(\n",
    "        sample_mode=nidaqmx.constants.AcquisitionType.CONTINUOUS,\n",
    "        samps_per_chan=1000) #qudi configures with n_steps + 1, should recheck why. suspicious extra \"1\" floating around (n_steps = 101)\n",
    "\n",
    "    \n",
    "    edge_detector_task_name = f'edge_input{post_fix_task_name}'\n",
    "\n",
    "    edge_detector_task = nidaqmx.Task(edge_detector_task_name)\n",
    "\n",
    "    ctr_name = '/{0}/{1}'.format(device_name, edge_input_counter)\n",
    "    edge_detector_task.ci_channels.add_ci_period_chan(\n",
    "                        ctr_name,\n",
    "                        min_val=0,\n",
    "                        max_val=100000000,\n",
    "                        units=nidaqmx.constants.TimeUnits.TICKS,\n",
    "                        edge=nidaqmx.constants.Edge.RISING)\n",
    "\n",
    "    # from qudi -- apparently this overcomes some kind of bug in the C-library, according to comments in qudi code\n",
    "    chnl_name = '/{0}/{1}'.format(device_name, edge_input_channel)\n",
    "    clock_channel = '/{0}InternalOutput'.format(clock_task.channel_names[0])\n",
    "\n",
    "    try:\n",
    "        nidaqmx._lib.lib_importer.windll.DAQmxSetCIPeriodTerm(\n",
    "            edge_detector_task._handle,\n",
    "            ctypes.c_char_p(ctr_name.encode('ascii')),\n",
    "            ctypes.c_char_p(clock_channel.encode('ascii')))\n",
    "        nidaqmx._lib.lib_importer.windll.DAQmxSetCICtrTimebaseSrc(\n",
    "            edge_detector_task._handle,\n",
    "            ctypes.c_char_p(ctr_name.encode('ascii')),\n",
    "            ctypes.c_char_p(chnl_name.encode('ascii')))\n",
    "    except:\n",
    "        nidaqmx._lib.lib_importer.cdll.DAQmxSetCIPeriodTerm(\n",
    "            edge_detector_task._handle,\n",
    "            ctypes.c_char_p(ctr_name.encode('ascii')),\n",
    "            ctypes.c_char_p(clock_channel.encode('ascii')))\n",
    "        nidaqmx._lib.lib_importer.cdll.DAQmxSetCICtrTimebaseSrc(\n",
    "            edge_detector_task._handle,\n",
    "            ctypes.c_char_p(ctr_name.encode('ascii')),\n",
    "            ctypes.c_char_p(chnl_name.encode('ascii')))\n",
    "\n",
    "    edge_detector_task.timing.cfg_implicit_timing(\n",
    "        sample_mode=nidaqmx.constants.AcquisitionType.FINITE,\n",
    "        samps_per_chan=N_data_samples_to_acquire)\n",
    "\n",
    "    edge_detector_reader = nidaqmx.stream_readers.CounterReader(edge_detector_task.in_stream)\n",
    "    \n",
    "    return clock_task, edge_detector_task, edge_detector_reader\n",
    "\n"
   ]
  },
  {
   "cell_type": "code",
   "execution_count": 6,
   "id": "388fe371-4b44-49bd-956d-6aba9328da24",
   "metadata": {},
   "outputs": [],
   "source": [
    "def run_once(detector_task, detector_reader, clock_rate,  N_samples,  read_write_timeout=10):\n",
    "    detector_task.start()\n",
    "    data_buffer = np.zeros(N_samples)\n",
    "    time.sleep(1.1*N_samples / clock_rate) # need to wait for data to acquire\n",
    "    read_samples = detector_reader.read_many_sample_double(\n",
    "                            data_buffer,\n",
    "                            number_of_samples_per_channel=N_samples,\n",
    "                            timeout=read_write_timeout)\n",
    "    detector_task.stop()\n",
    "    try:\n",
    "        assert read_samples == N_samples\n",
    "    except Exception as e:\n",
    "        print(e)\n",
    "        print(f'{read_samples} != {N_samples}')\n",
    "        raise e\n",
    "        \n",
    "    return data_buffer"
   ]
  },
  {
   "cell_type": "code",
   "execution_count": 7,
   "id": "58cde080-f381-4086-beb5-7eded14ca9da",
   "metadata": {},
   "outputs": [],
   "source": [
    "rfsynth = qt3rfsynthcontrol.QT3SynthHD('COM5')"
   ]
  },
  {
   "cell_type": "code",
   "execution_count": 8,
   "id": "604450bd-52e1-43b2-aa48-f82e1733e43a",
   "metadata": {},
   "outputs": [
    {
     "data": {
      "text/plain": [
       "[('model_type', 'WFT SynthHD 1694'),\n",
       " ('serial_number', 1694),\n",
       " ('fw_version', 'Firmware Version 3.23'),\n",
       " ('hw_version', 'Hardware Version 2.06'),\n",
       " ('sub_version', 'HD')]"
      ]
     },
     "execution_count": 8,
     "metadata": {},
     "output_type": "execute_result"
    }
   ],
   "source": [
    "rfsynth.hw_info()"
   ]
  },
  {
   "cell_type": "code",
   "execution_count": 13,
   "id": "f9c3e5bd-c4df-46b0-a02e-10058664275b",
   "metadata": {},
   "outputs": [],
   "source": [
    "freq_low = 2820e6\n",
    "freq_high = 3130e6\n",
    "freq_step = 1e6\n",
    "\n",
    "N = 50\n",
    "clock_rate = 200\n",
    "clock_task, edge_detector_task, edge_detector_reader = configure_tasks(post_fix_task_name = 'v3', \n",
    "                                                                       clock_rate = clock_rate, \n",
    "                                                                       N_data_samples_to_acquire = N)\n",
    "\n",
    "clock_task.start()"
   ]
  },
  {
   "cell_type": "code",
   "execution_count": 14,
   "id": "51243653-0d71-4648-907f-b62ae41b65d9",
   "metadata": {},
   "outputs": [],
   "source": [
    "data = {}\n",
    "rfsynth.rf_on(0)\n",
    "current_freq = freq_low\n",
    "step = 0\n",
    "while current_freq < freq_high:\n",
    "    rfsynth.set_channel_fixed_output(0, -5.0, current_freq)\n",
    "    data_at_one_freq = run_once(edge_detector_task, edge_detector_reader, clock_rate, N)\n",
    "    data[current_freq] = data_at_one_freq.mean()*clock_rate\n",
    "    if step % 10 == 0:\n",
    "        print(f'{current_freq/1e9} GHz: {data_at_one_freq.mean()*clock_rate}')\n",
    "    current_freq += freq_step\n",
    "    step += 1\n",
    "\n",
    "  "
   ]
  },
  {
   "cell_type": "code",
   "execution_count": 16,
   "id": "1b518b50-6ed7-476d-aa5d-4b696a141d35",
   "metadata": {},
   "outputs": [],
   "source": [
    "rfsynth.rf_off(0)\n",
    "clock_task.stop()\n",
    "clock_task.close()\n",
    "edge_detector_task.close()"
   ]
  },
  {
   "cell_type": "code",
   "execution_count": 15,
   "id": "3f2c19da-f4ec-4dad-ba80-050c3c626352",
   "metadata": {},
   "outputs": [
    {
     "data": {
      "text/plain": [
       "[<matplotlib.lines.Line2D at 0x1e022e970a0>]"
      ]
     },
     "execution_count": 15,
     "metadata": {},
     "output_type": "execute_result"
    },
    {
     "data": {
      "image/png": "[encoded data removed]",
      "text/plain": [
       "<Figure size 432x288 with 1 Axes>"
      ]
     },
     "metadata": {
      "needs_background": "light"
     },
     "output_type": "display_data"
    }
   ],
   "source": [
    "plt.plot(data.keys(), data.values())"
   ]
  },
  {
   "cell_type": "code",
   "execution_count": 12,
   "id": "af342ebe-a5b3-4a61-87e6-b6eb56615fba",
   "metadata": {},
   "outputs": [
    {
     "data": {
      "text/plain": [
       "[<matplotlib.lines.Line2D at 0x1e022e06820>]"
      ]
     },
     "execution_count": 12,
     "metadata": {},
     "output_type": "execute_result"
    },
    {
     "data": {
      "image/png": "[encoded data removed]",
      "text/plain": [
       "<Figure size 432x288 with 1 Axes>"
      ]
     },
     "metadata": {
      "needs_background": "light"
     },
     "output_type": "display_data"
    }
   ],
   "source": [
    "plt.plot(data.keys(), data.values())"
   ]
  },
  {
   "cell_type": "code",
   "execution_count": 17,
   "id": "95d98747-a3d9-4c3d-bb0d-eaddba6e166f",
   "metadata": {},
   "outputs": [],
   "source": [
    "rfsynth.close()"
   ]
  },
  {
   "cell_type": "code",
   "execution_count": null,
   "id": "16f20663-9e8b-4cb0-afbd-731b462571e0",
   "metadata": {},
   "outputs": [],
   "source": []
  }
 ],
 "metadata": {
  "kernelspec": {
   "display_name": "Python 3 (ipykernel)",
   "language": "python",
   "name": "python3"
  },
  "language_info": {
   "codemirror_mode": {
    "name": "ipython",
    "version": 3
   },
   "file_extension": ".py",
   "mimetype": "text/x-python",
   "name": "python",
   "nbconvert_exporter": "python",
   "pygments_lexer": "ipython3",
   "version": "3.9.12"
  }
 },
 "nbformat": 4,
 "nbformat_minor": 5
}
