{
 "cells": [
  {
   "cell_type": "code",
   "execution_count": null,
   "id": "ad7128e7-1032-48f1-991e-429ddd5af649",
   "metadata": {},
   "outputs": [],
   "source": [
    "# following nidaqmx tutorial on the nspyre documention"
   ]
  },
  {
   "cell_type": "code",
   "execution_count": 1,
   "id": "2611b6d1-32a0-4148-b878-41869c3d79f0",
   "metadata": {},
   "outputs": [],
   "source": [
    "import nidaqmx\n",
    "from nidaqmx.constants import (AcquisitionType, CountDirection, Edge,\n",
    "    READ_ALL_AVAILABLE, TaskMode, TriggerType)\n",
    "from nidaqmx.stream_readers import CounterReader\n",
    "import numpy as np"
   ]
  },
  {
   "cell_type": "code",
   "execution_count": 2,
   "id": "5ff1b670-cc9c-47a3-9a9b-c88f0a22085c",
   "metadata": {},
   "outputs": [],
   "source": [
    "system = nidaqmx.system.System.local()"
   ]
  },
  {
   "cell_type": "code",
   "execution_count": 3,
   "id": "320233a6-7fa4-4ccf-8602-ba9ab2ec7702",
   "metadata": {},
   "outputs": [
    {
     "data": {
      "text/plain": [
       "Device(name=Dev1)"
      ]
     },
     "execution_count": 3,
     "metadata": {},
     "output_type": "execute_result"
    }
   ],
   "source": [
    "system.devices[0]"
   ]
  },
  {
   "cell_type": "code",
   "execution_count": 4,
   "id": "70d8a6c6-c014-44fe-acbc-ad465981627d",
   "metadata": {},
   "outputs": [
    {
     "name": "stdout",
     "output_type": "stream",
     "text": [
      "['Dev1/ctr0', 'Dev1/ctr1', 'Dev1/ctr2', 'Dev1/ctr3']\n",
      "['Dev1/ctr0', 'Dev1/ctr1', 'Dev1/ctr2', 'Dev1/ctr3', 'Dev1/freqout']\n"
     ]
    }
   ],
   "source": [
    "DAQ_device = system.devices['Dev1']\n",
    "# create a list of all the counters available on 'DAQ1'\n",
    "counter_names = [ci.name for ci in DAQ_device.ci_physical_chans]\n",
    "print(counter_names)\n",
    "# note that using the counter output channels instead of the inputs\n",
    "# includes the '[device]/freqout' output, which is not a counter\n",
    "print([co.name for co in DAQ_device.co_physical_chans])"
   ]
  },
  {
   "cell_type": "code",
   "execution_count": 5,
   "id": "b83bb0a6-964b-4ed0-b8fc-1addc762aa3b",
   "metadata": {},
   "outputs": [
    {
     "name": "stdout",
     "output_type": "stream",
     "text": [
      "['Dev1/ai0', 'Dev1/ai1', 'Dev1/ai2', 'Dev1/ai3', 'Dev1/ai4', 'Dev1/ai5', 'Dev1/ai6', 'Dev1/ai7', 'Dev1/ai8', 'Dev1/ai9', 'Dev1/ai10', 'Dev1/ai11', 'Dev1/ai12', 'Dev1/ai13', 'Dev1/ai14', 'Dev1/ai15', 'Dev1/ai16', 'Dev1/ai17', 'Dev1/ai18', 'Dev1/ai19', 'Dev1/ai20', 'Dev1/ai21', 'Dev1/ai22', 'Dev1/ai23', 'Dev1/ai24', 'Dev1/ai25', 'Dev1/ai26', 'Dev1/ai27', 'Dev1/ai28', 'Dev1/ai29', 'Dev1/ai30', 'Dev1/ai31']\n",
      "['Dev1/ao0', 'Dev1/ao1', 'Dev1/ao2', 'Dev1/ao3']\n"
     ]
    }
   ],
   "source": [
    "counter_names = [ci.name for ci in DAQ_device.ai_physical_chans]\n",
    "print(counter_names)\n",
    "# note that using the counter output channels instead of the inputs\n",
    "# includes the '[device]/freqout' output, which is not a counter\n",
    "print([co.name for co in DAQ_device.ao_physical_chans])"
   ]
  },
  {
   "cell_type": "code",
   "execution_count": 6,
   "id": "3ef14387-5c05-4c01-9995-fe19261ed423",
   "metadata": {},
   "outputs": [
    {
     "name": "stdout",
     "output_type": "stream",
     "text": [
      "[PhysicalChannel(name=Dev1/port0), PhysicalChannel(name=Dev1/port1), PhysicalChannel(name=Dev1/port2)]\n"
     ]
    }
   ],
   "source": [
    "print([d for d in DAQ_device.di_ports])"
   ]
  },
  {
   "cell_type": "code",
   "execution_count": 7,
   "id": "5417c211-3e70-44a5-9d73-c52cd9693304",
   "metadata": {},
   "outputs": [
    {
     "name": "stdout",
     "output_type": "stream",
     "text": [
      "['/Dev1/PFI0', '/Dev1/PFI1', '/Dev1/PFI2', '/Dev1/PFI3', '/Dev1/PFI4', '/Dev1/PFI5', '/Dev1/PFI6', '/Dev1/PFI7', '/Dev1/PFI8', '/Dev1/PFI9', '/Dev1/PFI10', '/Dev1/PFI11', '/Dev1/PFI12', '/Dev1/PFI13', '/Dev1/PFI14', '/Dev1/PFI15', '/Dev1/APFI0', '/Dev1/APFI1', '/Dev1/RTSI0', '/Dev1/RTSI1', '/Dev1/RTSI2', '/Dev1/RTSI3', '/Dev1/RTSI4', '/Dev1/RTSI5', '/Dev1/RTSI6', '/Dev1/RTSI7', '/Dev1/20MHzTimebase', '/Dev1/100MHzTimebase', '/Dev1/10MHzRefClock', '/Dev1/ai/ReferenceTrigger', '/Dev1/ai/SampleClock', '/Dev1/ai/StartTrigger', '/Dev1/ao/SampleClock', '/Dev1/ao/StartTrigger', '/Dev1/di/SampleClock', '/Dev1/di/StartTrigger', '/Dev1/di/ReferenceTrigger', '/Dev1/do/SampleClock', '/Dev1/do/StartTrigger', '/Dev1/ChangeDetectionEvent', '/Dev1/WatchdogExpiredEvent', '/Dev1/WatchdogExpirationTrigger', '/Dev1/AnalogComparisonEvent', '/Dev1/ai/ConvertClock', '/Dev1/ai/ConvertClockTimebase', '/Dev1/ai/HoldCompleteEvent', '/Dev1/ai/PauseTrigger', '/Dev1/ai/SampleClockTimebase', '/Dev1/ao/PauseTrigger', '/Dev1/ao/SampleClockTimebase', '/Dev1/di/SampleClockTimebase', '/Dev1/di/PauseTrigger', '/Dev1/do/PauseTrigger', '/Dev1/do/SampleClockTimebase', '/Dev1/100kHzTimebase', '/Dev1/None', '/Dev1/Ctr0Source', '/Dev1/Ctr1Source', '/Dev1/Ctr2Source', '/Dev1/Ctr3Source', '/Dev1/Ctr0Gate', '/Dev1/Ctr1Gate', '/Dev1/Ctr2Gate', '/Dev1/Ctr3Gate', '/Dev1/Ctr0Aux', '/Dev1/Ctr1Aux', '/Dev1/Ctr2Aux', '/Dev1/Ctr3Aux', '/Dev1/Ctr0SampleClock', '/Dev1/Ctr1SampleClock', '/Dev1/Ctr2SampleClock', '/Dev1/Ctr3SampleClock', '/Dev1/Ctr0ArmStartTrigger', '/Dev1/Ctr1ArmStartTrigger', '/Dev1/Ctr2ArmStartTrigger', '/Dev1/Ctr3ArmStartTrigger', '/Dev1/Ctr0InternalOutput', '/Dev1/Ctr1InternalOutput', '/Dev1/Ctr2InternalOutput', '/Dev1/Ctr3InternalOutput', '/Dev1/Ctr0A', '/Dev1/Ctr1A', '/Dev1/Ctr2A', '/Dev1/Ctr3A', '/Dev1/Ctr0B', '/Dev1/Ctr1B', '/Dev1/Ctr2B', '/Dev1/Ctr3B', '/Dev1/Ctr0Z', '/Dev1/Ctr1Z', '/Dev1/Ctr2Z', '/Dev1/Ctr3Z', '/Dev1/PairedCtrInternalOutput', '/Dev1/PairedCtrOutputPulse', '/Dev1/FrequencyOutput']\n"
     ]
    }
   ],
   "source": [
    "counter_names = [ci for ci in DAQ_device.terminals]\n",
    "print(counter_names)\n"
   ]
  },
  {
   "cell_type": "code",
   "execution_count": 8,
   "id": "9d11a9ab-0b28-43ea-b605-35be30467901",
   "metadata": {},
   "outputs": [],
   "source": [
    "read_task = nidaqmx.Task()\n",
    "samp_clk_task = nidaqmx.Task()"
   ]
  },
  {
   "cell_type": "code",
   "execution_count": 9,
   "id": "b4966a85-4d54-4dde-99c0-8a32abf34acc",
   "metadata": {},
   "outputs": [],
   "source": [
    "dev_name = 'Dev1'\n",
    "clock_di_cannel = 'port0'"
   ]
  },
  {
   "cell_type": "code",
   "execution_count": 10,
   "id": "1e86e1fe-2ffc-4505-abe6-5e24b2daacc1",
   "metadata": {},
   "outputs": [
    {
     "data": {
      "text/plain": [
       "DIChannel(name=Dev1/port0)"
      ]
     },
     "execution_count": 10,
     "metadata": {},
     "output_type": "execute_result"
    }
   ],
   "source": [
    "samp_clk_task.di_channels.add_di_chan(f'{dev_name}/{clock_di_cannel}')"
   ]
  },
  {
   "cell_type": "code",
   "execution_count": 11,
   "id": "b95bec20-5437-434f-9357-71d105513651",
   "metadata": {},
   "outputs": [],
   "source": [
    "sampling_rate = 1e2\n",
    "samp_clk_task.timing.cfg_samp_clk_timing(sampling_rate,\n",
    "                                sample_mode=AcquisitionType.CONTINUOUS)"
   ]
  },
  {
   "cell_type": "code",
   "execution_count": 12,
   "id": "a7e3064c-3eb9-4cd8-b908-283dc56a1740",
   "metadata": {},
   "outputs": [],
   "source": [
    "samp_clk_task.control(TaskMode.TASK_COMMIT)\n"
   ]
  },
  {
   "cell_type": "code",
   "execution_count": 13,
   "id": "f71f1509-4d1e-4f7d-9e69-67cda5d3b09f",
   "metadata": {},
   "outputs": [
    {
     "data": {
      "text/plain": [
       "CIChannel(name=Dev1/ctr0)"
      ]
     },
     "execution_count": 13,
     "metadata": {},
     "output_type": "execute_result"
    }
   ],
   "source": [
    "read_task.ci_channels.add_ci_count_edges_chan(\n",
    "                                f'{dev_name}/ctr0',\n",
    "                                edge=Edge.RISING,\n",
    "                                initial_count=0,\n",
    "                                count_direction=CountDirection.COUNT_UP)"
   ]
  },
  {
   "cell_type": "code",
   "execution_count": 14,
   "id": "948b7c2e-7073-4efa-a2e2-c1e6954ecbf7",
   "metadata": {},
   "outputs": [],
   "source": [
    "read_task.ci_channels.all.ci_count_edges_term = f'/{dev_name}/PFI0'"
   ]
  },
  {
   "cell_type": "code",
   "execution_count": 15,
   "id": "9eceb1bf-2fac-486f-8360-371720b6e75f",
   "metadata": {},
   "outputs": [],
   "source": [
    "read_task.timing.cfg_samp_clk_timing(sampling_rate, source=f'/{dev_name}/di/SampleClock',\n",
    "        active_edge=Edge.RISING, sample_mode=AcquisitionType.CONTINUOUS)"
   ]
  },
  {
   "cell_type": "code",
   "execution_count": 16,
   "id": "71f114e7-3fc8-4722-a45a-97e643c6a721",
   "metadata": {},
   "outputs": [],
   "source": [
    "read_task.in_stream.input_buf_size = 12000"
   ]
  },
  {
   "cell_type": "code",
   "execution_count": 17,
   "id": "3a30e36a-c887-4a67-a150-d26bf391a19e",
   "metadata": {},
   "outputs": [],
   "source": [
    "read_task.triggers.arm_start_trigger.trig_type = TriggerType.DIGITAL_EDGE\n",
    "read_task.triggers.arm_start_trigger.dig_edge_edge = Edge.RISING\n",
    "read_task.triggers.arm_start_trigger.dig_edge_src = f'/{dev_name}/di/SampleClock'"
   ]
  },
  {
   "cell_type": "code",
   "execution_count": 18,
   "id": "5d305b0e-82b3-4503-9fb9-71807caac445",
   "metadata": {},
   "outputs": [],
   "source": [
    "samp_clk_task.stop()\n",
    "read_task.stop()\n"
   ]
  },
  {
   "cell_type": "code",
   "execution_count": 19,
   "id": "452e6d9b-7482-49ca-8962-d668bb24941d",
   "metadata": {},
   "outputs": [
    {
     "ename": "DaqError",
     "evalue": "Read cannot be performed because the NumPy array passed into this function is not shaped correctly. You must pass in a NumPy array of the correct shape based on the number of channels in task and the number of samples per channel requested.\n\nShape of NumPy Array provided: (12000,)\nShape of NumPy Array required: (0,)\n\nTask Name: _unnamedTask<0>",
     "output_type": "error",
     "traceback": [
      "\u001b[1;31m---------------------------------------------------------------------------\u001b[0m",
      "\u001b[1;31mDaqError\u001b[0m                                  Traceback (most recent call last)",
      "Input \u001b[1;32mIn [19]\u001b[0m, in \u001b[0;36m<cell line: 13>\u001b[1;34m()\u001b[0m\n\u001b[0;32m      9\u001b[0m data_array \u001b[38;5;241m=\u001b[39m np\u001b[38;5;241m.\u001b[39mzeros(\u001b[38;5;241m12000\u001b[39m, dtype\u001b[38;5;241m=\u001b[39mnp\u001b[38;5;241m.\u001b[39muint32)\n\u001b[0;32m     10\u001b[0m \u001b[38;5;66;03m# read all samples from the counter buffer to the system memory\u001b[39;00m\n\u001b[0;32m     11\u001b[0m \u001b[38;5;66;03m# buffer data_array; if the buffer is not large enough, it will\u001b[39;00m\n\u001b[0;32m     12\u001b[0m \u001b[38;5;66;03m# raise an error\u001b[39;00m\n\u001b[1;32m---> 13\u001b[0m \u001b[43mreader\u001b[49m\u001b[38;5;241;43m.\u001b[39;49m\u001b[43mread_many_sample_uint32\u001b[49m\u001b[43m(\u001b[49m\u001b[43mdata_array\u001b[49m\u001b[43m,\u001b[49m\n\u001b[0;32m     14\u001b[0m \u001b[43m    \u001b[49m\u001b[43mnumber_of_samples_per_channel\u001b[49m\u001b[38;5;241;43m=\u001b[39;49m\u001b[43mREAD_ALL_AVAILABLE\u001b[49m\u001b[43m)\u001b[49m\n",
      "File \u001b[1;32m~\\anaconda3\\envs\\qdl-dev\\lib\\site-packages\\nidaqmx\\stream_readers.py:1260\u001b[0m, in \u001b[0;36mCounterReader.read_many_sample_uint32\u001b[1;34m(self, data, number_of_samples_per_channel, timeout)\u001b[0m\n\u001b[0;32m   1199\u001b[0m \u001b[38;5;124;03m\"\"\"\u001b[39;00m\n\u001b[0;32m   1200\u001b[0m \u001b[38;5;124;03mReads one or more 32-bit unsigned integer samples from a single\u001b[39;00m\n\u001b[0;32m   1201\u001b[0m \u001b[38;5;124;03mcounter input channel in a task.\u001b[39;00m\n\u001b[1;32m   (...)\u001b[0m\n\u001b[0;32m   1254\u001b[0m \u001b[38;5;124;03m    same for all channels.\u001b[39;00m\n\u001b[0;32m   1255\u001b[0m \u001b[38;5;124;03m\"\"\"\u001b[39;00m\n\u001b[0;32m   1256\u001b[0m number_of_samples_per_channel \u001b[38;5;241m=\u001b[39m (\n\u001b[0;32m   1257\u001b[0m     \u001b[38;5;28mself\u001b[39m\u001b[38;5;241m.\u001b[39m_task\u001b[38;5;241m.\u001b[39m_calculate_num_samps_per_chan(\n\u001b[0;32m   1258\u001b[0m         number_of_samples_per_channel))\n\u001b[1;32m-> 1260\u001b[0m \u001b[38;5;28;43mself\u001b[39;49m\u001b[38;5;241;43m.\u001b[39;49m\u001b[43m_verify_array\u001b[49m\u001b[43m(\u001b[49m\u001b[43mdata\u001b[49m\u001b[43m,\u001b[49m\u001b[43m \u001b[49m\u001b[43mnumber_of_samples_per_channel\u001b[49m\u001b[43m,\u001b[49m\u001b[43m \u001b[49m\u001b[38;5;28;43;01mFalse\u001b[39;49;00m\u001b[43m,\u001b[49m\u001b[43m \u001b[49m\u001b[38;5;28;43;01mTrue\u001b[39;49;00m\u001b[43m)\u001b[49m\n\u001b[0;32m   1262\u001b[0m \u001b[38;5;28;01mreturn\u001b[39;00m _read_counter_u_32_ex(\n\u001b[0;32m   1263\u001b[0m     \u001b[38;5;28mself\u001b[39m\u001b[38;5;241m.\u001b[39m_handle, data, number_of_samples_per_channel,\n\u001b[0;32m   1264\u001b[0m     timeout)\n",
      "File \u001b[1;32m~\\anaconda3\\envs\\qdl-dev\\lib\\site-packages\\nidaqmx\\stream_readers.py:91\u001b[0m, in \u001b[0;36mChannelReaderBase._verify_array\u001b[1;34m(self, data, number_of_samples_per_channel, is_many_chan, is_many_samp)\u001b[0m\n\u001b[0;32m     88\u001b[0m         array_shape \u001b[38;5;241m=\u001b[39m (number_of_samples_per_channel,)\n\u001b[0;32m     90\u001b[0m \u001b[38;5;28;01mif\u001b[39;00m array_shape \u001b[38;5;129;01mis\u001b[39;00m \u001b[38;5;129;01mnot\u001b[39;00m \u001b[38;5;28;01mNone\u001b[39;00m \u001b[38;5;129;01mand\u001b[39;00m data\u001b[38;5;241m.\u001b[39mshape \u001b[38;5;241m!=\u001b[39m array_shape:\n\u001b[1;32m---> 91\u001b[0m     \u001b[38;5;28;01mraise\u001b[39;00m DaqError(\n\u001b[0;32m     92\u001b[0m         \u001b[38;5;124m'\u001b[39m\u001b[38;5;124mRead cannot be performed because the NumPy array passed into \u001b[39m\u001b[38;5;124m'\u001b[39m\n\u001b[0;32m     93\u001b[0m         \u001b[38;5;124m'\u001b[39m\u001b[38;5;124mthis function is not shaped correctly. You must pass in a \u001b[39m\u001b[38;5;124m'\u001b[39m\n\u001b[0;32m     94\u001b[0m         \u001b[38;5;124m'\u001b[39m\u001b[38;5;124mNumPy array of the correct shape based on the number of \u001b[39m\u001b[38;5;124m'\u001b[39m\n\u001b[0;32m     95\u001b[0m         \u001b[38;5;124m'\u001b[39m\u001b[38;5;124mchannels in task and the number of samples per channel \u001b[39m\u001b[38;5;124m'\u001b[39m\n\u001b[0;32m     96\u001b[0m         \u001b[38;5;124m'\u001b[39m\u001b[38;5;124mrequested.\u001b[39m\u001b[38;5;130;01m\\n\u001b[39;00m\u001b[38;5;130;01m\\n\u001b[39;00m\u001b[38;5;124m'\u001b[39m\n\u001b[0;32m     97\u001b[0m         \u001b[38;5;124m'\u001b[39m\u001b[38;5;124mShape of NumPy Array provided: \u001b[39m\u001b[38;5;132;01m{0}\u001b[39;00m\u001b[38;5;130;01m\\n\u001b[39;00m\u001b[38;5;124m'\u001b[39m\n\u001b[0;32m     98\u001b[0m         \u001b[38;5;124m'\u001b[39m\u001b[38;5;124mShape of NumPy Array required: \u001b[39m\u001b[38;5;132;01m{1}\u001b[39;00m\u001b[38;5;124m'\u001b[39m\n\u001b[0;32m     99\u001b[0m         \u001b[38;5;241m.\u001b[39mformat(data\u001b[38;5;241m.\u001b[39mshape, array_shape),\n\u001b[0;32m    100\u001b[0m         DAQmxErrors\u001b[38;5;241m.\u001b[39mUNKNOWN, task_name\u001b[38;5;241m=\u001b[39m\u001b[38;5;28mself\u001b[39m\u001b[38;5;241m.\u001b[39m_task\u001b[38;5;241m.\u001b[39mname)\n",
      "\u001b[1;31mDaqError\u001b[0m: Read cannot be performed because the NumPy array passed into this function is not shaped correctly. You must pass in a NumPy array of the correct shape based on the number of channels in task and the number of samples per channel requested.\n\nShape of NumPy Array provided: (12000,)\nShape of NumPy Array required: (0,)\n\nTask Name: _unnamedTask<0>"
     ]
    }
   ],
   "source": [
    "# create a counter reader to read from the counter InStream\n",
    "reader = CounterReader(read_task.in_stream)\n",
    "# start the tasks to begin data acquisition; note that because\n",
    "# the arm start trigger of the counter was set, it does not\n",
    "# matter which task is started first, the tasks will be synced\n",
    "samp_clk_task.start()\n",
    "read_task.start()\n",
    "# create a data buffer for the counter stream reader\n",
    "data_array = np.zeros(12000, dtype=np.uint32)\n",
    "# read all samples from the counter buffer to the system memory\n",
    "# buffer data_array; if the buffer is not large enough, it will\n",
    "# raise an error\n",
    "reader.read_many_sample_uint32(data_array,\n",
    "    number_of_samples_per_channel=READ_ALL_AVAILABLE)"
   ]
  },
  {
   "cell_type": "code",
   "execution_count": null,
   "id": "d24a9e1e-a72e-499d-ad37-c796af628d3f",
   "metadata": {},
   "outputs": [],
   "source": []
  }
 ],
 "metadata": {
  "kernelspec": {
   "display_name": "Python 3 (ipykernel)",
   "language": "python",
   "name": "python3"
  },
  "language_info": {
   "codemirror_mode": {
    "name": "ipython",
    "version": 3
   },
   "file_extension": ".py",
   "mimetype": "text/x-python",
   "name": "python",
   "nbconvert_exporter": "python",
   "pygments_lexer": "ipython3",
   "version": "3.9.12"
  }
 },
 "nbformat": 4,
 "nbformat_minor": 5
}
