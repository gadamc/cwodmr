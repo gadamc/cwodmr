{
 "cells": [
  {
   "cell_type": "code",
   "execution_count": 1,
   "id": "38b637d6-e0a3-4c21-a199-e04448370395",
   "metadata": {},
   "outputs": [],
   "source": [
    "%load_ext autoreload\n",
    "%autoreload 2"
   ]
  },
  {
   "cell_type": "code",
   "execution_count": 2,
   "id": "908dd6c6-eed3-4f45-93c5-229a664e36f8",
   "metadata": {},
   "outputs": [],
   "source": [
    "import qt3utils.experiments.cwodmr\n",
    "import qt3utils.nidaq.config"
   ]
  },
  {
   "cell_type": "code",
   "execution_count": 3,
   "id": "28d053cc-db75-4929-b6ff-aeae2a4638b9",
   "metadata": {},
   "outputs": [],
   "source": [
    "import qcsapphire\n",
    "import qt3rfsynthcontrol\n",
    "import numpy as np\n",
    "import matplotlib.pyplot as plt"
   ]
  },
  {
   "cell_type": "code",
   "execution_count": 4,
   "id": "ba96216c-2b26-4e7c-ae8c-901aeec7a250",
   "metadata": {},
   "outputs": [
    {
     "data": {
      "text/plain": [
       "[['COM3',\n",
       "  'Intel(R) Active Management Technology - SOL (COM3)',\n",
       "  'PCI\\\\VEN_8086&DEV_43E3&SUBSYS_0A541028&REV_11\\\\3&11583659&1&B3'],\n",
       " ['COM5',\n",
       "  'USB Serial Device (COM5)',\n",
       "  'USB VID:PID=0483:A3E5 SER=206A36705430 LOCATION=1-9:x.0'],\n",
       " ['COM7',\n",
       "  'USB Serial Device (COM7)',\n",
       "  'USB VID:PID=239A:8014 SER=3B0D07C25831555020312E341A3214FF LOCATION=1-10:x.0'],\n",
       " ['COM10',\n",
       "  'USB Serial Device (COM10)',\n",
       "  'USB VID:PID=04D8:000A SER= LOCATION=1-2:x.0']]"
      ]
     },
     "execution_count": 4,
     "metadata": {},
     "output_type": "execute_result"
    }
   ],
   "source": [
    "qcsapphire.discover_devices()"
   ]
  },
  {
   "cell_type": "code",
   "execution_count": 5,
   "id": "66301f2f-208a-487e-8b8d-b4482437031b",
   "metadata": {},
   "outputs": [],
   "source": [
    "pulser = qcsapphire.Pulser('COM10')"
   ]
  },
  {
   "cell_type": "code",
   "execution_count": 6,
   "id": "dfbf13a4-c426-4143-8a90-fb492898eb66",
   "metadata": {},
   "outputs": [],
   "source": [
    "rfsynth = qt3rfsynthcontrol.QT3SynthHD('COM5')"
   ]
  },
  {
   "cell_type": "code",
   "execution_count": 9,
   "id": "c817277d-6b6a-4ff7-a71b-a04c22d02eaf",
   "metadata": {},
   "outputs": [],
   "source": [
    "#cwodmr = qt3utils.experiments.cwodmr.CWODMR(rfsynth)"
   ]
  },
  {
   "cell_type": "code",
   "execution_count": 12,
   "id": "914485b8-7c72-4e35-9f59-58d07f76fa7e",
   "metadata": {},
   "outputs": [],
   "source": [
    "#cwodmr.setup_qcsapphire_pulser(pulser, 'B', 'C')"
   ]
  },
  {
   "cell_type": "code",
   "execution_count": 13,
   "id": "a53d6779-3ee8-4f67-b2f8-961f68ead9c8",
   "metadata": {},
   "outputs": [
    {
     "data": {
      "text/plain": [
       "'ok'"
      ]
     },
     "execution_count": 13,
     "metadata": {},
     "output_type": "execute_result"
    }
   ],
   "source": [
    "pulser.query('*RCL 0') #restores system default\n",
    "pulser.system.period(cwodmr.sample_period)\n",
    "pulser.system.mode('normal')"
   ]
  },
  {
   "cell_type": "code",
   "execution_count": 14,
   "id": "30014f30-be48-4869-8da3-381ea758caea",
   "metadata": {},
   "outputs": [],
   "source": [
    "pulser.set_all_state_off()"
   ]
  },
  {
   "cell_type": "code",
   "execution_count": 9,
   "id": "e93fd197-1482-45b5-9e6d-3784a2dfe360",
   "metadata": {},
   "outputs": [
    {
     "data": {
      "text/plain": [
       "'ok'"
      ]
     },
     "execution_count": 9,
     "metadata": {},
     "output_type": "execute_result"
    }
   ],
   "source": [
    "pulser.channel('C').width(100e-6)"
   ]
  },
  {
   "cell_type": "code",
   "execution_count": 17,
   "id": "4254d0d3-d42a-4805-9272-1d54ae20909f",
   "metadata": {},
   "outputs": [
    {
     "data": {
      "text/plain": [
       "'ok'"
      ]
     },
     "execution_count": 17,
     "metadata": {},
     "output_type": "execute_result"
    }
   ],
   "source": [
    "pulser.channel('C').state(1)"
   ]
  },
  {
   "cell_type": "code",
   "execution_count": 18,
   "id": "eae8d3aa-70e9-4f8c-88fc-60341638effe",
   "metadata": {},
   "outputs": [
    {
     "data": {
      "text/plain": [
       "'ok'"
      ]
     },
     "execution_count": 18,
     "metadata": {},
     "output_type": "execute_result"
    }
   ],
   "source": [
    "pulser.system.state(1)"
   ]
  },
  {
   "cell_type": "code",
   "execution_count": 20,
   "id": "b301a1cc-f433-4701-924a-c2285047b109",
   "metadata": {},
   "outputs": [
    {
     "data": {
      "text/plain": [
       "'ok'"
      ]
     },
     "execution_count": 20,
     "metadata": {},
     "output_type": "execute_result"
    }
   ],
   "source": [
    "pulser.channel('B').width(cwodmr.sample_period/2 - 20e-9)"
   ]
  },
  {
   "cell_type": "code",
   "execution_count": 21,
   "id": "97373334-b9fb-4762-855f-8ecb7ff7ba7f",
   "metadata": {},
   "outputs": [
    {
     "data": {
      "text/plain": [
       "'ok'"
      ]
     },
     "execution_count": 21,
     "metadata": {},
     "output_type": "execute_result"
    }
   ],
   "source": [
    "pulser.channel('B').state(1)"
   ]
  },
  {
   "cell_type": "code",
   "execution_count": 11,
   "id": "40d444df-9eaf-41ef-90b3-babcd49bf932",
   "metadata": {},
   "outputs": [
    {
     "data": {
      "text/plain": [
       "'ok'"
      ]
     },
     "execution_count": 11,
     "metadata": {},
     "output_type": "execute_result"
    }
   ],
   "source": [
    "pulser.multiplex(['B'], 'D')\n",
    "pulser.channel('D').state(1)"
   ]
  },
  {
   "cell_type": "code",
   "execution_count": 96,
   "id": "85dbcb68-1413-4676-a784-b18d8154e116",
   "metadata": {},
   "outputs": [],
   "source": [
    "import nidaqmx\n",
    "\n",
    "nisys = nidaqmx.system.System()\n",
    "device = nidaqmx.system.Device('Dev1')\n",
    "device.reset_device()"
   ]
  },
  {
   "cell_type": "code",
   "execution_count": 125,
   "id": "8b5d1c8e-95e7-4adb-9275-2728829e1b42",
   "metadata": {},
   "outputs": [],
   "source": [
    "edge_config = qt3utils.nidaq.config.EdgeCounter()"
   ]
  },
  {
   "cell_type": "code",
   "execution_count": 126,
   "id": "79f6f41f-2f54-4aa4-84a7-872d100e1756",
   "metadata": {},
   "outputs": [],
   "source": [
    "edge_config.configure_di_clock(clock_rate = 100e3)"
   ]
  },
  {
   "cell_type": "code",
   "execution_count": 127,
   "id": "e6c2ae53-daeb-4862-acb1-fa8fb3a14f58",
   "metadata": {},
   "outputs": [
    {
     "data": {
      "text/plain": [
       "{'di_channel_name': 'port0',\n",
       " 'clock_rate': 100000,\n",
       " 'clock_channel_name': '/Dev1/di/SampleClock',\n",
       " 'sample_mode': <AcquisitionType.CONTINUOUS: 10123>,\n",
       " 'di_channel': DIChannel(name=Dev1/port0)}"
      ]
     },
     "execution_count": 127,
     "metadata": {},
     "output_type": "execute_result"
    }
   ],
   "source": [
    "edge_config.clock_task_config"
   ]
  },
  {
   "cell_type": "code",
   "execution_count": 139,
   "id": "1f739ce8-34b7-4a3b-91d3-e90109c63618",
   "metadata": {},
   "outputs": [],
   "source": [
    "edge_config.clock_task.start()"
   ]
  },
  {
   "cell_type": "code",
   "execution_count": 129,
   "id": "0ae9eeb0-9c3f-4f26-8bca-82344530f9d6",
   "metadata": {},
   "outputs": [],
   "source": [
    "edge_config.configure_counter_period_measure(edge_config.clock_task_config['clock_channel_name'], N_samples_to_acquire_or_buffer_size = 1000e3)"
   ]
  },
  {
   "cell_type": "code",
   "execution_count": 130,
   "id": "4ad28672-b74a-4a8d-833f-f512f16cb4b5",
   "metadata": {},
   "outputs": [],
   "source": [
    "edge_config.create_counter_reader()"
   ]
  },
  {
   "cell_type": "code",
   "execution_count": 131,
   "id": "4ae1c3c5-b633-4293-bfb9-c7bd0b5ade6d",
   "metadata": {},
   "outputs": [],
   "source": [
    "rfsynth.set_channel_fixed_output(0, -15, 2870e6)"
   ]
  },
  {
   "cell_type": "code",
   "execution_count": 132,
   "id": "12fa02f6-04c7-466d-8bf8-25f9c0f8b256",
   "metadata": {},
   "outputs": [
    {
     "data": {
      "text/plain": [
       "{'clock_channel_name': '/Dev1/di/SampleClock',\n",
       " 'daq_counter': 'ctr2',\n",
       " 'source_terminal': 'PFI12',\n",
       " 'N_samples_to_acquire_or_buffer_size': 1000000,\n",
       " 'trigger_terminal': 'PFI0',\n",
       " 'ci_channel': CIChannel(name=/Dev1/ctr2)}"
      ]
     },
     "execution_count": 132,
     "metadata": {},
     "output_type": "execute_result"
    }
   ],
   "source": [
    "edge_config.counter_task_config"
   ]
  },
  {
   "cell_type": "code",
   "execution_count": 140,
   "id": "3ec50626-495a-4d5b-9305-944beaae6ca4",
   "metadata": {},
   "outputs": [],
   "source": [
    "N_samples = int(1000e3)\n",
    "rfsynth.rf_on(0)\n",
    "data_buffer = np.zeros(N_samples)"
   ]
  },
  {
   "cell_type": "code",
   "execution_count": 141,
   "id": "5cdcb92b-367f-42a3-91ae-ff4751ae5596",
   "metadata": {},
   "outputs": [],
   "source": [
    "edge_config.counter_task.start()"
   ]
  },
  {
   "cell_type": "code",
   "execution_count": 135,
   "id": "8bf16d15-9a16-4d65-8e2c-9d217eca4185",
   "metadata": {},
   "outputs": [
    {
     "data": {
      "text/plain": [
       "<nidaqmx.stream_readers.CounterReader at 0x24904d656d0>"
      ]
     },
     "execution_count": 135,
     "metadata": {},
     "output_type": "execute_result"
    }
   ],
   "source": [
    "edge_config.counter_reader"
   ]
  },
  {
   "cell_type": "code",
   "execution_count": 142,
   "id": "bbb284eb-639f-4c27-a49d-c3de0b1b6fb6",
   "metadata": {},
   "outputs": [],
   "source": [
    "read_samples = edge_config.counter_reader.read_many_sample_double(\n",
    "                            data_buffer,\n",
    "                            number_of_samples_per_channel=N_samples,\n",
    "                            timeout=5)"
   ]
  },
  {
   "cell_type": "code",
   "execution_count": 143,
   "id": "8526dbe5-59f9-40ae-94ab-eeef2914b660",
   "metadata": {},
   "outputs": [
    {
     "data": {
      "text/plain": [
       "1000000"
      ]
     },
     "execution_count": 143,
     "metadata": {},
     "output_type": "execute_result"
    }
   ],
   "source": [
    "read_samples"
   ]
  },
  {
   "cell_type": "code",
   "execution_count": 144,
   "id": "8b8157f4-2813-4698-8569-cd457342dbee",
   "metadata": {},
   "outputs": [],
   "source": [
    "edge_config.counter_task.stop()\n",
    "edge_config.clock_task.stop()"
   ]
  },
  {
   "cell_type": "code",
   "execution_count": 145,
   "id": "38b1c850-85f3-4ff9-aa6d-f0b3131b1776",
   "metadata": {},
   "outputs": [
    {
     "data": {
      "text/plain": [
       "[<matplotlib.lines.Line2D at 0x249090bae50>]"
      ]
     },
     "execution_count": 145,
     "metadata": {},
     "output_type": "execute_result"
    },
    {
     "data": {
      "image/png": "[encoded data removed]",
      "text/plain": [
       "<Figure size 432x288 with 1 Axes>"
      ]
     },
     "metadata": {
      "needs_background": "light"
     },
     "output_type": "display_data"
    }
   ],
   "source": [
    "plt.plot(data_buffer)"
   ]
  },
  {
   "cell_type": "code",
   "execution_count": null,
   "id": "318820b1-fa5c-4a7f-9a08-7288447c5f7c",
   "metadata": {},
   "outputs": [],
   "source": [
    "edge_config.counter_task_config['N_samples_to_acquire_or_buffer_size']"
   ]
  },
  {
   "cell_type": "code",
   "execution_count": null,
   "id": "769b9c43-9263-4e88-8f02-a6f2bcaeac38",
   "metadata": {},
   "outputs": [],
   "source": [
    "N_period = 100\n",
    "N_cycles = len(data_buffer)/N_period\n",
    "integrated_data_on = []\n",
    "integrated_data_off = []\n",
    "rf_on_sum = 0\n",
    "rf_off_sum = 0\n",
    "shift = N_period/4\n",
    "#for i in range(int(N_cycles/3):int(N_cycles) - 1):\n",
    "for i in range(int(N_cycles) - 1):\n",
    "    on_data = data_buffer[int(i*N_period  + shift): int(shift + i*N_period + N_period/2)]\n",
    "    off_data = data_buffer[int(i*N_period + N_period/2 + shift): int(shift + (i+1)*N_period)]\n",
    "    rf_on_sum += on_data.sum()\n",
    "    rf_off_sum += off_data.sum()\n",
    "    integrated_data_on.append(on_data)\n",
    "    integrated_data_off.append(off_data)\n",
    "    \n",
    "    \n"
   ]
  },
  {
   "cell_type": "code",
   "execution_count": 147,
   "id": "07166cc5-9da6-4280-8291-5aaf23167ab7",
   "metadata": {},
   "outputs": [],
   "source": [
    "integrated_data_on = np.array(integrated_data_on)"
   ]
  },
  {
   "cell_type": "code",
   "execution_count": 148,
   "id": "1cd003f6-c1a1-4cf7-82ba-52ddd49931e7",
   "metadata": {},
   "outputs": [],
   "source": [
    "integrated_data_off = np.array(integrated_data_off)"
   ]
  },
  {
   "cell_type": "code",
   "execution_count": 149,
   "id": "7298517e-287c-4739-9b7f-6530afc62a46",
   "metadata": {},
   "outputs": [
    {
     "data": {
      "text/plain": [
       "array([[4., 0., 5., ..., 1., 1., 1.],\n",
       "       [3., 4., 4., ..., 1., 0., 3.],\n",
       "       [0., 1., 1., ..., 0., 1., 5.],\n",
       "       ...,\n",
       "       [1., 2., 5., ..., 5., 4., 3.],\n",
       "       [1., 3., 2., ..., 3., 2., 1.],\n",
       "       [4., 2., 3., ..., 3., 2., 2.]])"
      ]
     },
     "execution_count": 149,
     "metadata": {},
     "output_type": "execute_result"
    }
   ],
   "source": [
    "integrated_data_on"
   ]
  },
  {
   "cell_type": "code",
   "execution_count": 150,
   "id": "ace384cc-8238-4898-9770-e0587bef5d7e",
   "metadata": {},
   "outputs": [],
   "source": [
    "signal_on = integrated_data_on.sum(axis=0)\n",
    "signal_off = integrated_data_off.sum(axis=0)"
   ]
  },
  {
   "cell_type": "code",
   "execution_count": 151,
   "id": "d7d52b04-0feb-446b-b0d3-e4bb55f8a4c3",
   "metadata": {},
   "outputs": [
    {
     "data": {
      "text/plain": [
       "[<matplotlib.lines.Line2D at 0x24904daad00>]"
      ]
     },
     "execution_count": 151,
     "metadata": {},
     "output_type": "execute_result"
    },
    {
     "data": {
      "image/png": "[encoded data removed]",
      "text/plain": [
       "<Figure size 432x288 with 1 Axes>"
      ]
     },
     "metadata": {
      "needs_background": "light"
     },
     "output_type": "display_data"
    }
   ],
   "source": [
    "plt.plot(signal_on)\n",
    "plt.plot(signal_off)"
   ]
  },
  {
   "cell_type": "code",
   "execution_count": 152,
   "id": "6f70560a-137c-4716-8961-2b919e9a2bce",
   "metadata": {},
   "outputs": [
    {
     "data": {
      "text/plain": [
       "0.9991617986416423"
      ]
     },
     "execution_count": 152,
     "metadata": {},
     "output_type": "execute_result"
    }
   ],
   "source": [
    "signal_on.mean()/signal_off.mean()"
   ]
  },
  {
   "cell_type": "code",
   "execution_count": null,
   "id": "d338912a-ffb0-4c6c-8437-c83053572015",
   "metadata": {},
   "outputs": [],
   "source": [
    "for i in range"
   ]
  },
  {
   "cell_type": "code",
   "execution_count": 29,
   "id": "c3b85fa1-2fac-4fda-8b04-1d8a1a7b7e08",
   "metadata": {},
   "outputs": [
    {
     "data": {
      "text/plain": [
       "521533.0"
      ]
     },
     "execution_count": 29,
     "metadata": {},
     "output_type": "execute_result"
    }
   ],
   "source": [
    "rf_on_sum"
   ]
  },
  {
   "cell_type": "code",
   "execution_count": 28,
   "id": "7bb63d8c-735c-446e-ac96-aa894c5b47b9",
   "metadata": {},
   "outputs": [
    {
     "data": {
      "text/plain": [
       "521862.0"
      ]
     },
     "execution_count": 28,
     "metadata": {},
     "output_type": "execute_result"
    }
   ],
   "source": [
    "rf_off_sum"
   ]
  },
  {
   "cell_type": "code",
   "execution_count": 44,
   "id": "389eb83f-9c1b-4b13-be58-2ae1d18cd11c",
   "metadata": {},
   "outputs": [],
   "source": [
    "rfsynth.rf_off(0)\n"
   ]
  },
  {
   "cell_type": "code",
   "execution_count": 45,
   "id": "b261b665-f7f0-40ab-9af7-e753b046bfd4",
   "metadata": {},
   "outputs": [
    {
     "data": {
      "text/plain": [
       "544879.0"
      ]
     },
     "execution_count": 45,
     "metadata": {},
     "output_type": "execute_result"
    }
   ],
   "source": [
    "rf_on_sum"
   ]
  },
  {
   "cell_type": "code",
   "execution_count": 46,
   "id": "9517983d-7fcb-42aa-8113-c82cd578fc51",
   "metadata": {},
   "outputs": [
    {
     "data": {
      "text/plain": [
       "543887.0"
      ]
     },
     "execution_count": 46,
     "metadata": {},
     "output_type": "execute_result"
    }
   ],
   "source": [
    "rf_off_sum"
   ]
  },
  {
   "cell_type": "code",
   "execution_count": 47,
   "id": "c0fd0e62-5c7d-48cb-9704-54b45a666d74",
   "metadata": {},
   "outputs": [
    {
     "data": {
      "text/plain": [
       "0.03773584905660377"
      ]
     },
     "execution_count": 47,
     "metadata": {},
     "output_type": "execute_result"
    }
   ],
   "source": [
    "20/530\n"
   ]
  },
  {
   "cell_type": "code",
   "execution_count": null,
   "id": "9a1f0528-32c7-4683-811f-18b8997de046",
   "metadata": {},
   "outputs": [],
   "source": []
  }
 ],
 "metadata": {
  "kernelspec": {
   "display_name": "Python 3 (ipykernel)",
   "language": "python",
   "name": "python3"
  },
  "language_info": {
   "codemirror_mode": {
    "name": "ipython",
    "version": 3
   },
   "file_extension": ".py",
   "mimetype": "text/x-python",
   "name": "python",
   "nbconvert_exporter": "python",
   "pygments_lexer": "ipython3",
   "version": "3.9.12"
  }
 },
 "nbformat": 4,
 "nbformat_minor": 5
}
