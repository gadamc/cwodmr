{
 "cells": [
  {
   "cell_type": "code",
   "execution_count": 1,
   "id": "15773f46-b4c4-4ef1-b509-6e1ce387723f",
   "metadata": {},
   "outputs": [],
   "source": [
    "%load_ext autoreload\n",
    "%autoreload 2"
   ]
  },
  {
   "cell_type": "code",
   "execution_count": 2,
   "id": "1ae64b4c-e0cc-4dc9-b947-63803cb38840",
   "metadata": {},
   "outputs": [],
   "source": [
    "# example: pulse blaster pin held on indefinitely\n",
    "from pulseblaster.PBInd import PBInd\n",
    "from pulseblaster.spinapi import *"
   ]
  },
  {
   "cell_type": "code",
   "execution_count": 3,
   "id": "7eaba2b4-4aea-4bf6-8a62-925e614eb162",
   "metadata": {},
   "outputs": [],
   "source": [
    "# Configure the core clock\n",
    "cycle_length = 20e3  # ns\n",
    "hardware_pins = [0] # using pin 23 (AOM modulation) \n",
    "delays = []          # delays for each individual channel\n",
    "N=float('inf')       # number of loops (N = float('inf') to repeat indefinitely\n"
   ]
  },
  {
   "cell_type": "code",
   "execution_count": 4,
   "id": "e812c671-d157-4fd4-875a-129afb88ff4a",
   "metadata": {},
   "outputs": [],
   "source": [
    "pb = PBInd(pins=hardware_pins,\n",
    "           on_time=cycle_length,\n",
    "           DEBUG_MODE=0,\n",
    "           auto_stop=0)"
   ]
  },
  {
   "cell_type": "code",
   "execution_count": 6,
   "id": "54c29ffe-1ddf-4a61-a878-8667d39b52c0",
   "metadata": {},
   "outputs": [
    {
     "data": {
      "text/plain": [
       "0"
      ]
     },
     "execution_count": 6,
     "metadata": {},
     "output_type": "execute_result"
    }
   ],
   "source": [
    "\n",
    "# select board 1\n",
    "pb_select_board(1)"
   ]
  },
  {
   "cell_type": "code",
   "execution_count": 7,
   "id": "b4c54ac6-83a3-4ccb-858e-25b21c36ae42",
   "metadata": {},
   "outputs": [
    {
     "data": {
      "text/plain": [
       "0"
      ]
     },
     "execution_count": 7,
     "metadata": {},
     "output_type": "execute_result"
    }
   ],
   "source": [
    "pb_init()"
   ]
  },
  {
   "cell_type": "code",
   "execution_count": 8,
   "id": "0f0492f6-1446-40fc-b70f-d6a462b81743",
   "metadata": {},
   "outputs": [
    {
     "data": {
      "text/plain": [
       "0"
      ]
     },
     "execution_count": 8,
     "metadata": {},
     "output_type": "execute_result"
    }
   ],
   "source": [
    "\n",
    "\n",
    "pb_core_clock(100 * pb.spinapi.ns ) # MHz\n",
    "pb_reset()\n",
    "\n",
    "#program hardware_pins to be on from t0=0 to tend=cycle_length\n",
    "pb_start_programming(0)\n",
    "pb.on(hardware_pins[0],0,cycle_length//2)\n",
    "pb.program(delays,N)\n",
    "pb_stop_programming()"
   ]
  },
  {
   "cell_type": "code",
   "execution_count": 9,
   "id": "efa12aef-1d85-4e55-a86a-e057c9bfe97e",
   "metadata": {},
   "outputs": [
    {
     "data": {
      "text/plain": [
       "0"
      ]
     },
     "execution_count": 9,
     "metadata": {},
     "output_type": "execute_result"
    }
   ],
   "source": [
    "#trigger the board\n",
    "pb_reset()\n",
    "pb_start()"
   ]
  },
  {
   "cell_type": "code",
   "execution_count": 10,
   "id": "91e44a79-568c-4d62-a49d-eb02884b328f",
   "metadata": {},
   "outputs": [
    {
     "data": {
      "text/plain": [
       "0"
      ]
     },
     "execution_count": 10,
     "metadata": {},
     "output_type": "execute_result"
    }
   ],
   "source": [
    "#to stop, use pb_stop()\n",
    "pb_stop()\n",
    "\n",
    "#to close connection to pulseblaster\n",
    "pb_close()"
   ]
  },
  {
   "cell_type": "code",
   "execution_count": null,
   "id": "3890facd-83f6-464c-97cb-ecfc8e291039",
   "metadata": {},
   "outputs": [],
   "source": []
  }
 ],
 "metadata": {
  "kernelspec": {
   "display_name": "Python 3 (ipykernel)",
   "language": "python",
   "name": "python3"
  },
  "language_info": {
   "codemirror_mode": {
    "name": "ipython",
    "version": 3
   },
   "file_extension": ".py",
   "mimetype": "text/x-python",
   "name": "python",
   "nbconvert_exporter": "python",
   "pygments_lexer": "ipython3",
   "version": "3.9.12"
  }
 },
 "nbformat": 4,
 "nbformat_minor": 5
}
