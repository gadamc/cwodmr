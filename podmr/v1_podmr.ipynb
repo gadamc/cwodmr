{
 "cells": [
  {
   "cell_type": "code",
   "execution_count": 1,
   "id": "e32d832f-11ce-425a-a843-6710715599d4",
   "metadata": {},
   "outputs": [],
   "source": [
    "%load_ext autoreload\n",
    "%autoreload 2"
   ]
  },
  {
   "cell_type": "code",
   "execution_count": 2,
   "id": "5deb10f0-bd1a-4074-9baa-68f3272532e6",
   "metadata": {},
   "outputs": [],
   "source": [
    "import numpy as np\n",
    "import matplotlib.pyplot as plt\n",
    "import time\n",
    "\n",
    "import logging\n"
   ]
  },
  {
   "cell_type": "code",
   "execution_count": 4,
   "id": "adc5e615-9c6a-44d0-8028-1e5a7108c379",
   "metadata": {},
   "outputs": [],
   "source": [
    "import qt3utils.experiments.podmr\n",
    "from qt3utils.analysis.rabi import signal_to_background\n",
    "import qt3utils.analysis.aggregation\n",
    "import qt3utils.nidaq\n",
    "import qcsapphire\n",
    "import qt3rfsynthcontrol"
   ]
  },
  {
   "cell_type": "code",
   "execution_count": 5,
   "id": "f6c2c777-b08c-4b90-b1ea-a2a5b52c034c",
   "metadata": {},
   "outputs": [],
   "source": [
    "pulser = qcsapphire.Pulser('COM10')\n",
    "rfsynth = qt3rfsynthcontrol.QT3SynthHD('COM5')"
   ]
  },
  {
   "cell_type": "code",
   "execution_count": 6,
   "id": "2aa0bf11-f69d-46f7-99e1-9afff16cf2a5",
   "metadata": {},
   "outputs": [],
   "source": [
    "nidaq_config = qt3utils.nidaq.EdgeCounter('Dev1')"
   ]
  },
  {
   "cell_type": "code",
   "execution_count": 8,
   "id": "74d01c99-7219-4b27-b2e6-4b1cea60364e",
   "metadata": {},
   "outputs": [],
   "source": [
    "def aggregate_mean_data(data_buffer, experiment):\n",
    "    '''\n",
    "    Calls qt3utils.analysis.aggregation.reshape_sum_trace, where\n",
    "        cwodmr.N_cycles = N_rows\n",
    "        cwodmr.N_clock_ticks_per_cycle = N_samples_per_row\n",
    "\n",
    "    '''\n",
    "    return qt3utils.analysis.aggregation.reshape_mean_trace(data_buffer,\n",
    "                                                           experiment.N_cycles,\n",
    "                                                           experiment.N_clock_ticks_per_cycle)"
   ]
  },
  {
   "cell_type": "code",
   "execution_count": 9,
   "id": "dd867c9d-fa25-4665-bf98-01a7252a4f80",
   "metadata": {},
   "outputs": [],
   "source": [
    "logging.basicConfig(level=logging.WARNING)"
   ]
  },
  {
   "cell_type": "code",
   "execution_count": 10,
   "id": "26841f31-29d9-4658-8139-057e16173f04",
   "metadata": {},
   "outputs": [],
   "source": [
    "qt3utils.experiments.podmr.logger.setLevel(logging.WARNING)"
   ]
  },
  {
   "cell_type": "code",
   "execution_count": 25,
   "id": "a3515d4b-439e-4d25-ab09-1b472b43643a",
   "metadata": {},
   "outputs": [],
   "source": [
    "def recombine_scans(set_of_scans):\n",
    "    combined_scans = {s[0]:np.zeros(s[1]) for s in set_of_scans[0]}\n",
    "\n",
    "    for scan in set_of_scans:\n",
    "        for read in scan:\n",
    "            width = read[0]\n",
    "            data = read[-1]\n",
    "            combined_scans[width] += data\n",
    "\n",
    "    reconstructed_scan = [[s, len(combined_scans[s]), combined_scans[s]] for s in sorted(list(combined_scans.keys()))]\n",
    "    return reconstructed_scan"
   ]
  },
  {
   "cell_type": "code",
   "execution_count": 12,
   "id": "5ed97167-efe2-43c9-bb7b-c3864d11df19",
   "metadata": {},
   "outputs": [],
   "source": [
    "def plot_rolled_trace(trace, N_cycles=1, clock_rate=1, shift=0):\n",
    "    trace = np.roll(trace,shift)\n",
    "    plt.plot(np.arange(len(trace)) / clock_rate, trace/N_cycles * clock_rate)"
   ]
  },
  {
   "cell_type": "code",
   "execution_count": 79,
   "id": "cb89855b-c25c-4672-a60d-f7995cb1acdf",
   "metadata": {},
   "outputs": [],
   "source": [
    "def signal_to_background(trace, pre_trigger, aom_width, rf_width, post_rf_pad, verbose=False,\n",
    "                        signal_aom_width_duty = 1.0, background_aom_width_duty = 1.0,\n",
    "                        aggregation = np.sum):\n",
    "    '''\n",
    "    Assumes trace produced by qt3utils.experiments.rabi.Rabi class and\n",
    "    is the aggregated data for a particular RF width.\n",
    "\n",
    "    The inputs `pre_trigger`, `aom_width` and `rf_width` are all in units of index of the trace.\n",
    "    That is, they are in units of clock ticks.\n",
    "\n",
    "    Assumes that trace is of shape\n",
    "        * pre_trigger\n",
    "        * aom_width: aom on / rf off (background)\n",
    "        * rf_width:  aom off / rf on\n",
    "        * aom_width: aom on/ rf off  (signal)\n",
    "\n",
    "    returns sum(signal) / sum(background)\n",
    "\n",
    "    '''\n",
    "    background_end = pre_trigger + int(aom_width*background_aom_width_duty)\n",
    "    signal_start = pre_trigger + aom_width + rf_width + post_rf_pad\n",
    "    signal_end = signal_start + int(aom_width*signal_aom_width_duty)\n",
    "\n",
    "    background = aggregation(trace[pre_trigger:background_end])\n",
    "    signal = aggregation(trace[signal_start:signal_end])\n",
    "\n",
    "    if verbose:\n",
    "        print(f'inputs. pre_trigger = {pre_trigger}, aom_width = {aom_width}, rf_width = {rf_width}')\n",
    "        print(f'        signal_duty = {signal_aom_width_duty}, bkgd_duty = {background_aom_width_duty}')\n",
    "        print(f'        aggregation = {aggregation}')\n",
    "        print(f'background: {pre_trigger} -> {background_end}')\n",
    "        print(trace[pre_trigger:background_end])\n",
    "        print(f'signal: {signal_start} -> {signal_end}')\n",
    "        print(trace[signal_start:signal_end])\n",
    "\n",
    "    return signal / background\n",
    "\n"
   ]
  },
  {
   "cell_type": "code",
   "execution_count": 89,
   "id": "dad6e389-c8a6-40c9-bfe6-4ada59cfecb9",
   "metadata": {},
   "outputs": [],
   "source": [
    "def build_contrast(single_scan, clock_period, aom_width_time, rf_width_time, post_rf_pad, \n",
    "                   pre_trigger = 2, signal_duty=0.25, background_duty=0.25, verbose = False):\n",
    "\n",
    "    contrast = []\n",
    "    if verbose:\n",
    "        print(clock_period)\n",
    "        print(aom_width_time)\n",
    "        print(post_rf_pad)\n",
    "    for measurement in single_scan:\n",
    "        \n",
    "        rf_frequency = measurement[0]\n",
    "        #N_samples_per_cycle = measurement[1]\n",
    "        #clock_period = rabi.clock_period\n",
    "        #aom_width_time = rabi.aom_width\n",
    "        summed_trace = measurement[2]\n",
    " \n",
    "        aom_width_ticks = int(aom_width_time / clock_period)\n",
    "        rf_width_ticks = int(rf_width_time / clock_period)\n",
    "        # post_rf_pad_ticks = np.round(rabi.post_rf_pad / clock_period).astype(int)\n",
    "        post_rf_pad_ticks = int(post_rf_pad / clock_period)\n",
    "\n",
    "        c = signal_to_background(summed_trace, \n",
    "                                 pre_trigger, \n",
    "                                 aom_width_ticks, \n",
    "                                 rf_width_ticks, \n",
    "                                 post_rf_pad_ticks,\n",
    "                                 signal_aom_width_duty = signal_duty, \n",
    "                                 background_aom_width_duty = background_duty , aggregation = np.mean, verbose=verbose)\n",
    "\n",
    "        contrast.append([rf_frequency, c]) \n",
    "\n",
    "    contrast = np.array(contrast)\n",
    "    return contrast"
   ]
  },
  {
   "cell_type": "code",
   "execution_count": null,
   "id": "f3086faa-23a1-44ba-abc4-50d6e8b1865c",
   "metadata": {},
   "outputs": [],
   "source": []
  },
  {
   "cell_type": "code",
   "execution_count": 127,
   "id": "51e8760f-277c-49f1-8eae-097a56b14305",
   "metadata": {},
   "outputs": [],
   "source": [
    "experiment = qt3utils.experiments.podmr.PulsedODMR(pulser, rfsynth, nidaq_config, rf_width = .5e-6, rf_power = -30)"
   ]
  },
  {
   "cell_type": "code",
   "execution_count": 128,
   "id": "66b9df45-7c50-4c65-8094-74d1220aaf62",
   "metadata": {},
   "outputs": [
    {
     "name": "stdout",
     "output_type": "stream",
     "text": [
      "{'freq_low': 2820000000.0, 'freq_high': 2920000000.0, 'freq_step': 1000000.0, 'rf_power': -30, 'rf_width': 5e-07, 'aom_width': 3e-06, 'aom_response_time': 8e-07, 'post_rf_pad': 1e-06, 'pre_rf_pad': 2e-07, 'clock_period': 2e-07}\n",
      "0\n",
      "5\n",
      "10\n",
      "15\n",
      "20\n",
      "25\n",
      "30\n",
      "35\n",
      "40\n",
      "45\n"
     ]
    }
   ],
   "source": [
    "experiment.rfsynth.rf_on(experiment.rfsynth_channel)\n",
    "time.sleep(2)\n",
    "print(experiment.experimental_conditions())\n",
    "\n",
    "full_scans = []\n",
    "\n",
    "for i in range(50):\n",
    "    if i % 5 == 0:\n",
    "        print(i)\n",
    "    scan_data = experiment.run(N_cycles=1000, post_process_function=aggregate_mean_data, reverse=(i%2==0))\n",
    "    full_scans.append(scan_data)\n",
    "    \n",
    "    #scan_data = rabi.run(N_cycles = 100000, post_process_function=aggregate_mean_data)"
   ]
  },
  {
   "cell_type": "code",
   "execution_count": 129,
   "id": "4c40abb9-4882-40ae-89d8-5a1a89e88b31",
   "metadata": {},
   "outputs": [],
   "source": [
    "reconstructed_single_scan = recombine_scans(full_scans)"
   ]
  },
  {
   "cell_type": "code",
   "execution_count": 130,
   "id": "16d61dd6-c993-4ab2-99fb-fd44375ec0fa",
   "metadata": {},
   "outputs": [],
   "source": [
    "def plot_rolled_trace(trace, N_cycles=1, clock_rate=1, shift=0):\n",
    "    trace = np.roll(trace,shift)\n",
    "    plt.plot(np.arange(len(trace)) / clock_rate, trace/N_cycles * clock_rate)"
   ]
  },
  {
   "cell_type": "code",
   "execution_count": 131,
   "id": "593c94db-72d2-40b6-9ac2-e32816f75d0b",
   "metadata": {},
   "outputs": [
    {
     "data": {
      "text/plain": [
       "[2920000000.0,\n",
       " 50,\n",
       " array([0.049, 0.224, 6.771, 6.835, 6.825, 6.855, 6.774, 6.818, 6.797,\n",
       "        6.917, 6.802, 6.963, 6.8  , 6.785, 6.808, 6.735, 6.741, 0.315,\n",
       "        0.055, 0.047, 0.059, 0.061, 0.052, 0.054, 0.054, 0.055, 0.199,\n",
       "        6.592, 6.974, 6.75 , 6.754, 6.819, 6.869, 6.799, 6.795, 6.967,\n",
       "        6.778, 6.945, 6.805, 6.766, 6.781, 6.606, 0.316, 0.067, 0.062,\n",
       "        0.068, 0.065, 0.061, 0.055, 0.049])]"
      ]
     },
     "execution_count": 131,
     "metadata": {},
     "output_type": "execute_result"
    }
   ],
   "source": [
    "scan"
   ]
  },
  {
   "cell_type": "code",
   "execution_count": 132,
   "id": "4297302d-6d83-40b1-a010-4cd507585aad",
   "metadata": {},
   "outputs": [
    {
     "data": {
      "image/png": "[encoded data removed]",
      "text/plain": [
       "<Figure size 432x288 with 1 Axes>"
      ]
     },
     "metadata": {
      "needs_background": "light"
     },
     "output_type": "display_data"
    }
   ],
   "source": [
    "scan = reconstructed_single_scan[10]\n",
    "plot_rolled_trace(scan[-1], clock_rate = 1/experiment.clock_period)"
   ]
  },
  {
   "cell_type": "code",
   "execution_count": 133,
   "id": "36faf042-a919-40bc-b3fd-f8d1c459ed91",
   "metadata": {},
   "outputs": [
    {
     "name": "stdout",
     "output_type": "stream",
     "text": [
      "15\n",
      "2\n",
      "5\n",
      "[ 0.261  0.802 25.548 25.942 26.101 26.128 25.849 26.002 26.172 25.997\n",
      " 26.118 25.967 25.871 25.986 25.963 26.061 25.258  1.378  0.253  0.276\n",
      "  0.26   0.226  0.24   0.801 25.446 25.937 26.103 25.855 26.062 25.636\n",
      " 26.428 25.984 26.092 26.014 26.    26.397 26.043 25.886 25.449  1.35\n",
      "  0.252  0.253  0.249  0.252]\n",
      "function\n",
      "inputs. pre_trigger = 2, aom_width = 15, rf_width = 2\n",
      "        signal_duty = 1.0, bkgd_duty = 1.0\n",
      "        aggregation = <function sum at 0x000001BD27EBC700>\n",
      "background: 2 -> 17\n",
      "[25.548 25.942 26.101 26.128 25.849 26.002 26.172 25.997 26.118 25.967\n",
      " 25.871 25.986 25.963 26.061 25.258]\n",
      "signal: 24 -> 39\n",
      "[25.446 25.937 26.103 25.855 26.062 25.636 26.428 25.984 26.092 26.014\n",
      " 26.    26.397 26.043 25.886 25.449]\n"
     ]
    },
    {
     "data": {
      "text/plain": [
       "1.0009486763522495"
      ]
     },
     "execution_count": 133,
     "metadata": {},
     "output_type": "execute_result"
    }
   ],
   "source": [
    "pre_trigger = 2\n",
    "aom_width = int(experiment.aom_width / experiment.clock_period)\n",
    "#rf_delay = int((experiment.aom_response_time  + experiment.pre_rf_pad)/experiment.clock_period)\n",
    "rf_width = int(experiment.rf_width / experiment.clock_period)\n",
    "post_rf_pad = int(experiment.post_rf_pad / experiment.clock_period)\n",
    "\n",
    "print(aom_width)\n",
    "#print(rf_delay)\n",
    "print(rf_width)\n",
    "print(post_rf_pad)\n",
    "print(scan[-1])\n",
    "print('function')\n",
    "\n",
    "signal_to_background(scan[-1], pre_trigger, aom_width, rf_width, post_rf_pad, verbose=True)"
   ]
  },
  {
   "cell_type": "code",
   "execution_count": 134,
   "id": "a3838a40-0b2a-4ca6-aec7-8479bc63c3dd",
   "metadata": {},
   "outputs": [
    {
     "data": {
      "image/png": "[encoded data removed]",
      "text/plain": [
       "<Figure size 432x288 with 1 Axes>"
      ]
     },
     "metadata": {
      "needs_background": "light"
     },
     "output_type": "display_data"
    }
   ],
   "source": [
    "for scan in reconstructed_single_scan[::5]:\n",
    "    plot_rolled_trace(scan[-1], clock_rate = 1/experiment.clock_period)"
   ]
  },
  {
   "cell_type": "code",
   "execution_count": 135,
   "id": "321e9a64-af1d-41f6-b212-8cfcfb35eaae",
   "metadata": {},
   "outputs": [],
   "source": [
    "contrast = build_contrast(reconstructed_single_scan, experiment.clock_period, \n",
    "                          experiment.aom_width, experiment.rf_width,\n",
    "                          experiment.post_rf_pad, signal_duty=.5, background_duty=.5)\n",
    "x_data = contrast[:, 0]\n",
    "y_data = contrast[:, 1]"
   ]
  },
  {
   "cell_type": "code",
   "execution_count": 136,
   "id": "fb112298-1128-4e7c-a433-c19128d2220e",
   "metadata": {},
   "outputs": [
    {
     "data": {
      "text/plain": [
       "[<matplotlib.lines.Line2D at 0x1bd2e44ef10>]"
      ]
     },
     "execution_count": 136,
     "metadata": {},
     "output_type": "execute_result"
    },
    {
     "data": {
      "image/png": "[encoded data removed]",
      "text/plain": [
       "<Figure size 720x432 with 1 Axes>"
      ]
     },
     "metadata": {
      "needs_background": "light"
     },
     "output_type": "display_data"
    }
   ],
   "source": [
    "\n",
    "\n",
    "plt.figure(figsize=(10, 6))\n",
    "#plt.scatter(x_data, y_data, label='Data', s=5)\n",
    "plt.plot(x_data, y_data, 'o-', label='Data')\n",
    "\n",
    "# plt.xlabel('microseconds')\n",
    "# plt.ylabel('signal/background')\n",
    "# plt.plot(x_data, rabi_oscillation(x_data, *params),\n",
    "#          label='Fitted function', color='orange')\n",
    "# plt.legend()"
   ]
  },
  {
   "cell_type": "code",
   "execution_count": 139,
   "id": "a07b268f-3298-4f04-beb3-dd0b35324f97",
   "metadata": {},
   "outputs": [
    {
     "data": {
      "text/plain": [
       "array([2.868e+09, 2.873e+09])"
      ]
     },
     "execution_count": 139,
     "metadata": {},
     "output_type": "execute_result"
    }
   ],
   "source": [
    "x_data[y_data<0.95]"
   ]
  },
  {
   "cell_type": "code",
   "execution_count": null,
   "id": "ed393179-5177-4d99-b137-e57dcd80c806",
   "metadata": {},
   "outputs": [],
   "source": []
  }
 ],
 "metadata": {
  "kernelspec": {
   "display_name": "Python 3 (ipykernel)",
   "language": "python",
   "name": "python3"
  },
  "language_info": {
   "codemirror_mode": {
    "name": "ipython",
    "version": 3
   },
   "file_extension": ".py",
   "mimetype": "text/x-python",
   "name": "python",
   "nbconvert_exporter": "python",
   "pygments_lexer": "ipython3",
   "version": "3.9.12"
  }
 },
 "nbformat": 4,
 "nbformat_minor": 5
}
