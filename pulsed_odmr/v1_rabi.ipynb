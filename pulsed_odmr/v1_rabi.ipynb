{
 "cells": [
  {
   "cell_type": "code",
   "execution_count": 1,
   "id": "e32d832f-11ce-425a-a843-6710715599d4",
   "metadata": {},
   "outputs": [],
   "source": [
    "%load_ext autoreload\n",
    "%autoreload 2"
   ]
  },
  {
   "cell_type": "code",
   "execution_count": 2,
   "id": "adc5e615-9c6a-44d0-8028-1e5a7108c379",
   "metadata": {},
   "outputs": [],
   "source": [
    "import qt3utils.experiments.rabi\n",
    "import qt3utils.nidaq.config"
   ]
  },
  {
   "cell_type": "code",
   "execution_count": 3,
   "id": "eb2d311f-866f-41fc-af84-63feecaddd59",
   "metadata": {},
   "outputs": [],
   "source": [
    "import qcsapphire\n",
    "import qt3rfsynthcontrol\n",
    "import numpy as np\n",
    "import matplotlib.pyplot as plt\n",
    "import time"
   ]
  },
  {
   "cell_type": "code",
   "execution_count": 4,
   "id": "f6c2c777-b08c-4b90-b1ea-a2a5b52c034c",
   "metadata": {},
   "outputs": [],
   "source": [
    "pulser = qcsapphire.Pulser('COM10')\n",
    "rfsynth = qt3rfsynthcontrol.QT3SynthHD('COM5')"
   ]
  },
  {
   "cell_type": "code",
   "execution_count": 5,
   "id": "2aa0bf11-f69d-46f7-99e1-9afff16cf2a5",
   "metadata": {},
   "outputs": [],
   "source": [
    "qt3utils.nidaq.config.reset_daq('Dev1')"
   ]
  },
  {
   "cell_type": "code",
   "execution_count": 40,
   "id": "1b98a203-3d06-4fe3-902e-05eb783994d1",
   "metadata": {},
   "outputs": [],
   "source": [
    "freq = 2870e6\n",
    "N_cycles = 100000\n",
    "rf_power = -5\n",
    "clock_terminal = 'PFI0'\n",
    "spcm_terminal = 'PFI12'"
   ]
  },
  {
   "cell_type": "code",
   "execution_count": 14,
   "id": "33b7da8f-8d5f-4cf5-acd8-3958f5c8800f",
   "metadata": {},
   "outputs": [],
   "source": [
    "def run_scan(rf_widths, post_data_acq_process = None):\n",
    "    rfsynth.set_channel_fixed_output(0, rf_power, freq)\n",
    "    rfsynth.rf_on(0)\n",
    "    time.sleep(0.1) #wait for RF box to turn on\n",
    "\n",
    "    data = []\n",
    "    for rf_width in rf_widths:\n",
    "        print(rf_width)\n",
    "       \n",
    "        full_cycle_ticks, period = qt3utils.experiments.rabi.pulser_setup(pulser, aom_channel = 'A',\n",
    "                                                                          aom_response_time=900e-9, aom_width = 3e-6, \n",
    "                                                                          rf_channel = 'B', rf_width = rf_width,\n",
    "                                                                         clock_channel = 'C')\n",
    "        N_samples = full_cycle_ticks * N_cycles\n",
    "        daq_time = N_samples * period\n",
    "        print(f'Acquiring {N_samples} at sample period of {period} seconds: total {daq_time} seconds')\n",
    "        \n",
    "        edge_config = qt3utils.nidaq.config.EdgeCounter()\n",
    "        edge_config.configure_counter_period_measure(source_terminal = spcm_terminal,\n",
    "                                                     N_samples_to_acquire_or_buffer_size = N_samples, \n",
    "                                                     clock_terminal = clock_terminal)\n",
    "        edge_config.create_counter_reader()\n",
    "\n",
    "        data_buffer = np.zeros(int(N_samples))\n",
    "        pulser.system.state(1) #turn on the pulser\n",
    "        time.sleep(0.1) #wait to be sure its on\n",
    "        edge_config.counter_task.start()\n",
    "        time.sleep(daq_time*1.1)\n",
    "        \n",
    "        read_samples = edge_config.counter_reader.read_many_sample_double(\n",
    "                                data_buffer,\n",
    "                                number_of_samples_per_channel=int(N_samples),\n",
    "                                timeout=5)\n",
    "        \n",
    "        edge_config.counter_task.stop()\n",
    "        \n",
    "        if post_data_acq_process:\n",
    "            data_buffer = post_data_acq_process(data_buffer, N_cycles, full_cycle_ticks)\n",
    "            \n",
    "        data.append([rf_width, full_cycle_ticks, period, data_buffer])\n",
    "    \n",
    "    rfsynth.rf_off(0)\n",
    "    time.sleep(0.05) #wait for RF box\n",
    "    return data\n"
   ]
  },
  {
   "cell_type": "code",
   "execution_count": 41,
   "id": "89f2da28-9d51-46a9-ac26-0d3717ea42c6",
   "metadata": {},
   "outputs": [],
   "source": [
    "def reshape_sum_trace(trace, N_cycles, N_samples_per_cycle):\n",
    "    data_buffer_by_cycles = trace.reshape((int(N_cycles), int(N_samples_per_cycle)))\n",
    "    return data_buffer_by_cycles.sum(axis=0)"
   ]
  },
  {
   "cell_type": "code",
   "execution_count": 47,
   "id": "de76c405-1876-45fc-a41b-f093fccd09b3",
   "metadata": {},
   "outputs": [
    {
     "name": "stdout",
     "output_type": "stream",
     "text": [
      "4e-07\n",
      "Acquiring 3400000.0 at sample period of 2e-07 seconds: total 0.6799999999999999 seconds\n",
      "6e-07\n",
      "Acquiring 3600000.0 at sample period of 2e-07 seconds: total 0.72 seconds\n",
      "8e-07\n",
      "Acquiring 3800000.0 at sample period of 2e-07 seconds: total 0.76 seconds\n",
      "1e-06\n",
      "Acquiring 4000000.0 at sample period of 2e-07 seconds: total 0.7999999999999999 seconds\n",
      "1.2e-06\n",
      "Acquiring 4200000.0 at sample period of 2e-07 seconds: total 0.84 seconds\n",
      "1.4e-06\n",
      "Acquiring 4400000.0 at sample period of 2e-07 seconds: total 0.88 seconds\n",
      "1.6e-06\n",
      "Acquiring 4600000.0 at sample period of 2e-07 seconds: total 0.9199999999999999 seconds\n",
      "1.8e-06\n",
      "Acquiring 4800000.0 at sample period of 2e-07 seconds: total 0.96 seconds\n",
      "2e-06\n",
      "Acquiring 5000000.0 at sample period of 2e-07 seconds: total 1.0 seconds\n",
      "2.2e-06\n",
      "Acquiring 5200000.000000001 at sample period of 2e-07 seconds: total 1.04 seconds\n",
      "2.4e-06\n",
      "Acquiring 5400000.0 at sample period of 2e-07 seconds: total 1.0799999999999998 seconds\n",
      "2.6e-06\n",
      "Acquiring 5600000.000000001 at sample period of 2e-07 seconds: total 1.12 seconds\n",
      "2.8e-06\n",
      "Acquiring 5800000.0 at sample period of 2e-07 seconds: total 1.16 seconds\n",
      "2.9999999999999997e-06\n",
      "Acquiring 6000000.0 at sample period of 2e-07 seconds: total 1.2 seconds\n"
     ]
    }
   ],
   "source": [
    "rf_widths = np.arange(400e-9, 3e-6, 200e-9)\n",
    "\n",
    "scan_data = run_scan(rf_widths, reshape_sum_trace)"
   ]
  },
  {
   "cell_type": "code",
   "execution_count": 49,
   "id": "9e0920f4-efbc-4295-b229-4aee9c84ea0e",
   "metadata": {},
   "outputs": [
    {
     "data": {
      "text/plain": [
       "[[4e-07,\n",
       "  34.0,\n",
       "  2e-07,\n",
       "  array([100978., 100934., 101607., 101350., 101188., 101407., 101605.,\n",
       "         101422., 101296., 101974., 101346., 100063.,   7960.,   2241.,\n",
       "          89371.,  89872.,  90580.,  92863.,  94711.,  95943.,  97570.,\n",
       "          98348.,  98680.,  99716.,  99676., 100311., 100395., 100341.,\n",
       "          99555.,   7923.,   2221.,  98502., 101089., 100715.])],\n",
       " [6e-07,\n",
       "  36.0,\n",
       "  2e-07,\n",
       "  array([103187., 103173., 103171., 103203., 103450., 103253., 103271.,\n",
       "         103208., 102980., 101551.,   8075.,   1000.,   2291.,  91036.,\n",
       "          91932.,  92312.,  94630.,  96678.,  98341.,  99496.,  99976.,\n",
       "         100774., 101831., 101971., 102352., 101513., 101187., 101301.,\n",
       "           7988.,   1010.,   2189.,  99891., 102851., 102969., 102959.,\n",
       "         102951.])],\n",
       " [8e-07,\n",
       "  38.0,\n",
       "  2e-07,\n",
       "  array([102722., 102760., 102959., 102846., 103095., 101937.,   7991.,\n",
       "           1112.,   1053.,   2245., 101574., 104576., 104502., 104076.,\n",
       "         104717., 104585., 104673., 104790., 104798., 104925., 104528.,\n",
       "         104975., 104289., 104222., 103189.,   8079.,   1065.,    977.,\n",
       "           2224.,  91991.,  92476.,  93175.,  95519.,  97443.,  99459.,\n",
       "         100465., 100974., 102097.])],\n",
       " [1e-06,\n",
       "  40.0,\n",
       "  2e-07,\n",
       "  array([103927., 104681., 104112., 104789., 104676., 103259.,   8230.,\n",
       "           1111.,   1030.,   1010.,   2305., 103306., 105770., 105556.,\n",
       "         106086., 105933., 106107., 106151., 106248., 106043., 105872.,\n",
       "         105892., 105673., 105541., 105917., 104948.,   8071.,   1103.,\n",
       "           1022.,   1015.,   2273.,  92799.,  93842.,  95135.,  97119.,\n",
       "          99675., 100747., 102636., 102956., 103150.])],\n",
       " [1.2e-06,\n",
       "  42.0,\n",
       "  2e-07,\n",
       "  array([106623., 107147., 107205., 107095., 107318., 106104.,   8149.,\n",
       "           1096.,   1095.,   1019.,   1047.,   2307.,  94566.,  95302.,\n",
       "          96387.,  98541., 100604., 102626., 103433., 104329., 105046.,\n",
       "         105023., 105475., 105825., 105951., 106209., 105293.,   8012.,\n",
       "           1112.,   1056.,   1007.,   1051.,   2367., 104177., 107601.,\n",
       "         107302., 107235., 107300., 107076., 107393., 107322., 107816.])],\n",
       " [1.4e-06,\n",
       "  44.0,\n",
       "  2e-07,\n",
       "  array([105841.,   8218.,   1076.,    984.,   1098.,   1031.,   1021.,\n",
       "           2526., 105157., 108241., 108038., 108003., 108492., 108536.,\n",
       "         108622., 108026., 108863., 108240., 108238., 108192., 107851.,\n",
       "         108264., 106612.,   8199.,   1082.,   1024.,   1017.,   1010.,\n",
       "            992.,   2418.,  95898.,  96525.,  97336.,  99400., 101447.,\n",
       "         102923., 104367., 105508., 106089., 106578., 106749., 106374.,\n",
       "         107009., 107465.])],\n",
       " [1.6e-06,\n",
       "  46.0,\n",
       "  2e-07,\n",
       "  array([108376., 108378., 108630., 107159.,   8241.,   1128.,   1004.,\n",
       "           1085.,   1049.,    977.,   1070.,   2589., 106621., 109014.,\n",
       "         109465., 109117., 109454., 109514., 109749., 109308., 109481.,\n",
       "         109029., 109434., 108999., 109797., 109802., 108457.,   8294.,\n",
       "           1194.,   1057.,    953.,    999.,    993.,    997.,   2471.,\n",
       "          97051.,  97758.,  98042., 101296., 102941., 105146., 105504.,\n",
       "         106458., 106959., 107203., 107819.])],\n",
       " [1.8e-06,\n",
       "  48.0,\n",
       "  2e-07,\n",
       "  array([110106., 109093.,   8246.,   1133.,   1051.,   1101.,   1052.,\n",
       "           1013.,   1035.,   1043.,   2538., 107591., 110485., 110903.,\n",
       "         110729., 110182., 110441., 110701., 110758., 110441., 110764.,\n",
       "         110605., 110099., 110372., 110346., 109880.,   8278.,   1191.,\n",
       "           1058.,   1062.,   1059.,   1037.,    989.,   1026.,   2526.,\n",
       "          97539.,  99043.,  99034., 101538., 103802., 105616., 106786.,\n",
       "         107697., 108396., 108313., 109402., 109313., 109236.])],\n",
       " [2e-06,\n",
       "  50.0,\n",
       "  2e-07,\n",
       "  array([111339., 111744., 110325.,   8439.,   1137.,   1068.,   1074.,\n",
       "           1097.,   1015.,   1035.,    991.,   1013.,   2556.,  97980.,\n",
       "          99516., 100462., 103249., 105129., 106741., 107395., 108528.,\n",
       "         109004., 109609., 110336., 110289., 110728., 110197., 108640.,\n",
       "           8239.,   1093.,   1056.,   1007.,   1016.,   1066.,   1040.,\n",
       "           1047.,   1075.,   2647., 108748., 111220., 111795., 111415.,\n",
       "         111669., 111678., 110874., 111588., 111319., 111368., 111787.,\n",
       "         111905.])],\n",
       " [2.2e-06,\n",
       "  52.00000000000001,\n",
       "  2e-07,\n",
       "  array([112208., 112553., 112172., 112130., 112207., 112373., 112338.,\n",
       "         112820., 112328., 111933., 112512., 112338., 111060.,   8233.,\n",
       "           1159.,   1077.,   1039.,   1031.,    988.,   1040.,    970.,\n",
       "            999.,    991.,   2668.,  99209., 100645., 101323., 103932.,\n",
       "         105693., 106684., 108120., 108828., 110067., 110122., 110177.,\n",
       "         110810., 111049., 111079., 110069.,   8195.,   1184.,   1129.,\n",
       "           1145.,   1090.,   1028.,   1023.,   1013.,   1009.,    944.,\n",
       "           2723., 108943., 112751.])],\n",
       " [2.4e-06,\n",
       "  54.0,\n",
       "  2e-07,\n",
       "  array([  1055.,   1064.,   1026.,    980.,   1000.,   1000.,   2782.,\n",
       "         110640., 113170., 113474., 113444., 112732., 113306., 113057.,\n",
       "         112975., 113425., 113326., 112979., 113250., 113329., 113494.,\n",
       "         112159.,   8353.,   1209.,   1076.,   1112.,   1079.,   1050.,\n",
       "            976.,   1016.,   1034.,    995.,    997.,   2627., 100102.,\n",
       "         101368., 102180., 104390., 106983., 108235., 109076., 110202.,\n",
       "         110879., 111373., 111561., 112341., 111968., 112204., 110944.,\n",
       "           8159.,   1162.,   1096.,   1031.,   1063.])],\n",
       " [2.6e-06,\n",
       "  56.00000000000001,\n",
       "  2e-07,\n",
       "  array([  1066.,   1040.,   2874., 111114., 114091., 113470., 114227.,\n",
       "         113839., 113917., 114264., 113915., 114140., 113987., 114036.,\n",
       "         113544., 114314., 113484., 113173.,   8375.,   1119.,   1055.,\n",
       "           1069.,   1029.,   1010.,   1012.,    984.,   1050.,   1012.,\n",
       "           1055.,   1090.,   2737., 100368., 101468., 102153., 104716.,\n",
       "         107137., 108669., 110066., 110057., 111829., 111543., 112792.,\n",
       "         112201., 112615., 112947., 111299.,   8227.,   1177.,   1132.,\n",
       "           1069.,   1029.,   1064.,   1096.,   1034.,   1062.,   1057.])],\n",
       " [2.8e-06,\n",
       "  58.0,\n",
       "  2e-07,\n",
       "  array([113598.,   8282.,   1170.,   1035.,   1077.,   1064.,   1026.,\n",
       "           1017.,   1051.,   1014.,   1003.,   1007.,   1079.,    998.,\n",
       "           2798., 100795., 102300., 103248., 105630., 107662., 109603.,\n",
       "         110610., 111704., 112091., 112619., 113078., 113096., 113268.,\n",
       "         114114., 112335.,   8190.,   1203.,   1120.,   1112.,   1031.,\n",
       "           1028.,   1044.,    969.,    998.,   1060.,   1003.,   1061.,\n",
       "            977.,   2819., 111372., 114004., 113969., 114181., 114400.,\n",
       "         114076., 114215., 114725., 114736., 114439., 114370., 114684.,\n",
       "         114390., 114275.])],\n",
       " [2.9999999999999997e-06,\n",
       "  60.0,\n",
       "  2e-07,\n",
       "  array([53908., 54303., 53958., 54350., 54038., 53911., 54017., 54049.,\n",
       "         54490., 54082., 54190., 54050., 54316., 53897., 54249., 54146.,\n",
       "         53951., 54032., 54118., 53996., 53794., 54070., 53817., 53958.,\n",
       "         54173., 53987., 53860., 54065., 54306., 54063., 54218., 53915.,\n",
       "         54262., 54133., 53772., 54032., 53904., 54028., 54377., 54251.,\n",
       "         53905., 53727., 54092., 53904., 53967., 53831., 54080., 54277.,\n",
       "         54189., 53896., 54133., 54197., 53823., 53684., 53862., 54237.,\n",
       "         53771., 54102., 54486., 54117.])]]"
      ]
     },
     "execution_count": 49,
     "metadata": {},
     "output_type": "execute_result"
    }
   ],
   "source": [
    "scan_data"
   ]
  },
  {
   "cell_type": "code",
   "execution_count": 50,
   "id": "39c84979-e697-484c-831f-3556712236eb",
   "metadata": {},
   "outputs": [],
   "source": [
    "import pickle"
   ]
  },
  {
   "cell_type": "code",
   "execution_count": 55,
   "id": "b9a94a92-3d54-40af-a230-f2e90f2653c6",
   "metadata": {},
   "outputs": [
    {
     "name": "stderr",
     "output_type": "stream",
     "text": [
      "C:\\Users\\QT3\\AppData\\Local\\Temp\\ipykernel_552\\1111870500.py:1: VisibleDeprecationWarning: Creating an ndarray from ragged nested sequences (which is a list-or-tuple of lists-or-tuples-or ndarrays with different lengths or shapes) is deprecated. If you meant to do this, you must specify 'dtype=object' when creating the ndarray.\n",
      "  np.save('scan_data', np.array(scan_data))\n"
     ]
    }
   ],
   "source": [
    "np.save('scan_data', np.array(scan_data))"
   ]
  },
  {
   "cell_type": "code",
   "execution_count": 59,
   "id": "155a2021-ca71-41bf-ad1f-3d9265da29cd",
   "metadata": {},
   "outputs": [],
   "source": [
    "lscan_data = np.load('scan_data.npy', allow_pickle=True)"
   ]
  },
  {
   "cell_type": "code",
   "execution_count": 60,
   "id": "5ed97167-efe2-43c9-bb7b-c3864d11df19",
   "metadata": {},
   "outputs": [],
   "source": [
    "def plot_rolled_trace(trace, N_cycles, N_samples_per_cycle, clock_rate, shift=0):\n",
    "    trace = np.roll(trace,shift)\n",
    "    plt.plot(np.arange(N_samples_per_cycle) / clock_rate, trace/N_cycles * clock_rate)"
   ]
  },
  {
   "cell_type": "code",
   "execution_count": 62,
   "id": "e593a7ca-69ee-4c9b-bcde-1149f1834a7b",
   "metadata": {},
   "outputs": [
    {
     "data": {
      "text/plain": [
       "array([[4e-07, 34.0, 2e-07,\n",
       "        array([100978., 100934., 101607., 101350., 101188., 101407., 101605.,\n",
       "               101422., 101296., 101974., 101346., 100063.,   7960.,   2241.,\n",
       "                89371.,  89872.,  90580.,  92863.,  94711.,  95943.,  97570.,\n",
       "                98348.,  98680.,  99716.,  99676., 100311., 100395., 100341.,\n",
       "                99555.,   7923.,   2221.,  98502., 101089., 100715.])        ],\n",
       "       [6e-07, 36.0, 2e-07,\n",
       "        array([103187., 103173., 103171., 103203., 103450., 103253., 103271.,\n",
       "               103208., 102980., 101551.,   8075.,   1000.,   2291.,  91036.,\n",
       "                91932.,  92312.,  94630.,  96678.,  98341.,  99496.,  99976.,\n",
       "               100774., 101831., 101971., 102352., 101513., 101187., 101301.,\n",
       "                 7988.,   1010.,   2189.,  99891., 102851., 102969., 102959.,\n",
       "               102951.])                                                     ],\n",
       "       [8e-07, 38.0, 2e-07,\n",
       "        array([102722., 102760., 102959., 102846., 103095., 101937.,   7991.,\n",
       "                 1112.,   1053.,   2245., 101574., 104576., 104502., 104076.,\n",
       "               104717., 104585., 104673., 104790., 104798., 104925., 104528.,\n",
       "               104975., 104289., 104222., 103189.,   8079.,   1065.,    977.,\n",
       "                 2224.,  91991.,  92476.,  93175.,  95519.,  97443.,  99459.,\n",
       "               100465., 100974., 102097.])                                   ],\n",
       "       [1e-06, 40.0, 2e-07,\n",
       "        array([103927., 104681., 104112., 104789., 104676., 103259.,   8230.,\n",
       "                 1111.,   1030.,   1010.,   2305., 103306., 105770., 105556.,\n",
       "               106086., 105933., 106107., 106151., 106248., 106043., 105872.,\n",
       "               105892., 105673., 105541., 105917., 104948.,   8071.,   1103.,\n",
       "                 1022.,   1015.,   2273.,  92799.,  93842.,  95135.,  97119.,\n",
       "                99675., 100747., 102636., 102956., 103150.])                 ],\n",
       "       [1.2e-06, 42.0, 2e-07,\n",
       "        array([106623., 107147., 107205., 107095., 107318., 106104.,   8149.,\n",
       "                 1096.,   1095.,   1019.,   1047.,   2307.,  94566.,  95302.,\n",
       "                96387.,  98541., 100604., 102626., 103433., 104329., 105046.,\n",
       "               105023., 105475., 105825., 105951., 106209., 105293.,   8012.,\n",
       "                 1112.,   1056.,   1007.,   1051.,   2367., 104177., 107601.,\n",
       "               107302., 107235., 107300., 107076., 107393., 107322., 107816.])],\n",
       "       [1.4e-06, 44.0, 2e-07,\n",
       "        array([105841.,   8218.,   1076.,    984.,   1098.,   1031.,   1021.,\n",
       "                 2526., 105157., 108241., 108038., 108003., 108492., 108536.,\n",
       "               108622., 108026., 108863., 108240., 108238., 108192., 107851.,\n",
       "               108264., 106612.,   8199.,   1082.,   1024.,   1017.,   1010.,\n",
       "                  992.,   2418.,  95898.,  96525.,  97336.,  99400., 101447.,\n",
       "               102923., 104367., 105508., 106089., 106578., 106749., 106374.,\n",
       "               107009., 107465.])                                            ],\n",
       "       [1.6e-06, 46.0, 2e-07,\n",
       "        array([108376., 108378., 108630., 107159.,   8241.,   1128.,   1004.,\n",
       "                 1085.,   1049.,    977.,   1070.,   2589., 106621., 109014.,\n",
       "               109465., 109117., 109454., 109514., 109749., 109308., 109481.,\n",
       "               109029., 109434., 108999., 109797., 109802., 108457.,   8294.,\n",
       "                 1194.,   1057.,    953.,    999.,    993.,    997.,   2471.,\n",
       "                97051.,  97758.,  98042., 101296., 102941., 105146., 105504.,\n",
       "               106458., 106959., 107203., 107819.])                          ],\n",
       "       [1.8e-06, 48.0, 2e-07,\n",
       "        array([110106., 109093.,   8246.,   1133.,   1051.,   1101.,   1052.,\n",
       "                 1013.,   1035.,   1043.,   2538., 107591., 110485., 110903.,\n",
       "               110729., 110182., 110441., 110701., 110758., 110441., 110764.,\n",
       "               110605., 110099., 110372., 110346., 109880.,   8278.,   1191.,\n",
       "                 1058.,   1062.,   1059.,   1037.,    989.,   1026.,   2526.,\n",
       "                97539.,  99043.,  99034., 101538., 103802., 105616., 106786.,\n",
       "               107697., 108396., 108313., 109402., 109313., 109236.])        ],\n",
       "       [2e-06, 50.0, 2e-07,\n",
       "        array([111339., 111744., 110325.,   8439.,   1137.,   1068.,   1074.,\n",
       "                 1097.,   1015.,   1035.,    991.,   1013.,   2556.,  97980.,\n",
       "                99516., 100462., 103249., 105129., 106741., 107395., 108528.,\n",
       "               109004., 109609., 110336., 110289., 110728., 110197., 108640.,\n",
       "                 8239.,   1093.,   1056.,   1007.,   1016.,   1066.,   1040.,\n",
       "                 1047.,   1075.,   2647., 108748., 111220., 111795., 111415.,\n",
       "               111669., 111678., 110874., 111588., 111319., 111368., 111787.,\n",
       "               111905.])                                                     ],\n",
       "       [2.2e-06, 52.00000000000001, 2e-07,\n",
       "        array([112208., 112553., 112172., 112130., 112207., 112373., 112338.,\n",
       "               112820., 112328., 111933., 112512., 112338., 111060.,   8233.,\n",
       "                 1159.,   1077.,   1039.,   1031.,    988.,   1040.,    970.,\n",
       "                  999.,    991.,   2668.,  99209., 100645., 101323., 103932.,\n",
       "               105693., 106684., 108120., 108828., 110067., 110122., 110177.,\n",
       "               110810., 111049., 111079., 110069.,   8195.,   1184.,   1129.,\n",
       "                 1145.,   1090.,   1028.,   1023.,   1013.,   1009.,    944.,\n",
       "                 2723., 108943., 112751.])                                   ],\n",
       "       [2.4e-06, 54.0, 2e-07,\n",
       "        array([  1055.,   1064.,   1026.,    980.,   1000.,   1000.,   2782.,\n",
       "               110640., 113170., 113474., 113444., 112732., 113306., 113057.,\n",
       "               112975., 113425., 113326., 112979., 113250., 113329., 113494.,\n",
       "               112159.,   8353.,   1209.,   1076.,   1112.,   1079.,   1050.,\n",
       "                  976.,   1016.,   1034.,    995.,    997.,   2627., 100102.,\n",
       "               101368., 102180., 104390., 106983., 108235., 109076., 110202.,\n",
       "               110879., 111373., 111561., 112341., 111968., 112204., 110944.,\n",
       "                 8159.,   1162.,   1096.,   1031.,   1063.])                 ],\n",
       "       [2.6e-06, 56.00000000000001, 2e-07,\n",
       "        array([  1066.,   1040.,   2874., 111114., 114091., 113470., 114227.,\n",
       "               113839., 113917., 114264., 113915., 114140., 113987., 114036.,\n",
       "               113544., 114314., 113484., 113173.,   8375.,   1119.,   1055.,\n",
       "                 1069.,   1029.,   1010.,   1012.,    984.,   1050.,   1012.,\n",
       "                 1055.,   1090.,   2737., 100368., 101468., 102153., 104716.,\n",
       "               107137., 108669., 110066., 110057., 111829., 111543., 112792.,\n",
       "               112201., 112615., 112947., 111299.,   8227.,   1177.,   1132.,\n",
       "                 1069.,   1029.,   1064.,   1096.,   1034.,   1062.,   1057.])],\n",
       "       [2.8e-06, 58.0, 2e-07,\n",
       "        array([113598.,   8282.,   1170.,   1035.,   1077.,   1064.,   1026.,\n",
       "                 1017.,   1051.,   1014.,   1003.,   1007.,   1079.,    998.,\n",
       "                 2798., 100795., 102300., 103248., 105630., 107662., 109603.,\n",
       "               110610., 111704., 112091., 112619., 113078., 113096., 113268.,\n",
       "               114114., 112335.,   8190.,   1203.,   1120.,   1112.,   1031.,\n",
       "                 1028.,   1044.,    969.,    998.,   1060.,   1003.,   1061.,\n",
       "                  977.,   2819., 111372., 114004., 113969., 114181., 114400.,\n",
       "               114076., 114215., 114725., 114736., 114439., 114370., 114684.,\n",
       "               114390., 114275.])                                            ],\n",
       "       [2.9999999999999997e-06, 60.0, 2e-07,\n",
       "        array([53908., 54303., 53958., 54350., 54038., 53911., 54017., 54049.,\n",
       "               54490., 54082., 54190., 54050., 54316., 53897., 54249., 54146.,\n",
       "               53951., 54032., 54118., 53996., 53794., 54070., 53817., 53958.,\n",
       "               54173., 53987., 53860., 54065., 54306., 54063., 54218., 53915.,\n",
       "               54262., 54133., 53772., 54032., 53904., 54028., 54377., 54251.,\n",
       "               53905., 53727., 54092., 53904., 53967., 53831., 54080., 54277.,\n",
       "               54189., 53896., 54133., 54197., 53823., 53684., 53862., 54237.,\n",
       "               53771., 54102., 54486., 54117.])                               ]],\n",
       "      dtype=object)"
      ]
     },
     "execution_count": 62,
     "metadata": {},
     "output_type": "execute_result"
    }
   ],
   "source": [
    "lscan_data"
   ]
  },
  {
   "cell_type": "code",
   "execution_count": 65,
   "id": "a99d9e7f-4fa0-46aa-ac1c-cb239cba9f76",
   "metadata": {},
   "outputs": [
    {
     "ename": "ValueError",
     "evalue": "x and y must have same first dimension, but have shapes (53,) and (52,)",
     "output_type": "error",
     "traceback": [
      "\u001b[1;31m---------------------------------------------------------------------------\u001b[0m",
      "\u001b[1;31mValueError\u001b[0m                                Traceback (most recent call last)",
      "Input \u001b[1;32mIn [65]\u001b[0m, in \u001b[0;36m<cell line: 1>\u001b[1;34m()\u001b[0m\n\u001b[0;32m      1\u001b[0m \u001b[38;5;28;01mfor\u001b[39;00m d \u001b[38;5;129;01min\u001b[39;00m lscan_data[:\u001b[38;5;241m-\u001b[39m\u001b[38;5;241m1\u001b[39m]:\n\u001b[1;32m----> 3\u001b[0m     \u001b[43mplot_rolled_trace\u001b[49m\u001b[43m(\u001b[49m\u001b[43md\u001b[49m\u001b[43m[\u001b[49m\u001b[38;5;241;43m3\u001b[39;49m\u001b[43m]\u001b[49m\u001b[43m,\u001b[49m\u001b[43m \u001b[49m\u001b[43mN_cycles\u001b[49m\u001b[43m,\u001b[49m\u001b[43m \u001b[49m\u001b[43md\u001b[49m\u001b[43m[\u001b[49m\u001b[38;5;241;43m1\u001b[39;49m\u001b[43m]\u001b[49m\u001b[43m,\u001b[49m\u001b[43m \u001b[49m\u001b[38;5;241;43m1.\u001b[39;49m\u001b[38;5;241;43m/\u001b[39;49m\u001b[43md\u001b[49m\u001b[43m[\u001b[49m\u001b[38;5;241;43m2\u001b[39;49m\u001b[43m]\u001b[49m\u001b[43m,\u001b[49m\u001b[38;5;241;43m0\u001b[39;49m\u001b[43m)\u001b[49m\n",
      "Input \u001b[1;32mIn [60]\u001b[0m, in \u001b[0;36mplot_rolled_trace\u001b[1;34m(trace, N_cycles, N_samples_per_cycle, clock_rate, shift)\u001b[0m\n\u001b[0;32m      1\u001b[0m \u001b[38;5;28;01mdef\u001b[39;00m \u001b[38;5;21mplot_rolled_trace\u001b[39m(trace, N_cycles, N_samples_per_cycle, clock_rate, shift\u001b[38;5;241m=\u001b[39m\u001b[38;5;241m0\u001b[39m):\n\u001b[0;32m      2\u001b[0m     trace \u001b[38;5;241m=\u001b[39m np\u001b[38;5;241m.\u001b[39mroll(trace,shift)\n\u001b[1;32m----> 3\u001b[0m     \u001b[43mplt\u001b[49m\u001b[38;5;241;43m.\u001b[39;49m\u001b[43mplot\u001b[49m\u001b[43m(\u001b[49m\u001b[43mnp\u001b[49m\u001b[38;5;241;43m.\u001b[39;49m\u001b[43marange\u001b[49m\u001b[43m(\u001b[49m\u001b[43mN_samples_per_cycle\u001b[49m\u001b[43m)\u001b[49m\u001b[43m \u001b[49m\u001b[38;5;241;43m/\u001b[39;49m\u001b[43m \u001b[49m\u001b[43mclock_rate\u001b[49m\u001b[43m,\u001b[49m\u001b[43m \u001b[49m\u001b[43mtrace\u001b[49m\u001b[38;5;241;43m/\u001b[39;49m\u001b[43mN_cycles\u001b[49m\u001b[43m \u001b[49m\u001b[38;5;241;43m*\u001b[39;49m\u001b[43m \u001b[49m\u001b[43mclock_rate\u001b[49m\u001b[43m)\u001b[49m\n",
      "File \u001b[1;32m~\\anaconda3\\envs\\qdl-dev\\lib\\site-packages\\matplotlib\\pyplot.py:2757\u001b[0m, in \u001b[0;36mplot\u001b[1;34m(scalex, scaley, data, *args, **kwargs)\u001b[0m\n\u001b[0;32m   2755\u001b[0m \u001b[38;5;129m@_copy_docstring_and_deprecators\u001b[39m(Axes\u001b[38;5;241m.\u001b[39mplot)\n\u001b[0;32m   2756\u001b[0m \u001b[38;5;28;01mdef\u001b[39;00m \u001b[38;5;21mplot\u001b[39m(\u001b[38;5;241m*\u001b[39margs, scalex\u001b[38;5;241m=\u001b[39m\u001b[38;5;28;01mTrue\u001b[39;00m, scaley\u001b[38;5;241m=\u001b[39m\u001b[38;5;28;01mTrue\u001b[39;00m, data\u001b[38;5;241m=\u001b[39m\u001b[38;5;28;01mNone\u001b[39;00m, \u001b[38;5;241m*\u001b[39m\u001b[38;5;241m*\u001b[39mkwargs):\n\u001b[1;32m-> 2757\u001b[0m     \u001b[38;5;28;01mreturn\u001b[39;00m gca()\u001b[38;5;241m.\u001b[39mplot(\n\u001b[0;32m   2758\u001b[0m         \u001b[38;5;241m*\u001b[39margs, scalex\u001b[38;5;241m=\u001b[39mscalex, scaley\u001b[38;5;241m=\u001b[39mscaley,\n\u001b[0;32m   2759\u001b[0m         \u001b[38;5;241m*\u001b[39m\u001b[38;5;241m*\u001b[39m({\u001b[38;5;124m\"\u001b[39m\u001b[38;5;124mdata\u001b[39m\u001b[38;5;124m\"\u001b[39m: data} \u001b[38;5;28;01mif\u001b[39;00m data \u001b[38;5;129;01mis\u001b[39;00m \u001b[38;5;129;01mnot\u001b[39;00m \u001b[38;5;28;01mNone\u001b[39;00m \u001b[38;5;28;01melse\u001b[39;00m {}), \u001b[38;5;241m*\u001b[39m\u001b[38;5;241m*\u001b[39mkwargs)\n",
      "File \u001b[1;32m~\\anaconda3\\envs\\qdl-dev\\lib\\site-packages\\matplotlib\\axes\\_axes.py:1632\u001b[0m, in \u001b[0;36mAxes.plot\u001b[1;34m(self, scalex, scaley, data, *args, **kwargs)\u001b[0m\n\u001b[0;32m   1390\u001b[0m \u001b[38;5;124;03m\"\"\"\u001b[39;00m\n\u001b[0;32m   1391\u001b[0m \u001b[38;5;124;03mPlot y versus x as lines and/or markers.\u001b[39;00m\n\u001b[0;32m   1392\u001b[0m \n\u001b[1;32m   (...)\u001b[0m\n\u001b[0;32m   1629\u001b[0m \u001b[38;5;124;03m(``'green'``) or hex strings (``'#008000'``).\u001b[39;00m\n\u001b[0;32m   1630\u001b[0m \u001b[38;5;124;03m\"\"\"\u001b[39;00m\n\u001b[0;32m   1631\u001b[0m kwargs \u001b[38;5;241m=\u001b[39m cbook\u001b[38;5;241m.\u001b[39mnormalize_kwargs(kwargs, mlines\u001b[38;5;241m.\u001b[39mLine2D)\n\u001b[1;32m-> 1632\u001b[0m lines \u001b[38;5;241m=\u001b[39m [\u001b[38;5;241m*\u001b[39m\u001b[38;5;28mself\u001b[39m\u001b[38;5;241m.\u001b[39m_get_lines(\u001b[38;5;241m*\u001b[39margs, data\u001b[38;5;241m=\u001b[39mdata, \u001b[38;5;241m*\u001b[39m\u001b[38;5;241m*\u001b[39mkwargs)]\n\u001b[0;32m   1633\u001b[0m \u001b[38;5;28;01mfor\u001b[39;00m line \u001b[38;5;129;01min\u001b[39;00m lines:\n\u001b[0;32m   1634\u001b[0m     \u001b[38;5;28mself\u001b[39m\u001b[38;5;241m.\u001b[39madd_line(line)\n",
      "File \u001b[1;32m~\\anaconda3\\envs\\qdl-dev\\lib\\site-packages\\matplotlib\\axes\\_base.py:312\u001b[0m, in \u001b[0;36m_process_plot_var_args.__call__\u001b[1;34m(self, data, *args, **kwargs)\u001b[0m\n\u001b[0;32m    310\u001b[0m     this \u001b[38;5;241m+\u001b[39m\u001b[38;5;241m=\u001b[39m args[\u001b[38;5;241m0\u001b[39m],\n\u001b[0;32m    311\u001b[0m     args \u001b[38;5;241m=\u001b[39m args[\u001b[38;5;241m1\u001b[39m:]\n\u001b[1;32m--> 312\u001b[0m \u001b[38;5;28;01myield from\u001b[39;00m \u001b[38;5;28;43mself\u001b[39;49m\u001b[38;5;241;43m.\u001b[39;49m\u001b[43m_plot_args\u001b[49m\u001b[43m(\u001b[49m\u001b[43mthis\u001b[49m\u001b[43m,\u001b[49m\u001b[43m \u001b[49m\u001b[43mkwargs\u001b[49m\u001b[43m)\u001b[49m\n",
      "File \u001b[1;32m~\\anaconda3\\envs\\qdl-dev\\lib\\site-packages\\matplotlib\\axes\\_base.py:498\u001b[0m, in \u001b[0;36m_process_plot_var_args._plot_args\u001b[1;34m(self, tup, kwargs, return_kwargs)\u001b[0m\n\u001b[0;32m    495\u001b[0m     \u001b[38;5;28mself\u001b[39m\u001b[38;5;241m.\u001b[39maxes\u001b[38;5;241m.\u001b[39myaxis\u001b[38;5;241m.\u001b[39mupdate_units(y)\n\u001b[0;32m    497\u001b[0m \u001b[38;5;28;01mif\u001b[39;00m x\u001b[38;5;241m.\u001b[39mshape[\u001b[38;5;241m0\u001b[39m] \u001b[38;5;241m!=\u001b[39m y\u001b[38;5;241m.\u001b[39mshape[\u001b[38;5;241m0\u001b[39m]:\n\u001b[1;32m--> 498\u001b[0m     \u001b[38;5;28;01mraise\u001b[39;00m \u001b[38;5;167;01mValueError\u001b[39;00m(\u001b[38;5;124mf\u001b[39m\u001b[38;5;124m\"\u001b[39m\u001b[38;5;124mx and y must have same first dimension, but \u001b[39m\u001b[38;5;124m\"\u001b[39m\n\u001b[0;32m    499\u001b[0m                      \u001b[38;5;124mf\u001b[39m\u001b[38;5;124m\"\u001b[39m\u001b[38;5;124mhave shapes \u001b[39m\u001b[38;5;132;01m{\u001b[39;00mx\u001b[38;5;241m.\u001b[39mshape\u001b[38;5;132;01m}\u001b[39;00m\u001b[38;5;124m and \u001b[39m\u001b[38;5;132;01m{\u001b[39;00my\u001b[38;5;241m.\u001b[39mshape\u001b[38;5;132;01m}\u001b[39;00m\u001b[38;5;124m\"\u001b[39m)\n\u001b[0;32m    500\u001b[0m \u001b[38;5;28;01mif\u001b[39;00m x\u001b[38;5;241m.\u001b[39mndim \u001b[38;5;241m>\u001b[39m \u001b[38;5;241m2\u001b[39m \u001b[38;5;129;01mor\u001b[39;00m y\u001b[38;5;241m.\u001b[39mndim \u001b[38;5;241m>\u001b[39m \u001b[38;5;241m2\u001b[39m:\n\u001b[0;32m    501\u001b[0m     \u001b[38;5;28;01mraise\u001b[39;00m \u001b[38;5;167;01mValueError\u001b[39;00m(\u001b[38;5;124mf\u001b[39m\u001b[38;5;124m\"\u001b[39m\u001b[38;5;124mx and y can be no greater than 2D, but have \u001b[39m\u001b[38;5;124m\"\u001b[39m\n\u001b[0;32m    502\u001b[0m                      \u001b[38;5;124mf\u001b[39m\u001b[38;5;124m\"\u001b[39m\u001b[38;5;124mshapes \u001b[39m\u001b[38;5;132;01m{\u001b[39;00mx\u001b[38;5;241m.\u001b[39mshape\u001b[38;5;132;01m}\u001b[39;00m\u001b[38;5;124m and \u001b[39m\u001b[38;5;132;01m{\u001b[39;00my\u001b[38;5;241m.\u001b[39mshape\u001b[38;5;132;01m}\u001b[39;00m\u001b[38;5;124m\"\u001b[39m)\n",
      "\u001b[1;31mValueError\u001b[0m: x and y must have same first dimension, but have shapes (53,) and (52,)"
     ]
    },
    {
     "data": {
      "image/png": "[encoded data removed]",
      "text/plain": [
       "<Figure size 432x288 with 1 Axes>"
      ]
     },
     "metadata": {
      "needs_background": "light"
     },
     "output_type": "display_data"
    }
   ],
   "source": [
    "for d in lscan_data:\n",
    "\n",
    "    plot_rolled_trace(d[3], N_cycles, d[1], 1./d[2],0)"
   ]
  },
  {
   "cell_type": "code",
   "execution_count": 39,
   "id": "94b2b58d-e25a-43d9-bf3c-ca54d1f3e370",
   "metadata": {},
   "outputs": [
    {
     "data": {
      "image/png": "[encoded data removed]",
      "text/plain": [
       "<Figure size 432x288 with 1 Axes>"
      ]
     },
     "metadata": {
      "needs_background": "light"
     },
     "output_type": "display_data"
    }
   ],
   "source": [
    "plot_rolled_trace(scan_data[2][3], N_cycles, scan_data[2][1], 1./scan_data[2][2], 0)"
   ]
  },
  {
   "cell_type": "code",
   "execution_count": 468,
   "id": "47a3e79f-7986-4502-b76e-b287f6e0fbcf",
   "metadata": {},
   "outputs": [
    {
     "data": {
      "image/png": "[encoded data removed]",
      "text/plain": [
       "<Figure size 432x288 with 1 Axes>"
      ]
     },
     "metadata": {
      "needs_background": "light"
     },
     "output_type": "display_data"
    }
   ],
   "source": [
    "plot_rolled_trace(scan_data[1][3], N_cycles, scan_data[1][1], 1./scan_data[1][2],4)"
   ]
  },
  {
   "cell_type": "code",
   "execution_count": 434,
   "id": "ff08509e-6386-47f0-8229-cd68367b905e",
   "metadata": {},
   "outputs": [
    {
     "name": "stdout",
     "output_type": "stream",
     "text": [
      "2870000000.0\n"
     ]
    },
    {
     "data": {
      "text/plain": [
       "[<matplotlib.lines.Line2D at 0x21c818e1ac0>]"
      ]
     },
     "execution_count": 434,
     "metadata": {},
     "output_type": "execute_result"
    },
    {
     "data": {
      "image/png": "[encoded data removed]",
      "text/plain": [
       "<Figure size 432x288 with 1 Axes>"
      ]
     },
     "metadata": {
      "needs_background": "light"
     },
     "output_type": "display_data"
    }
   ],
   "source": [
    "shift = 0\n",
    "#data  = cwodmrs_raw[0]\n",
    "\n",
    "freq = scan_data[0][0]\n",
    "trace = scan_data[0][1]\n",
    "\n",
    "print(freq)\n",
    "data_buffer_by_cycles = np.roll(trace,shift).reshape((int(N_cycles), int(full_cycle_ticks)))\n",
    "plt.plot(np.arange(full_cycle_ticks) * period,data_buffer_by_cycles.mean(axis=0) * 1/period)\n"
   ]
  },
  {
   "cell_type": "code",
   "execution_count": 438,
   "id": "71356bd4-75cc-4a23-8f2b-8cb029d9ac0e",
   "metadata": {},
   "outputs": [
    {
     "name": "stdout",
     "output_type": "stream",
     "text": [
      "2870000000.0\n"
     ]
    },
    {
     "data": {
      "text/plain": [
       "[<matplotlib.lines.Line2D at 0x21c81a4adf0>]"
      ]
     },
     "execution_count": 438,
     "metadata": {},
     "output_type": "execute_result"
    },
    {
     "data": {
      "image/png": "[encoded data removed]",
      "text/plain": [
       "<Figure size 432x288 with 1 Axes>"
      ]
     },
     "metadata": {
      "needs_background": "light"
     },
     "output_type": "display_data"
    }
   ],
   "source": [
    "shift = 0\n",
    "#data  = cwodmrs_raw[0]\n",
    "\n",
    "freq = scan_data[0][0]\n",
    "trace = scan_data[0][1]\n",
    "\n",
    "print(freq)\n",
    "data_buffer_by_cycles = np.roll(trace,shift).reshape((int(N_cycles), int(full_cycle_ticks)))\n",
    "plt.plot(np.arange(full_cycle_ticks) * period,data_buffer_by_cycles.mean(axis=0) * 1/period)\n"
   ]
  },
  {
   "cell_type": "code",
   "execution_count": null,
   "id": "93243e89-73c0-4afd-afb0-a2692f923a22",
   "metadata": {},
   "outputs": [],
   "source": []
  }
 ],
 "metadata": {
  "kernelspec": {
   "display_name": "Python 3 (ipykernel)",
   "language": "python",
   "name": "python3"
  },
  "language_info": {
   "codemirror_mode": {
    "name": "ipython",
    "version": 3
   },
   "file_extension": ".py",
   "mimetype": "text/x-python",
   "name": "python",
   "nbconvert_exporter": "python",
   "pygments_lexer": "ipython3",
   "version": "3.9.12"
  }
 },
 "nbformat": 4,
 "nbformat_minor": 5
}
