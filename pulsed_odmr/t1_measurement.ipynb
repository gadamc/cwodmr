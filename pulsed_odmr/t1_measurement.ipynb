{
 "cells": [
  {
   "cell_type": "code",
   "execution_count": 1,
   "id": "3421bdf9-2d01-41c2-8409-d71a836cce77",
   "metadata": {},
   "outputs": [],
   "source": [
    "%load_ext autoreload\n",
    "%autoreload 2"
   ]
  },
  {
   "cell_type": "code",
   "execution_count": 2,
   "id": "36706a6a-6c24-4161-bd59-529bc816d8fd",
   "metadata": {},
   "outputs": [],
   "source": [
    "%matplotlib inline"
   ]
  },
  {
   "cell_type": "code",
   "execution_count": 3,
   "id": "bd3123a4-4c27-4b5d-a566-506ddf901886",
   "metadata": {},
   "outputs": [],
   "source": [
    "import pprint\n",
    "import time\n",
    "import ctypes\n",
    "import logging\n",
    "\n",
    "\n",
    "import numpy as np\n",
    "import nidaqmx\n",
    "import nidaqmx._lib  # Due to NIDAQmx C-API bug needed to bypass property getter (according to qudi)\n",
    "import nidaqmx.stream_readers\n",
    "import matplotlib.pyplot as plt\n",
    "\n",
    "import qcsapphire\n",
    "import qt3rfsynthcontrol\n",
    "\n",
    "pp = pprint.PrettyPrinter(indent=4)\n",
    "logging.basicConfig(level = logging.INFO)"
   ]
  },
  {
   "cell_type": "code",
   "execution_count": 4,
   "id": "3aad5eee-aad3-4d15-b229-c4eba9d045c0",
   "metadata": {},
   "outputs": [],
   "source": [
    "nidaq_device_name = 'Dev1'"
   ]
  },
  {
   "cell_type": "code",
   "execution_count": 5,
   "id": "7ab11ecf-230a-4213-8583-14aed3bd5ed5",
   "metadata": {},
   "outputs": [],
   "source": [
    "nisys = nidaqmx.system.System()\n",
    "device = nidaqmx.system.Device(nidaq_device_name)"
   ]
  },
  {
   "cell_type": "code",
   "execution_count": 6,
   "id": "18344425-6c7c-4e59-b01b-9571eccd02bc",
   "metadata": {},
   "outputs": [],
   "source": [
    "device.reset_device()"
   ]
  },
  {
   "cell_type": "code",
   "execution_count": 7,
   "id": "09d80f87-8e05-476c-b2d8-31cd293cef09",
   "metadata": {},
   "outputs": [
    {
     "data": {
      "text/plain": [
       "[['COM3',\n",
       "  'Intel(R) Active Management Technology - SOL (COM3)',\n",
       "  'PCI\\\\VEN_8086&DEV_43E3&SUBSYS_0A541028&REV_11\\\\3&11583659&1&B3'],\n",
       " ['COM5',\n",
       "  'USB Serial Device (COM5)',\n",
       "  'USB VID:PID=0483:A3E5 SER=206A36705430 LOCATION=1-9:x.0'],\n",
       " ['COM7',\n",
       "  'USB Serial Device (COM7)',\n",
       "  'USB VID:PID=239A:8014 SER=3B0D07C25831555020312E341A3214FF LOCATION=1-10:x.0'],\n",
       " ['COM10',\n",
       "  'USB Serial Device (COM10)',\n",
       "  'USB VID:PID=04D8:000A SER= LOCATION=1-2:x.0']]"
      ]
     },
     "execution_count": 7,
     "metadata": {},
     "output_type": "execute_result"
    }
   ],
   "source": [
    "qcsapphire.discover_devices()"
   ]
  },
  {
   "cell_type": "code",
   "execution_count": 8,
   "id": "753b56f6-a8ca-482d-8536-9457989c9cc3",
   "metadata": {},
   "outputs": [],
   "source": [
    "rfsynth = qt3rfsynthcontrol.QT3SynthHD('COM5')\n",
    "pulser = qcsapphire.Pulser('COM10')"
   ]
  },
  {
   "cell_type": "code",
   "execution_count": 9,
   "id": "c541f630-90b9-4044-bb16-176dc80a0ff2",
   "metadata": {},
   "outputs": [],
   "source": [
    "rfsynth.rf_off(0)\n",
    "rfsynth.rf_off(1)\n",
    "pulser.set_all_state_off()"
   ]
  },
  {
   "cell_type": "code",
   "execution_count": 197,
   "id": "20252929-123b-4171-a8df-e951cf1d9b07",
   "metadata": {},
   "outputs": [
    {
     "data": {
      "text/plain": [
       "[]"
      ]
     },
     "execution_count": 197,
     "metadata": {},
     "output_type": "execute_result"
    }
   ],
   "source": [
    "pulser._readlines()"
   ]
  },
  {
   "cell_type": "code",
   "execution_count": 10,
   "id": "dd3792af-c90d-47dd-ac28-9c682dbe7e86",
   "metadata": {},
   "outputs": [
    {
     "name": "stdout",
     "output_type": "stream",
     "text": [
      "[   ('model_type', 'WFT SynthHD 1694'),\n",
      "    ('serial_number', 1694),\n",
      "    ('fw_version', 'Firmware Version 3.23'),\n",
      "    ('hw_version', 'Hardware Version 2.06'),\n",
      "    ('sub_version', 'HD')]\n",
      "global settings\n",
      "[   (':PULSE0:STATE?', '0'),\n",
      "    (':PULSE0:PERIOD?', '0.000100000'),\n",
      "    (':PULSE0:MODE?', 'SING'),\n",
      "    (':PULSE0:BCOUNTER?', '5'),\n",
      "    (':PULSE0:PCOUNTER?', '3'),\n",
      "    (':PULSE0:OCOUNTER?', '2'),\n",
      "    (':PULSE0:EXTERNAL:MODE?', 'TRIG'),\n",
      "    (':PULSE0:EXTERNAL:LEVEL?', '2.50'),\n",
      "    (':PULSE0:EXTERNAL:EDGE?', 'RIS'),\n",
      "    (':PULSE0:EXTERNAL:POLARITY?', 'HIGH')]\n",
      "'channel 1'\n",
      "[   (':PULSE1:STATE?', '0'),\n",
      "    (':PULSE1:WIDTH?', '0.000999900'),\n",
      "    (':PULSE1:DELAY?', '0.00000000'),\n",
      "    (':PULSE1:SYNC?', 'T0'),\n",
      "    (':PULSE1:MUX?', '1'),\n",
      "    (':PULSE1:POLARITY?', 'NORM'),\n",
      "    (':PULSE1:OUTPUT:AMPLITUDE?', '5.00'),\n",
      "    (':PULSE1:CMODE?', 'NORM'),\n",
      "    (':PULSE1:BCOUNTER?', '5'),\n",
      "    (':PULSE1:PCOUNTER?', '4'),\n",
      "    (':PULSE1:WCOUNTER?', '0'),\n",
      "    (':PULSE1:CGATE?', 'DIS')]\n",
      "'channel 2'\n",
      "[   (':PULSE2:STATE?', '0'),\n",
      "    (':PULSE2:WIDTH?', '0.999990000'),\n",
      "    (':PULSE2:DELAY?', '0.00000000'),\n",
      "    (':PULSE2:SYNC?', 'T0'),\n",
      "    (':PULSE2:MUX?', '1'),\n",
      "    (':PULSE2:POLARITY?', 'NORM'),\n",
      "    (':PULSE2:OUTPUT:AMPLITUDE?', '5.00'),\n",
      "    (':PULSE2:CMODE?', 'NORM'),\n",
      "    (':PULSE2:BCOUNTER?', '5'),\n",
      "    (':PULSE2:PCOUNTER?', '4'),\n",
      "    (':PULSE2:WCOUNTER?', '0'),\n",
      "    (':PULSE2:CGATE?', 'DIS')]\n",
      "'channel 3'\n",
      "[   (':PULSE3:STATE?', '0'),\n",
      "    (':PULSE3:WIDTH?', '0.000001000'),\n",
      "    (':PULSE3:DELAY?', '0.00000000'),\n",
      "    (':PULSE3:SYNC?', 'T0'),\n",
      "    (':PULSE3:MUX?', '4'),\n",
      "    (':PULSE3:POLARITY?', 'NORM'),\n",
      "    (':PULSE3:OUTPUT:AMPLITUDE?', '5.00'),\n",
      "    (':PULSE3:CMODE?', 'NORM'),\n",
      "    (':PULSE3:BCOUNTER?', '5'),\n",
      "    (':PULSE3:PCOUNTER?', '4'),\n",
      "    (':PULSE3:WCOUNTER?', '0'),\n",
      "    (':PULSE3:CGATE?', 'DIS')]\n",
      "'channel 4'\n",
      "[   (':PULSE4:STATE?', '0'),\n",
      "    (':PULSE4:WIDTH?', '0.000001000'),\n",
      "    (':PULSE4:DELAY?', '0.00000000'),\n",
      "    (':PULSE4:SYNC?', 'T0'),\n",
      "    (':PULSE4:MUX?', '4'),\n",
      "    (':PULSE4:POLARITY?', 'NORM'),\n",
      "    (':PULSE4:OUTPUT:AMPLITUDE?', '3.30'),\n",
      "    (':PULSE4:CMODE?', 'NORM'),\n",
      "    (':PULSE4:BCOUNTER?', '5'),\n",
      "    (':PULSE4:PCOUNTER?', '4'),\n",
      "    (':PULSE4:WCOUNTER?', '0'),\n",
      "    (':PULSE4:CGATE?', 'DIS')]\n"
     ]
    }
   ],
   "source": [
    "#uncomment to see current state of RF synth and QCS pulser\n",
    "pp.pprint(rfsynth.hw_info())\n",
    "#pp.pprint(rfsynth.current_status())\n",
    "\n",
    "print('global settings')\n",
    "pp.pprint(pulser.report_global_settings())\n",
    "\n",
    "for channel in range(1,5):\n",
    "    pp.pprint(f'channel {channel}')\n",
    "    pp.pprint(pulser.report_channel_settings(channel))"
   ]
  },
  {
   "cell_type": "code",
   "execution_count": 11,
   "id": "13f3769a-d3b9-4875-b8ec-179077f4a0be",
   "metadata": {},
   "outputs": [],
   "source": [
    "#Configure the NI DAQ\n",
    "\n",
    "def configure_tasks(post_fix_task_name = None, \n",
    "                    device_name = 'Dev1',\n",
    "                    clock_counter = 'ctr1',\n",
    "                    clock_di_line = 'port0',\n",
    "                    edge_input_channel = 'PFI12',\n",
    "                    edge_input_counter = 'ctr2',\n",
    "                    clock_rate = 1000, \n",
    "                    N_data_samples_to_acquire = 500,\n",
    "                    trigger_input = 'PFI0',\n",
    "                    new_edge_task = False,\n",
    "                    new_clock_task = False,\n",
    "                    continuous_daq = False):\n",
    "   \n",
    "    #clock_task_name = f'sample_clock{post_fix_task_name}' \n",
    "    clock_task = nidaqmx.Task()\n",
    "\n",
    "    \n",
    "    if new_clock_task:\n",
    "        clock_task.di_channels.add_di_chan(f'{device_name}/{clock_di_line}')\n",
    "        clock_task.timing.cfg_samp_clk_timing(clock_rate,\n",
    "                                    sample_mode=nidaqmx.constants.AcquisitionType.CONTINUOUS)\n",
    "     \n",
    "        clock_channel = f'/{device_name}/di/SampleClock'\n",
    "\n",
    "    else:\n",
    "        #this adds the clock signal to the output channel\n",
    "        #is this necessary? \n",
    "        clock_task.co_channels.add_co_pulse_chan_freq(\n",
    "                '/{0}/{1}'.format(device_name, clock_counter),\n",
    "                freq=clock_rate,\n",
    "                idle_state=nidaqmx.constants.Level.LOW)\n",
    "\n",
    "        # clock_task.timing.cfg_implicit_timing(\n",
    "        #     sample_mode=nidaqmx.constants.AcquisitionType.FINITE,\n",
    "        #     samps_per_chan=n_steps+2) #qudi configures with n_steps + 1, should recheck why. suspicious extra \"1\" floating around (n_steps = 101)\n",
    "\n",
    "        clock_task.timing.cfg_implicit_timing(\n",
    "            sample_mode=nidaqmx.constants.AcquisitionType.CONTINUOUS,\n",
    "            samps_per_chan=clock_rate) #qudi configures with n_steps + 1, should recheck why. suspicious extra \"1\" floating around (n_steps = 101)\n",
    "\n",
    "        clock_channel = '/{0}InternalOutput'.format(clock_task.channel_names[0])\n",
    "\n",
    "    #edge_detector_task_name = f'edge_input{post_fix_task_name}'\n",
    "\n",
    "    edge_detector_task = nidaqmx.Task()\n",
    "\n",
    "    #todo -- try to replace all of this with edge_detector_task.add_ci_count_edges_chan\n",
    "    \n",
    "\n",
    "    ctr_name = f'/{device_name}/{edge_input_counter}'\n",
    "    chnl_name = f'/{device_name}/{edge_input_channel}'\n",
    "    \n",
    "    if new_edge_task: #following nspyre recipe\n",
    "        edge_detector_task.ci_channels.add_ci_count_edges_chan(\n",
    "                                    ctr_name,\n",
    "                                    edge=nidaqmx.constants.Edge.RISING,\n",
    "                                    initial_count=0,\n",
    "                                    count_direction=nidaqmx.constants.CountDirection.COUNT_UP)\n",
    "        edge_detector_task.ci_channels.all.ci_count_edges_term = chnl_name\n",
    "        \n",
    "        if continuous_daq:\n",
    "            edge_detector_task.timing.cfg_samp_clk_timing(clock_rate, \n",
    "                                                          source=clock_channel,\n",
    "                                                          active_edge=nidaqmx.constants.Edge.RISING, \n",
    "                                                          sample_mode=nidaqmx.constants.AcquisitionType.CONTINUOUS)    \n",
    "        else:        \n",
    "            edge_detector_task.timing.cfg_samp_clk_timing(clock_rate, \n",
    "                                                          source=clock_channel,\n",
    "                                                          active_edge=nidaqmx.constants.Edge.RISING, \n",
    "                                                          sample_mode=nidaqmx.constants.AcquisitionType.FINITE,\n",
    "                                                          samps_per_chan=N_data_samples_to_acquire)\n",
    "        \n",
    "    else:\n",
    "        # why does qudi count the period of signal? In units of \"ticks\" -- is that the same as edge counting? \n",
    "        \n",
    "        edge_detector_task.ci_channels.add_ci_period_chan(\n",
    "                            ctr_name,\n",
    "                            min_val=0,\n",
    "                            max_val=100000000,\n",
    "                            units=nidaqmx.constants.TimeUnits.TICKS,\n",
    "                            edge=nidaqmx.constants.Edge.RISING)\n",
    "        # I get no data when I swap out the line above for this line\n",
    "        # edge_detector_task.ci_channels.add_ci_count_edges_chan(\n",
    "        #                             ctr_name,\n",
    "        #                             edge=nidaqmx.constants.Edge.RISING,\n",
    "        #                             initial_count=0,\n",
    "        #                             count_direction=nidaqmx.constants.CountDirection.COUNT_UP)\n",
    "        \n",
    "        # from qudi -- apparently this overcomes some kind of bug in the C-library, according to comments in qudi code\n",
    "        try:\n",
    "            # this sets the counter to read from the appropriate terminal\n",
    "            nidaqmx._lib.lib_importer.windll.DAQmxSetCIPeriodTerm(\n",
    "                edge_detector_task._handle,\n",
    "                ctypes.c_char_p(ctr_name.encode('ascii')),\n",
    "                ctypes.c_char_p(clock_channel.encode('ascii')))\n",
    "            \n",
    "            #this tells the counter which clock to use\n",
    "            nidaqmx._lib.lib_importer.windll.DAQmxSetCICtrTimebaseSrc(\n",
    "                edge_detector_task._handle,\n",
    "                ctypes.c_char_p(ctr_name.encode('ascii')),\n",
    "                ctypes.c_char_p(chnl_name.encode('ascii')))\n",
    "        except:\n",
    "            nidaqmx._lib.lib_importer.cdll.DAQmxSetCIPeriodTerm(\n",
    "                edge_detector_task._handle,\n",
    "                ctypes.c_char_p(ctr_name.encode('ascii')),\n",
    "                ctypes.c_char_p(clock_channel.encode('ascii')))\n",
    "            nidaqmx._lib.lib_importer.cdll.DAQmxSetCICtrTimebaseSrc(\n",
    "                edge_detector_task._handle,\n",
    "                ctypes.c_char_p(ctr_name.encode('ascii')),\n",
    "                ctypes.c_char_p(chnl_name.encode('ascii')))\n",
    "\n",
    "        \n",
    "        if continuous_daq:\n",
    "            edge_detector_task.timing.cfg_implicit_timing(sample_mode=nidaqmx.constants.AcquisitionType.CONTINUOUS)\n",
    "        else:\n",
    "            edge_detector_task.timing.cfg_implicit_timing(sample_mode=nidaqmx.constants.AcquisitionType.FINITE,\n",
    "                                                      samps_per_chan=N_data_samples_to_acquire)\n",
    "    \n",
    "    if trigger_input:\n",
    "        ## maybe we should turn this into a gate and then we can start the task to run for a large number of cycles instead\n",
    "        # of having a sofware for-loop below\n",
    "        edge_detector_task.triggers.arm_start_trigger.trig_type =  nidaqmx.constants.TriggerType.DIGITAL_EDGE\n",
    "        edge_detector_task.triggers.arm_start_trigger.dig_edge_edge =  nidaqmx.constants.Edge.RISING\n",
    "        edge_detector_task.triggers.arm_start_trigger.dig_edge_src = f'/{device_name}/{trigger_input}'\n",
    "    \n",
    "\n",
    "    edge_detector_reader = nidaqmx.stream_readers.CounterReader(edge_detector_task.in_stream)\n",
    "    \n",
    "    return clock_task, edge_detector_task, edge_detector_reader\n",
    "\n"
   ]
  },
  {
   "cell_type": "code",
   "execution_count": 59,
   "id": "ca3c3ac2-365a-4249-b16d-f503e81fd025",
   "metadata": {},
   "outputs": [],
   "source": [
    "def setup_t1_pulser(pulser, period, t_laser, t_delay, laser_channel = 'A', readout_timer_channel = 'B'):\n",
    "\n",
    "    pulser.system.period(period) \n",
    "\n",
    "    pulser.channel(laser_channel).cmode('normal')\n",
    "    pulser.channel(laser_channel).polarity('normal')\n",
    "    pulser.channel(laser_channel).delay(0)\n",
    "    pulser.channel(laser_channel).width(t_laser)\n",
    "\n",
    "    readout_start = t_laser + t_delay\n",
    "\n",
    "    pulser.channel(readout_timer_channel).cmode('normal')\n",
    "    pulser.channel(readout_timer_channel).polarity('normal')\n",
    "    pulser.channel(readout_timer_channel).delay(readout_start) \n",
    "    pulser.channel(readout_timer_channel).width(t_laser)\n",
    "\n",
    "    pulser.channel(laser_channel).output.amplitude(5.0)\n",
    "    pulser.multiplex([laser_channel, readout_timer_channel], laser_channel)\n",
    "\n",
    "    \n",
    "\n"
   ]
  },
  {
   "cell_type": "code",
   "execution_count": 60,
   "id": "fe76abd0-4e59-4202-857f-191782e0c327",
   "metadata": {},
   "outputs": [],
   "source": [
    "setup_t1_pulser(pulser, 15e-3, 5e-6, 0.5e-3)"
   ]
  },
  {
   "cell_type": "code",
   "execution_count": 17,
   "id": "733071d7-6b7e-4e34-b5bf-8d7fba446287",
   "metadata": {},
   "outputs": [
    {
     "name": "stdout",
     "output_type": "stream",
     "text": [
      "channel A output from timers --> A,B\n"
     ]
    }
   ],
   "source": [
    "\n",
    "channel_names = np.array(pulser.channel_names()[1:])\n",
    "m = len(channel_names)\n",
    "for chan in channel_names:\n",
    "    if pulser.channel(str(chan)).state() == '1':\n",
    "        mux_output = int(pulser.channel(str(chan)).mux())\n",
    "        idx = np.array(list(np.binary_repr(mux_output).zfill(m))).astype(np.int8)[::-1]\n",
    "        output_channels = channel_names[np.where(idx == 1)]\n",
    "        print(f'channel {chan} output from timers --> {\",\".join(output_channels)}')\n"
   ]
  },
  {
   "cell_type": "code",
   "execution_count": 229,
   "id": "c7d630cf-603c-4885-844f-42d8df089253",
   "metadata": {},
   "outputs": [],
   "source": [
    "#turn everything on\n",
    "for i in range(5):\n",
    "    pulser.channel(i).state(1)\n",
    "    "
   ]
  },
  {
   "cell_type": "code",
   "execution_count": 43,
   "id": "ff7245c1-f387-49fa-9b2d-07e9d37159f1",
   "metadata": {},
   "outputs": [
    {
     "data": {
      "text/plain": [
       "'ok'"
      ]
     },
     "execution_count": 43,
     "metadata": {},
     "output_type": "execute_result"
    }
   ],
   "source": [
    "#pulser.channel('D').mux(1 + 4) #output from D will be all three trigger signals\n",
    "#pulser.channel('D').mux(2)\n",
    "pulser.multiplex(['A', 'B'], 'D')\n",
    "pulser.channel('D').output.amplitude(3.3)\n",
    "pulser.channel('D').width(pulser.system.period())"
   ]
  },
  {
   "cell_type": "code",
   "execution_count": 44,
   "id": "868e0cca-4801-42b9-8bf8-fde541e2a2b7",
   "metadata": {},
   "outputs": [
    {
     "data": {
      "text/plain": [
       "'ok'"
      ]
     },
     "execution_count": 44,
     "metadata": {},
     "output_type": "execute_result"
    }
   ],
   "source": [
    "pulser.system.state(1)\n",
    "pulser.channel('D').state(1)\n",
    "pulser.channel('A').state(1)\n",
    "pulser.channel('B').state(1)\n"
   ]
  },
  {
   "cell_type": "code",
   "execution_count": 61,
   "id": "c142359a-3d0f-4df6-ad0f-5d0fb5b668c5",
   "metadata": {},
   "outputs": [
    {
     "data": {
      "text/plain": [
       "[(':PULSE0:STATE?', '1'),\n",
       " (':PULSE0:PERIOD?', '0.015000000'),\n",
       " (':PULSE0:MODE?', 'SING'),\n",
       " (':PULSE0:BCOUNTER?', '5'),\n",
       " (':PULSE0:PCOUNTER?', '3'),\n",
       " (':PULSE0:OCOUNTER?', '2'),\n",
       " (':PULSE0:EXTERNAL:MODE?', 'TRIG'),\n",
       " (':PULSE0:EXTERNAL:LEVEL?', '2.50'),\n",
       " (':PULSE0:EXTERNAL:EDGE?', 'RIS'),\n",
       " (':PULSE0:EXTERNAL:POLARITY?', 'HIGH')]"
      ]
     },
     "execution_count": 61,
     "metadata": {},
     "output_type": "execute_result"
    }
   ],
   "source": [
    "pulser.report_global_settings()"
   ]
  },
  {
   "cell_type": "code",
   "execution_count": 62,
   "id": "1338a1b2-3776-4243-8115-3e4fe0b8e305",
   "metadata": {},
   "outputs": [
    {
     "name": "stdout",
     "output_type": "stream",
     "text": [
      "1\n",
      "[(':PULSE1:STATE?', '1'), (':PULSE1:WIDTH?', '0.000005000'), (':PULSE1:DELAY?', '0.00000000'), (':PULSE1:SYNC?', 'T0'), (':PULSE1:MUX?', '3'), (':PULSE1:POLARITY?', 'NORM'), (':PULSE1:OUTPUT:AMPLITUDE?', '5.00'), (':PULSE1:CMODE?', 'NORM'), (':PULSE1:BCOUNTER?', '5'), (':PULSE1:PCOUNTER?', '4'), (':PULSE1:WCOUNTER?', '0'), (':PULSE1:CGATE?', 'DIS')]\n",
      "2\n",
      "[(':PULSE2:STATE?', '1'), (':PULSE2:WIDTH?', '0.000005000'), (':PULSE2:DELAY?', '0.00050500'), (':PULSE2:SYNC?', 'T0'), (':PULSE2:MUX?', '1'), (':PULSE2:POLARITY?', 'NORM'), (':PULSE2:OUTPUT:AMPLITUDE?', '5.00'), (':PULSE2:CMODE?', 'NORM'), (':PULSE2:BCOUNTER?', '5'), (':PULSE2:PCOUNTER?', '4'), (':PULSE2:WCOUNTER?', '0'), (':PULSE2:CGATE?', 'DIS')]\n",
      "3\n",
      "[(':PULSE3:STATE?', '0'), (':PULSE3:WIDTH?', '0.000001000'), (':PULSE3:DELAY?', '0.00000000'), (':PULSE3:SYNC?', 'T0'), (':PULSE3:MUX?', '4'), (':PULSE3:POLARITY?', 'NORM'), (':PULSE3:OUTPUT:AMPLITUDE?', '5.00'), (':PULSE3:CMODE?', 'NORM'), (':PULSE3:BCOUNTER?', '5'), (':PULSE3:PCOUNTER?', '4'), (':PULSE3:WCOUNTER?', '0'), (':PULSE3:CGATE?', 'DIS')]\n",
      "4\n",
      "[(':PULSE4:STATE?', '1'), (':PULSE4:WIDTH?', '0.015000000'), (':PULSE4:DELAY?', '0.00000000'), (':PULSE4:SYNC?', 'T0'), (':PULSE4:MUX?', '3'), (':PULSE4:POLARITY?', 'NORM'), (':PULSE4:OUTPUT:AMPLITUDE?', '3.30'), (':PULSE4:CMODE?', 'NORM'), (':PULSE4:BCOUNTER?', '5'), (':PULSE4:PCOUNTER?', '4'), (':PULSE4:WCOUNTER?', '0'), (':PULSE4:CGATE?', 'DIS')]\n"
     ]
    }
   ],
   "source": [
    "for i in range(1,5):\n",
    "    print(i)\n",
    "    print(pulser.report_channel_settings(i))"
   ]
  },
  {
   "cell_type": "code",
   "execution_count": 222,
   "id": "6477ee91-d79e-44aa-817e-d45d8767506a",
   "metadata": {},
   "outputs": [],
   "source": [
    "rfsynth.rf_on(0)"
   ]
  },
  {
   "cell_type": "code",
   "execution_count": 223,
   "id": "b05813c9-e7e5-41af-a005-943f3321981c",
   "metadata": {},
   "outputs": [
    {
     "data": {
      "text/plain": [
       "0.0001"
      ]
     },
     "execution_count": 223,
     "metadata": {},
     "output_type": "execute_result"
    }
   ],
   "source": [
    "period"
   ]
  },
  {
   "cell_type": "code",
   "execution_count": 165,
   "id": "e89cb828-03c6-4452-8144-f8f905f54fbe",
   "metadata": {},
   "outputs": [],
   "source": [
    "#after checking output signals with scope above, can put pulser into software trigger mode\n"
   ]
  },
  {
   "cell_type": "code",
   "execution_count": 50,
   "id": "338022ec-8146-477d-a03c-95ad74df602f",
   "metadata": {},
   "outputs": [
    {
     "data": {
      "text/plain": [
       "'ok'"
      ]
     },
     "execution_count": 50,
     "metadata": {},
     "output_type": "execute_result"
    }
   ],
   "source": [
    "pulser.system.mode('single')\n",
    "pulser.system.external.mode('trigger')\n",
    "pulser.system.state(1)\n",
    "\n"
   ]
  },
  {
   "cell_type": "code",
   "execution_count": 51,
   "id": "8eae48d6-24e6-4764-b2a8-d82197b49547",
   "metadata": {},
   "outputs": [],
   "source": [
    "# test scope for software trigger working"
   ]
  },
  {
   "cell_type": "code",
   "execution_count": 56,
   "id": "fe233e44-d541-4bab-b36b-e6dfc015c28e",
   "metadata": {},
   "outputs": [
    {
     "data": {
      "text/plain": [
       "0.015"
      ]
     },
     "execution_count": 56,
     "metadata": {},
     "output_type": "execute_result"
    }
   ],
   "source": [
    "float(pulser.system.period())"
   ]
  },
  {
   "cell_type": "code",
   "execution_count": 63,
   "id": "04b81d6b-ada3-4fb2-87aa-ea9c4d87cc21",
   "metadata": {},
   "outputs": [],
   "source": [
    "for i in range(1000):\n",
    "    pulser.software_trigger()\n",
    "    time.sleep(1.1*float(pulser.system.period()))"
   ]
  },
  {
   "cell_type": "code",
   "execution_count": 235,
   "id": "fc7ed161-bded-4581-865a-a75a792ae59a",
   "metadata": {},
   "outputs": [],
   "source": [
    "def run_once(detector_task, detector_reader, clock_rate,  N_samples,  read_write_timeout=10, pulser = None):\n",
    "    \n",
    "    detector_task.wait_until_done() #this doesn't seem to always work... so add delay below\n",
    "    detector_task.start()\n",
    "    data_buffer = np.zeros(N_samples)\n",
    "    \n",
    "    if pulser:\n",
    "        pulser.software_trigger()\n",
    "    \n",
    "    time.sleep(1.1*float(pulser.system.period())) #need to wait for full sets of triggers\n",
    "    read_samples = detector_reader.read_many_sample_double(\n",
    "                            data_buffer,\n",
    "                            number_of_samples_per_channel=N_samples,\n",
    "                            timeout=read_write_timeout)\n",
    "    detector_task.stop()\n",
    "    try:\n",
    "        assert read_samples == N_samples\n",
    "    except Exception as e:\n",
    "        print(e)\n",
    "        print(f'{read_samples} != {N_samples}')\n",
    "        raise e\n",
    "        \n",
    "    return data_buffer"
   ]
  },
  {
   "cell_type": "code",
   "execution_count": 225,
   "id": "1a35937c-357a-4036-bbb4-ee88dd6270b7",
   "metadata": {},
   "outputs": [],
   "source": [
    "def run_with_options(freq_low, freq_high, freq_step,\n",
    "                     N_samples_per_step, clock_rate, daq_time,\n",
    "                     trigger_input, pulser, rfsynth, \n",
    "                     use_new_edge_task, new_clock_task, \n",
    "                     continuous_daq, rf_power,\n",
    "                     cooling_time = 0, N_scans_per_step =  100):\n",
    "\n",
    "\n",
    "    data = None\n",
    "\n",
    "    clock_task, edge_detector_task, edge_detector_reader = configure_tasks(post_fix_task_name = 'v10', \n",
    "                                                                            clock_rate = clock_rate, \n",
    "                                                                            N_data_samples_to_acquire = N_samples_per_step,\n",
    "                                                                            edge_input_channel = 'PFI12',\n",
    "                                                                            clock_counter = 'ctr1',\n",
    "                                                                            trigger_input = trigger_input,\n",
    "                                                                            new_edge_task = use_new_edge_task,\n",
    "                                                                            new_clock_task = new_clock_task,\n",
    "                                                                            continuous_daq = continuous_daq)\n",
    "\n",
    "    try:\n",
    "        \n",
    "\n",
    "        if clock_task:\n",
    "            clock_task.start()\n",
    "\n",
    "        raw_data = {}\n",
    "        \n",
    "        current_freq = freq_low\n",
    "        step = 0\n",
    "\n",
    "        # if rfsynth:\n",
    "        #     rfsynth.rf_off(0)\n",
    "        \n",
    "     \n",
    "        while current_freq < freq_high:\n",
    "                \n",
    "            if rfsynth:\n",
    "                rfsynth.set_channel_fixed_output(0, rf_power, current_freq)\n",
    "                time.sleep(0.001) #wait 1 ms\n",
    "\n",
    "#             if normalize:\n",
    "#                 # if we really wanted to do a \"normalized\" approach (which, in CWODMR is done in order to prevent the sample from heating\n",
    "#                 #we would need to use a different pulser sequence that doesn't include the RF gate\n",
    "#                 pulser.channel('B').state(0) #how long does this take? ~115kHz baud rate to pulser. This is slow. 10 microseconds per bit. ~10+ bits per message. plus the time it takes for the pulser to respond\n",
    "                \n",
    "#                 normalized_count_rate_pre = run_once(edge_detector_task, edge_detector_reader, clock_rate, N_samples_per_step, read_write_timeout = 10, pulser = pulser)\n",
    "#                 #time.sleep(1.1*(period - readout_pulse_start + width_readout_laser)) #wait for pulser to finish \n",
    "\n",
    "            data_at_one_freq = []\n",
    "            for i in range(N_scans_per_step):\n",
    "                _data = run_once(edge_detector_task, edge_detector_reader, clock_rate, N_samples_per_step, read_write_timeout = 10, pulser = pulser)\n",
    "                data_at_one_freq.append(_data)\n",
    "            #time.sleep(1.1*(period - readout_pulse_start + width_readout_laser)) #wait for pulser to finish \n",
    "\n",
    "\n",
    "            # if normalize:\n",
    "            #     normalized_count_rate_post = run_once(edge_detector_task, edge_detector_reader, clock_rate, N_samples_per_step, read_write_timeout = 10, pulser = pulser)\n",
    "            #     #time.sleep(1.1*(period - readout_pulse_start + width_readout_laser)) #wait for pulser to finish \n",
    "\n",
    "            #print(f'collected {len(data_at_one_freq)} measures at this frequency')\n",
    "            #print(data_at_one_freq)\n",
    "\n",
    "            #current_freq_data = {}\n",
    "#             if False:\n",
    "#                 current_freq_data['pre'] = normalized_count_rate_pre.sum()\n",
    "#                 current_freq_data['post'] = normalized_count_rate_post.sum()\n",
    "                \n",
    "#                 normalized_count_rate = np.mean([normalized_count_rate_pre,normalized_count_rate_post])\n",
    "#                 compiled_data[current_freq] = data_at_one_freq.mean() / normalized_count_rate\n",
    "#             else:\n",
    "#                 compiled_data[current_freq] = data_at_one_freq.mean() * clock_rate\n",
    "                \n",
    "            #current_freq_data['rf'] = data_at_one_freq.sum()\n",
    "            raw_data[current_freq] =  np.sum(data_at_one_freq)            \n",
    "            if step % 10 == 0:\n",
    "                print(f'{current_freq/1e9} GHz: {raw_data[current_freq]} counts')\n",
    "                \n",
    "            current_freq += freq_step\n",
    "            step += 1\n",
    "            \n",
    "            if cooling_time > 0:\n",
    "                time.sleep(cooling_time)\n",
    "            \n",
    "    except Exception as e:\n",
    "        print(e)\n",
    "        raise(e)\n",
    "\n",
    "    finally:\n",
    "\n",
    "\n",
    "        try:\n",
    "            if clock_task:\n",
    "                clock_task.stop()\n",
    "        except Exception as e:\n",
    "            print(e)\n",
    "\n",
    "        try:\n",
    "            if clock_task:\n",
    "                clock_task.close()\n",
    "        except Exception as e:\n",
    "            print(e)\n",
    "\n",
    "        try:\n",
    "            if edge_detector_task:\n",
    "                edge_detector_task.close()\n",
    "        except Exception as e:\n",
    "            print(e)\n",
    "            \n",
    "        return raw_data"
   ]
  },
  {
   "cell_type": "code",
   "execution_count": 236,
   "id": "c40693b0-4ed8-4d10-a090-e005390af577",
   "metadata": {},
   "outputs": [
    {
     "name": "stdout",
     "output_type": "stream",
     "text": [
      "[   (':PULSE0:STATE?', '1'),\n",
      "    (':PULSE0:PERIOD?', '0.000100000'),\n",
      "    (':PULSE0:MODE?', 'SING'),\n",
      "    (':PULSE0:BCOUNTER?', '5'),\n",
      "    (':PULSE0:PCOUNTER?', '3'),\n",
      "    (':PULSE0:OCOUNTER?', '2'),\n",
      "    (':PULSE0:EXTERNAL:MODE?', 'TRIG'),\n",
      "    (':PULSE0:EXTERNAL:LEVEL?', '2.50'),\n",
      "    (':PULSE0:EXTERNAL:EDGE?', 'RIS'),\n",
      "    (':PULSE0:EXTERNAL:POLARITY?', 'HIGH')]\n",
      "'channel 1'\n",
      "[   (':PULSE1:STATE?', '1'),\n",
      "    (':PULSE1:WIDTH?', '0.000025000'),\n",
      "    (':PULSE1:DELAY?', '0.00000000'),\n",
      "    (':PULSE1:SYNC?', 'T0'),\n",
      "    (':PULSE1:MUX?', '5'),\n",
      "    (':PULSE1:POLARITY?', 'NORM'),\n",
      "    (':PULSE1:OUTPUT:AMPLITUDE?', '5.00'),\n",
      "    (':PULSE1:CMODE?', 'NORM'),\n",
      "    (':PULSE1:BCOUNTER?', '5'),\n",
      "    (':PULSE1:PCOUNTER?', '4'),\n",
      "    (':PULSE1:WCOUNTER?', '0'),\n",
      "    (':PULSE1:CGATE?', 'DIS')]\n",
      "'channel 2'\n",
      "[   (':PULSE2:STATE?', '1'),\n",
      "    (':PULSE2:WIDTH?', '0.000025000'),\n",
      "    (':PULSE2:DELAY?', '0.00002700'),\n",
      "    (':PULSE2:SYNC?', 'T0'),\n",
      "    (':PULSE2:MUX?', '2'),\n",
      "    (':PULSE2:POLARITY?', 'NORM'),\n",
      "    (':PULSE2:OUTPUT:AMPLITUDE?', '5.00'),\n",
      "    (':PULSE2:CMODE?', 'NORM'),\n",
      "    (':PULSE2:BCOUNTER?', '5'),\n",
      "    (':PULSE2:PCOUNTER?', '4'),\n",
      "    (':PULSE2:WCOUNTER?', '0'),\n",
      "    (':PULSE2:CGATE?', 'DIS')]\n",
      "'channel 3'\n",
      "[   (':PULSE3:STATE?', '1'),\n",
      "    (':PULSE3:WIDTH?', '0.000025000'),\n",
      "    (':PULSE3:DELAY?', '0.00005300'),\n",
      "    (':PULSE3:SYNC?', 'T0'),\n",
      "    (':PULSE3:MUX?', '4'),\n",
      "    (':PULSE3:POLARITY?', 'NORM'),\n",
      "    (':PULSE3:OUTPUT:AMPLITUDE?', '5.00'),\n",
      "    (':PULSE3:CMODE?', 'NORM'),\n",
      "    (':PULSE3:BCOUNTER?', '5'),\n",
      "    (':PULSE3:PCOUNTER?', '4'),\n",
      "    (':PULSE3:WCOUNTER?', '0'),\n",
      "    (':PULSE3:CGATE?', 'DIS')]\n",
      "'channel 4'\n",
      "[   (':PULSE4:STATE?', '1'),\n",
      "    (':PULSE4:WIDTH?', '0.000001000'),\n",
      "    (':PULSE4:DELAY?', '0.00000000'),\n",
      "    (':PULSE4:SYNC?', 'T0'),\n",
      "    (':PULSE4:MUX?', '7'),\n",
      "    (':PULSE4:POLARITY?', 'NORM'),\n",
      "    (':PULSE4:OUTPUT:AMPLITUDE?', '3.30'),\n",
      "    (':PULSE4:CMODE?', 'NORM'),\n",
      "    (':PULSE4:BCOUNTER?', '5'),\n",
      "    (':PULSE4:PCOUNTER?', '4'),\n",
      "    (':PULSE4:WCOUNTER?', '0'),\n",
      "    (':PULSE4:CGATE?', 'DIS')]\n",
      "2.85 GHz: 833.0 counts\n",
      "2.86 GHz: 765.0 counts\n",
      "2.87 GHz: 866.0 counts\n",
      "2.88 GHz: 846.0 counts\n",
      "2.89 GHz: 822.0 counts\n"
     ]
    }
   ],
   "source": [
    "freq_low = 2850e6\n",
    "freq_high = 2900e6\n",
    "freq_step = 1e6\n",
    "trigger_input = 'PFI0'\n",
    "\n",
    "use_new_edge_task = False\n",
    "new_clock_task = False\n",
    "continuous_daq = False\n",
    "normalize = False\n",
    "rf_power = -5\n",
    "\n",
    "daq_time= width_readout_laser + aom_delay #we add the aom delay \n",
    "clock_rate = int(10e6) #10 MHz\n",
    "N_daq_samples = int(daq_time * clock_rate)\n",
    "\n",
    "#make sure we are in trigger mode\n",
    "    \n",
    "pulser.system.mode('single')\n",
    "pulser.system.external.mode('trigger')\n",
    "\n",
    "#turn everything on (seems that when changing system mode, state is turned to off)\n",
    "for i in range(5):\n",
    "    pulser.channel(i).state(1)\n",
    "    \n",
    "pp.pprint(pulser.report_global_settings())\n",
    "\n",
    "for channel in range(1,5):\n",
    "    pp.pprint(f'channel {channel}')\n",
    "    pp.pprint(pulser.report_channel_settings(channel))\n",
    "    \n",
    "if rfsynth:\n",
    "        rfsynth.rf_on(0)\n",
    "        time.sleep(0.030)#wait 20 ms for rf to fully power up.\n",
    "        \n",
    "\n",
    "data = run_with_options(freq_low, freq_high, freq_step,  N_daq_samples, clock_rate, daq_time,\n",
    "                                   trigger_input, pulser, rfsynth, use_new_edge_task, \n",
    "                                   new_clock_task, continuous_daq, normalize, rf_power, N_scans_per_step = 100)\n",
    "\n",
    "\n",
    "#turn everything off\n",
    "for i in range(5):\n",
    "    pulser.channel(i).state(0)\n",
    "    \n"
   ]
  },
  {
   "cell_type": "code",
   "execution_count": 237,
   "id": "416b376d-a3ac-4ac3-a32b-9e2cd5dee331",
   "metadata": {},
   "outputs": [
    {
     "data": {
      "text/plain": [
       "[<matplotlib.lines.Line2D at 0x16c80300a30>]"
      ]
     },
     "execution_count": 237,
     "metadata": {},
     "output_type": "execute_result"
    },
    {
     "data": {
      "image/png": "[encoded data removed]",
      "text/plain": [
       "<Figure size 432x288 with 1 Axes>"
      ]
     },
     "metadata": {
      "needs_background": "light"
     },
     "output_type": "display_data"
    }
   ],
   "source": [
    "plt.plot(data.keys(), data.values())"
   ]
  },
  {
   "cell_type": "code",
   "execution_count": 104,
   "id": "ca39bf83-a712-418d-a6bd-140c35839d9c",
   "metadata": {},
   "outputs": [],
   "source": [
    "frequencies = list(raw_data_set[0].keys())\n",
    "rf_signal = {f:np.sum([scan[f]['rf'] for scan in raw_data_set]) for f in frequencies}\n",
    "    \n",
    "if normalize:\n",
    "\n",
    "    background = {f:(np.sum([scan[f]['pre'] for scan in raw_data_set]) + np.sum([scan[f]['post'] for scan in raw_data_set]))/2.0 for f in frequencies}\n",
    "    rf_signal = {f:rf_signal[f]/background[f] for f in frequencies}"
   ]
  },
  {
   "cell_type": "code",
   "execution_count": null,
   "id": "0be6ef07-1a16-464f-a6f9-496e4acfdb65",
   "metadata": {},
   "outputs": [],
   "source": []
  }
 ],
 "metadata": {
  "kernelspec": {
   "display_name": "Python 3 (ipykernel)",
   "language": "python",
   "name": "python3"
  },
  "language_info": {
   "codemirror_mode": {
    "name": "ipython",
    "version": 3
   },
   "file_extension": ".py",
   "mimetype": "text/x-python",
   "name": "python",
   "nbconvert_exporter": "python",
   "pygments_lexer": "ipython3",
   "version": "3.9.12"
  }
 },
 "nbformat": 4,
 "nbformat_minor": 5
}
