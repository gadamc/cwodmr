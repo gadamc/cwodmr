{
 "cells": [
  {
   "cell_type": "code",
   "execution_count": 1,
   "id": "af816eda",
   "metadata": {},
   "outputs": [],
   "source": [
    "%load_ext autoreload\n",
    "%autoreload 2"
   ]
  },
  {
   "cell_type": "code",
   "execution_count": 7,
   "id": "d7088f31",
   "metadata": {},
   "outputs": [],
   "source": [
    "import time\n",
    "import logging\n",
    "\n",
    "import numpy as np\n",
    "import matplotlib.pyplot as plt\n",
    "import nidaqmx"
   ]
  },
  {
   "cell_type": "code",
   "execution_count": 3,
   "id": "e065d440",
   "metadata": {},
   "outputs": [],
   "source": [
    "import qcsapphire\n",
    "import qt3rfsynthcontrol\n",
    "import qt3utils.experiments.cwodmr\n",
    "import qt3utils.nidaq"
   ]
  },
  {
   "cell_type": "code",
   "execution_count": 4,
   "id": "4a0daf31",
   "metadata": {},
   "outputs": [],
   "source": [
    "device_name = 'Dev1'\n",
    "read_write_timeout = 10\n",
    "clock_terminal = None\n",
    "edge_input_terminal = 'PFI12'\n",
    "edge_input_counter = 'ctr2'\n",
    "clock_rate = 10000 #Hz\n",
    "N_data_samples_to_acquire = 1000\n",
    "daq_time = N_data_samples_to_acquire / clock_rate"
   ]
  },
  {
   "cell_type": "code",
   "execution_count": 31,
   "id": "559c7e1a",
   "metadata": {},
   "outputs": [],
   "source": [
    "nidaq_config = qt3utils.nidaq.EdgeCounter(device_name)\n",
    "nidaq_config.reset_daq()"
   ]
  },
  {
   "cell_type": "code",
   "execution_count": 32,
   "id": "a1ae7ac9",
   "metadata": {},
   "outputs": [],
   "source": [
    "if clock_terminal is None:\n",
    "    nidaq_config.configure_di_clock(clock_rate = clock_rate)"
   ]
  },
  {
   "cell_type": "code",
   "execution_count": 33,
   "id": "33ebc1dd",
   "metadata": {},
   "outputs": [],
   "source": [
    "nidaq_config.configure_counter_period_measure(\n",
    "    source_terminal = edge_input_terminal,\n",
    "    N_samples_to_acquire_or_buffer_size = N_data_samples_to_acquire,\n",
    "    clock_terminal = nidaq_config.clock_task_config['clock_terminal'],\n",
    "    trigger_terminal = None,\n",
    "    sampling_mode = nidaqmx.constants.AcquisitionType.FINITE)\n",
    "\n",
    "nidaq_config.create_counter_reader()"
   ]
  },
  {
   "cell_type": "code",
   "execution_count": 34,
   "id": "a9b5d24d",
   "metadata": {},
   "outputs": [],
   "source": [
    "nidaq_config.clock_task.start()\n"
   ]
  },
  {
   "cell_type": "code",
   "execution_count": 35,
   "id": "687caaab",
   "metadata": {},
   "outputs": [],
   "source": [
    "def read_daq_buffer(detector_reader,  N_samples,  read_write_timeout=10):\n",
    "    nidaq_config.counter_task.start()\n",
    "    data_buffer = np.zeros(N_samples)\n",
    "\n",
    "    samples_read = detector_reader.read_many_sample_double(\n",
    "                            data_buffer,\n",
    "                            number_of_samples_per_channel=N_samples,\n",
    "                            timeout=read_write_timeout)\n",
    "\n",
    "    nidaq_config.counter_task.stop()\n",
    "    return data_buffer, samples_read"
   ]
  },
  {
   "cell_type": "code",
   "execution_count": 36,
   "id": "1d22382c",
   "metadata": {},
   "outputs": [],
   "source": [
    "def emitter(N):\n",
    "    \"\"\"return counts per second \"\"\"\n",
    "    for i in range(N):\n",
    "        #data_sample = run_once(edge_detector_task, edge_detector_reader)\n",
    "        data_sample, samples_read = read_daq_buffer(nidaq_config.counter_reader, N_data_samples_to_acquire)\n",
    "        print(samples_read)\n",
    "        yield data_sample.sum()/(samples_read / clock_rate)"
   ]
  },
  {
   "cell_type": "code",
   "execution_count": 39,
   "id": "1836c343",
   "metadata": {},
   "outputs": [],
   "source": [
    "d = emitter(10)"
   ]
  },
  {
   "cell_type": "code",
   "execution_count": 40,
   "id": "87a3084f",
   "metadata": {},
   "outputs": [
    {
     "name": "stdout",
     "output_type": "stream",
     "text": [
      "1000\n",
      "1000\n",
      "1000\n",
      "1000\n",
      "1000\n",
      "1000\n",
      "1000\n",
      "1000\n",
      "1000\n",
      "1000\n"
     ]
    },
    {
     "data": {
      "text/plain": [
       "[939190.0,\n",
       " 939100.0,\n",
       " 943480.0,\n",
       " 944350.0,\n",
       " 940230.0,\n",
       " 940680.0,\n",
       " 942580.0,\n",
       " 938930.0,\n",
       " 939770.0,\n",
       " 944280.0]"
      ]
     },
     "execution_count": 40,
     "metadata": {},
     "output_type": "execute_result"
    }
   ],
   "source": [
    "list(d)"
   ]
  },
  {
   "cell_type": "code",
   "execution_count": 41,
   "id": "8af88fd8",
   "metadata": {},
   "outputs": [],
   "source": [
    "nidaq_config.clock_task.stop()\n",
    "nidaq_config.counter_task.stop()"
   ]
  },
  {
   "cell_type": "code",
   "execution_count": 42,
   "id": "6b38be36",
   "metadata": {},
   "outputs": [],
   "source": [
    "nidaq_config.clock_task.close()\n",
    "nidaq_config.counter_task.close()"
   ]
  },
  {
   "cell_type": "code",
   "execution_count": null,
   "id": "604d5653",
   "metadata": {},
   "outputs": [],
   "source": []
  }
 ],
 "metadata": {
  "kernelspec": {
   "display_name": "Python 3 (ipykernel)",
   "language": "python",
   "name": "python3"
  },
  "language_info": {
   "codemirror_mode": {
    "name": "ipython",
    "version": 3
   },
   "file_extension": ".py",
   "mimetype": "text/x-python",
   "name": "python",
   "nbconvert_exporter": "python",
   "pygments_lexer": "ipython3",
   "version": "3.9.12"
  }
 },
 "nbformat": 4,
 "nbformat_minor": 5
}
