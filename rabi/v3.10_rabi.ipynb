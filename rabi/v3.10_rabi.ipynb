{
 "cells": [
  {
   "cell_type": "code",
   "execution_count": 1,
   "id": "e32d832f-11ce-425a-a843-6710715599d4",
   "metadata": {},
   "outputs": [],
   "source": [
    "%load_ext autoreload\n",
    "%autoreload 2"
   ]
  },
  {
   "cell_type": "code",
   "execution_count": 2,
   "id": "5deb10f0-bd1a-4074-9baa-68f3272532e6",
   "metadata": {},
   "outputs": [],
   "source": [
    "import numpy as np\n",
    "import matplotlib.pyplot as plt\n",
    "import time\n",
    "import logging"
   ]
  },
  {
   "cell_type": "code",
   "execution_count": 3,
   "id": "adc5e615-9c6a-44d0-8028-1e5a7108c379",
   "metadata": {},
   "outputs": [],
   "source": [
    "import qt3utils.experiments.rabi\n",
    "from qt3utils.analysis.rabi import signal_to_background\n",
    "import qt3utils.analysis.aggregation\n",
    "import qt3utils.nidaq\n",
    "import qcsapphire\n",
    "import qt3rfsynthcontrol"
   ]
  },
  {
   "cell_type": "code",
   "execution_count": 6,
   "id": "27ce1da6-7dd7-4519-b312-0aafeaff69cc",
   "metadata": {},
   "outputs": [
    {
     "data": {
      "text/plain": [
       "[['COM3',\n",
       "  'Intel(R) Active Management Technology - SOL (COM3)',\n",
       "  'PCI\\\\VEN_8086&DEV_43E3&SUBSYS_0A541028&REV_11\\\\3&11583659&1&B3'],\n",
       " ['COM4',\n",
       "  'USB Serial Device (COM4)',\n",
       "  'USB VID:PID=04D8:000A SER= LOCATION=1-10:x.0'],\n",
       " ['COM5',\n",
       "  'USB Serial Device (COM5)',\n",
       "  'USB VID:PID=0483:A3E5 SER=206A36705430 LOCATION=1-9:x.0'],\n",
       " ['COM7',\n",
       "  'USB Serial Device (COM7)',\n",
       "  'USB VID:PID=239A:8014 SER=3B0D07C25831555020312E341A3214FF LOCATION=1-5:x.0']]"
      ]
     },
     "execution_count": 6,
     "metadata": {},
     "output_type": "execute_result"
    }
   ],
   "source": [
    "qcsapphire.discover_devices()"
   ]
  },
  {
   "cell_type": "code",
   "execution_count": 7,
   "id": "761daf58-00bc-4d28-808d-ebc4a0815521",
   "metadata": {},
   "outputs": [],
   "source": [
    "pulser = qcsapphire.Pulser('COM4')"
   ]
  },
  {
   "cell_type": "code",
   "execution_count": 8,
   "id": "a16d7328-4095-4aed-b0b1-17366d7b10e3",
   "metadata": {},
   "outputs": [],
   "source": [
    "rfsynth = qt3rfsynthcontrol.QT3SynthHD('COM5')"
   ]
  },
  {
   "cell_type": "code",
   "execution_count": 10,
   "id": "2aa0bf11-f69d-46f7-99e1-9afff16cf2a5",
   "metadata": {},
   "outputs": [],
   "source": [
    "nidaq_config = qt3utils.nidaq.EdgeCounter('Dev1')"
   ]
  },
  {
   "cell_type": "code",
   "execution_count": 11,
   "id": "74d01c99-7219-4b27-b2e6-4b1cea60364e",
   "metadata": {},
   "outputs": [],
   "source": [
    "def aggregate_mean_data(data_buffer, rabi):\n",
    "    '''\n",
    "    Calls qt3utils.analysis.aggregation.reshape_sum_trace, where\n",
    "        cwodmr.N_cycles = N_rows\n",
    "        cwodmr.N_clock_ticks_per_cycle = N_samples_per_row\n",
    "\n",
    "    '''\n",
    "    return qt3utils.analysis.aggregation.reshape_mean_trace(data_buffer,\n",
    "                                                           rabi.N_cycles,\n",
    "                                                           rabi.N_clock_ticks_per_cycle)"
   ]
  },
  {
   "cell_type": "code",
   "execution_count": 12,
   "id": "dd867c9d-fa25-4665-bf98-01a7252a4f80",
   "metadata": {},
   "outputs": [],
   "source": [
    "logging.basicConfig(level=logging.WARNING)"
   ]
  },
  {
   "cell_type": "code",
   "execution_count": 13,
   "id": "26841f31-29d9-4658-8139-057e16173f04",
   "metadata": {},
   "outputs": [],
   "source": [
    "qt3utils.experiments.rabi.logger.setLevel(logging.WARNING)"
   ]
  },
  {
   "cell_type": "code",
   "execution_count": 14,
   "id": "a3515d4b-439e-4d25-ab09-1b472b43643a",
   "metadata": {},
   "outputs": [],
   "source": [
    "def recombine_scans(set_of_scans):\n",
    "    combined_scans = {s[0]:np.zeros(s[1].shape[0]) for s in set_of_scans[0]}\n",
    "\n",
    "    for scan in set_of_scans:\n",
    "        for read in scan:\n",
    "            width = read[0]\n",
    "            data = read[-1]\n",
    "            combined_scans[width] += data\n",
    "\n",
    "    reconstructed_scan = [[s, len(combined_scans[s]), combined_scans[s]] for s in sorted(list(combined_scans.keys()))]\n",
    "    return reconstructed_scan"
   ]
  },
  {
   "cell_type": "code",
   "execution_count": 15,
   "id": "5ed97167-efe2-43c9-bb7b-c3864d11df19",
   "metadata": {},
   "outputs": [],
   "source": [
    "def plot_rolled_trace(trace, N_cycles=1, clock_rate=1, shift=0):\n",
    "    trace = np.roll(trace,shift)\n",
    "    plt.plot(np.arange(len(trace)) / clock_rate, trace/N_cycles * clock_rate)"
   ]
  },
  {
   "cell_type": "code",
   "execution_count": 16,
   "id": "cb89855b-c25c-4672-a60d-f7995cb1acdf",
   "metadata": {},
   "outputs": [],
   "source": [
    "def signal_to_background(trace, pre_trigger, aom_width, rf_width, post_rf_pad, verbose=False,\n",
    "                        signal_aom_width_duty = 1.0, background_aom_width_duty = 1.0,\n",
    "                        aggregation = np.sum):\n",
    "    '''\n",
    "    Assumes trace produced by qt3utils.experiments.rabi.Rabi class and\n",
    "    is the aggregated data for a particular RF width.\n",
    "\n",
    "    The inputs `pre_trigger`, `aom_width` and `rf_width` are all in units of index of the trace.\n",
    "    That is, they are in units of clock ticks.\n",
    "\n",
    "    Assumes that trace is of shape\n",
    "        * pre_trigger\n",
    "        * aom_width: aom on / rf off (background)\n",
    "        * rf_width:  aom off / rf on\n",
    "        * aom_width: aom on/ rf off  (signal)\n",
    "\n",
    "    returns sum(signal) / sum(background)\n",
    "\n",
    "    '''\n",
    "    background_end = pre_trigger + int(aom_width*background_aom_width_duty)\n",
    "    signal_start = pre_trigger + aom_width + rf_width + post_rf_pad\n",
    "    signal_end = signal_start + int(aom_width*signal_aom_width_duty)\n",
    "\n",
    "    background = aggregation(trace[pre_trigger:background_end])\n",
    "    signal = aggregation(trace[signal_start:signal_end])\n",
    "\n",
    "    if verbose:\n",
    "        print('background')\n",
    "        print(trace[pre_trigger:background_end])\n",
    "        print('signal')\n",
    "        print(trace[signal_start:signal_end])\n",
    "\n",
    "    return signal / background\n",
    "\n"
   ]
  },
  {
   "cell_type": "code",
   "execution_count": 17,
   "id": "dad6e389-c8a6-40c9-bfe6-4ada59cfecb9",
   "metadata": {},
   "outputs": [],
   "source": [
    "def build_contrast(single_scan, pre_trigger = 2, signal_duty=0.5, background_duty=0.5):\n",
    "\n",
    "    contrast = []\n",
    "\n",
    "    for measurement in single_scan:\n",
    "\n",
    "        rf_width_time = measurement[0]\n",
    "        N_samples_per_cycle = measurement[1]\n",
    "        clock_period = rabi.clock_period\n",
    "        aom_width_time = rabi.aom_width\n",
    "        summed_trace = measurement[2]\n",
    "\n",
    "        aom_width_ticks = np.round(aom_width_time / clock_period).astype(int)\n",
    "        rf_width_ticks = np.round(rf_width_time / clock_period).astype(int)\n",
    "        post_rf_pad_ticks = np.round(rabi.post_rf_pad / clock_period).astype(int)\n",
    "\n",
    "        c = signal_to_background(summed_trace, \n",
    "                                 pre_trigger, \n",
    "                                 aom_width_ticks, \n",
    "                                 rf_width_ticks, \n",
    "                                 post_rf_pad_ticks,\n",
    "                                 signal_aom_width_duty = signal_duty, \n",
    "                                 background_aom_width_duty = background_duty , aggregation = np.mean)\n",
    "\n",
    "        contrast.append([rf_width_time, c]) \n",
    "\n",
    "    contrast = np.array(contrast)\n",
    "    return contrast"
   ]
  },
  {
   "cell_type": "code",
   "execution_count": 18,
   "id": "51e8760f-277c-49f1-8eae-097a56b14305",
   "metadata": {},
   "outputs": [],
   "source": [
    "rabi = qt3utils.experiments.rabi.Rabi(pulser, rfsynth, nidaq_config, rf_width_high = 15e-6, rf_power = -10,\n",
    "                                     rf_frequency=2873e6)"
   ]
  },
  {
   "cell_type": "code",
   "execution_count": 19,
   "id": "655a9825-dc48-4f7d-adc4-4f45f8a08211",
   "metadata": {},
   "outputs": [
    {
     "data": {
      "text/plain": [
       "50"
      ]
     },
     "execution_count": 19,
     "metadata": {},
     "output_type": "execute_result"
    }
   ],
   "source": [
    "rabi.set_pulser_state(1e-6)"
   ]
  },
  {
   "cell_type": "code",
   "execution_count": 20,
   "id": "1147ee0d-f5d8-4cfd-8276-206b98e3c5b3",
   "metadata": {},
   "outputs": [
    {
     "data": {
      "text/plain": [
       "'ok'"
      ]
     },
     "execution_count": 20,
     "metadata": {},
     "output_type": "execute_result"
    }
   ],
   "source": [
    "pulser.system.state(1)"
   ]
  },
  {
   "cell_type": "code",
   "execution_count": 22,
   "id": "602b3527-78c9-4d76-b27c-95d7b1eea0b0",
   "metadata": {},
   "outputs": [],
   "source": [
    "from scipy import optimize\n"
   ]
  },
  {
   "cell_type": "code",
   "execution_count": 21,
   "id": "f3086faa-23a1-44ba-abc4-50d6e8b1865c",
   "metadata": {},
   "outputs": [
    {
     "data": {
      "text/plain": [
       "{'rf_width_low': 4e-07,\n",
       " 'rf_width_high': 1.5e-05,\n",
       " 'rf_width_step': 2e-07,\n",
       " 'rf_power': -10,\n",
       " 'rf_frequency': 2873000000.0,\n",
       " 'aom_width': 3e-06,\n",
       " 'aom_response_time': 8e-07,\n",
       " 'post_rf_pad': 1e-06,\n",
       " 'pre_rf_pad': 0,\n",
       " 'clock_period': 2e-07}"
      ]
     },
     "execution_count": 21,
     "metadata": {},
     "output_type": "execute_result"
    }
   ],
   "source": [
    "rabi.experimental_conditions()"
   ]
  },
  {
   "cell_type": "code",
   "execution_count": 23,
   "id": "6766a6d0-2747-4ff6-ae2d-6869d6d5a1b8",
   "metadata": {},
   "outputs": [
    {
     "name": "stdout",
     "output_type": "stream",
     "text": [
      "{'rf_width_low': 4e-07, 'rf_width_high': 1e-05, 'rf_width_step': 2e-07, 'rf_power': -20, 'rf_frequency': 2873000000.0, 'aom_width': 3e-06, 'aom_response_time': 8e-07, 'post_rf_pad': 1e-06, 'pre_rf_pad': 0, 'clock_period': 2e-07}\n",
      "0\n",
      "5\n",
      "10\n",
      "15\n",
      "20\n",
      "25\n",
      "30\n",
      "35\n"
     ]
    }
   ],
   "source": [
    "rabi.rf_power = -20\n",
    "#rabi.aom_width = 5e-6\n",
    "rabi.rf_width_high = 10e-6\n",
    "#rabi.rf_width_low = .4e-6\n",
    "#rabi.rf_width_step = .2e-6\n",
    "#rabi.rf_frequency = 2593e6\n",
    "#rabi.rf_frequency = 3100e6\n",
    "#rabi.rfsynth.set_channel_fixed_output(0, rabi.rf_power, rabi.rf_frequency)\n",
    "rabi.rfsynth.rf_on(rabi.rfsynth_channel)\n",
    "time.sleep(2)\n",
    "print(rabi.experimental_conditions())\n",
    "\n",
    "full_scans = []\n",
    "\n",
    "for i in range(40):\n",
    "    if i % 5 == 0:\n",
    "        print(i)\n",
    "    scan_data = rabi.run(N_cycles=1000, post_process_function=aggregate_mean_data, reverse=(1%2==0))\n",
    "    full_scans.append(scan_data)\n",
    "    \n",
    "    #scan_data = rabi.run(N_cycles = 100000, post_process_function=aggregate_mean_data)"
   ]
  },
  {
   "cell_type": "code",
   "execution_count": 24,
   "id": "d3c3bb77-cf83-4a41-bfb6-7b3f5775a7ce",
   "metadata": {},
   "outputs": [
    {
     "data": {
      "text/plain": [
       "[<matplotlib.lines.Line2D at 0x217dc720670>]"
      ]
     },
     "execution_count": 24,
     "metadata": {},
     "output_type": "execute_result"
    },
    {
     "data": {
      "image/png": "[encoded data removed]",
      "text/plain": [
       "<Figure size 432x288 with 1 Axes>"
      ]
     },
     "metadata": {
      "needs_background": "light"
     },
     "output_type": "display_data"
    }
   ],
   "source": [
    "reconstructed_single_scan = recombine_scans(full_scans)\n",
    "    \n",
    "contrast = build_contrast(reconstructed_single_scan)\n",
    "x_data = contrast[:, 0]*1e6\n",
    "y_data = contrast[:, 1]\n",
    "\n",
    "plt.plot(x_data, y_data, 'o-', label='Data')"
   ]
  },
  {
   "cell_type": "code",
   "execution_count": null,
   "id": "7b9ff221-d988-47b0-9c91-6ec2c41bb932",
   "metadata": {},
   "outputs": [
    {
     "data": {
      "text/plain": [
       "<matplotlib.legend.Legend at 0x258ae257a00>"
      ]
     },
     "execution_count": 24,
     "metadata": {},
     "output_type": "execute_result"
    },
    {
     "data": {
      "image/png": "[encoded data removed]",
      "text/plain": [
       "<Figure size 432x288 with 1 Axes>"
      ]
     },
     "metadata": {
      "needs_background": "light"
     },
     "output_type": "display_data"
    }
   ],
   "source": [
    "def rabi_oscillation(x, a, b, phi, t, offset, slope):\n",
    "    return a * np.exp(-x/t) * np.sin(2*np.pi*x/b + phi) + offset + slope * x\n",
    "\n",
    "params, params_covariance = optimize.curve_fit(rabi_oscillation, x_data, y_data,\n",
    "                                              p0=[.005, 1, 1, 1, 1, 0], maxfev=50000)\n",
    "#params, params_covariance = optimize.curve_fit(rabi_oscillation, x_data, y_data, maxfev=5000)\n",
    "\n",
    "\n",
    "plt.figure(figsize=(6, 4))\n",
    "#plt.scatter(x_data, y_data, label='Data', s=5)\n",
    "plt.plot(x_data, y_data, 'o-', label='Data')\n",
    "\n",
    "plt.xlabel('microseconds')\n",
    "plt.ylabel('signal/background')\n",
    "plt.plot(x_data, rabi_oscillation(x_data, *params),\n",
    "         label='Fitted function', color='orange')\n",
    "plt.legend()"
   ]
  },
  {
   "cell_type": "code",
   "execution_count": 27,
   "id": "1681ef96-fb9b-46b8-bd20-2eb888f9eb34",
   "metadata": {},
   "outputs": [
    {
     "data": {
      "text/plain": [
       "array([-2.73201317e-02,  2.50871578e-01,  4.72879868e+00,  2.21029711e+00,\n",
       "        9.63302025e-01, -5.89972895e-05])"
      ]
     },
     "execution_count": 27,
     "metadata": {},
     "output_type": "execute_result"
    }
   ],
   "source": [
    "params"
   ]
  },
  {
   "cell_type": "code",
   "execution_count": null,
   "id": "87afec80-4a87-43e5-af9e-33dab64d5e5d",
   "metadata": {},
   "outputs": [
    {
     "data": {
      "text/plain": [
       "0.12543578895118157"
      ]
     },
     "execution_count": 25,
     "metadata": {},
     "output_type": "execute_result"
    }
   ],
   "source": [
    "params[1]/2 #pi pulse in microseconds"
   ]
  },
  {
   "cell_type": "code",
   "execution_count": null,
   "id": "a57b0c67-25fd-4691-8ee6-57483e1587b2",
   "metadata": {},
   "outputs": [
    {
     "data": {
      "text/plain": [
       "2.2102971055732676"
      ]
     },
     "execution_count": 26,
     "metadata": {},
     "output_type": "execute_result"
    }
   ],
   "source": [
    "params[3] #t2* in microseconds"
   ]
  },
  {
   "cell_type": "code",
   "execution_count": null,
   "id": "72ac93ea-9235-4e61-8a4a-c1eddc13e656",
   "metadata": {},
   "outputs": [],
   "source": []
  }
 ],
 "metadata": {
  "kernelspec": {
   "display_name": "Python 3 (ipykernel)",
   "language": "python",
   "name": "python3"
  },
  "language_info": {
   "codemirror_mode": {
    "name": "ipython",
    "version": 3
   },
   "file_extension": ".py",
   "mimetype": "text/x-python",
   "name": "python",
   "nbconvert_exporter": "python",
   "pygments_lexer": "ipython3",
   "version": "3.9.12"
  }
 },
 "nbformat": 4,
 "nbformat_minor": 5
}
