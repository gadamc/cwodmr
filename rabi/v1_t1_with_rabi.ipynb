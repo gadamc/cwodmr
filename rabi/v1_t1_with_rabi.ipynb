{
 "cells": [
  {
   "cell_type": "code",
   "execution_count": 1,
   "id": "e32d832f-11ce-425a-a843-6710715599d4",
   "metadata": {},
   "outputs": [],
   "source": [
    "%load_ext autoreload\n",
    "%autoreload 2"
   ]
  },
  {
   "cell_type": "code",
   "execution_count": 2,
   "id": "5deb10f0-bd1a-4074-9baa-68f3272532e6",
   "metadata": {},
   "outputs": [],
   "source": [
    "import numpy as np\n",
    "import matplotlib.pyplot as plt\n",
    "import time\n",
    "\n",
    "import logging\n"
   ]
  },
  {
   "cell_type": "code",
   "execution_count": 3,
   "id": "adc5e615-9c6a-44d0-8028-1e5a7108c379",
   "metadata": {},
   "outputs": [],
   "source": [
    "import qt3utils.experiments.rabi\n",
    "from qt3utils.analysis.rabi import signal_to_background\n",
    "import qt3utils.analysis.aggregation\n",
    "import qt3utils.nidaq\n",
    "import qcsapphire\n",
    "import qt3rfsynthcontrol"
   ]
  },
  {
   "cell_type": "code",
   "execution_count": 4,
   "id": "f6c2c777-b08c-4b90-b1ea-a2a5b52c034c",
   "metadata": {},
   "outputs": [],
   "source": [
    "pulser = qcsapphire.Pulser('COM10')\n",
    "rfsynth = qt3rfsynthcontrol.QT3SynthHD('COM5')"
   ]
  },
  {
   "cell_type": "code",
   "execution_count": 5,
   "id": "2aa0bf11-f69d-46f7-99e1-9afff16cf2a5",
   "metadata": {},
   "outputs": [],
   "source": [
    "nidaq_config = qt3utils.nidaq.EdgeCounter('Dev1')"
   ]
  },
  {
   "cell_type": "code",
   "execution_count": 8,
   "id": "0b4a6dd7-dc43-4870-9f22-9a21bec292a5",
   "metadata": {},
   "outputs": [],
   "source": [
    "def recombine_scans(set_of_scans):\n",
    "    combined_scans = {s[0]:np.zeros(s[1]) for s in set_of_scans[0]}\n",
    "\n",
    "    for scan in set_of_scans:\n",
    "        for read in scan:\n",
    "            width = read[0]\n",
    "            data = read[-1]\n",
    "            combined_scans[width] += data\n",
    "\n",
    "    reconstructed_scan = [[s, len(combined_scans[s]), combined_scans[s]] for s in sorted(list(combined_scans.keys()))]\n",
    "    return reconstructed_scan"
   ]
  },
  {
   "cell_type": "code",
   "execution_count": 9,
   "id": "0b04e598-168c-4962-9b45-0f6aefdfec5b",
   "metadata": {},
   "outputs": [],
   "source": [
    "def plot_rolled_trace(trace, N_cycles=1, clock_rate=1, shift=0):\n",
    "    trace = np.roll(trace,shift)\n",
    "    plt.plot(np.arange(len(trace)) / clock_rate, trace/N_cycles * clock_rate)"
   ]
  },
  {
   "cell_type": "code",
   "execution_count": 11,
   "id": "ea52fccc-4f24-42b5-a9c4-795eee58b028",
   "metadata": {},
   "outputs": [],
   "source": [
    "def signal_to_background(trace, pre_trigger, aom_width, rf_width, post_rf_pad, verbose=False,\n",
    "                        signal_aom_width_duty = 1.0, background_aom_width_duty = 1.0,\n",
    "                        aggregation = np.sum):\n",
    "    '''\n",
    "    Assumes trace produced by qt3utils.experiments.rabi.Rabi class and\n",
    "    is the aggregated data for a particular RF width.\n",
    "\n",
    "    The inputs `pre_trigger`, `aom_width` and `rf_width` are all in units of index of the trace.\n",
    "    That is, they are in units of clock ticks.\n",
    "\n",
    "    Assumes that trace is of shape\n",
    "        * pre_trigger\n",
    "        * aom_width: aom on / rf off (background)\n",
    "        * rf_width:  aom off / rf on\n",
    "        * aom_width: aom on/ rf off  (signal)\n",
    "\n",
    "    returns sum(signal) / sum(background)\n",
    "\n",
    "    '''\n",
    "    background_end = pre_trigger + int(aom_width*background_aom_width_duty)\n",
    "    signal_start = pre_trigger + aom_width + rf_width + post_rf_pad\n",
    "    signal_end = signal_start + int(aom_width*signal_aom_width_duty)\n",
    "\n",
    "    background = aggregation(trace[pre_trigger:background_end])\n",
    "    signal = aggregation(trace[signal_start:signal_end])\n",
    "\n",
    "    if verbose:\n",
    "        print('background')\n",
    "        print(trace[pre_trigger:background_end])\n",
    "        print('signal')\n",
    "        print(trace[signal_start:signal_end])\n",
    "\n",
    "    return signal / background\n",
    "\n"
   ]
  },
  {
   "cell_type": "code",
   "execution_count": 12,
   "id": "620cb53c-fa88-44bb-8e4d-97be5da81d43",
   "metadata": {},
   "outputs": [],
   "source": [
    "def build_contrast(single_scan, pre_trigger = 2, signal_duty=0.25, background_duty=0.25):\n",
    "\n",
    "    contrast = []\n",
    "\n",
    "    for measurement in single_scan:\n",
    "\n",
    "        rf_width_time = measurement[0]\n",
    "        N_samples_per_cycle = measurement[1]\n",
    "        clock_period = rabi.clock_period\n",
    "        aom_width_time = rabi.aom_width\n",
    "        summed_trace = measurement[2]\n",
    "\n",
    "        aom_width_ticks = np.round(aom_width_time / clock_period).astype(int)\n",
    "        rf_width_ticks = np.round(rf_width_time / clock_period).astype(int)\n",
    "        post_rf_pad_ticks = np.round(rabi.post_rf_pad / clock_period).astype(int)\n",
    "\n",
    "        c = signal_to_background(summed_trace, \n",
    "                                 pre_trigger, \n",
    "                                 aom_width_ticks, \n",
    "                                 rf_width_ticks, \n",
    "                                 post_rf_pad_ticks,\n",
    "                                 signal_aom_width_duty = signal_duty, \n",
    "                                 background_aom_width_duty = background_duty , aggregation = np.mean)\n",
    "\n",
    "        contrast.append([rf_width_time, c]) \n",
    "\n",
    "    contrast = np.array(contrast)\n",
    "    return contrast"
   ]
  },
  {
   "cell_type": "code",
   "execution_count": 16,
   "id": "74d01c99-7219-4b27-b2e6-4b1cea60364e",
   "metadata": {},
   "outputs": [],
   "source": [
    "def aggregate_mean_data(data_buffer, rabi):\n",
    "    '''\n",
    "    Calls qt3utils.analysis.aggregation.reshape_sum_trace, where\n",
    "        cwodmr.N_cycles = N_rows\n",
    "        cwodmr.N_clock_ticks_per_cycle = N_samples_per_row\n",
    "\n",
    "    '''\n",
    "    return qt3utils.analysis.aggregation.reshape_mean_trace(data_buffer,\n",
    "                                                           rabi.N_cycles,\n",
    "                                                           rabi.N_clock_ticks_per_cycle)"
   ]
  },
  {
   "cell_type": "code",
   "execution_count": 13,
   "id": "51e8760f-277c-49f1-8eae-097a56b14305",
   "metadata": {},
   "outputs": [],
   "source": [
    "rabi = qt3utils.experiments.rabi.Rabi(pulser, rfsynth, nidaq_config, rf_width_high = 3e-3, \n",
    "                                      rf_width_low = .250e-3, rf_width_step = .250e-3, \n",
    "                                      t1_measurement = True)"
   ]
  },
  {
   "cell_type": "code",
   "execution_count": 18,
   "id": "894f4e4e-906a-4499-af6e-ed3d9e5fedc0",
   "metadata": {},
   "outputs": [],
   "source": [
    "qt3utils.experiments.rabi.logger.setLevel(logging.INFO)\n",
    "logging.basicConfig(level=logging.INFO)"
   ]
  },
  {
   "cell_type": "code",
   "execution_count": 20,
   "id": "a0d0550a-7edf-4906-b014-23526b6b7ef1",
   "metadata": {},
   "outputs": [
    {
     "name": "stdout",
     "output_type": "stream",
     "text": [
      "{'rf_width_low': 0.00025, 'rf_width_high': 0.003, 'rf_width_step': 0.00025, 'rf_power': -20, 'rf_frequency': 2870000000.0, 'aom_width': 3e-06, 'aom_response_time': 8e-07, 'post_rf_pad': 1e-06, 'pre_rf_pad': 0, 'clock_period': 2e-07}\n",
      "0\n"
     ]
    },
    {
     "name": "stderr",
     "output_type": "stream",
     "text": [
      "INFO:qt3utils.experiments.rabi:RF Width: 0.003 seconds\n",
      "INFO:qt3utils.experiments.rabi:RF Width: 0.00275 seconds\n",
      "INFO:qt3utils.experiments.rabi:RF Width: 0.0025 seconds\n",
      "INFO:qt3utils.experiments.rabi:RF Width: 0.00225 seconds\n",
      "INFO:qt3utils.experiments.rabi:RF Width: 0.002 seconds\n",
      "INFO:qt3utils.experiments.rabi:RF Width: 0.00175 seconds\n",
      "INFO:qt3utils.experiments.rabi:RF Width: 0.0015 seconds\n",
      "INFO:qt3utils.experiments.rabi:RF Width: 0.00125 seconds\n",
      "INFO:qt3utils.experiments.rabi:RF Width: 0.001 seconds\n",
      "INFO:qt3utils.experiments.rabi:RF Width: 0.00075 seconds\n",
      "INFO:qt3utils.experiments.rabi:RF Width: 0.0005 seconds\n",
      "INFO:qt3utils.experiments.rabi:RF Width: 0.00025 seconds\n",
      "C:\\Users\\QT3\\anaconda3\\envs\\qt3dev\\lib\\site-packages\\nidaqmx\\task.py:98: ResourceWarning: Task of name \"_unnamedTask<22>\" was not explicitly closed before it was destructed. Resources on the task device may still be reserved.\n",
      "  warnings.warn(\n"
     ]
    },
    {
     "name": "stdout",
     "output_type": "stream",
     "text": [
      "5\n"
     ]
    },
    {
     "name": "stderr",
     "output_type": "stream",
     "text": [
      "INFO:qt3utils.experiments.rabi:RF Width: 0.00025 seconds\n",
      "INFO:qt3utils.experiments.rabi:RF Width: 0.0005 seconds\n",
      "INFO:qt3utils.experiments.rabi:RF Width: 0.00075 seconds\n",
      "INFO:qt3utils.experiments.rabi:RF Width: 0.001 seconds\n",
      "INFO:qt3utils.experiments.rabi:RF Width: 0.00125 seconds\n",
      "INFO:qt3utils.experiments.rabi:RF Width: 0.0015 seconds\n",
      "INFO:qt3utils.experiments.rabi:RF Width: 0.00175 seconds\n",
      "INFO:qt3utils.experiments.rabi:RF Width: 0.002 seconds\n",
      "INFO:qt3utils.experiments.rabi:RF Width: 0.00225 seconds\n",
      "INFO:qt3utils.experiments.rabi:RF Width: 0.0025 seconds\n",
      "INFO:qt3utils.experiments.rabi:RF Width: 0.00275 seconds\n",
      "INFO:qt3utils.experiments.rabi:RF Width: 0.003 seconds\n"
     ]
    },
    {
     "name": "stdout",
     "output_type": "stream",
     "text": [
      "10\n"
     ]
    },
    {
     "name": "stderr",
     "output_type": "stream",
     "text": [
      "INFO:qt3utils.experiments.rabi:RF Width: 0.003 seconds\n",
      "INFO:qt3utils.experiments.rabi:RF Width: 0.00275 seconds\n",
      "INFO:qt3utils.experiments.rabi:RF Width: 0.0025 seconds\n",
      "INFO:qt3utils.experiments.rabi:RF Width: 0.00225 seconds\n",
      "INFO:qt3utils.experiments.rabi:RF Width: 0.002 seconds\n",
      "INFO:qt3utils.experiments.rabi:RF Width: 0.00175 seconds\n",
      "INFO:qt3utils.experiments.rabi:RF Width: 0.0015 seconds\n",
      "INFO:qt3utils.experiments.rabi:RF Width: 0.00125 seconds\n",
      "INFO:qt3utils.experiments.rabi:RF Width: 0.001 seconds\n",
      "INFO:qt3utils.experiments.rabi:RF Width: 0.00075 seconds\n",
      "INFO:qt3utils.experiments.rabi:RF Width: 0.0005 seconds\n",
      "INFO:qt3utils.experiments.rabi:RF Width: 0.00025 seconds\n"
     ]
    },
    {
     "name": "stdout",
     "output_type": "stream",
     "text": [
      "15\n"
     ]
    },
    {
     "name": "stderr",
     "output_type": "stream",
     "text": [
      "INFO:qt3utils.experiments.rabi:RF Width: 0.00025 seconds\n",
      "INFO:qt3utils.experiments.rabi:RF Width: 0.0005 seconds\n",
      "INFO:qt3utils.experiments.rabi:RF Width: 0.00075 seconds\n",
      "INFO:qt3utils.experiments.rabi:RF Width: 0.001 seconds\n",
      "INFO:qt3utils.experiments.rabi:RF Width: 0.00125 seconds\n",
      "INFO:qt3utils.experiments.rabi:RF Width: 0.0015 seconds\n",
      "INFO:qt3utils.experiments.rabi:RF Width: 0.00175 seconds\n",
      "INFO:qt3utils.experiments.rabi:RF Width: 0.002 seconds\n",
      "INFO:qt3utils.experiments.rabi:RF Width: 0.00225 seconds\n",
      "INFO:qt3utils.experiments.rabi:RF Width: 0.0025 seconds\n",
      "INFO:qt3utils.experiments.rabi:RF Width: 0.00275 seconds\n",
      "INFO:qt3utils.experiments.rabi:RF Width: 0.003 seconds\n"
     ]
    },
    {
     "ename": "NameError",
     "evalue": "name 'optimize' is not defined",
     "output_type": "error",
     "traceback": [
      "\u001b[1;31m---------------------------------------------------------------------------\u001b[0m",
      "\u001b[1;31mNameError\u001b[0m                                 Traceback (most recent call last)",
      "Input \u001b[1;32mIn [20]\u001b[0m, in \u001b[0;36m<cell line: 26>\u001b[1;34m()\u001b[0m\n\u001b[0;32m     22\u001b[0m x_data \u001b[38;5;241m=\u001b[39m contrast[:, \u001b[38;5;241m0\u001b[39m]\u001b[38;5;241m*\u001b[39m\u001b[38;5;241m1e3\u001b[39m\n\u001b[0;32m     23\u001b[0m y_data \u001b[38;5;241m=\u001b[39m contrast[:, \u001b[38;5;241m1\u001b[39m]\n\u001b[1;32m---> 26\u001b[0m params, params_covariance \u001b[38;5;241m=\u001b[39m \u001b[43moptimize\u001b[49m\u001b[38;5;241m.\u001b[39mcurve_fit(rabi_oscillation, x_data, y_data,\n\u001b[0;32m     27\u001b[0m                                               p0\u001b[38;5;241m=\u001b[39m[\u001b[38;5;241m.005\u001b[39m, \u001b[38;5;241m1\u001b[39m, \u001b[38;5;241m1\u001b[39m, \u001b[38;5;241m1\u001b[39m, \u001b[38;5;241m1\u001b[39m, \u001b[38;5;241m0\u001b[39m], maxfev\u001b[38;5;241m=\u001b[39m\u001b[38;5;241m50000\u001b[39m)\n\u001b[0;32m     28\u001b[0m \u001b[38;5;66;03m#params, params_covariance = optimize.curve_fit(rabi_oscillation, x_data, y_data, maxfev=5000)\u001b[39;00m\n\u001b[0;32m     31\u001b[0m plt\u001b[38;5;241m.\u001b[39mfigure(figsize\u001b[38;5;241m=\u001b[39m(\u001b[38;5;241m6\u001b[39m, \u001b[38;5;241m4\u001b[39m))\n",
      "\u001b[1;31mNameError\u001b[0m: name 'optimize' is not defined"
     ]
    }
   ],
   "source": [
    "\n",
    "rabi.rfsynth.rf_off(rabi.rfsynth_channel)\n",
    "time.sleep(2)\n",
    "print(rabi.experimental_conditions())\n",
    "\n",
    "full_scans = []\n",
    "\n",
    "for i in range(20):\n",
    "    if i % 5 == 0:\n",
    "        print(i)\n",
    "        qt3utils.experiments.rabi.logger.setLevel(logging.INFO)\n",
    "    else:\n",
    "        qt3utils.experiments.rabi.logger.setLevel(logging.WARNING)\n",
    "        \n",
    "    scan_data = rabi.run(N_cycles=1000, post_process_function=aggregate_mean_data, reverse = (i%2==0))\n",
    "    full_scans.append(scan_data)\n",
    "    \n",
    "    #scan_data = rabi.run(N_cycles = 100000, post_process_function=aggregate_mean_data)\n",
    "\n",
    "reconstructed_single_scan = recombine_scans(full_scans)\n",
    "    \n",
    "contrast = build_contrast(reconstructed_single_scan)\n",
    "x_data = contrast[:, 0]*1e3\n",
    "y_data = contrast[:, 1]\n",
    "\n",
    "\n",
    "# params, params_covariance = optimize.curve_fit(rabi_oscillation, x_data, y_data,\n",
    "#                                               p0=[.005, 1, 1, 1, 1, 0], maxfev=50000)\n",
    "# #params, params_covariance = optimize.curve_fit(rabi_oscillation, x_data, y_data, maxfev=5000)\n",
    "\n",
    "\n",
    "# plt.figure(figsize=(6, 4))\n",
    "# #plt.scatter(x_data, y_data, label='Data', s=5)\n",
    "# plt.plot(x_data, y_data, 'o-', label='Data')\n",
    "\n",
    "# plt.xlabel('milliseconds')\n",
    "# plt.ylabel('signal/background')\n",
    "# plt.plot(x_data, rabi_oscillation(x_data, *params),\n",
    "#          label='Fitted function', color='orange')\n",
    "# plt.legend()"
   ]
  },
  {
   "cell_type": "code",
   "execution_count": 21,
   "id": "8dde59b3-46af-4619-9825-958773d7db1c",
   "metadata": {},
   "outputs": [
    {
     "data": {
      "text/plain": [
       "[<matplotlib.lines.Line2D at 0x2136a0edd60>]"
      ]
     },
     "execution_count": 21,
     "metadata": {},
     "output_type": "execute_result"
    },
    {
     "data": {
      "image/png": "[encoded data removed]",
      "text/plain": [
       "<Figure size 432x288 with 1 Axes>"
      ]
     },
     "metadata": {
      "needs_background": "light"
     },
     "output_type": "display_data"
    }
   ],
   "source": [
    "plt.plot(x_data, y_data, 'o-', label='Data')"
   ]
  },
  {
   "cell_type": "code",
   "execution_count": null,
   "id": "086e6598-3a60-49cb-98bb-0ea59ef0efb8",
   "metadata": {},
   "outputs": [],
   "source": []
  }
 ],
 "metadata": {
  "kernelspec": {
   "display_name": "Python 3 (ipykernel)",
   "language": "python",
   "name": "python3"
  },
  "language_info": {
   "codemirror_mode": {
    "name": "ipython",
    "version": 3
   },
   "file_extension": ".py",
   "mimetype": "text/x-python",
   "name": "python",
   "nbconvert_exporter": "python",
   "pygments_lexer": "ipython3",
   "version": "3.9.12"
  }
 },
 "nbformat": 4,
 "nbformat_minor": 5
}
