{
 "cells": [
  {
   "cell_type": "code",
   "execution_count": 1,
   "id": "e32d832f-11ce-425a-a843-6710715599d4",
   "metadata": {},
   "outputs": [],
   "source": [
    "%load_ext autoreload\n",
    "%autoreload 2"
   ]
  },
  {
   "cell_type": "code",
   "execution_count": 3,
   "id": "5deb10f0-bd1a-4074-9baa-68f3272532e6",
   "metadata": {},
   "outputs": [],
   "source": [
    "import numpy as np\n",
    "import matplotlib.pyplot as plt\n",
    "import time\n",
    "\n",
    "import logging\n",
    "logging.basicConfig(level=logging.INFO)"
   ]
  },
  {
   "cell_type": "code",
   "execution_count": 4,
   "id": "adc5e615-9c6a-44d0-8028-1e5a7108c379",
   "metadata": {},
   "outputs": [],
   "source": [
    "import qt3utils.experiments.rabi\n",
    "from qt3utils.analysis.rabi import signal_to_background\n",
    "import qt3utils.analysis.aggregation\n",
    "import qt3utils.nidaq\n",
    "import qcsapphire\n",
    "import qt3rfsynthcontrol"
   ]
  },
  {
   "cell_type": "code",
   "execution_count": 5,
   "id": "f6c2c777-b08c-4b90-b1ea-a2a5b52c034c",
   "metadata": {},
   "outputs": [],
   "source": [
    "pulser = qcsapphire.Pulser('COM10')\n",
    "rfsynth = qt3rfsynthcontrol.QT3SynthHD('COM5')"
   ]
  },
  {
   "cell_type": "code",
   "execution_count": 6,
   "id": "2aa0bf11-f69d-46f7-99e1-9afff16cf2a5",
   "metadata": {},
   "outputs": [],
   "source": [
    "nidaq_config = qt3utils.nidaq.EdgeCounter('Dev1')"
   ]
  },
  {
   "cell_type": "code",
   "execution_count": 122,
   "id": "51e8760f-277c-49f1-8eae-097a56b14305",
   "metadata": {},
   "outputs": [],
   "source": [
    "rabi = qt3utils.experiments.rabi.Rabi(pulser, rfsynth, nidaq_config, rf_width_high = 15e-6)"
   ]
  },
  {
   "cell_type": "code",
   "execution_count": 123,
   "id": "dd3de30e-9804-4930-b543-9566e148622c",
   "metadata": {},
   "outputs": [
    {
     "data": {
      "text/plain": [
       "{'rf_width_low': 4e-07,\n",
       " 'rf_width_high': 1.5e-05,\n",
       " 'rf_width_step': 2e-07,\n",
       " 'rf_power': -20,\n",
       " 'rf_frequency': 2870000000.0,\n",
       " 'aom_width': 3e-06,\n",
       " 'aom_response_time': 8e-07,\n",
       " 'clock_period': 2e-07}"
      ]
     },
     "execution_count": 123,
     "metadata": {},
     "output_type": "execute_result"
    }
   ],
   "source": [
    "rabi.experimental_conditions()"
   ]
  },
  {
   "cell_type": "code",
   "execution_count": 182,
   "id": "7a28c6ce-948b-4382-a7bd-b17b3279fa33",
   "metadata": {},
   "outputs": [],
   "source": [
    "rabi.rf_power = -20\n",
    "rabi.aom_width = 5e-6"
   ]
  },
  {
   "cell_type": "code",
   "execution_count": 183,
   "id": "74d01c99-7219-4b27-b2e6-4b1cea60364e",
   "metadata": {},
   "outputs": [],
   "source": [
    "def aggregate_mean_data(data_buffer, rabi):\n",
    "    '''\n",
    "    Calls qt3utils.analysis.aggregation.reshape_sum_trace, where\n",
    "        cwodmr.N_cycles = N_rows\n",
    "        cwodmr.N_clock_ticks_per_cycle = N_samples_per_row\n",
    "\n",
    "    '''\n",
    "    return qt3utils.analysis.aggregation.reshape_mean_trace(data_buffer,\n",
    "                                                           rabi.N_cycles,\n",
    "                                                           rabi.N_clock_ticks_per_cycle)"
   ]
  },
  {
   "cell_type": "code",
   "execution_count": 127,
   "id": "f5cf4b2a-d9f8-49c9-b917-51985a7a0425",
   "metadata": {},
   "outputs": [],
   "source": [
    "rfsynth.rf_off(0)"
   ]
  },
  {
   "cell_type": "code",
   "execution_count": null,
   "id": "7ec6fc0d-9d33-4ad7-b2e7-4a91a5377ea5",
   "metadata": {},
   "outputs": [
    {
     "name": "stderr",
     "output_type": "stream",
     "text": [
      "INFO:qt3utils.experiments.rabi:RF Width: 4e-07 seconds\n",
      "INFO:qt3utils.experiments.rabi:RF Width: 6e-07 seconds\n",
      "INFO:qt3utils.experiments.rabi:RF Width: 8e-07 seconds\n",
      "INFO:qt3utils.experiments.rabi:RF Width: 1e-06 seconds\n",
      "INFO:qt3utils.experiments.rabi:RF Width: 1.2e-06 seconds\n",
      "INFO:qt3utils.experiments.rabi:RF Width: 1.4e-06 seconds\n",
      "INFO:qt3utils.experiments.rabi:RF Width: 1.6e-06 seconds\n",
      "INFO:qt3utils.experiments.rabi:RF Width: 1.8e-06 seconds\n",
      "INFO:qt3utils.experiments.rabi:RF Width: 2e-06 seconds\n",
      "INFO:qt3utils.experiments.rabi:RF Width: 2.2e-06 seconds\n",
      "INFO:qt3utils.experiments.rabi:RF Width: 2.4e-06 seconds\n",
      "INFO:qt3utils.experiments.rabi:RF Width: 2.6e-06 seconds\n",
      "INFO:qt3utils.experiments.rabi:RF Width: 2.8e-06 seconds\n",
      "INFO:qt3utils.experiments.rabi:RF Width: 3e-06 seconds\n",
      "INFO:qt3utils.experiments.rabi:RF Width: 3.2e-06 seconds\n",
      "INFO:qt3utils.experiments.rabi:RF Width: 3.4e-06 seconds\n",
      "INFO:qt3utils.experiments.rabi:RF Width: 3.6e-06 seconds\n",
      "INFO:qt3utils.experiments.rabi:RF Width: 3.8e-06 seconds\n",
      "INFO:qt3utils.experiments.rabi:RF Width: 4e-06 seconds\n",
      "INFO:qt3utils.experiments.rabi:RF Width: 4.2e-06 seconds\n",
      "INFO:qt3utils.experiments.rabi:RF Width: 4.4e-06 seconds\n",
      "INFO:qt3utils.experiments.rabi:RF Width: 4.6e-06 seconds\n",
      "INFO:qt3utils.experiments.rabi:RF Width: 4.8e-06 seconds\n",
      "INFO:qt3utils.experiments.rabi:RF Width: 5e-06 seconds\n",
      "INFO:qt3utils.experiments.rabi:RF Width: 5.2e-06 seconds\n",
      "INFO:qt3utils.experiments.rabi:RF Width: 5.4e-06 seconds\n"
     ]
    }
   ],
   "source": [
    "scan_data = rabi.run(N_cycles = 400000, post_process_function=aggregate_mean_data)"
   ]
  },
  {
   "cell_type": "code",
   "execution_count": 164,
   "id": "5ed97167-efe2-43c9-bb7b-c3864d11df19",
   "metadata": {},
   "outputs": [],
   "source": [
    "def plot_rolled_trace(trace, N_cycles=1, clock_rate=1, shift=0):\n",
    "    trace = np.roll(trace,shift)\n",
    "    plt.plot(np.arange(len(trace)) / clock_rate, trace/N_cycles * clock_rate)"
   ]
  },
  {
   "cell_type": "code",
   "execution_count": 165,
   "id": "c748a134-5c5d-4311-8d34-df656a5f67ab",
   "metadata": {},
   "outputs": [
    {
     "data": {
      "image/png": "[encoded data removed]",
      "text/plain": [
       "<Figure size 432x288 with 1 Axes>"
      ]
     },
     "metadata": {
      "needs_background": "light"
     },
     "output_type": "display_data"
    }
   ],
   "source": [
    "for scan in scan_data[::20]:\n",
    "    plot_rolled_trace(scan[-1], clock_rate = 1/rabi.clock_period)"
   ]
  },
  {
   "cell_type": "code",
   "execution_count": 166,
   "id": "38529322-ac8e-4b9f-a500-e64c4f258d12",
   "metadata": {},
   "outputs": [
    {
     "data": {
      "text/plain": [
       "{'rf_width_low': 4e-07,\n",
       " 'rf_width_high': 1.5e-05,\n",
       " 'rf_width_step': 2e-07,\n",
       " 'rf_power': -15,\n",
       " 'rf_frequency': 2870000000.0,\n",
       " 'aom_width': 5e-06,\n",
       " 'aom_response_time': 8e-07,\n",
       " 'clock_period': 2e-07}"
      ]
     },
     "execution_count": 166,
     "metadata": {},
     "output_type": "execute_result"
    }
   ],
   "source": [
    "rabi.experimental_conditions()"
   ]
  },
  {
   "cell_type": "code",
   "execution_count": 177,
   "id": "cb89855b-c25c-4672-a60d-f7995cb1acdf",
   "metadata": {},
   "outputs": [],
   "source": [
    "def signal_to_background(trace, pre_trigger, aom_width, rf_width, verbose=False,\n",
    "                        aom_width_duty = 1.0):\n",
    "    '''\n",
    "    Assumes trace produced by qt3utils.experiments.rabi.Rabi class and\n",
    "    is the aggregated data for a particular RF width.\n",
    "\n",
    "    The inputs `pre_trigger`, `aom_width` and `rf_width` are all in units of index of the trace.\n",
    "    That is, they are in units of clock ticks.\n",
    "\n",
    "    Assumes that trace is of shape\n",
    "        * pre_trigger\n",
    "        * aom_width: aom on / rf off (background)\n",
    "        * rf_width:  aom off / rf on\n",
    "        * aom_width: aom on/ rf off  (signal)\n",
    "\n",
    "    returns sum(signal) / sum(background)\n",
    "\n",
    "    '''\n",
    "    background_end = pre_trigger + aom_width\n",
    "    signal_start = pre_trigger + aom_width + rf_width\n",
    "    signal_end = signal_start + int(aom_width*aom_width_duty)\n",
    "\n",
    "    background = np.mean(trace[pre_trigger:background_end])\n",
    "    signal = np.mean(trace[signal_start:signal_end])\n",
    "\n",
    "    if verbose:\n",
    "        print('background')\n",
    "        print(trace[pre_trigger:background_end])\n",
    "        print('signal')\n",
    "        print(trace[signal_start:signal_end])\n",
    "\n",
    "    return signal / background"
   ]
  },
  {
   "cell_type": "code",
   "execution_count": 178,
   "id": "f9f94287-05a2-496e-8b91-85c90ebaa352",
   "metadata": {},
   "outputs": [],
   "source": [
    "# scan = scan_data[5]\n",
    "# rf_width_time = scan[0]\n",
    "# N_samples_per_cycle = scan[1]\n",
    "# clock_period = rabi.clock_period\n",
    "# aom_width_time = rabi.aom_width\n",
    "# summed_trace = scan[2]\n",
    "# print(summed_trace)\n",
    "# aom_width_ticks = np.round(aom_width_time / clock_period).astype(int)\n",
    "# rf_width_ticks = np.round(rf_width_time / clock_period).astype(int)\n",
    "\n",
    "# signal_to_background(summed_trace, pre_trigger, \n",
    "#                            aom_width_ticks, rf_width_ticks, aom_width_duty = 0.5, verbose= True)\n"
   ]
  },
  {
   "cell_type": "code",
   "execution_count": 179,
   "id": "dad6e389-c8a6-40c9-bfe6-4ada59cfecb9",
   "metadata": {},
   "outputs": [],
   "source": [
    "contrast = []\n",
    "pre_trigger = 2\n",
    "#pre_trigger = 3\n",
    "for scan in scan_data:\n",
    "    rf_width_time = scan[0]\n",
    "    N_samples_per_cycle = scan[1]\n",
    "    clock_period = rabi.clock_period\n",
    "    aom_width_time = rabi.aom_width\n",
    "    summed_trace = scan[2]\n",
    "    \n",
    "    aom_width_ticks = np.round(aom_width_time / clock_period).astype(int)\n",
    "    rf_width_ticks = np.round(rf_width_time / clock_period).astype(int)\n",
    "\n",
    "    c = signal_to_background(summed_trace, pre_trigger, \n",
    "                               aom_width_ticks, rf_width_ticks - (pre_trigger - 2), aom_width_duty = 0.25)\n",
    "    contrast.append([rf_width_time, c]) \n",
    "\n",
    "contrast = np.array(contrast)"
   ]
  },
  {
   "cell_type": "code",
   "execution_count": 180,
   "id": "7ca5fbe1-12ad-49a5-aa24-ca50ac29649d",
   "metadata": {},
   "outputs": [],
   "source": [
    "from scipy import optimize\n",
    "\n",
    "def rabi_oscillation(x, a, b, phi, t, offset, slope):\n",
    "    return a * np.exp(-x/t) * np.sin(x/b + phi) + offset + slope * x\n",
    "\n",
    "x_data = contrast[:, 0]*1e6\n",
    "y_data = contrast[:, 1]\n",
    "\n",
    "params, params_covariance = optimize.curve_fit(rabi_oscillation, x_data, y_data,\n",
    "                                              p0=[.005, 1, 1, 1, 1, 0], maxfev=50000)\n",
    "#params, params_covariance = optimize.curve_fit(rabi_oscillation, x_data, y_data, maxfev=5000)\n"
   ]
  },
  {
   "cell_type": "code",
   "execution_count": 181,
   "id": "f08c9999-c11d-4dfd-903e-621065c5e7f1",
   "metadata": {},
   "outputs": [
    {
     "data": {
      "text/plain": [
       "<matplotlib.legend.Legend at 0x1d3d3f1f9a0>"
      ]
     },
     "execution_count": 181,
     "metadata": {},
     "output_type": "execute_result"
    },
    {
     "data": {
      "image/png": "[encoded data removed]",
      "text/plain": [
       "<Figure size 432x288 with 1 Axes>"
      ]
     },
     "metadata": {
      "needs_background": "light"
     },
     "output_type": "display_data"
    }
   ],
   "source": [
    "plt.figure(figsize=(6, 4))\n",
    "#plt.scatter(x_data, y_data, label='Data', s=5)\n",
    "plt.plot(x_data, y_data, 'o-', label='Data')\n",
    "\n",
    "plt.xlabel('microseconds')\n",
    "plt.ylabel('signal/background')\n",
    "plt.plot(x_data, rabi_oscillation(x_data, *params),\n",
    "         label='Fitted function', color='orange')\n",
    "plt.legend()"
   ]
  },
  {
   "cell_type": "code",
   "execution_count": null,
   "id": "9cc99895-65a0-47a3-a222-a373da318d95",
   "metadata": {},
   "outputs": [],
   "source": [
    "np.save('rabi_scan_v3', scan_data, allow_pickle=True)"
   ]
  },
  {
   "cell_type": "code",
   "execution_count": null,
   "id": "a0d0550a-7edf-4906-b014-23526b6b7ef1",
   "metadata": {},
   "outputs": [],
   "source": []
  }
 ],
 "metadata": {
  "kernelspec": {
   "display_name": "Python 3 (ipykernel)",
   "language": "python",
   "name": "python3"
  },
  "language_info": {
   "codemirror_mode": {
    "name": "ipython",
    "version": 3
   },
   "file_extension": ".py",
   "mimetype": "text/x-python",
   "name": "python",
   "nbconvert_exporter": "python",
   "pygments_lexer": "ipython3",
   "version": "3.9.12"
  }
 },
 "nbformat": 4,
 "nbformat_minor": 5
}
