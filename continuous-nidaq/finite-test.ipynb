{
 "cells": [
  {
   "cell_type": "code",
   "execution_count": 1,
   "id": "ca4e0aaf",
   "metadata": {},
   "outputs": [],
   "source": [
    "%load_ext autoreload\n",
    "%autoreload 2"
   ]
  },
  {
   "cell_type": "code",
   "execution_count": 2,
   "id": "47954407",
   "metadata": {},
   "outputs": [],
   "source": [
    "import qt3utils.datagenerators"
   ]
  },
  {
   "cell_type": "code",
   "execution_count": 3,
   "id": "3c343145",
   "metadata": {},
   "outputs": [],
   "source": [
    "import nidaqmx.constants"
   ]
  },
  {
   "cell_type": "code",
   "execution_count": 4,
   "id": "00bfe9ab",
   "metadata": {},
   "outputs": [],
   "source": [
    "import numpy as np"
   ]
  },
  {
   "cell_type": "code",
   "execution_count": 7,
   "id": "a4ebfa36",
   "metadata": {},
   "outputs": [],
   "source": [
    "nidaq = qt3utils.datagenerators.NiDaqSampler()"
   ]
  },
  {
   "cell_type": "code",
   "execution_count": 8,
   "id": "9661b4a4",
   "metadata": {},
   "outputs": [
    {
     "data": {
      "text/plain": [
       "{'daq_name': 'Dev1',\n",
       " 'signal_terminal': 'PFI0',\n",
       " 'clock_rate': 10000,\n",
       " 'clock_terminal': None,\n",
       " 'signal_counter': 'ctr2',\n",
       " 'read_write_timeout': 10,\n",
       " 'num_data_samples_per_batch': 1000,\n",
       " 'running': False,\n",
       " 'read_lock': False}"
      ]
     },
     "execution_count": 8,
     "metadata": {},
     "output_type": "execute_result"
    }
   ],
   "source": [
    "nidaq.__dict__"
   ]
  },
  {
   "cell_type": "code",
   "execution_count": 13,
   "id": "29580a02",
   "metadata": {},
   "outputs": [],
   "source": [
    "nidaq.start()"
   ]
  },
  {
   "cell_type": "code",
   "execution_count": 14,
   "id": "732794e9",
   "metadata": {},
   "outputs": [
    {
     "data": {
      "text/plain": [
       "array([1232200.])"
      ]
     },
     "execution_count": 14,
     "metadata": {},
     "output_type": "execute_result"
    }
   ],
   "source": [
    "nidaq.sample_count_rate()"
   ]
  },
  {
   "cell_type": "code",
   "execution_count": 15,
   "id": "64eb4977",
   "metadata": {},
   "outputs": [
    {
     "data": {
      "text/plain": [
       "10000"
      ]
     },
     "execution_count": 15,
     "metadata": {},
     "output_type": "execute_result"
    }
   ],
   "source": [
    "nidaq.clock_rate"
   ]
  },
  {
   "cell_type": "code",
   "execution_count": 16,
   "id": "24d2af1c",
   "metadata": {},
   "outputs": [],
   "source": [
    "nidaq.stop()"
   ]
  },
  {
   "cell_type": "code",
   "execution_count": null,
   "id": "4d7fd7ce",
   "metadata": {},
   "outputs": [],
   "source": []
  }
 ],
 "metadata": {
  "kernelspec": {
   "display_name": "Python 3 (ipykernel)",
   "language": "python",
   "name": "python3"
  },
  "language_info": {
   "codemirror_mode": {
    "name": "ipython",
    "version": 3
   },
   "file_extension": ".py",
   "mimetype": "text/x-python",
   "name": "python",
   "nbconvert_exporter": "python",
   "pygments_lexer": "ipython3",
   "version": "3.9.12"
  }
 },
 "nbformat": 4,
 "nbformat_minor": 5
}
